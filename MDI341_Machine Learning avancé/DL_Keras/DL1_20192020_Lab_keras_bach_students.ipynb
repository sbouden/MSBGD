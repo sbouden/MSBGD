{
 "cells": [
  {
   "cell_type": "markdown",
   "metadata": {
    "colab_type": "text",
    "id": "CPOXHysXKGLW"
   },
   "source": [
    "# Lab Deep Learning/ Recurrent Neural Networks/ in keras\n",
    "\n",
    "## Training language model (Many-to-Many) and generating sequences (One-to-Many)\n",
    "\n",
    "**Author: geoffroy.peeters@telecom-paris.fr**\n",
    "\n",
    "For any remark or suggestion, please feel free to contact me.\n",
    "\n",
    "\n",
    "## Objective:\n",
    "\n",
    "- We will train a network to learn a language model and then use it to generate new sequences.\n",
    "\n",
    "- Instead of training the language model on text-documents (as it is the case in most examples) we will train it to learn the language of the music of [Johann_Sebastian_Bach](https://en.wikipedia.org/wiki/Johann_Sebastian_Bach).\n",
    "For this, we will learn how J. S. Bach's \"Cello suite\" have been composed.\n",
    "Here is an example of a \"Cello suite\" [Link](https://www.youtube.com/watch?v=mGQLXRTl3Z0).\n",
    "\n",
    "- Rather than analyzing the audio signal, we use a symbolic representation of the \"Cello suite\" through their [MIDI files](https://en.wikipedia.org/wiki/MIDI#MIDI_files).\n",
    "  - A MIDI file encodes in a file, the set of musical notes, their duration, and intensity which have to be played by each instrument to \"render\" a musical piece. The \"rendering\" is usually operated by a MIDI synthesizer (such as VLC, QuickTime).\n",
    "\n",
    "- We will first train a language model on the whole set of MIDI files of the \"Cello suites\". \n",
    "- We will then sample this language model to create a new MIDI file which will be a brand new \"Cello suite\" composed by the computer.\n",
    "\n",
    "### Questions:\n",
    "\n",
    "In the bottom part of this lab, you will have to answer a set of questions. Answers to those only necessitates a couple of sentences."
   ]
  },
  {
   "cell_type": "markdown",
   "metadata": {
    "colab_type": "text",
    "id": "RjlvVXvgbpbW"
   },
   "source": [
    "## Import packages"
   ]
  },
  {
   "cell_type": "code",
   "execution_count": 2,
   "metadata": {
    "colab": {
     "base_uri": "https://localhost:8080/",
     "height": 35
    },
    "colab_type": "code",
    "id": "IXocQU0HDntL",
    "outputId": "a9b34561-7dc7-43a2-f968-5256a957168c"
   },
   "outputs": [
    {
     "name": "stderr",
     "output_type": "stream",
     "text": [
      "Using TensorFlow backend.\n"
     ]
    }
   ],
   "source": [
    "import os\n",
    "import pretty_midi\n",
    "from scipy.io import wavfile \n",
    "import IPython\n",
    "\n",
    "from keras.models import Sequential\n",
    "from keras.layers import Input, Dense, LSTM, Flatten, Dropout, Activation\n",
    "from keras import backend as K\n",
    "\n",
    "import matplotlib.pyplot as plt\n",
    "import numpy as np\n",
    "import glob\n",
    "\n",
    "student = True"
   ]
  },
  {
   "cell_type": "markdown",
   "metadata": {
    "colab_type": "text",
    "id": "B6YQL6s5j93E"
   },
   "source": [
    "# Get the data"
   ]
  },
  {
   "cell_type": "code",
   "execution_count": 3,
   "metadata": {
    "colab": {},
    "colab_type": "code",
    "id": "_gZx9igIOvtU"
   },
   "outputs": [],
   "source": [
    "n_x = 79\n",
    "max_T_x = 1000\n",
    "sequence_length = 20\n",
    "T_y_generated = 200"
   ]
  },
  {
   "cell_type": "markdown",
   "metadata": {
    "colab_type": "text",
    "id": "bgG1EmxKDhE5"
   },
   "source": [
    "## Collect data to create the language model\n",
    "\n",
    "We download the 36 MIDI files corresponding to the 36 \"Cello suites\" composed by J. S. Bach."
   ]
  },
  {
   "cell_type": "code",
   "execution_count": 4,
   "metadata": {
    "colab": {
     "base_uri": "https://localhost:8080/",
     "height": 55
    },
    "colab_type": "code",
    "id": "C9Tgx3ooDgSP",
    "outputId": "248a278a-1b96-4b20-80ef-566b790425dd"
   },
   "outputs": [
    {
     "name": "stdout",
     "output_type": "stream",
     "text": [
      "['./cs1-6gig.mid', './cs5-2all.mid', './cs4-5bou.mid', './cs5-3cou.mid', './cs5-4sar.mid', './cs3-4sar.mid', './cs3-3cou.mid', './cs5-5gav.mid', './cs6-5gav.mid', './cs6-1pre.mid', './cs6-3cou.mid', './cs4-2all.mid', './cs2-5men.mid', './cs4-1pre.mid', './cs3-6gig.mid', './cs2-1pre.mid', './cs3-2all.mid', './cs4-3cou.mid', './cs6-2all.mid', './cs1-2all.mid', './cs1-3cou.mid', './cs6-4sar.mid', './cs2-6gig.mid', './cs1-1pre.mid', './cs3-5bou.mid', './cs6-6gig.mid', './cs2-2all.mid', './cs2-4sar.mid', './cs1-5men.mid', './cs5-1pre.mid', './cs3-1pre.mid', './cs2-3cou.mid', './cs1-4sar.mid', './cs4-6gig.mid', './cs5-6gig.mid', './cs4-4sar.mid']\n"
     ]
    }
   ],
   "source": [
    "DIR = './'\n",
    "import urllib.request\n",
    "midiFile_l = ['cs1-2all.mid', 'cs5-1pre.mid', 'cs4-1pre.mid', 'cs3-5bou.mid', 'cs1-4sar.mid', 'cs2-5men.mid', 'cs3-3cou.mid', 'cs2-3cou.mid', 'cs1-6gig.mid', 'cs6-4sar.mid', 'cs4-5bou.mid', 'cs4-3cou.mid', 'cs5-3cou.mid', 'cs6-5gav.mid', 'cs6-6gig.mid', 'cs6-2all.mid', 'cs2-1pre.mid', 'cs3-1pre.mid', 'cs3-6gig.mid', 'cs2-6gig.mid', 'cs2-4sar.mid', 'cs3-4sar.mid', 'cs1-5men.mid', 'cs1-3cou.mid', 'cs6-1pre.mid', 'cs2-2all.mid', 'cs3-2all.mid', 'cs1-1pre.mid', 'cs5-2all.mid', 'cs4-2all.mid', 'cs5-5gav.mid', 'cs4-6gig.mid', 'cs5-6gig.mid', 'cs5-4sar.mid', 'cs4-4sar.mid', 'cs6-3cou.mid']\n",
    "for midiFile in midiFile_l:\n",
    "  #if os.path.isfile(DIR + midiFile) is None:\n",
    "  urllib.request.urlretrieve (\"http://www.jsbach.net/midi/\" + midiFile, DIR + midiFile)\n",
    "nbExample = len(midiFile_l)\n",
    "\n",
    "midiFile_l = glob.glob(DIR + 'cs*.mid')\n",
    "print(midiFile_l)"
   ]
  },
  {
   "cell_type": "markdown",
   "metadata": {
    "colab_type": "text",
    "id": "HgCE_6urcVsj"
   },
   "source": [
    "## Read and convert all MIDI files"
   ]
  },
  {
   "cell_type": "code",
   "execution_count": 5,
   "metadata": {
    "colab": {
     "base_uri": "https://localhost:8080/",
     "height": 1000
    },
    "colab_type": "code",
    "id": "GEg5c8wfj93K",
    "outputId": "3e61bc09-a24d-49e3-80fe-cfb2c378f6a5"
   },
   "outputs": [
    {
     "name": "stdout",
     "output_type": "stream",
     "text": [
      "pitch: 50, start: 0.600000, end: 0.787500, duration: 0.187500\n",
      "pitch: 55, start: 0.787500, end: 0.975000, duration: 0.187500\n",
      "pitch: 50, start: 0.975000, end: 1.162500, duration: 0.187500\n",
      "pitch: 52, start: 1.162500, end: 1.350000, duration: 0.187500\n",
      "pitch: 52, start: 1.350000, end: 1.537500, duration: 0.187500\n",
      "pitch: 48, start: 1.537500, end: 1.725000, duration: 0.187500\n",
      "pitch: 50, start: 1.725000, end: 1.912500, duration: 0.187500\n",
      "pitch: 50, start: 1.912500, end: 2.100000, duration: 0.187500\n",
      "pitch: 55, start: 2.100000, end: 2.287500, duration: 0.187500\n",
      "pitch: 50, start: 2.287500, end: 2.475000, duration: 0.187500\n",
      "pitch: 47, start: 2.475000, end: 2.662500, duration: 0.187500\n",
      "pitch: 43, start: 2.662500, end: 2.850000, duration: 0.187500\n",
      "pitch: 50, start: 2.850000, end: 3.037500, duration: 0.187500\n",
      "pitch: 55, start: 3.037500, end: 3.131250, duration: 0.093750\n",
      "pitch: 57, start: 3.131250, end: 3.225000, duration: 0.093750\n",
      "pitch: 59, start: 3.225000, end: 3.412500, duration: 0.187500\n",
      "pitch: 57, start: 3.412500, end: 3.600000, duration: 0.187500\n",
      "pitch: 57, start: 3.600000, end: 3.693750, duration: 0.093750\n",
      "pitch: 59, start: 3.693750, end: 3.787500, duration: 0.093750\n",
      "pitch: 60, start: 3.787500, end: 3.975000, duration: 0.187500\n",
      "pitch: 59, start: 3.975000, end: 4.162500, duration: 0.187500\n",
      "pitch: 59, start: 4.162500, end: 4.725000, duration: 0.562500\n",
      "pitch: 57, start: 4.725000, end: 5.100000, duration: 0.375000\n",
      "pitch: 57, start: 5.100000, end: 5.287500, duration: 0.187500\n",
      "pitch: 59, start: 5.287500, end: 5.475000, duration: 0.187500\n",
      "pitch: 54, start: 5.475000, end: 5.662500, duration: 0.187500\n",
      "pitch: 55, start: 5.662500, end: 5.850000, duration: 0.187500\n",
      "pitch: 55, start: 5.850000, end: 6.037500, duration: 0.187500\n",
      "pitch: 52, start: 6.037500, end: 6.225000, duration: 0.187500\n",
      "pitch: 55, start: 6.225000, end: 6.412500, duration: 0.187500\n",
      "pitch: 57, start: 6.412500, end: 6.600000, duration: 0.187500\n",
      "pitch: 52, start: 6.600000, end: 6.787500, duration: 0.187500\n",
      "pitch: 54, start: 6.787500, end: 6.975000, duration: 0.187500\n",
      "pitch: 54, start: 6.975000, end: 7.162500, duration: 0.187500\n",
      "pitch: 50, start: 7.162500, end: 7.350000, duration: 0.187500\n",
      "pitch: 54, start: 7.350000, end: 7.537500, duration: 0.187500\n",
      "pitch: 55, start: 7.537500, end: 7.725000, duration: 0.187500\n",
      "pitch: 59, start: 7.725000, end: 7.912500, duration: 0.187500\n",
      "pitch: 55, start: 7.912500, end: 8.100000, duration: 0.187500\n",
      "pitch: 52, start: 8.100000, end: 8.287500, duration: 0.187500\n",
      "pitch: 47, start: 8.287500, end: 8.475000, duration: 0.187500\n",
      "pitch: 50, start: 8.475000, end: 8.662500, duration: 0.187500\n",
      "pitch: 49, start: 8.662500, end: 8.850000, duration: 0.187500\n",
      "pitch: 52, start: 8.850000, end: 9.037500, duration: 0.187500\n",
      "pitch: 57, start: 9.037500, end: 9.225000, duration: 0.187500\n",
      "pitch: 45, start: 9.225000, end: 9.600000, duration: 0.375000\n",
      "pitch: 52, start: 9.600000, end: 9.787500, duration: 0.187500\n",
      "pitch: 53, start: 9.787500, end: 9.975000, duration: 0.187500\n",
      "pitch: 52, start: 9.975000, end: 10.162500, duration: 0.187500\n",
      "pitch: 55, start: 10.162500, end: 10.350000, duration: 0.187500\n",
      "pitch: 55, start: 10.350000, end: 10.537500, duration: 0.187500\n",
      "pitch: 53, start: 10.537500, end: 10.725000, duration: 0.187500\n",
      "pitch: 57, start: 10.725000, end: 10.912500, duration: 0.187500\n",
      "pitch: 57, start: 10.912500, end: 11.100000, duration: 0.187500\n",
      "pitch: 55, start: 11.100000, end: 11.287500, duration: 0.187500\n",
      "pitch: 58, start: 11.287500, end: 11.475000, duration: 0.187500\n",
      "pitch: 58, start: 11.475000, end: 11.662500, duration: 0.187500\n",
      "pitch: 57, start: 11.662500, end: 11.850000, duration: 0.187500\n",
      "pitch: 55, start: 11.850000, end: 12.037500, duration: 0.187500\n",
      "pitch: 53, start: 12.037500, end: 12.225000, duration: 0.187500\n",
      "pitch: 52, start: 12.225000, end: 12.412500, duration: 0.187500\n",
      "pitch: 50, start: 12.412500, end: 12.600000, duration: 0.187500\n",
      "pitch: 45, start: 12.600000, end: 12.787500, duration: 0.187500\n",
      "pitch: 50, start: 12.787500, end: 12.975000, duration: 0.187500\n",
      "pitch: 49, start: 12.975000, end: 13.162500, duration: 0.187500\n",
      "pitch: 50, start: 13.162500, end: 13.350000, duration: 0.187500\n",
      "pitch: 45, start: 13.350000, end: 13.537500, duration: 0.187500\n",
      "pitch: 42, start: 13.537500, end: 13.725000, duration: 0.187500\n",
      "pitch: 38, start: 13.725000, end: 14.100000, duration: 0.375000\n",
      "pitch: 50, start: 14.100000, end: 14.287500, duration: 0.187500\n",
      "pitch: 55, start: 14.287500, end: 14.475000, duration: 0.187500\n",
      "pitch: 50, start: 14.475000, end: 14.662500, duration: 0.187500\n",
      "pitch: 52, start: 14.662500, end: 14.850000, duration: 0.187500\n",
      "pitch: 52, start: 14.850000, end: 15.037500, duration: 0.187500\n",
      "pitch: 48, start: 15.037500, end: 15.225000, duration: 0.187500\n",
      "pitch: 50, start: 15.225000, end: 15.412500, duration: 0.187500\n",
      "pitch: 50, start: 15.412500, end: 15.600000, duration: 0.187500\n",
      "pitch: 55, start: 15.600000, end: 15.787500, duration: 0.187500\n",
      "pitch: 50, start: 15.787500, end: 15.975000, duration: 0.187500\n",
      "pitch: 47, start: 15.975000, end: 16.162500, duration: 0.187500\n",
      "pitch: 43, start: 16.162500, end: 16.350000, duration: 0.187500\n",
      "pitch: 50, start: 16.350000, end: 16.537500, duration: 0.187500\n",
      "pitch: 55, start: 16.537500, end: 16.631250, duration: 0.093750\n",
      "pitch: 57, start: 16.631250, end: 16.725000, duration: 0.093750\n",
      "pitch: 59, start: 16.725000, end: 16.912500, duration: 0.187500\n",
      "pitch: 57, start: 16.912500, end: 17.100000, duration: 0.187500\n",
      "pitch: 57, start: 17.100000, end: 17.193750, duration: 0.093750\n",
      "pitch: 59, start: 17.193750, end: 17.287500, duration: 0.093750\n",
      "pitch: 60, start: 17.287500, end: 17.475000, duration: 0.187500\n",
      "pitch: 59, start: 17.475000, end: 17.662500, duration: 0.187500\n",
      "pitch: 59, start: 17.662500, end: 18.225000, duration: 0.562500\n",
      "pitch: 57, start: 18.225000, end: 18.600000, duration: 0.375000\n",
      "pitch: 57, start: 18.600000, end: 18.787500, duration: 0.187500\n",
      "pitch: 59, start: 18.787500, end: 18.975000, duration: 0.187500\n",
      "pitch: 54, start: 18.975000, end: 19.162500, duration: 0.187500\n",
      "pitch: 55, start: 19.162500, end: 19.350000, duration: 0.187500\n",
      "pitch: 55, start: 19.350000, end: 19.537500, duration: 0.187500\n",
      "pitch: 52, start: 19.537500, end: 19.725000, duration: 0.187500\n",
      "pitch: 55, start: 19.725000, end: 19.912500, duration: 0.187500\n",
      "pitch: 57, start: 19.912500, end: 20.100000, duration: 0.187500\n",
      "pitch: 52, start: 20.100000, end: 20.287500, duration: 0.187500\n",
      "pitch: 54, start: 20.287500, end: 20.475000, duration: 0.187500\n",
      "pitch: 54, start: 20.475000, end: 20.662500, duration: 0.187500\n",
      "pitch: 50, start: 20.662500, end: 20.850000, duration: 0.187500\n",
      "pitch: 54, start: 20.850000, end: 21.037500, duration: 0.187500\n",
      "pitch: 55, start: 21.037500, end: 21.225000, duration: 0.187500\n",
      "pitch: 59, start: 21.225000, end: 21.412500, duration: 0.187500\n",
      "pitch: 55, start: 21.412500, end: 21.600000, duration: 0.187500\n",
      "pitch: 52, start: 21.600000, end: 21.787500, duration: 0.187500\n",
      "pitch: 47, start: 21.787500, end: 21.975000, duration: 0.187500\n",
      "pitch: 50, start: 21.975000, end: 22.162500, duration: 0.187500\n",
      "pitch: 49, start: 22.162500, end: 22.350000, duration: 0.187500\n",
      "pitch: 52, start: 22.350000, end: 22.537500, duration: 0.187500\n",
      "pitch: 57, start: 22.537500, end: 22.725000, duration: 0.187500\n",
      "pitch: 45, start: 22.725000, end: 23.100000, duration: 0.375000\n",
      "pitch: 52, start: 23.100000, end: 23.287500, duration: 0.187500\n",
      "pitch: 53, start: 23.287500, end: 23.475000, duration: 0.187500\n",
      "pitch: 52, start: 23.475000, end: 23.662500, duration: 0.187500\n",
      "pitch: 55, start: 23.662500, end: 23.850000, duration: 0.187500\n",
      "pitch: 55, start: 23.850000, end: 24.037500, duration: 0.187500\n",
      "pitch: 53, start: 24.037500, end: 24.225000, duration: 0.187500\n",
      "pitch: 57, start: 24.225000, end: 24.412500, duration: 0.187500\n",
      "pitch: 57, start: 24.412500, end: 24.600000, duration: 0.187500\n",
      "pitch: 55, start: 24.600000, end: 24.787500, duration: 0.187500\n",
      "pitch: 58, start: 24.787500, end: 24.975000, duration: 0.187500\n",
      "pitch: 58, start: 24.975000, end: 25.162500, duration: 0.187500\n",
      "pitch: 57, start: 25.162500, end: 25.350000, duration: 0.187500\n",
      "pitch: 55, start: 25.350000, end: 25.537500, duration: 0.187500\n",
      "pitch: 53, start: 25.537500, end: 25.725000, duration: 0.187500\n",
      "pitch: 52, start: 25.725000, end: 25.912500, duration: 0.187500\n",
      "pitch: 50, start: 25.912500, end: 26.100000, duration: 0.187500\n",
      "pitch: 45, start: 26.100000, end: 26.287500, duration: 0.187500\n",
      "pitch: 50, start: 26.287500, end: 26.475000, duration: 0.187500\n",
      "pitch: 49, start: 26.475000, end: 26.662500, duration: 0.187500\n",
      "pitch: 50, start: 26.662500, end: 26.850000, duration: 0.187500\n",
      "pitch: 45, start: 26.850000, end: 27.037500, duration: 0.187500\n",
      "pitch: 42, start: 27.037500, end: 27.225000, duration: 0.187500\n",
      "pitch: 38, start: 27.225000, end: 27.600000, duration: 0.375000\n",
      "pitch: 57, start: 27.600000, end: 27.787500, duration: 0.187500\n",
      "pitch: 57, start: 27.787500, end: 27.975000, duration: 0.187500\n",
      "pitch: 54, start: 27.975000, end: 28.162500, duration: 0.187500\n",
      "pitch: 55, start: 28.162500, end: 28.350000, duration: 0.187500\n",
      "pitch: 55, start: 28.350000, end: 28.537500, duration: 0.187500\n",
      "pitch: 52, start: 28.537500, end: 28.725000, duration: 0.187500\n",
      "pitch: 54, start: 28.725000, end: 28.912500, duration: 0.187500\n",
      "pitch: 54, start: 28.912500, end: 29.006250, duration: 0.093750\n",
      "pitch: 55, start: 29.006250, end: 29.100000, duration: 0.093750\n",
      "pitch: 57, start: 29.100000, end: 29.287500, duration: 0.187500\n",
      "pitch: 54, start: 29.287500, end: 29.475000, duration: 0.187500\n",
      "pitch: 50, start: 29.475000, end: 29.662500, duration: 0.187500\n",
      "pitch: 60, start: 29.662500, end: 29.850000, duration: 0.187500\n",
      "pitch: 59, start: 29.850000, end: 30.037500, duration: 0.187500\n",
      "pitch: 59, start: 30.037500, end: 30.225000, duration: 0.187500\n",
      "pitch: 55, start: 30.225000, end: 30.412500, duration: 0.187500\n",
      "pitch: 57, start: 30.412500, end: 30.600000, duration: 0.187500\n",
      "pitch: 57, start: 30.600000, end: 30.787500, duration: 0.187500\n",
      "pitch: 54, start: 30.787500, end: 30.975000, duration: 0.187500\n",
      "pitch: 55, start: 30.975000, end: 31.162500, duration: 0.187500\n",
      "pitch: 55, start: 31.162500, end: 31.256250, duration: 0.093750\n",
      "pitch: 57, start: 31.256250, end: 31.350000, duration: 0.093750\n",
      "pitch: 59, start: 31.350000, end: 31.537500, duration: 0.187500\n",
      "pitch: 55, start: 31.537500, end: 31.725000, duration: 0.187500\n",
      "pitch: 52, start: 31.725000, end: 31.912500, duration: 0.187500\n",
      "pitch: 62, start: 31.912500, end: 32.100000, duration: 0.187500\n",
      "pitch: 60, start: 32.100000, end: 32.287500, duration: 0.187500\n",
      "pitch: 57, start: 32.287500, end: 32.475000, duration: 0.187500\n",
      "pitch: 62, start: 32.475000, end: 32.662500, duration: 0.187500\n",
      "pitch: 60, start: 32.662500, end: 32.850000, duration: 0.187500\n",
      "pitch: 50, start: 32.850000, end: 33.037500, duration: 0.187500\n",
      "pitch: 60, start: 33.037500, end: 33.225000, duration: 0.187500\n",
      "pitch: 59, start: 33.225000, end: 33.412500, duration: 0.187500\n",
      "pitch: 55, start: 33.412500, end: 33.600000, duration: 0.187500\n",
      "pitch: 60, start: 33.600000, end: 33.787500, duration: 0.187500\n",
      "pitch: 59, start: 33.787500, end: 33.975000, duration: 0.187500\n",
      "pitch: 48, start: 33.975000, end: 34.162500, duration: 0.187500\n",
      "pitch: 59, start: 34.162500, end: 34.350000, duration: 0.187500\n",
      "pitch: 57, start: 34.350000, end: 34.537500, duration: 0.187500\n",
      "pitch: 55, start: 34.537500, end: 34.725000, duration: 0.187500\n",
      "pitch: 54, start: 34.725000, end: 34.912500, duration: 0.187500\n",
      "pitch: 52, start: 34.912500, end: 35.100000, duration: 0.187500\n",
      "pitch: 47, start: 35.100000, end: 35.287500, duration: 0.187500\n",
      "pitch: 52, start: 35.287500, end: 35.475000, duration: 0.187500\n",
      "pitch: 51, start: 35.475000, end: 35.662500, duration: 0.187500\n",
      "pitch: 52, start: 35.662500, end: 35.850000, duration: 0.187500\n",
      "pitch: 47, start: 35.850000, end: 36.037500, duration: 0.187500\n",
      "pitch: 43, start: 36.037500, end: 36.225000, duration: 0.187500\n",
      "pitch: 40, start: 36.225000, end: 36.600000, duration: 0.375000\n",
      "pitch: 55, start: 36.600000, end: 36.787500, duration: 0.187500\n",
      "pitch: 57, start: 36.787500, end: 36.975000, duration: 0.187500\n",
      "pitch: 54, start: 36.975000, end: 37.162500, duration: 0.187500\n",
      "pitch: 55, start: 37.162500, end: 37.350000, duration: 0.187500\n",
      "pitch: 61, start: 37.350000, end: 37.443750, duration: 0.093750\n",
      "pitch: 62, start: 37.443750, end: 37.537500, duration: 0.093750\n",
      "pitch: 64, start: 37.537500, end: 37.725000, duration: 0.187500\n",
      "pitch: 54, start: 37.725000, end: 37.912500, duration: 0.187500\n",
      "pitch: 55, start: 37.912500, end: 38.100000, duration: 0.187500\n",
      "pitch: 52, start: 38.100000, end: 38.287500, duration: 0.187500\n",
      "pitch: 53, start: 38.287500, end: 38.475000, duration: 0.187500\n",
      "pitch: 59, start: 38.475000, end: 38.568750, duration: 0.093750\n",
      "pitch: 60, start: 38.568750, end: 38.662500, duration: 0.093750\n",
      "pitch: 62, start: 38.662500, end: 38.850000, duration: 0.187500\n",
      "pitch: 52, start: 38.850000, end: 39.037500, duration: 0.187500\n",
      "pitch: 53, start: 39.037500, end: 39.225000, duration: 0.187500\n",
      "pitch: 50, start: 39.225000, end: 39.412500, duration: 0.187500\n",
      "pitch: 52, start: 39.412500, end: 39.600000, duration: 0.187500\n",
      "pitch: 57, start: 39.600000, end: 39.693750, duration: 0.093750\n",
      "pitch: 59, start: 39.693750, end: 39.787500, duration: 0.093750\n",
      "pitch: 60, start: 39.787500, end: 39.975000, duration: 0.187500\n",
      "pitch: 57, start: 39.975000, end: 40.162500, duration: 0.187500\n",
      "pitch: 54, start: 40.162500, end: 40.256250, duration: 0.093750\n",
      "pitch: 55, start: 40.256250, end: 40.350000, duration: 0.093750\n",
      "pitch: 57, start: 40.350000, end: 40.537500, duration: 0.187500\n",
      "pitch: 54, start: 40.537500, end: 40.725000, duration: 0.187500\n",
      "pitch: 50, start: 40.725000, end: 41.100000, duration: 0.375000\n",
      "pitch: 57, start: 41.100000, end: 41.287500, duration: 0.187500\n",
      "pitch: 58, start: 41.287500, end: 41.475000, duration: 0.187500\n",
      "pitch: 57, start: 41.475000, end: 41.662500, duration: 0.187500\n",
      "pitch: 60, start: 41.662500, end: 41.850000, duration: 0.187500\n",
      "pitch: 60, start: 41.850000, end: 42.037500, duration: 0.187500\n",
      "pitch: 58, start: 42.037500, end: 42.225000, duration: 0.187500\n",
      "pitch: 62, start: 42.225000, end: 42.412500, duration: 0.187500\n",
      "pitch: 62, start: 42.412500, end: 42.600000, duration: 0.187500\n",
      "pitch: 60, start: 42.600000, end: 42.787500, duration: 0.187500\n",
      "pitch: 63, start: 42.787500, end: 42.975000, duration: 0.187500\n",
      "pitch: 63, start: 42.975000, end: 43.162500, duration: 0.187500\n",
      "pitch: 62, start: 43.162500, end: 43.350000, duration: 0.187500\n",
      "pitch: 60, start: 43.350000, end: 43.537500, duration: 0.187500\n",
      "pitch: 58, start: 43.537500, end: 43.725000, duration: 0.187500\n",
      "pitch: 57, start: 43.725000, end: 43.912500, duration: 0.187500\n",
      "pitch: 55, start: 43.912500, end: 44.100000, duration: 0.187500\n",
      "pitch: 50, start: 44.100000, end: 44.287500, duration: 0.187500\n",
      "pitch: 55, start: 44.287500, end: 44.475000, duration: 0.187500\n",
      "pitch: 54, start: 44.475000, end: 44.662500, duration: 0.187500\n",
      "pitch: 55, start: 44.662500, end: 44.850000, duration: 0.187500\n",
      "pitch: 47, start: 44.850000, end: 44.943750, duration: 0.093750\n",
      "pitch: 48, start: 44.943750, end: 45.037500, duration: 0.093750\n",
      "pitch: 50, start: 45.037500, end: 45.225000, duration: 0.187500\n",
      "pitch: 43, start: 45.225000, end: 45.412500, duration: 0.187500\n",
      "pitch: 47, start: 45.412500, end: 45.600000, duration: 0.187500\n",
      "pitch: 50, start: 45.600000, end: 45.787500, duration: 0.187500\n",
      "pitch: 55, start: 45.787500, end: 45.975000, duration: 0.187500\n",
      "pitch: 52, start: 45.975000, end: 46.068750, duration: 0.093750\n",
      "pitch: 53, start: 46.068750, end: 46.162500, duration: 0.093750\n",
      "pitch: 55, start: 46.162500, end: 46.350000, duration: 0.187500\n",
      "pitch: 47, start: 46.350000, end: 46.537500, duration: 0.187500\n",
      "pitch: 48, start: 46.537500, end: 46.725000, duration: 0.187500\n",
      "pitch: 52, start: 46.725000, end: 46.912500, duration: 0.187500\n",
      "pitch: 57, start: 46.912500, end: 47.100000, duration: 0.187500\n",
      "pitch: 54, start: 47.100000, end: 47.193750, duration: 0.093750\n",
      "pitch: 55, start: 47.193750, end: 47.287500, duration: 0.093750\n",
      "pitch: 57, start: 47.287500, end: 47.475000, duration: 0.187500\n",
      "pitch: 49, start: 47.475000, end: 47.662500, duration: 0.187500\n",
      "pitch: 50, start: 47.662500, end: 47.850000, duration: 0.187500\n",
      "pitch: 54, start: 47.850000, end: 48.037500, duration: 0.187500\n",
      "pitch: 59, start: 48.037500, end: 48.225000, duration: 0.187500\n",
      "pitch: 55, start: 48.225000, end: 48.318750, duration: 0.093750\n",
      "pitch: 57, start: 48.318750, end: 48.412500, duration: 0.093750\n",
      "pitch: 59, start: 48.412500, end: 48.600000, duration: 0.187500\n",
      "pitch: 51, start: 48.600000, end: 48.787500, duration: 0.187500\n",
      "pitch: 52, start: 48.787500, end: 48.975000, duration: 0.187500\n",
      "pitch: 60, start: 48.975000, end: 49.162500, duration: 0.187500\n",
      "pitch: 52, start: 49.162500, end: 49.350000, duration: 0.187500\n",
      "pitch: 54, start: 49.350000, end: 49.537500, duration: 0.187500\n",
      "pitch: 62, start: 49.537500, end: 49.725000, duration: 0.187500\n",
      "pitch: 54, start: 49.725000, end: 49.912500, duration: 0.187500\n",
      "pitch: 55, start: 49.912500, end: 50.100000, duration: 0.187500\n",
      "pitch: 64, start: 50.100000, end: 50.287500, duration: 0.187500\n",
      "pitch: 50, start: 50.287500, end: 50.475000, duration: 0.187500\n",
      "pitch: 52, start: 50.475000, end: 50.568750, duration: 0.093750\n",
      "pitch: 54, start: 50.568750, end: 50.662500, duration: 0.093750\n",
      "pitch: 55, start: 50.662500, end: 50.756250, duration: 0.093750\n",
      "pitch: 57, start: 50.756250, end: 50.850000, duration: 0.093750\n",
      "pitch: 59, start: 50.850000, end: 51.037500, duration: 0.187500\n",
      "pitch: 55, start: 51.037500, end: 51.225000, duration: 0.187500\n",
      "pitch: 54, start: 51.225000, end: 51.412500, duration: 0.187500\n",
      "pitch: 55, start: 51.412500, end: 51.600000, duration: 0.187500\n",
      "pitch: 50, start: 51.600000, end: 51.787500, duration: 0.187500\n",
      "pitch: 47, start: 51.787500, end: 51.975000, duration: 0.187500\n",
      "pitch: 43, start: 51.975000, end: 52.350000, duration: 0.375000\n",
      "pitch: 57, start: 52.350000, end: 52.537500, duration: 0.187500\n",
      "pitch: 57, start: 52.537500, end: 52.725000, duration: 0.187500\n",
      "pitch: 54, start: 52.725000, end: 52.912500, duration: 0.187500\n",
      "pitch: 55, start: 52.912500, end: 53.100000, duration: 0.187500\n",
      "pitch: 55, start: 53.100000, end: 53.287500, duration: 0.187500\n",
      "pitch: 52, start: 53.287500, end: 53.475000, duration: 0.187500\n",
      "pitch: 54, start: 53.475000, end: 53.662500, duration: 0.187500\n",
      "pitch: 54, start: 53.662500, end: 53.756250, duration: 0.093750\n",
      "pitch: 55, start: 53.756250, end: 53.850000, duration: 0.093750\n",
      "pitch: 57, start: 53.850000, end: 54.037500, duration: 0.187500\n",
      "pitch: 54, start: 54.037500, end: 54.225000, duration: 0.187500\n",
      "pitch: 50, start: 54.225000, end: 54.412500, duration: 0.187500\n",
      "pitch: 60, start: 54.412500, end: 54.600000, duration: 0.187500\n",
      "pitch: 59, start: 54.600000, end: 54.787500, duration: 0.187500\n",
      "pitch: 59, start: 54.787500, end: 54.975000, duration: 0.187500\n",
      "pitch: 55, start: 54.975000, end: 55.162500, duration: 0.187500\n",
      "pitch: 57, start: 55.162500, end: 55.350000, duration: 0.187500\n",
      "pitch: 57, start: 55.350000, end: 55.537500, duration: 0.187500\n",
      "pitch: 54, start: 55.537500, end: 55.725000, duration: 0.187500\n",
      "pitch: 55, start: 55.725000, end: 55.912500, duration: 0.187500\n",
      "pitch: 55, start: 55.912500, end: 56.006250, duration: 0.093750\n",
      "pitch: 57, start: 56.006250, end: 56.100000, duration: 0.093750\n",
      "pitch: 59, start: 56.100000, end: 56.287500, duration: 0.187500\n",
      "pitch: 55, start: 56.287500, end: 56.475000, duration: 0.187500\n",
      "pitch: 52, start: 56.475000, end: 56.662500, duration: 0.187500\n",
      "pitch: 62, start: 56.662500, end: 56.850000, duration: 0.187500\n",
      "pitch: 60, start: 56.850000, end: 57.037500, duration: 0.187500\n",
      "pitch: 57, start: 57.037500, end: 57.225000, duration: 0.187500\n",
      "pitch: 62, start: 57.225000, end: 57.412500, duration: 0.187500\n",
      "pitch: 60, start: 57.412500, end: 57.600000, duration: 0.187500\n",
      "pitch: 50, start: 57.600000, end: 57.787500, duration: 0.187500\n",
      "pitch: 60, start: 57.787500, end: 57.975000, duration: 0.187500\n",
      "pitch: 59, start: 57.975000, end: 58.162500, duration: 0.187500\n",
      "pitch: 55, start: 58.162500, end: 58.350000, duration: 0.187500\n",
      "pitch: 60, start: 58.350000, end: 58.537500, duration: 0.187500\n",
      "pitch: 59, start: 58.537500, end: 58.725000, duration: 0.187500\n",
      "pitch: 48, start: 58.725000, end: 58.912500, duration: 0.187500\n",
      "pitch: 59, start: 58.912500, end: 59.100000, duration: 0.187500\n",
      "pitch: 57, start: 59.100000, end: 59.287500, duration: 0.187500\n",
      "pitch: 55, start: 59.287500, end: 59.475000, duration: 0.187500\n",
      "pitch: 54, start: 59.475000, end: 59.662500, duration: 0.187500\n",
      "pitch: 52, start: 59.662500, end: 59.850000, duration: 0.187500\n",
      "pitch: 47, start: 59.850000, end: 60.037500, duration: 0.187500\n",
      "pitch: 52, start: 60.037500, end: 60.225000, duration: 0.187500\n",
      "pitch: 51, start: 60.225000, end: 60.412500, duration: 0.187500\n",
      "pitch: 52, start: 60.412500, end: 60.600000, duration: 0.187500\n",
      "pitch: 47, start: 60.600000, end: 60.787500, duration: 0.187500\n",
      "pitch: 43, start: 60.787500, end: 60.975000, duration: 0.187500\n",
      "pitch: 40, start: 60.975000, end: 61.350000, duration: 0.375000\n",
      "pitch: 55, start: 61.350000, end: 61.537500, duration: 0.187500\n",
      "pitch: 57, start: 61.537500, end: 61.725000, duration: 0.187500\n",
      "pitch: 54, start: 61.725000, end: 61.912500, duration: 0.187500\n",
      "pitch: 55, start: 61.912500, end: 62.100000, duration: 0.187500\n",
      "pitch: 61, start: 62.100000, end: 62.193750, duration: 0.093750\n",
      "pitch: 62, start: 62.193750, end: 62.287500, duration: 0.093750\n",
      "pitch: 64, start: 62.287500, end: 62.475000, duration: 0.187500\n",
      "pitch: 54, start: 62.475000, end: 62.662500, duration: 0.187500\n",
      "pitch: 55, start: 62.662500, end: 62.850000, duration: 0.187500\n",
      "pitch: 52, start: 62.850000, end: 63.037500, duration: 0.187500\n",
      "pitch: 53, start: 63.037500, end: 63.225000, duration: 0.187500\n",
      "pitch: 59, start: 63.225000, end: 63.318750, duration: 0.093750\n",
      "pitch: 60, start: 63.318750, end: 63.412500, duration: 0.093750\n",
      "pitch: 62, start: 63.412500, end: 63.600000, duration: 0.187500\n",
      "pitch: 52, start: 63.600000, end: 63.787500, duration: 0.187500\n",
      "pitch: 53, start: 63.787500, end: 63.975000, duration: 0.187500\n",
      "pitch: 50, start: 63.975000, end: 64.162500, duration: 0.187500\n",
      "pitch: 52, start: 64.162500, end: 64.350000, duration: 0.187500\n",
      "pitch: 57, start: 64.350000, end: 64.443750, duration: 0.093750\n",
      "pitch: 59, start: 64.443750, end: 64.537500, duration: 0.093750\n",
      "pitch: 60, start: 64.537500, end: 64.725000, duration: 0.187500\n",
      "pitch: 57, start: 64.725000, end: 64.912500, duration: 0.187500\n",
      "pitch: 54, start: 64.912500, end: 65.006250, duration: 0.093750\n",
      "pitch: 55, start: 65.006250, end: 65.100000, duration: 0.093750\n",
      "pitch: 57, start: 65.100000, end: 65.287500, duration: 0.187500\n",
      "pitch: 54, start: 65.287500, end: 65.475000, duration: 0.187500\n",
      "pitch: 50, start: 65.475000, end: 65.850000, duration: 0.375000\n",
      "pitch: 57, start: 65.850000, end: 66.037500, duration: 0.187500\n",
      "pitch: 58, start: 66.037500, end: 66.225000, duration: 0.187500\n",
      "pitch: 57, start: 66.225000, end: 66.412500, duration: 0.187500\n",
      "pitch: 60, start: 66.412500, end: 66.600000, duration: 0.187500\n",
      "pitch: 60, start: 66.600000, end: 66.787500, duration: 0.187500\n",
      "pitch: 58, start: 66.787500, end: 66.975000, duration: 0.187500\n",
      "pitch: 62, start: 66.975000, end: 67.162500, duration: 0.187500\n",
      "pitch: 62, start: 67.162500, end: 67.350000, duration: 0.187500\n",
      "pitch: 60, start: 67.350000, end: 67.537500, duration: 0.187500\n",
      "pitch: 63, start: 67.537500, end: 67.725000, duration: 0.187500\n",
      "pitch: 63, start: 67.725000, end: 67.912500, duration: 0.187500\n",
      "pitch: 62, start: 67.912500, end: 68.100000, duration: 0.187500\n",
      "pitch: 60, start: 68.100000, end: 68.287500, duration: 0.187500\n",
      "pitch: 58, start: 68.287500, end: 68.475000, duration: 0.187500\n",
      "pitch: 57, start: 68.475000, end: 68.662500, duration: 0.187500\n",
      "pitch: 55, start: 68.662500, end: 68.850000, duration: 0.187500\n",
      "pitch: 50, start: 68.850000, end: 69.037500, duration: 0.187500\n",
      "pitch: 55, start: 69.037500, end: 69.225000, duration: 0.187500\n",
      "pitch: 54, start: 69.225000, end: 69.412500, duration: 0.187500\n",
      "pitch: 55, start: 69.412500, end: 69.600000, duration: 0.187500\n",
      "pitch: 47, start: 69.600000, end: 69.693750, duration: 0.093750\n",
      "pitch: 48, start: 69.693750, end: 69.787500, duration: 0.093750\n",
      "pitch: 50, start: 69.787500, end: 69.975000, duration: 0.187500\n",
      "pitch: 43, start: 69.975000, end: 70.162500, duration: 0.187500\n",
      "pitch: 47, start: 70.162500, end: 70.350000, duration: 0.187500\n",
      "pitch: 50, start: 70.350000, end: 70.537500, duration: 0.187500\n",
      "pitch: 55, start: 70.537500, end: 70.725000, duration: 0.187500\n",
      "pitch: 52, start: 70.725000, end: 70.818750, duration: 0.093750\n",
      "pitch: 53, start: 70.818750, end: 70.912500, duration: 0.093750\n",
      "pitch: 55, start: 70.912500, end: 71.100000, duration: 0.187500\n",
      "pitch: 47, start: 71.100000, end: 71.287500, duration: 0.187500\n",
      "pitch: 48, start: 71.287500, end: 71.475000, duration: 0.187500\n",
      "pitch: 52, start: 71.475000, end: 71.662500, duration: 0.187500\n",
      "pitch: 57, start: 71.662500, end: 71.850000, duration: 0.187500\n",
      "pitch: 54, start: 71.850000, end: 71.943750, duration: 0.093750\n",
      "pitch: 55, start: 71.943750, end: 72.037500, duration: 0.093750\n",
      "pitch: 57, start: 72.037500, end: 72.225000, duration: 0.187500\n",
      "pitch: 49, start: 72.225000, end: 72.412500, duration: 0.187500\n",
      "pitch: 50, start: 72.412500, end: 72.600000, duration: 0.187500\n",
      "pitch: 54, start: 72.600000, end: 72.787500, duration: 0.187500\n",
      "pitch: 59, start: 72.787500, end: 72.975000, duration: 0.187500\n",
      "pitch: 55, start: 72.975000, end: 73.068750, duration: 0.093750\n",
      "pitch: 57, start: 73.068750, end: 73.162500, duration: 0.093750\n",
      "pitch: 59, start: 73.162500, end: 73.350000, duration: 0.187500\n",
      "pitch: 51, start: 73.350000, end: 73.537500, duration: 0.187500\n",
      "pitch: 52, start: 73.537500, end: 73.725000, duration: 0.187500\n",
      "pitch: 60, start: 73.725000, end: 73.912500, duration: 0.187500\n",
      "pitch: 52, start: 73.912500, end: 74.100000, duration: 0.187500\n",
      "pitch: 54, start: 74.100000, end: 74.287500, duration: 0.187500\n",
      "pitch: 62, start: 74.287500, end: 74.475000, duration: 0.187500\n",
      "pitch: 54, start: 74.475000, end: 74.662500, duration: 0.187500\n",
      "pitch: 55, start: 74.662500, end: 74.850000, duration: 0.187500\n",
      "pitch: 64, start: 74.850000, end: 75.037500, duration: 0.187500\n",
      "pitch: 50, start: 75.037500, end: 75.225000, duration: 0.187500\n",
      "pitch: 52, start: 75.225000, end: 75.318750, duration: 0.093750\n",
      "pitch: 54, start: 75.318750, end: 75.412500, duration: 0.093750\n",
      "pitch: 55, start: 75.412500, end: 75.506250, duration: 0.093750\n",
      "pitch: 57, start: 75.506250, end: 75.600000, duration: 0.093750\n",
      "pitch: 59, start: 75.600000, end: 75.787500, duration: 0.187500\n",
      "pitch: 55, start: 75.787500, end: 75.975000, duration: 0.187500\n",
      "pitch: 54, start: 75.975000, end: 76.162500, duration: 0.187500\n",
      "pitch: 55, start: 76.162500, end: 76.350000, duration: 0.187500\n",
      "pitch: 50, start: 76.350000, end: 76.537500, duration: 0.187500\n",
      "pitch: 47, start: 76.537500, end: 76.725000, duration: 0.187500\n",
      "pitch: 43, start: 76.725000, end: 77.662500, duration: 0.937500\n"
     ]
    }
   ],
   "source": [
    "# --- Read a single MIDI file\n",
    "midi_data = pretty_midi.PrettyMIDI(midiFile_l[0])\n",
    "# --- Display the note pitch, start, end and duration\n",
    "for note in midi_data.instruments[0].notes:\n",
    "    print('pitch: %d, start: %f, end: %f, duration: %f' % (note.pitch, note.start, note.end, note.end-note.start))"
   ]
  },
  {
   "cell_type": "markdown",
   "metadata": {
    "colab_type": "text",
    "id": "mDofyEKjcd4E"
   },
   "source": [
    "We read all MIDI files and convert their content to one-hot-encoding matrix X_ohe of dimensions (T_x, n_x) where n_x is the number of possible musical notes.\n",
    "The duration of the sequences T_x can vary from one sequence to the other.\n",
    " \n"
   ]
  },
  {
   "cell_type": "code",
   "execution_count": null,
   "metadata": {
    "colab": {
     "base_uri": "https://localhost:8080/",
     "height": 89
    },
    "colab_type": "code",
    "id": "EirVcbKxEe-3",
    "outputId": "283156ce-45b8-4536-ca3d-f4ec1ba5834b"
   },
   "outputs": [],
   "source": [
    "# --- We truncate the duration of each example to the first T_x data\n",
    "\n",
    "X_list = []\n",
    "\n",
    "for midiFile in midiFile_l:\n",
    "    # read the MIDI file\n",
    "    midi_data = pretty_midi.PrettyMIDI(midiFile)\n",
    "    note_l = [note.pitch for note in midi_data.instruments[0].notes]\n",
    "    # convert to one-hot-encoding\n",
    "    T_x = len(note_l)\n",
    "    if T_x > max_T_x:\n",
    "      T_x = max_T_x\n",
    "    X_ohe = np.zeros((T_x, n_x))\n",
    "    for t in range(T_x): \n",
    "      X_ohe[t, note_l[t]-1] = 1\n",
    "    # add to the list  \n",
    "    X_list.append(X_ohe)\n",
    "    \n",
    "print(len(X_list))\n",
    "print(X_list[0].shape)\n",
    "print(X_list[1].shape)\n",
    "print(X_list[2].shape)"
   ]
  },
  {
   "cell_type": "markdown",
   "metadata": {
    "colab_type": "text",
    "id": "nSf8RDL5cv7V"
   },
   "source": [
    "## Display the set of notes over time for a specific track "
   ]
  },
  {
   "cell_type": "code",
   "execution_count": null,
   "metadata": {
    "colab": {
     "base_uri": "https://localhost:8080/",
     "height": 378
    },
    "colab_type": "code",
    "id": "wesPFMZHcvKG",
    "outputId": "042dfc22-95fd-4516-81b3-140909c11ea9"
   },
   "outputs": [],
   "source": [
    "plt.figure(figsize=(16, 6))\n",
    "plt.imshow(X_list[2].T, aspect='auto')\n",
    "plt.set_cmap('gray_r')\n",
    "plt.grid(True)"
   ]
  },
  {
   "cell_type": "markdown",
   "metadata": {
    "colab_type": "text",
    "id": "PMHtioR_c5y3"
   },
   "source": [
    "## Data conversion for the training of language model\n",
    "\n",
    "For each example/sequence and each possible starting note in this example/sequence, we create two sequences\n",
    "- an input sequence: \n",
    "  - which contains a sub-sequence of length ```sequence_length```;  this sub-sequence range from the note $t$ to the note $t+sequence\\_length-1$\n",
    "- an output sequence:\n",
    "  - which contains the following note to be predicted, the one at position $t+sequence\\_length$\n",
    "\n",
    "The training is therefore performed by giving to the model a set of sequences as input and asking the network to predict each time the note that should come right after this sequence."
   ]
  },
  {
   "cell_type": "code",
   "execution_count": null,
   "metadata": {
    "colab": {
     "base_uri": "https://localhost:8080/",
     "height": 701
    },
    "colab_type": "code",
    "id": "EGzvp4RCC0XX",
    "outputId": "8e492e77-11cd-4d2b-8374-f5b5f9d01792"
   },
   "outputs": [],
   "source": [
    "X_train_list = []\n",
    "y_train_list = []\n",
    "\n",
    "if student:\n",
    "    # --- START CODE HERE (01)\n",
    "    ...\n",
    "    # --- END CODE HERE\n",
    "\n",
    "X_train = np.asarray(X_train_list)\n",
    "y_train = np.asarray(y_train_list)\n",
    "\n",
    "print(\"X_train.shape:\", X_train.shape)\n",
    "print(\"y_train.shape:\", y_train.shape)"
   ]
  },
  {
   "cell_type": "markdown",
   "metadata": {
    "colab_type": "text",
    "id": "HhNPrmvveuH3"
   },
   "source": [
    "# Training the language model\n",
    "\n",
    "The language model will be learned by training an RNN with input `X_train` and output `Y_train`:  for each of the examples of sequences, we give to the network a sequence of notes of `sequence_length` duration, and ask the network to predict the following note of each sequence.\n",
    "\n",
    "The network will have the following structure\n",
    "- (1a) a layer of `LSTM` with $n_a$=256\n",
    "- (1b) a layer of DropOut with rate 0.3 (the probability to \"drop-out\" one neuron is 0.3)\n",
    "- (2a) a layer of `LSTM` with $n_a$=256\n",
    "- (2b) a layer of DropOut with rate 0.3 (the probability to \"drop-out\" one neuron is 0.3)\n",
    "- (3) a layer of `LSTM` with $n_a$=256\n",
    "- (4a) a layer of `Dense` with 256 units\n",
    "- (4b) a layer of DropOut with rate 0.3 (the probability to \"drop-out\" one neuron is 0.3)\n",
    "- (5) a layer of `Dense` with a `softmax` activation which predict the probability of each of the $n_x$ notes as output\n",
    "\n",
    "## Returning the hidden states at each time of an LSTM cell\n",
    "\n",
    "Note that when we stack one LSTM layer on top of a second LSTM layer (deep-RNN), we need to tell the first LSTM to output its hidden states at each time $t$. This is done by the option `return_sequences=True` that has to be given as parameter to the LSTM on top of the other one.\n",
    "This is the case for (1a) and (2a).\n",
    "\n",
    "However, since we are only interrested in the last hidden state of the third LSTM (since we are only interrest in its prediction at time $T_x$), we give the option `return_sequences=False` (which is the default behaviour) for the third LSTM.\n",
    "This is the case for (3)."
   ]
  },
  {
   "cell_type": "code",
   "execution_count": null,
   "metadata": {
    "colab": {
     "base_uri": "https://localhost:8080/",
     "height": 757
    },
    "colab_type": "code",
    "id": "epWHM4p6D5n7",
    "outputId": "0fc2bc0e-2534-4e81-e3b5-9ad6ca74f7b9"
   },
   "outputs": [],
   "source": [
    "# --- Create the model\n",
    "K.clear_session()\n",
    "\n",
    "if student:\n",
    "    # --- START CODE HERE (02)\n",
    "    model = ...\n",
    "    # --- END CODE HERE\n",
    "\n",
    "print(model.summary())"
   ]
  },
  {
   "cell_type": "code",
   "execution_count": null,
   "metadata": {
    "colab": {
     "base_uri": "https://localhost:8080/",
     "height": 395
    },
    "colab_type": "code",
    "id": "yhWTNfIbFDmf",
    "outputId": "12ab17df-1932-44cf-8a8f-dde4532293fd"
   },
   "outputs": [],
   "source": [
    "# --- Compile and fit the model\n",
    "model.compile(loss='categorical_crossentropy', optimizer='rmsprop', metrics=['accuracy'])\n",
    "model.fit(X_train, y_train, epochs=10, batch_size=64)"
   ]
  },
  {
   "cell_type": "markdown",
   "metadata": {
    "colab_type": "text",
    "id": "xM6g1YR3gtcO"
   },
   "source": [
    "# Generating a new sequence from sampling the language model\n",
    "\n",
    "To generate a new sequence from the language model, we simply give it as input a random sequence of duration ```sequence_length```and ask the trained network to predict the output (using ```model.predict```). \n",
    "\n",
    "The output of the network is a vector of probability of dimension $n_x$ which represents the probability of each note to be the next note of the melody given as input.\n",
    "\n",
    "From this vector, we select the note which has the maximum probability.\n",
    "\n",
    "We then concatenate this new note (its one-hot-encoding representation) at the end of the input sequence.\n",
    "We finally remove the first element of the input sequence to keep its duration constant (```sequence_length```).\n",
    "\n",
    "Instead of providing a random sequence as input, we rather randomly select one sequence out of the 2880 sequences used for training.\n",
    "We denote it by ```pattern```.\n",
    "\n"
   ]
  },
  {
   "cell_type": "code",
   "execution_count": null,
   "metadata": {
    "colab": {
     "base_uri": "https://localhost:8080/",
     "height": 71
    },
    "colab_type": "code",
    "id": "_YHXTohsFGCX",
    "outputId": "5323b7e3-5f66-4f39-a01e-ffa19f86e2b1"
   },
   "outputs": [],
   "source": [
    "# --- Select a random starting pattern\n",
    "start = np.random.randint(0, len(X_train_list)-1)\n",
    "pattern = X_train_list[start]\n",
    "print(start)\n",
    "print(pattern.shape)\n",
    "print(np.expand_dims(pattern, 0).shape)"
   ]
  },
  {
   "cell_type": "code",
   "execution_count": null,
   "metadata": {
    "colab": {},
    "colab_type": "code",
    "id": "f_ADCs7uFW8m"
   },
   "outputs": [],
   "source": [
    "note_l = []\n",
    "\n",
    "prediction_l = []\n",
    "# --- Generate T_y_generated notes\n",
    "for note_index in range(T_y_generated):\n",
    "    if student:\n",
    "        # --- START CODE HERE (03)\n",
    "        prediction = ...\n",
    "        # --- END CODE HERE    \n"
   ]
  },
  {
   "cell_type": "markdown",
   "metadata": {
    "colab_type": "text",
    "id": "stQscvNOg0xd"
   },
   "source": [
    "### Display the generated sequence"
   ]
  },
  {
   "cell_type": "code",
   "execution_count": null,
   "metadata": {
    "colab": {
     "base_uri": "https://localhost:8080/",
     "height": 416
    },
    "colab_type": "code",
    "id": "c9IOPPiuLuHE",
    "outputId": "6c5ef28a-d85e-43d2-ec1a-63d1b8343835"
   },
   "outputs": [],
   "source": [
    "print(note_l)\n",
    "\n",
    "plt.figure(figsize=(16, 6))\n",
    "plt.imshow(np.asarray(prediction_l)[:,0,:].T, aspect='auto', origin='lower')\n",
    "plt.plot(note_l)\n",
    "plt.set_cmap('gray_r')\n",
    "plt.grid(True)\n"
   ]
  },
  {
   "cell_type": "markdown",
   "metadata": {
    "colab_type": "text",
    "id": "ZwM6osfDg5E0"
   },
   "source": [
    "### Create a MIDI file and an audio file which correspond to the generated sequence\n",
    "\n",
    "Once the new sequence has been generated (```note_l```) we transform it to a new MIDI file and perform (a very cheap) rendering of it in an audio file."
   ]
  },
  {
   "cell_type": "code",
   "execution_count": null,
   "metadata": {
    "colab": {},
    "colab_type": "code",
    "id": "8cpTszOFID51"
   },
   "outputs": [],
   "source": [
    "new_midi_data = pretty_midi.PrettyMIDI()\n",
    "cello_program = pretty_midi.instrument_name_to_program('Cello')\n",
    "cello = pretty_midi.Instrument(program=cello_program)\n",
    "time = 0\n",
    "step = 0.3\n",
    "for note_number in note_l:\n",
    "    myNote = pretty_midi.Note(velocity=100, pitch=note_number, start=time, end=time+step)\n",
    "    cello.notes.append(myNote)\n",
    "    time += step\n",
    "new_midi_data.instruments.append(cello)"
   ]
  },
  {
   "cell_type": "code",
   "execution_count": null,
   "metadata": {
    "colab": {
     "base_uri": "https://localhost:8080/",
     "height": 52
    },
    "colab_type": "code",
    "id": "yOXBXxa3IGKW",
    "outputId": "d5df6d0a-df59-4b9c-8347-50a393063da3"
   },
   "outputs": [],
   "source": [
    "%matplotlib inline\n",
    "\n",
    "audio_data = new_midi_data.synthesize()\n",
    "IPython.display.Audio(audio_data, rate=44100)"
   ]
  },
  {
   "cell_type": "markdown",
   "metadata": {
    "colab_type": "text",
    "id": "Wb4DLCWjj93s"
   },
   "source": [
    "# Evaluation\n",
    "\n",
    "To evaluate the work, you should rate the code for \n",
    "- 1) Data conversion for the training of language model (01)\n",
    "- 2) Training the language model (02)\n",
    "- 3) Generating a new sequence from sampling the language model (03)\n",
    "\n",
    "You will also rate the answer to the four questions below."
   ]
  },
  {
   "cell_type": "markdown",
   "metadata": {
    "colab": {},
    "colab_type": "code",
    "id": "sgjoIxEqL7bx"
   },
   "source": [
    "## Question 1)\n",
    "\n",
    "Que se passe-t'il si on remplace la cellule LSTM par une cellule RNNsimple ?\n",
    "\n",
    "**Réponse (en-dessous)** (1 points)"
   ]
  },
  {
   "cell_type": "markdown",
   "metadata": {
    "colab": {},
    "colab_type": "code",
    "id": "DIstqiBzj93v"
   },
   "source": [
    "???"
   ]
  },
  {
   "cell_type": "markdown",
   "metadata": {
    "colab": {},
    "colab_type": "code",
    "id": "FTB7qV8wj93y"
   },
   "source": [
    "## Question 2) \n",
    "\n",
    "Que se passe-t'il si l'on raccourci la longueur des séquences utilisées pour l'entrainement ? Comment palier à cet effet ?\n",
    "\n",
    "**Réponse (en-dessous)** (1 points)"
   ]
  },
  {
   "cell_type": "markdown",
   "metadata": {
    "colab": {},
    "colab_type": "code",
    "id": "UAuSUBH4j932"
   },
   "source": [
    "???"
   ]
  },
  {
   "cell_type": "markdown",
   "metadata": {
    "colab": {},
    "colab_type": "code",
    "id": "46IzXO5Wj935"
   },
   "source": [
    "## Question 3) \n",
    "Comment pourrait-on rendre le système ```polyphonique``` (plusieurs notes jouées simultanément par le même instrument) ? pour l'entrainement ? pour la génération ?\n",
    "\n",
    "**Réponse (en-dessous)** (2 points)"
   ]
  },
  {
   "cell_type": "markdown",
   "metadata": {
    "colab": {},
    "colab_type": "code",
    "id": "KAyxRPQoj937"
   },
   "source": [
    "???"
   ]
  },
  {
   "cell_type": "markdown",
   "metadata": {
    "colab": {},
    "colab_type": "code",
    "id": "X7MlNRsxj93-"
   },
   "source": [
    "## Question 4) \n",
    "\n",
    "Nous avons utilisé une procédure simplifiée pour entrainer le modèle de language musical, en transformant l'apprentissage en un problème Many-To-one. Expliquez ? Comment entraine-t'on habituellement un modèle de language avec un RNN ? Quel en serait l'avantage ?\n",
    "\n",
    "**Réponse (en-dessous)** (2 points)"
   ]
  },
  {
   "cell_type": "markdown",
   "metadata": {
    "colab": {},
    "colab_type": "code",
    "id": "XJgs4uwpj94Q"
   },
   "source": [
    "???"
   ]
  }
 ],
 "metadata": {
  "accelerator": "GPU",
  "colab": {
   "collapsed_sections": [],
   "name": "DL1_20192020_Lab_keras_bach.ipynb",
   "provenance": []
  },
  "kernelspec": {
   "display_name": "Python 3",
   "language": "python",
   "name": "python3"
  },
  "toc": {
   "base_numbering": 1,
   "nav_menu": {},
   "number_sections": true,
   "sideBar": true,
   "skip_h1_title": false,
   "title_cell": "Table of Contents",
   "title_sidebar": "Contents",
   "toc_cell": false,
   "toc_position": {},
   "toc_section_display": true,
   "toc_window_display": true
  }
 },
 "nbformat": 4,
 "nbformat_minor": 1
}
