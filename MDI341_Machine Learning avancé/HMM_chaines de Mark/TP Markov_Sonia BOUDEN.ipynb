{
 "cells": [
  {
   "cell_type": "markdown",
   "metadata": {},
   "source": [
    "Sonia Bouden\n",
    "# TP Chaines de Markov et HMM"
   ]
  },
  {
   "cell_type": "markdown",
   "metadata": {},
   "source": [
    "On veut générer des mots dans une langue donnée en modélisant la formation de ces mots par\n",
    "une chaîne de Markov."
   ]
  },
  {
   "cell_type": "markdown",
   "metadata": {},
   "source": [
    "#### Imports"
   ]
  },
  {
   "cell_type": "code",
   "execution_count": 22,
   "metadata": {},
   "outputs": [],
   "source": [
    "import numpy as np\n",
    "import pandas as pd\n",
    "import matplotlib.pyplot as plt"
   ]
  },
  {
   "cell_type": "markdown",
   "metadata": {},
   "source": [
    "### I.1 Fonctions dont vous pouvez avoir besoin"
   ]
  },
  {
   "cell_type": "code",
   "execution_count": 23,
   "metadata": {},
   "outputs": [],
   "source": [
    "data_p = './data_txt_compact/'\n",
    "data_b = '../'"
   ]
  },
  {
   "cell_type": "markdown",
   "metadata": {},
   "source": [
    "La correspondance entre la valeur numérique d’un état et un caractère est la suivante : l’état 1\n",
    "correspond à un espace (avant le début d’un mot) et l’état 28 à celui d’un espace en fin de mot. Les états 2 à 27 correspondent aux caractères de a à z."
   ]
  },
  {
   "cell_type": "code",
   "execution_count": 24,
   "metadata": {},
   "outputs": [
    {
     "data": {
      "text/plain": [
       "{' ': '28',\n",
       " 'a': '2',\n",
       " 'b': '3',\n",
       " 'c': '4',\n",
       " 'd': '5',\n",
       " 'e': '6',\n",
       " 'f': '7',\n",
       " 'g': '8',\n",
       " 'h': '9',\n",
       " 'i': '10',\n",
       " 'j': '11',\n",
       " 'k': '12',\n",
       " 'l': '13',\n",
       " 'm': '14',\n",
       " 'n': '15',\n",
       " 'o': '16',\n",
       " 'p': '17',\n",
       " 'q': '18',\n",
       " 'r': '19',\n",
       " 's': '20',\n",
       " 't': '21',\n",
       " 'u': '22',\n",
       " 'v': '23',\n",
       " 'w': '24',\n",
       " 'x': '25',\n",
       " 'y': '26',\n",
       " 'z': '27'}"
      ]
     },
     "execution_count": 24,
     "metadata": {},
     "output_type": "execute_result"
    }
   ],
   "source": [
    "dic = {'1' : ' ', '2' : 'a', '3' : 'b', '4': 'c', '5' : 'd', '6' : 'e', '7': 'f', '8' : 'g', '9' : 'h', '10': 'i', '11': 'j',\n",
    "'12' : 'k', '13' : 'l', '14': 'm', '15' : 'n', '16' : 'o', '17': 'p', '18' : 'q', '19' : 'r' , '20': 's', '21' : 't', '22'\n",
    ": 'u', '23': 'v', '24' : 'w', '25' : 'x' , '26': 'y', '27' : 'z', '28' : ' ' }\n",
    "dic_inv = {v: k for k, v in dic.items()}\n",
    "dic_inv # les valeurs deviennent les clés et réciproquement"
   ]
  },
  {
   "cell_type": "code",
   "execution_count": 5,
   "metadata": {},
   "outputs": [
    {
     "data": {
      "text/plain": [
       "{' ': '28'}"
      ]
     },
     "execution_count": 5,
     "metadata": {},
     "output_type": "execute_result"
    }
   ],
   "source": [
    "dic = {'1' : ' ', '28' : ' ' }\n",
    "dic_inv = {v: k for k, v in dic.items()}\n",
    "dic_inv"
   ]
  },
  {
   "cell_type": "markdown",
   "metadata": {},
   "source": [
    "##### Attention!! \n",
    "on remarque que la valeur '1' est perdue et sa clé est associée à l'état espace '28'."
   ]
  },
  {
   "cell_type": "markdown",
   "metadata": {},
   "source": [
    "### II. Chaîne de Markov\n",
    "#### 2.a Matrice de transitions"
   ]
  },
  {
   "cell_type": "markdown",
   "metadata": {},
   "source": [
    "'bigramenglish.txt' contient la matrice des transitions pour l’anglais (bigrams) entre deux\n",
    "symboles (caractères ou espaces)."
   ]
  },
  {
   "cell_type": "code",
   "execution_count": 25,
   "metadata": {},
   "outputs": [
    {
     "data": {
      "text/plain": [
       "(28, 28)"
      ]
     },
     "execution_count": 25,
     "metadata": {},
     "output_type": "execute_result"
    }
   ],
   "source": [
    "big_eng = 'bigramenglish.txt'\n",
    "eng = np.loadtxt(big_eng)\n",
    "eng.shape"
   ]
  },
  {
   "cell_type": "markdown",
   "metadata": {},
   "source": [
    "Le terme générique (i,j) de la matrice de transition correspond à la probabilité de transiter vers l’état j à partir de l’état i. \n",
    "\n",
    "La première ligne (1,j) de la matrice de transition correspond à la probabilité de transiter de l'état initial 1 aux autres états j.\n",
    "\n",
    "Les termes de la dernière colonne (i,n) correspondent aux probabilités de passer d'un état i à l'état final n.\n",
    "\n",
    "#### Pour chaque lettre de l’alphabet, indiquer la transition la plus fréquente depuis cette lettre."
   ]
  },
  {
   "cell_type": "code",
   "execution_count": 5,
   "metadata": {},
   "outputs": [
    {
     "data": {
      "text/plain": [
       "['t',\n",
       " 'n',\n",
       " 'e',\n",
       " 'o',\n",
       " ' ',\n",
       " ' ',\n",
       " ' ',\n",
       " ' ',\n",
       " 'e',\n",
       " 'n',\n",
       " 'o',\n",
       " ' ',\n",
       " 'e',\n",
       " 'e',\n",
       " ' ',\n",
       " 'n',\n",
       " 'e',\n",
       " 'u',\n",
       " 'e',\n",
       " ' ',\n",
       " 'h',\n",
       " 'r',\n",
       " 'e',\n",
       " 'a',\n",
       " 't',\n",
       " ' ',\n",
       " 'e',\n",
       " ' ']"
      ]
     },
     "execution_count": 5,
     "metadata": {},
     "output_type": "execute_result"
    }
   ],
   "source": [
    "[dic[str(x+1)] for x in eng.argmax(axis=1)]"
   ]
  },
  {
   "cell_type": "markdown",
   "metadata": {},
   "source": [
    "La lettre la plus fréquente en début de mot est le t.\n",
    "\n",
    "#### I.2.b Générer un mot à partir de l'état initial (espace de début de mot)"
   ]
  },
  {
   "cell_type": "code",
   "execution_count": 26,
   "metadata": {},
   "outputs": [],
   "source": [
    "def etat_suivant(etat_t, mat_transition):\n",
    "    unif = np.random.random()\n",
    "    cs = np.cumsum(mat_transition[int(etat_t)])  # on commence par l'état 1\n",
    "    x = cs > unif\n",
    "    etat_suiv = list(x).index(True)+1\n",
    "    return etat_suiv"
   ]
  },
  {
   "cell_type": "code",
   "execution_count": 27,
   "metadata": {},
   "outputs": [
    {
     "data": {
      "text/plain": [
       "13"
      ]
     },
     "execution_count": 27,
     "metadata": {},
     "output_type": "execute_result"
    }
   ],
   "source": [
    "etat_suivant(1,eng)"
   ]
  },
  {
   "cell_type": "code",
   "execution_count": 16,
   "metadata": {},
   "outputs": [
    {
     "data": {
      "image/png": "[encoded data removed]",
      "text/plain": [
       "<Figure size 432x288 with 1 Axes>"
      ]
     },
     "metadata": {
      "needs_background": "light"
     },
     "output_type": "display_data"
    }
   ],
   "source": [
    "plt.plot(np.cumsum(eng[1]))\n",
    "plt.title('fonction de répartition pour l''état: 2:a')\n",
    "plt.axvline(np.random.random()*28, c='red')\n",
    "plt.show()"
   ]
  },
  {
   "cell_type": "markdown",
   "metadata": {},
   "source": [
    "La fonction de répartition permet de sélectionner l'état suivant à partir d'une variable aléatoire tirée selon une loi uniforme, en choisissant l'état correspondant au segment dans lequel la variable tirée appartient."
   ]
  },
  {
   "cell_type": "code",
   "execution_count": 28,
   "metadata": {},
   "outputs": [
    {
     "data": {
      "text/plain": [
       "15"
      ]
     },
     "execution_count": 28,
     "metadata": {},
     "output_type": "execute_result"
    }
   ],
   "source": [
    "#### Méthode du corrigé\n",
    "\n",
    "def etat_suivant_c(ligne_A):\n",
    "    unif = np.random.random()\n",
    "    cs = np.cumsum(ligne_A)\n",
    "    state = 0\n",
    "    while (unif >= cs[state]):\n",
    "        state = state+1\n",
    "    return state+1\n",
    "etat_suivant_c(eng[1])"
   ]
  },
  {
   "cell_type": "markdown",
   "metadata": {},
   "source": [
    "#### Utiliser cette fonction pour écrire la fonction genere_state_seq qui génère une séquence d’états jusqu’à aboutir à l’état final (28)."
   ]
  },
  {
   "cell_type": "code",
   "execution_count": 29,
   "metadata": {},
   "outputs": [],
   "source": [
    "def genere_state_seq(mat):\n",
    "    state = 1\n",
    "    seq = [state]\n",
    "    while state != 28:\n",
    "        next_state = etat_suivant(state, mat)\n",
    "        seq.append(next_state)\n",
    "        state = next_state\n",
    "    return seq"
   ]
  },
  {
   "cell_type": "code",
   "execution_count": 30,
   "metadata": {},
   "outputs": [
    {
     "data": {
      "text/plain": [
       "[1, 15, 20, 28]"
      ]
     },
     "execution_count": 30,
     "metadata": {},
     "output_type": "execute_result"
    }
   ],
   "source": [
    "genere_state_seq(eng)"
   ]
  },
  {
   "cell_type": "markdown",
   "metadata": {},
   "source": [
    "#### Ecrire une fonction display_seq qui transforme une séquence d’états en séquence de caractères, à l’aide d’un dictionnaire."
   ]
  },
  {
   "cell_type": "code",
   "execution_count": 31,
   "metadata": {},
   "outputs": [],
   "source": [
    "def display_seq(seq_state):\n",
    "    seq_carac = [dic[str(x)] for x in seq_state]\n",
    "    pl = ''.join(seq_carac)\n",
    "    pl = pl.replace(' ','')\n",
    "    return pl"
   ]
  },
  {
   "cell_type": "code",
   "execution_count": 68,
   "metadata": {},
   "outputs": [
    {
     "data": {
      "text/plain": [
       "'lerts'"
      ]
     },
     "execution_count": 68,
     "metadata": {},
     "output_type": "execute_result"
    }
   ],
   "source": [
    "display_seq(genere_state_seq(eng))"
   ]
  },
  {
   "cell_type": "markdown",
   "metadata": {},
   "source": [
    "#### Utiliser ces fonctions pour générer des mots et donner des exemples de mots générés."
   ]
  },
  {
   "cell_type": "code",
   "execution_count": 37,
   "metadata": {},
   "outputs": [
    {
     "name": "stdout",
     "output_type": "stream",
     "text": [
      " tceeaooueiuioe cshnnr nngeaioaae rae trueitf  tshs fhoetpuie ke tnf tshnfo tshloreor nwpuealeor nuealetnf nnueaeeiueoye tnnr d l tlee nveuiae\n"
     ]
    }
   ],
   "source": [
    "mots =''\n",
    "for i in range(20):\n",
    "    mots = mots+' '+display_seq(genere_state_seq(eng))\n",
    "print(mots)"
   ]
  },
  {
   "cell_type": "markdown",
   "metadata": {},
   "source": [
    "### I.2.c Générer une phrase\n",
    "On veut générer une suite de mots (phrase). Créer un état final de phrase (état 29, correspondant au caractère . ) dont la probabilité de transition vers cet état depuis un état final de mot est 0.1. Ecrire une fonction modifie_mat_dic qui modifie la matrice de transition et le dictionnaire en conséquence. Donner des exemples de phrases générées."
   ]
  },
  {
   "cell_type": "code",
   "execution_count": 43,
   "metadata": {},
   "outputs": [],
   "source": [
    "def modifie_mat_dic(mat):\n",
    "    global dic\n",
    "    global dic_inv\n",
    "    global eng\n",
    "    global fr\n",
    "    \n",
    "    dic['29'] = '.'\n",
    "    dic_inv['.'] = '29'\n",
    "    mat = np.c_[mat, np.zeros((28,1))]\n",
    "    mat = np.r_[mat, np.zeros((1,29))]\n",
    "    mat[-2,-1] = 0.1\n",
    "    mat[-2,-2] = 0\n",
    "    mat[-2,0] = 0.9\n",
    "    return mat"
   ]
  },
  {
   "cell_type": "code",
   "execution_count": 51,
   "metadata": {},
   "outputs": [],
   "source": [
    "# def display(seq_state):\n",
    "#     seq_carac = [dic[str(x)] for x in seq_state]\n",
    "#     pl = ''.join(seq_carac)\n",
    "#     pl = pl.replace(' ','')\n",
    "#     pl = pl+'.'\n",
    "#     return pl"
   ]
  },
  {
   "cell_type": "code",
   "execution_count": 55,
   "metadata": {},
   "outputs": [
    {
     "data": {
      "text/plain": [
       "'ioer'"
      ]
     },
     "execution_count": 55,
     "metadata": {},
     "output_type": "execute_result"
    }
   ],
   "source": [
    "display_seq(genere_state_seq(eng))"
   ]
  },
  {
   "cell_type": "code",
   "execution_count": 48,
   "metadata": {},
   "outputs": [],
   "source": [
    "modif_eng = modifie_mat_dic(eng)\n",
    "modif_fr = modifie_mat_dic(fr)"
   ]
  },
  {
   "cell_type": "code",
   "execution_count": 36,
   "metadata": {},
   "outputs": [
    {
     "data": {
      "text/plain": [
       "' asst  hild  wrmalllen  e  pren  wemymilteral  th  emere  th  i  hait  ansty  wonfof  me  fte  is  cof  bed  st  onond  thet  bete  w  spr  whesto  abe  anvindit  t  saveer  e .'"
      ]
     },
     "execution_count": 36,
     "metadata": {},
     "output_type": "execute_result"
    }
   ],
   "source": [
    "display_seq(genere_state_seq(modif_eng))"
   ]
  },
  {
   "cell_type": "markdown",
   "metadata": {},
   "source": [
    "### I.3. Reconnaissance de la langue"
   ]
  },
  {
   "cell_type": "code",
   "execution_count": 45,
   "metadata": {},
   "outputs": [
    {
     "data": {
      "text/plain": [
       "(28, 28)"
      ]
     },
     "execution_count": 45,
     "metadata": {},
     "output_type": "execute_result"
    }
   ],
   "source": [
    "big_fr = 'bigramfrancais.txt'\n",
    "fr = np.loadtxt(big_fr)\n",
    "fr.shape"
   ]
  },
  {
   "cell_type": "code",
   "execution_count": 46,
   "metadata": {},
   "outputs": [
    {
     "data": {
      "text/plain": [
       "[1, 23, 10, 16, 16, 6, 20, 19, 28]"
      ]
     },
     "execution_count": 46,
     "metadata": {},
     "output_type": "execute_result"
    }
   ],
   "source": [
    "genere_state_seq(fr)"
   ]
  },
  {
   "cell_type": "code",
   "execution_count": 63,
   "metadata": {},
   "outputs": [
    {
     "name": "stdout",
     "output_type": "stream",
     "text": [
      "  nr sr ueeuearoroeiioopuueear lmtxs nnnuioefefiuorueorsiefr bioeealefiq pueiaiueigaoaw tieor pueieieikeooarieiueeeo.\n"
     ]
    }
   ],
   "source": [
    "mots =''\n",
    "for i in range(10):\n",
    "    mots = mots+' '+display_seq(genere_state_seq(modif_fr))\n",
    "mots = mots+'.'\n",
    "print(mots)"
   ]
  },
  {
   "cell_type": "code",
   "execution_count": 64,
   "metadata": {},
   "outputs": [
    {
     "data": {
      "text/plain": [
       "'nnnuor.'"
      ]
     },
     "execution_count": 64,
     "metadata": {},
     "output_type": "execute_result"
    }
   ],
   "source": [
    "display(genere_state_seq(modif_fr))"
   ]
  },
  {
   "cell_type": "code",
   "execution_count": 67,
   "metadata": {},
   "outputs": [
    {
     "data": {
      "text/plain": [
       "'pueiz'"
      ]
     },
     "execution_count": 67,
     "metadata": {},
     "output_type": "execute_result"
    }
   ],
   "source": [
    "modif_fr = modifie_mat_dic(fr)\n",
    "display_seq(genere_state_seq(fr))"
   ]
  },
  {
   "cell_type": "code",
   "execution_count": 68,
   "metadata": {},
   "outputs": [
    {
     "data": {
      "text/plain": [
       "{' ': '28',\n",
       " 'a': '2',\n",
       " 'b': '3',\n",
       " 'c': '4',\n",
       " 'd': '5',\n",
       " 'e': '6',\n",
       " 'f': '7',\n",
       " 'g': '8',\n",
       " 'h': '9',\n",
       " 'i': '10',\n",
       " 'j': '11',\n",
       " 'k': '12',\n",
       " 'l': '13',\n",
       " 'm': '14',\n",
       " 'n': '15',\n",
       " 'o': '16',\n",
       " 'p': '17',\n",
       " 'q': '18',\n",
       " 'r': '19',\n",
       " 's': '20',\n",
       " 't': '21',\n",
       " 'u': '22',\n",
       " 'v': '23',\n",
       " 'w': '24',\n",
       " 'x': '25',\n",
       " 'y': '26',\n",
       " 'z': '27',\n",
       " '.': '29'}"
      ]
     },
     "execution_count": 68,
     "metadata": {},
     "output_type": "execute_result"
    }
   ],
   "source": [
    "dic2 ={1 : '+', 2 : 'a', 3 : 'b',4: 'c',5 : 'd',6 : 'e',7: 'f',8 : 'g',9 : 'h',10: 'i',11: 'j',12 : 'k',13 : 'l', 14: 'm', 15 : 'n', 16 : 'o', 17: 'p', 18 : 'q', 19 : 'r' , 20: 's', 21 : 't', 22 : 'u', 23: 'v', 24 : 'w',25 : 'x' , 26: 'y', 27 : 'z', 28 : '-', 29 : '.'}\n",
    "dic2_inv = {v: k for k, v in dic.items()}\n",
    "dic2_inv"
   ]
  },
  {
   "cell_type": "code",
   "execution_count": 69,
   "metadata": {},
   "outputs": [],
   "source": [
    "def calc_vraisemblance(dic, seq, mat):\n",
    "    seq = '-'+seq.replace(' ','+-')+'+.'\n",
    "    p = 1\n",
    "    dic_inv = {v: k for k, v in dic.items()}\n",
    "    seq1 = [dic_inv[x] for x in seq] \n",
    "    \n",
    "    for i,j in list(zip(seq1[:-1], seq1[1:])):\n",
    "        #if (mat[int(i)-1].any() !=0 and mat[int(j)-1].any() !=0):\n",
    "        print(mat[int(i)-1])\n",
    "        print(mat[int(j)-1])\n",
    "        p*=mat[int(i)-1,int(j)-1]\n",
    "    return p"
   ]
  },
  {
   "cell_type": "code",
   "execution_count": 70,
   "metadata": {},
   "outputs": [
    {
     "name": "stdout",
     "output_type": "stream",
     "text": [
      "[0.9 0.  0.  0.  0.  0.  0.  0.  0.  0.  0.  0.  0.  0.  0.  0.  0.  0.\n",
      " 0.  0.  0.  0.  0.  0.  0.  0.  0.  0.  0.1]\n",
      "[0.0000000e+00 3.5948616e-02 1.2569446e-05 3.7708339e-03 1.2569446e-04\n",
      " 8.4466678e-02 5.0277785e-04 1.2569446e-05 3.3937505e-01 8.9494457e-02\n",
      " 1.2569446e-05 1.2569446e-05 1.3072224e-02 1.0055557e-03 1.5083335e-03\n",
      " 8.8865985e-02 1.2569446e-04 1.2569446e-05 3.0418060e-02 2.0613892e-02\n",
      " 1.9482642e-02 1.8602780e-02 1.2569446e-05 9.0500013e-03 1.2569446e-05\n",
      " 2.0739586e-02 1.2569446e-05 2.2273059e-01 0.0000000e+00]\n",
      "[0.0000000e+00 3.5948616e-02 1.2569446e-05 3.7708339e-03 1.2569446e-04\n",
      " 8.4466678e-02 5.0277785e-04 1.2569446e-05 3.3937505e-01 8.9494457e-02\n",
      " 1.2569446e-05 1.2569446e-05 1.3072224e-02 1.0055557e-03 1.5083335e-03\n",
      " 8.8865985e-02 1.2569446e-04 1.2569446e-05 3.0418060e-02 2.0613892e-02\n",
      " 1.9482642e-02 1.8602780e-02 1.2569446e-05 9.0500013e-03 1.2569446e-05\n",
      " 2.0739586e-02 1.2569446e-05 2.2273059e-01 0.0000000e+00]\n",
      "[0.0000000e+00 7.3598497e-03 1.0335108e-02 1.4406514e-02 1.6598810e-02\n",
      " 3.7582211e-03 1.2809270e-01 8.2994049e-03 3.7582211e-03 5.6373317e-03\n",
      " 1.5659255e-04 5.7939242e-03 3.4920138e-02 6.5455684e-02 1.6035077e-01\n",
      " 2.7247103e-02 1.5972440e-02 1.5659255e-04 1.1540871e-01 2.6150955e-02\n",
      " 4.6664579e-02 1.1556530e-01 1.9260883e-02 3.3823990e-02 2.0357031e-03\n",
      " 9.5521453e-03 1.5659255e-04 1.2308174e-01 0.0000000e+00]\n",
      "[0.0000000e+00 7.3598497e-03 1.0335108e-02 1.4406514e-02 1.6598810e-02\n",
      " 3.7582211e-03 1.2809270e-01 8.2994049e-03 3.7582211e-03 5.6373317e-03\n",
      " 1.5659255e-04 5.7939242e-03 3.4920138e-02 6.5455684e-02 1.6035077e-01\n",
      " 2.7247103e-02 1.5972440e-02 1.5659255e-04 1.1540871e-01 2.6150955e-02\n",
      " 4.6664579e-02 1.1556530e-01 1.9260883e-02 3.3823990e-02 2.0357031e-03\n",
      " 9.5521453e-03 1.5659255e-04 1.2308174e-01 0.0000000e+00]\n",
      "[0.0000000e+00 1.1268720e-01 4.3608943e-02 4.5454545e-02 3.2904451e-02\n",
      " 2.2094495e-02 4.1763341e-02 1.5555790e-02 6.4437882e-02 6.8920059e-02\n",
      " 3.6384729e-03 4.2185193e-03 2.3465514e-02 3.9759544e-02 2.2832736e-02\n",
      " 7.0343809e-02 3.1058848e-02 1.4237503e-03 2.5680236e-02 6.6916262e-02\n",
      " 1.6452225e-01 1.0388104e-02 7.0660198e-03 7.0502004e-02 1.0546298e-04\n",
      " 1.0599030e-02 5.2731491e-05 0.0000000e+00 0.0000000e+00]\n",
      "[0.0000000e+00 1.1268720e-01 4.3608943e-02 4.5454545e-02 3.2904451e-02\n",
      " 2.2094495e-02 4.1763341e-02 1.5555790e-02 6.4437882e-02 6.8920059e-02\n",
      " 3.6384729e-03 4.2185193e-03 2.3465514e-02 3.9759544e-02 2.2832736e-02\n",
      " 7.0343809e-02 3.1058848e-02 1.4237503e-03 2.5680236e-02 6.6916262e-02\n",
      " 1.6452225e-01 1.0388104e-02 7.0660198e-03 7.0502004e-02 1.0546298e-04\n",
      " 1.0599030e-02 5.2731491e-05 0.0000000e+00 0.0000000e+00]\n",
      "[0.9 0.  0.  0.  0.  0.  0.  0.  0.  0.  0.  0.  0.  0.  0.  0.  0.  0.\n",
      " 0.  0.  0.  0.  0.  0.  0.  0.  0.  0.  0.1]\n",
      "[0.9 0.  0.  0.  0.  0.  0.  0.  0.  0.  0.  0.  0.  0.  0.  0.  0.  0.\n",
      " 0.  0.  0.  0.  0.  0.  0.  0.  0.  0.  0.1]\n",
      "[0.0000000e+00 7.1874260e-02 7.8982703e-04 7.8982703e-05 7.8982703e-04\n",
      " 2.8275808e-01 7.8982703e-05 7.8982703e-05 7.8982703e-05 7.0294605e-02\n",
      " 7.8982703e-03 7.8982703e-05 1.2084354e-01 2.3694811e-03 7.8982703e-05\n",
      " 1.2637232e-01 7.8982703e-05 7.8982703e-05 4.7389622e-02 1.5006714e-02\n",
      " 1.0267751e-02 1.2716215e-01 1.5796541e-03 7.8982703e-05 7.8982703e-05\n",
      " 1.0662665e-01 7.8982703e-05 7.1084433e-03 0.0000000e+00]\n",
      "[0.0000000e+00 7.1874260e-02 7.8982703e-04 7.8982703e-05 7.8982703e-04\n",
      " 2.8275808e-01 7.8982703e-05 7.8982703e-05 7.8982703e-05 7.0294605e-02\n",
      " 7.8982703e-03 7.8982703e-05 1.2084354e-01 2.3694811e-03 7.8982703e-05\n",
      " 1.2637232e-01 7.8982703e-05 7.8982703e-05 4.7389622e-02 1.5006714e-02\n",
      " 1.0267751e-02 1.2716215e-01 1.5796541e-03 7.8982703e-05 7.8982703e-05\n",
      " 1.0662665e-01 7.8982703e-05 7.1084433e-03 0.0000000e+00]\n",
      "[0.0000000e+00 4.5607163e-02 3.1710502e-03 1.8653236e-02 7.8063794e-02\n",
      " 2.7979855e-02 9.6064167e-03 7.1814960e-03 1.6787913e-03 1.6041783e-02\n",
      " 2.7979855e-04 9.3266182e-04 3.0777840e-02 2.6207797e-02 8.6737549e-02\n",
      " 2.1451222e-03 1.0818877e-02 3.0777840e-03 1.2562955e-01 7.2094758e-02\n",
      " 2.3316545e-02 4.6633091e-04 1.6601380e-02 8.8602873e-03 8.3939564e-03\n",
      " 1.5109121e-02 9.3266182e-05 3.6047379e-01 0.0000000e+00]\n",
      "[0.0000000e+00 4.5607163e-02 3.1710502e-03 1.8653236e-02 7.8063794e-02\n",
      " 2.7979855e-02 9.6064167e-03 7.1814960e-03 1.6787913e-03 1.6041783e-02\n",
      " 2.7979855e-04 9.3266182e-04 3.0777840e-02 2.6207797e-02 8.6737549e-02\n",
      " 2.1451222e-03 1.0818877e-02 3.0777840e-03 1.2562955e-01 7.2094758e-02\n",
      " 2.3316545e-02 4.6633091e-04 1.6601380e-02 8.8602873e-03 8.3939564e-03\n",
      " 1.5109121e-02 9.3266182e-05 3.6047379e-01 0.0000000e+00]\n",
      "[0.0000000e+00 1.1268720e-01 4.3608943e-02 4.5454545e-02 3.2904451e-02\n",
      " 2.2094495e-02 4.1763341e-02 1.5555790e-02 6.4437882e-02 6.8920059e-02\n",
      " 3.6384729e-03 4.2185193e-03 2.3465514e-02 3.9759544e-02 2.2832736e-02\n",
      " 7.0343809e-02 3.1058848e-02 1.4237503e-03 2.5680236e-02 6.6916262e-02\n",
      " 1.6452225e-01 1.0388104e-02 7.0660198e-03 7.0502004e-02 1.0546298e-04\n",
      " 1.0599030e-02 5.2731491e-05 0.0000000e+00 0.0000000e+00]\n",
      "[0.0000000e+00 1.1268720e-01 4.3608943e-02 4.5454545e-02 3.2904451e-02\n",
      " 2.2094495e-02 4.1763341e-02 1.5555790e-02 6.4437882e-02 6.8920059e-02\n",
      " 3.6384729e-03 4.2185193e-03 2.3465514e-02 3.9759544e-02 2.2832736e-02\n",
      " 7.0343809e-02 3.1058848e-02 1.4237503e-03 2.5680236e-02 6.6916262e-02\n",
      " 1.6452225e-01 1.0388104e-02 7.0660198e-03 7.0502004e-02 1.0546298e-04\n",
      " 1.0599030e-02 5.2731491e-05 0.0000000e+00 0.0000000e+00]\n",
      "[0.9 0.  0.  0.  0.  0.  0.  0.  0.  0.  0.  0.  0.  0.  0.  0.  0.  0.\n",
      " 0.  0.  0.  0.  0.  0.  0.  0.  0.  0.  0.1]\n",
      "[0.9 0.  0.  0.  0.  0.  0.  0.  0.  0.  0.  0.  0.  0.  0.  0.  0.  0.\n",
      " 0.  0.  0.  0.  0.  0.  0.  0.  0.  0.  0.1]\n",
      "[0.0000000e+00 7.3598497e-03 1.0335108e-02 1.4406514e-02 1.6598810e-02\n",
      " 3.7582211e-03 1.2809270e-01 8.2994049e-03 3.7582211e-03 5.6373317e-03\n",
      " 1.5659255e-04 5.7939242e-03 3.4920138e-02 6.5455684e-02 1.6035077e-01\n",
      " 2.7247103e-02 1.5972440e-02 1.5659255e-04 1.1540871e-01 2.6150955e-02\n",
      " 4.6664579e-02 1.1556530e-01 1.9260883e-02 3.3823990e-02 2.0357031e-03\n",
      " 9.5521453e-03 1.5659255e-04 1.2308174e-01 0.0000000e+00]\n",
      "[0.0000000e+00 7.3598497e-03 1.0335108e-02 1.4406514e-02 1.6598810e-02\n",
      " 3.7582211e-03 1.2809270e-01 8.2994049e-03 3.7582211e-03 5.6373317e-03\n",
      " 1.5659255e-04 5.7939242e-03 3.4920138e-02 6.5455684e-02 1.6035077e-01\n",
      " 2.7247103e-02 1.5972440e-02 1.5659255e-04 1.1540871e-01 2.6150955e-02\n",
      " 4.6664579e-02 1.1556530e-01 1.9260883e-02 3.3823990e-02 2.0357031e-03\n",
      " 9.5521453e-03 1.5659255e-04 1.2308174e-01 0.0000000e+00]\n",
      "[0.0000000e+00 8.0811621e-02 7.7890719e-04 1.4020329e-02 1.9862133e-02\n",
      " 2.4477159e-01 2.1419948e-03 1.0515247e-02 2.5314484e-03 9.5026678e-02\n",
      " 1.9472680e-05 1.3436149e-02 9.9310667e-03 1.5772871e-02 2.5119757e-02\n",
      " 9.2105776e-02 2.1419948e-03 1.9472680e-05 1.2657242e-02 4.9460607e-02\n",
      " 3.7387545e-02 1.4604510e-02 6.2312575e-03 2.1419948e-03 1.9472680e-05\n",
      " 3.7582272e-02 1.9472680e-05 2.1088912e-01 0.0000000e+00]\n",
      "[0.0000000e+00 8.0811621e-02 7.7890719e-04 1.4020329e-02 1.9862133e-02\n",
      " 2.4477159e-01 2.1419948e-03 1.0515247e-02 2.5314484e-03 9.5026678e-02\n",
      " 1.9472680e-05 1.3436149e-02 9.9310667e-03 1.5772871e-02 2.5119757e-02\n",
      " 9.2105776e-02 2.1419948e-03 1.9472680e-05 1.2657242e-02 4.9460607e-02\n",
      " 3.7387545e-02 1.4604510e-02 6.2312575e-03 2.1419948e-03 1.9472680e-05\n",
      " 3.7582272e-02 1.9472680e-05 2.1088912e-01 0.0000000e+00]\n",
      "[0.0000000e+00 1.1268720e-01 4.3608943e-02 4.5454545e-02 3.2904451e-02\n",
      " 2.2094495e-02 4.1763341e-02 1.5555790e-02 6.4437882e-02 6.8920059e-02\n",
      " 3.6384729e-03 4.2185193e-03 2.3465514e-02 3.9759544e-02 2.2832736e-02\n",
      " 7.0343809e-02 3.1058848e-02 1.4237503e-03 2.5680236e-02 6.6916262e-02\n",
      " 1.6452225e-01 1.0388104e-02 7.0660198e-03 7.0502004e-02 1.0546298e-04\n",
      " 1.0599030e-02 5.2731491e-05 0.0000000e+00 0.0000000e+00]\n",
      "[0.0000000e+00 1.1268720e-01 4.3608943e-02 4.5454545e-02 3.2904451e-02\n",
      " 2.2094495e-02 4.1763341e-02 1.5555790e-02 6.4437882e-02 6.8920059e-02\n",
      " 3.6384729e-03 4.2185193e-03 2.3465514e-02 3.9759544e-02 2.2832736e-02\n",
      " 7.0343809e-02 3.1058848e-02 1.4237503e-03 2.5680236e-02 6.6916262e-02\n",
      " 1.6452225e-01 1.0388104e-02 7.0660198e-03 7.0502004e-02 1.0546298e-04\n",
      " 1.0599030e-02 5.2731491e-05 0.0000000e+00 0.0000000e+00]\n",
      "[0.9 0.  0.  0.  0.  0.  0.  0.  0.  0.  0.  0.  0.  0.  0.  0.  0.  0.\n",
      " 0.  0.  0.  0.  0.  0.  0.  0.  0.  0.  0.1]\n",
      "[0.9 0.  0.  0.  0.  0.  0.  0.  0.  0.  0.  0.  0.  0.  0.  0.  0.  0.\n",
      " 0.  0.  0.  0.  0.  0.  0.  0.  0.  0.  0.1]\n",
      "[0.0000000e+00 2.5854592e-02 3.2727332e-04 3.6000065e-02 1.5807301e-01\n",
      " 8.6727430e-02 6.8727398e-03 1.0309110e-01 6.5454664e-04 3.3054606e-02\n",
      " 1.9636399e-03 9.4909263e-03 7.0363764e-03 8.1818331e-04 7.2000131e-03\n",
      " 5.2854642e-02 1.6363666e-04 3.2727332e-04 3.2727332e-04 4.9909182e-02\n",
      " 1.0047291e-01 5.2363732e-03 4.9090998e-03 1.6363666e-04 8.1818331e-04\n",
      " 1.3418206e-02 1.6363666e-05 2.9421872e-01 0.0000000e+00]\n",
      "[0.0000000e+00 2.5854592e-02 3.2727332e-04 3.6000065e-02 1.5807301e-01\n",
      " 8.6727430e-02 6.8727398e-03 1.0309110e-01 6.5454664e-04 3.3054606e-02\n",
      " 1.9636399e-03 9.4909263e-03 7.0363764e-03 8.1818331e-04 7.2000131e-03\n",
      " 5.2854642e-02 1.6363666e-04 3.2727332e-04 3.2727332e-04 4.9909182e-02\n",
      " 1.0047291e-01 5.2363732e-03 4.9090998e-03 1.6363666e-04 8.1818331e-04\n",
      " 1.3418206e-02 1.6363666e-05 2.9421872e-01 0.0000000e+00]\n",
      "[0.0000000e+00 7.3598497e-03 1.0335108e-02 1.4406514e-02 1.6598810e-02\n",
      " 3.7582211e-03 1.2809270e-01 8.2994049e-03 3.7582211e-03 5.6373317e-03\n",
      " 1.5659255e-04 5.7939242e-03 3.4920138e-02 6.5455684e-02 1.6035077e-01\n",
      " 2.7247103e-02 1.5972440e-02 1.5659255e-04 1.1540871e-01 2.6150955e-02\n",
      " 4.6664579e-02 1.1556530e-01 1.9260883e-02 3.3823990e-02 2.0357031e-03\n",
      " 9.5521453e-03 1.5659255e-04 1.2308174e-01 0.0000000e+00]\n",
      "[0.0000000e+00 7.3598497e-03 1.0335108e-02 1.4406514e-02 1.6598810e-02\n",
      " 3.7582211e-03 1.2809270e-01 8.2994049e-03 3.7582211e-03 5.6373317e-03\n",
      " 1.5659255e-04 5.7939242e-03 3.4920138e-02 6.5455684e-02 1.6035077e-01\n",
      " 2.7247103e-02 1.5972440e-02 1.5659255e-04 1.1540871e-01 2.6150955e-02\n",
      " 4.6664579e-02 1.1556530e-01 1.9260883e-02 3.3823990e-02 2.0357031e-03\n",
      " 9.5521453e-03 1.5659255e-04 1.2308174e-01 0.0000000e+00]\n",
      "[0.0000000e+00 3.5948616e-02 1.2569446e-05 3.7708339e-03 1.2569446e-04\n",
      " 8.4466678e-02 5.0277785e-04 1.2569446e-05 3.3937505e-01 8.9494457e-02\n",
      " 1.2569446e-05 1.2569446e-05 1.3072224e-02 1.0055557e-03 1.5083335e-03\n",
      " 8.8865985e-02 1.2569446e-04 1.2569446e-05 3.0418060e-02 2.0613892e-02\n",
      " 1.9482642e-02 1.8602780e-02 1.2569446e-05 9.0500013e-03 1.2569446e-05\n",
      " 2.0739586e-02 1.2569446e-05 2.2273059e-01 0.0000000e+00]\n",
      "[0.0000000e+00 3.5948616e-02 1.2569446e-05 3.7708339e-03 1.2569446e-04\n",
      " 8.4466678e-02 5.0277785e-04 1.2569446e-05 3.3937505e-01 8.9494457e-02\n",
      " 1.2569446e-05 1.2569446e-05 1.3072224e-02 1.0055557e-03 1.5083335e-03\n",
      " 8.8865985e-02 1.2569446e-04 1.2569446e-05 3.0418060e-02 2.0613892e-02\n",
      " 1.9482642e-02 1.8602780e-02 1.2569446e-05 9.0500013e-03 1.2569446e-05\n",
      " 2.0739586e-02 1.2569446e-05 2.2273059e-01 0.0000000e+00]\n",
      "[0.0000000e+00 1.1268720e-01 4.3608943e-02 4.5454545e-02 3.2904451e-02\n",
      " 2.2094495e-02 4.1763341e-02 1.5555790e-02 6.4437882e-02 6.8920059e-02\n",
      " 3.6384729e-03 4.2185193e-03 2.3465514e-02 3.9759544e-02 2.2832736e-02\n",
      " 7.0343809e-02 3.1058848e-02 1.4237503e-03 2.5680236e-02 6.6916262e-02\n",
      " 1.6452225e-01 1.0388104e-02 7.0660198e-03 7.0502004e-02 1.0546298e-04\n",
      " 1.0599030e-02 5.2731491e-05 0.0000000e+00 0.0000000e+00]\n",
      "[0.0000000e+00 1.1268720e-01 4.3608943e-02 4.5454545e-02 3.2904451e-02\n",
      " 2.2094495e-02 4.1763341e-02 1.5555790e-02 6.4437882e-02 6.8920059e-02\n",
      " 3.6384729e-03 4.2185193e-03 2.3465514e-02 3.9759544e-02 2.2832736e-02\n",
      " 7.0343809e-02 3.1058848e-02 1.4237503e-03 2.5680236e-02 6.6916262e-02\n",
      " 1.6452225e-01 1.0388104e-02 7.0660198e-03 7.0502004e-02 1.0546298e-04\n",
      " 1.0599030e-02 5.2731491e-05 0.0000000e+00 0.0000000e+00]\n",
      "[0.9 0.  0.  0.  0.  0.  0.  0.  0.  0.  0.  0.  0.  0.  0.  0.  0.  0.\n",
      " 0.  0.  0.  0.  0.  0.  0.  0.  0.  0.  0.1]\n",
      "[0.9 0.  0.  0.  0.  0.  0.  0.  0.  0.  0.  0.  0.  0.  0.  0.  0.  0.\n",
      " 0.  0.  0.  0.  0.  0.  0.  0.  0.  0.  0.1]\n",
      "[0.0000000e+00 3.5948616e-02 1.2569446e-05 3.7708339e-03 1.2569446e-04\n",
      " 8.4466678e-02 5.0277785e-04 1.2569446e-05 3.3937505e-01 8.9494457e-02\n",
      " 1.2569446e-05 1.2569446e-05 1.3072224e-02 1.0055557e-03 1.5083335e-03\n",
      " 8.8865985e-02 1.2569446e-04 1.2569446e-05 3.0418060e-02 2.0613892e-02\n",
      " 1.9482642e-02 1.8602780e-02 1.2569446e-05 9.0500013e-03 1.2569446e-05\n",
      " 2.0739586e-02 1.2569446e-05 2.2273059e-01 0.0000000e+00]\n",
      "[0.0000000e+00 3.5948616e-02 1.2569446e-05 3.7708339e-03 1.2569446e-04\n",
      " 8.4466678e-02 5.0277785e-04 1.2569446e-05 3.3937505e-01 8.9494457e-02\n",
      " 1.2569446e-05 1.2569446e-05 1.3072224e-02 1.0055557e-03 1.5083335e-03\n",
      " 8.8865985e-02 1.2569446e-04 1.2569446e-05 3.0418060e-02 2.0613892e-02\n",
      " 1.9482642e-02 1.8602780e-02 1.2569446e-05 9.0500013e-03 1.2569446e-05\n",
      " 2.0739586e-02 1.2569446e-05 2.2273059e-01 0.0000000e+00]\n",
      "[0.0000000e+00 7.3598497e-03 1.0335108e-02 1.4406514e-02 1.6598810e-02\n",
      " 3.7582211e-03 1.2809270e-01 8.2994049e-03 3.7582211e-03 5.6373317e-03\n",
      " 1.5659255e-04 5.7939242e-03 3.4920138e-02 6.5455684e-02 1.6035077e-01\n",
      " 2.7247103e-02 1.5972440e-02 1.5659255e-04 1.1540871e-01 2.6150955e-02\n",
      " 4.6664579e-02 1.1556530e-01 1.9260883e-02 3.3823990e-02 2.0357031e-03\n",
      " 9.5521453e-03 1.5659255e-04 1.2308174e-01 0.0000000e+00]\n",
      "[0.0000000e+00 7.3598497e-03 1.0335108e-02 1.4406514e-02 1.6598810e-02\n",
      " 3.7582211e-03 1.2809270e-01 8.2994049e-03 3.7582211e-03 5.6373317e-03\n",
      " 1.5659255e-04 5.7939242e-03 3.4920138e-02 6.5455684e-02 1.6035077e-01\n",
      " 2.7247103e-02 1.5972440e-02 1.5659255e-04 1.1540871e-01 2.6150955e-02\n",
      " 4.6664579e-02 1.1556530e-01 1.9260883e-02 3.3823990e-02 2.0357031e-03\n",
      " 9.5521453e-03 1.5659255e-04 1.2308174e-01 0.0000000e+00]\n",
      "[0.0000000e+00 1.1268720e-01 4.3608943e-02 4.5454545e-02 3.2904451e-02\n",
      " 2.2094495e-02 4.1763341e-02 1.5555790e-02 6.4437882e-02 6.8920059e-02\n",
      " 3.6384729e-03 4.2185193e-03 2.3465514e-02 3.9759544e-02 2.2832736e-02\n",
      " 7.0343809e-02 3.1058848e-02 1.4237503e-03 2.5680236e-02 6.6916262e-02\n",
      " 1.6452225e-01 1.0388104e-02 7.0660198e-03 7.0502004e-02 1.0546298e-04\n",
      " 1.0599030e-02 5.2731491e-05 0.0000000e+00 0.0000000e+00]\n",
      "[0.0000000e+00 1.1268720e-01 4.3608943e-02 4.5454545e-02 3.2904451e-02\n",
      " 2.2094495e-02 4.1763341e-02 1.5555790e-02 6.4437882e-02 6.8920059e-02\n",
      " 3.6384729e-03 4.2185193e-03 2.3465514e-02 3.9759544e-02 2.2832736e-02\n",
      " 7.0343809e-02 3.1058848e-02 1.4237503e-03 2.5680236e-02 6.6916262e-02\n",
      " 1.6452225e-01 1.0388104e-02 7.0660198e-03 7.0502004e-02 1.0546298e-04\n",
      " 1.0599030e-02 5.2731491e-05 0.0000000e+00 0.0000000e+00]\n",
      "[0.9 0.  0.  0.  0.  0.  0.  0.  0.  0.  0.  0.  0.  0.  0.  0.  0.  0.\n",
      " 0.  0.  0.  0.  0.  0.  0.  0.  0.  0.  0.1]\n",
      "[0.9 0.  0.  0.  0.  0.  0.  0.  0.  0.  0.  0.  0.  0.  0.  0.  0.  0.\n",
      " 0.  0.  0.  0.  0.  0.  0.  0.  0.  0.  0.1]\n",
      "[0.0000000e+00 7.1874260e-02 7.8982703e-04 7.8982703e-05 7.8982703e-04\n",
      " 2.8275808e-01 7.8982703e-05 7.8982703e-05 7.8982703e-05 7.0294605e-02\n",
      " 7.8982703e-03 7.8982703e-05 1.2084354e-01 2.3694811e-03 7.8982703e-05\n",
      " 1.2637232e-01 7.8982703e-05 7.8982703e-05 4.7389622e-02 1.5006714e-02\n",
      " 1.0267751e-02 1.2716215e-01 1.5796541e-03 7.8982703e-05 7.8982703e-05\n",
      " 1.0662665e-01 7.8982703e-05 7.1084433e-03 0.0000000e+00]\n",
      "[0.0000000e+00 7.1874260e-02 7.8982703e-04 7.8982703e-05 7.8982703e-04\n",
      " 2.8275808e-01 7.8982703e-05 7.8982703e-05 7.8982703e-05 7.0294605e-02\n",
      " 7.8982703e-03 7.8982703e-05 1.2084354e-01 2.3694811e-03 7.8982703e-05\n",
      " 1.2637232e-01 7.8982703e-05 7.8982703e-05 4.7389622e-02 1.5006714e-02\n",
      " 1.0267751e-02 1.2716215e-01 1.5796541e-03 7.8982703e-05 7.8982703e-05\n",
      " 1.0662665e-01 7.8982703e-05 7.1084433e-03 0.0000000e+00]\n",
      "[0.0000000e+00 4.5607163e-02 3.1710502e-03 1.8653236e-02 7.8063794e-02\n",
      " 2.7979855e-02 9.6064167e-03 7.1814960e-03 1.6787913e-03 1.6041783e-02\n",
      " 2.7979855e-04 9.3266182e-04 3.0777840e-02 2.6207797e-02 8.6737549e-02\n",
      " 2.1451222e-03 1.0818877e-02 3.0777840e-03 1.2562955e-01 7.2094758e-02\n",
      " 2.3316545e-02 4.6633091e-04 1.6601380e-02 8.8602873e-03 8.3939564e-03\n",
      " 1.5109121e-02 9.3266182e-05 3.6047379e-01 0.0000000e+00]\n",
      "[0.0000000e+00 4.5607163e-02 3.1710502e-03 1.8653236e-02 7.8063794e-02\n",
      " 2.7979855e-02 9.6064167e-03 7.1814960e-03 1.6787913e-03 1.6041783e-02\n",
      " 2.7979855e-04 9.3266182e-04 3.0777840e-02 2.6207797e-02 8.6737549e-02\n",
      " 2.1451222e-03 1.0818877e-02 3.0777840e-03 1.2562955e-01 7.2094758e-02\n",
      " 2.3316545e-02 4.6633091e-04 1.6601380e-02 8.8602873e-03 8.3939564e-03\n",
      " 1.5109121e-02 9.3266182e-05 3.6047379e-01 0.0000000e+00]\n",
      "[0.0000000e+00 1.1268720e-01 4.3608943e-02 4.5454545e-02 3.2904451e-02\n",
      " 2.2094495e-02 4.1763341e-02 1.5555790e-02 6.4437882e-02 6.8920059e-02\n",
      " 3.6384729e-03 4.2185193e-03 2.3465514e-02 3.9759544e-02 2.2832736e-02\n",
      " 7.0343809e-02 3.1058848e-02 1.4237503e-03 2.5680236e-02 6.6916262e-02\n",
      " 1.6452225e-01 1.0388104e-02 7.0660198e-03 7.0502004e-02 1.0546298e-04\n",
      " 1.0599030e-02 5.2731491e-05 0.0000000e+00 0.0000000e+00]\n",
      "[0.0000000e+00 1.1268720e-01 4.3608943e-02 4.5454545e-02 3.2904451e-02\n",
      " 2.2094495e-02 4.1763341e-02 1.5555790e-02 6.4437882e-02 6.8920059e-02\n",
      " 3.6384729e-03 4.2185193e-03 2.3465514e-02 3.9759544e-02 2.2832736e-02\n",
      " 7.0343809e-02 3.1058848e-02 1.4237503e-03 2.5680236e-02 6.6916262e-02\n",
      " 1.6452225e-01 1.0388104e-02 7.0660198e-03 7.0502004e-02 1.0546298e-04\n",
      " 1.0599030e-02 5.2731491e-05 0.0000000e+00 0.0000000e+00]\n",
      "[0. 0. 0. 0. 0. 0. 0. 0. 0. 0. 0. 0. 0. 0. 0. 0. 0. 0. 0. 0. 0. 0. 0. 0.\n",
      " 0. 0. 0. 0. 0.]\n"
     ]
    },
    {
     "data": {
      "text/plain": [
       "0.0"
      ]
     },
     "execution_count": 70,
     "metadata": {},
     "output_type": "execute_result"
    }
   ],
   "source": [
    "calc_vraisemblance(dic2, 'to be or not to be', modif_eng)"
   ]
  },
  {
   "cell_type": "markdown",
   "metadata": {},
   "source": [
    "On remarque que la multiplication de probabibilité nulle va annuler à un moment la probabilité finale, on décide de procéder comme suit:"
   ]
  },
  {
   "cell_type": "code",
   "execution_count": 71,
   "metadata": {},
   "outputs": [],
   "source": [
    "def calc_vraisemblance(dic, eng, fr, seq) :\n",
    "    p_eng = 1\n",
    "    p_fr = 1\n",
    "    ke = 0\n",
    "    \n",
    "    for l in seq :\n",
    "        kf = [k for k, v in dic.items() if v == l][0] - 1   #on s'arrête à l'index 29 d'ou le -1\n",
    "\n",
    "        p_eng = p_eng * eng[ke, kf]\n",
    "        p_fr = p_fr * fr[ke, kf]\n",
    "\n",
    "        ke = [k for k, v in dic.items() if v == l][0] - 1  #on s'arrête à l'index 29 d'ou le -1\n",
    "    \n",
    "    if p_eng > p_fr :\n",
    "        print(\"It's English !\")\n",
    "    else :\n",
    "        print(\"c'est en Français!\") \n",
    "    return p_eng, p_fr"
   ]
  },
  {
   "cell_type": "code",
   "execution_count": 72,
   "metadata": {},
   "outputs": [
    {
     "name": "stdout",
     "output_type": "stream",
     "text": [
      "c'est en Français!\n"
     ]
    },
    {
     "data": {
      "text/plain": [
       "(4.462288711775253e-24, 1.145706887234789e-19)"
      ]
     },
     "execution_count": 72,
     "metadata": {},
     "output_type": "execute_result"
    }
   ],
   "source": [
    "calc_vraisemblance(dic2, modif_eng, modif_fr, 'etre-+ou-+ne-+pas-+etre-.')"
   ]
  },
  {
   "cell_type": "code",
   "execution_count": 73,
   "metadata": {},
   "outputs": [
    {
     "name": "stdout",
     "output_type": "stream",
     "text": [
      "It's English !\n"
     ]
    },
    {
     "data": {
      "text/plain": [
       "(8.112892227809415e-20, 5.9602081018686406e-30)"
      ]
     },
     "execution_count": 73,
     "metadata": {},
     "output_type": "execute_result"
    }
   ],
   "source": [
    "calc_vraisemblance(dic2, modif_eng, modif_fr, 'to-+be-+or-+not-+to-+be-.')"
   ]
  },
  {
   "cell_type": "markdown",
   "metadata": {},
   "source": [
    "### HMM\n",
    "L’objectif de cette partie est de générer des séquences d’observations suivant un modèle de Markov Caché donné, puis de calculer la vraisemblance d’une séquence d’observations suivant un modèle de Markov Caché donné.\n",
    "\n",
    "Le modèle de Markov est de type discret. Les classes de caractères (classes 0, 1, 7) sont modélisées chacune par un modèle à Q=5 états de type gauche-droite. Les états 1 et 5 correspondent à des colonnes de pixels de type fond de l’image (niveau 0). Les états 2, 3 et 4 correspondent au début, milieu et fin du caractère respectivement. Les transitions entre états sont indiquées dans la matrice de transitions A de taille QxQ. Les vecteurs π sont tous égaux à π=(1 0 0 0 0). Les séquences d’états commencent donc toujours par l’état q 1 =1.\n",
    "\n",
    "Les séquences d’observations sont discrètes et issues d’images de chiffres de la base MNIST.\n",
    "Les séquences d’observations consistent en séquences d’index (symboles) des éléments du dictionnaire. \n",
    "\n",
    "L’élément numéro i d’une séquence d’observations correspond au\n",
    "symbole i et donc à la colonne i de la matrice v. Un symbole correspond à une configuration\n",
    "de colonne de 5 pixels (binaires : noir/blanc). Il y a 2 5 =32 configurations, et donc symboles\n",
    "possibles.\n",
    "\n",
    "Les probabilités des observations dans chaque état sont indiquées dans la matrice B (32\n",
    "lignes, 5 colonnes)."
   ]
  },
  {
   "cell_type": "code",
   "execution_count": 74,
   "metadata": {},
   "outputs": [
    {
     "data": {
      "text/plain": [
       "array([[0., 1., 0., 0., 0., 0., 1., 1., 1., 1., 0., 0., 0., 0., 0., 0.,\n",
       "        1., 1., 1., 1., 1., 1., 0., 0., 0., 0., 1., 1., 1., 0., 1., 1.],\n",
       "       [0., 0., 1., 0., 0., 0., 1., 0., 0., 0., 1., 1., 1., 0., 0., 0.,\n",
       "        1., 1., 1., 0., 0., 0., 1., 1., 1., 0., 1., 1., 1., 1., 0., 1.],\n",
       "       [0., 0., 0., 1., 0., 0., 0., 1., 0., 0., 1., 0., 0., 1., 1., 0.,\n",
       "        1., 0., 0., 1., 1., 0., 1., 0., 1., 1., 1., 0., 1., 1., 1., 1.],\n",
       "       [0., 0., 0., 0., 1., 0., 0., 0., 1., 0., 0., 1., 0., 1., 0., 1.,\n",
       "        0., 1., 0., 1., 0., 1., 1., 1., 0., 1., 1., 1., 0., 1., 1., 1.],\n",
       "       [0., 0., 0., 0., 0., 1., 0., 0., 0., 1., 0., 0., 1., 0., 1., 1.,\n",
       "        0., 0., 1., 0., 1., 1., 0., 1., 1., 1., 0., 1., 1., 1., 1., 1.]])"
      ]
     },
     "execution_count": 74,
     "metadata": {},
     "output_type": "execute_result"
    }
   ],
   "source": [
    "v = np.loadtxt('./data_txt_compact/matrice_symboles.txt')\n",
    "v"
   ]
  },
  {
   "cell_type": "markdown",
   "metadata": {},
   "source": [
    "### II. 2. Génération de séquences d’observations"
   ]
  },
  {
   "cell_type": "code",
   "execution_count": 75,
   "metadata": {},
   "outputs": [
    {
     "name": "stdout",
     "output_type": "stream",
     "text": [
      "vect_pi7.txt\n",
      "SeqTest0.txt\n",
      "A0.txt\n",
      "B7.txt\n",
      "matrice_symboles.txt\n",
      "SeqTest1.txt\n",
      "SeqTest7.txt\n",
      "A1.txt\n",
      "B1.txt\n",
      "vect_pi0.txt\n",
      "A7.txt\n",
      "B0.txt\n",
      "vect_pi1.txt\n"
     ]
    }
   ],
   "source": [
    "from pathlib import Path\n",
    "p = Path('./data_txt_compact/')\n",
    "\n",
    "for name in p.glob('*.txt'):\n",
    "    print(str(name)[17:])"
   ]
  },
  {
   "cell_type": "code",
   "execution_count": 76,
   "metadata": {},
   "outputs": [],
   "source": [
    "A0 = np.loadtxt('./data_txt_compact/A0.txt')  #Matrice A\n",
    "A1 = np.loadtxt('./data_txt_compact/A1.txt')\n",
    "\n",
    "B0 = np.loadtxt('./data_txt_compact/B0.txt')  #MatriceB\n",
    "vect_p0 = np.loadtxt('./data_txt_compact/vect_pi0.txt')   #Vecteur pi\n",
    "dic = np.loadtxt('./data_txt_compact/matrice_symboles.txt')   #matrice symboles (dictionnaire)\n",
    "B1 = np.loadtxt('./data_txt_compact/B1.txt')  #MatriceB pour le chiffre 1\n",
    "B7 = np.loadtxt('./data_txt_compact/B7.txt')  #MatriceB pourle chiffre 7"
   ]
  },
  {
   "cell_type": "markdown",
   "metadata": {},
   "source": [
    "### II. 2. Génération de séquences d’observations"
   ]
  },
  {
   "cell_type": "markdown",
   "metadata": {},
   "source": [
    "- La matrice A contient les transitions entre états... Un état qui est nul signifie que la probabilité de transition d'un état à l'autre est nulle. on note (q_t = s_i) le fait que l’état observé à l’instant t est s_i. \n",
    "Le pixel est noir.\n",
    "\n",
    "- La matrice B représente les probabilités d’observation des symboles de v. \n",
    "\n",
    "- Pi est le vecteur des probabilités initiales du HMM.\n",
    "\n",
    "La suite cachée correspond à la suite des états q1, q2,...,qT , notée Q(1 : T), où les qi\n",
    "prennent leur valeur parmi l’ensemble des n états du modèle {s1, s2,...,sn}.\n",
    "\n",
    "La suite observable correspond à la séquence des d’observations O1, O2,...,OT , notée O(1 :\n",
    "T), où les Oi sont des lettres d’un alphabet de M symboles observables V = {v1, v2,...,vM}."
   ]
  },
  {
   "cell_type": "code",
   "execution_count": 77,
   "metadata": {},
   "outputs": [
    {
     "data": {
      "text/plain": [
       "<matplotlib.image.AxesImage at 0x7f1be6c45a90>"
      ]
     },
     "execution_count": 77,
     "metadata": {},
     "output_type": "execute_result"
    },
    {
     "data": {
      "image/png": "[encoded data removed]",
      "text/plain": [
       "<Figure size 1080x504 with 1 Axes>"
      ]
     },
     "metadata": {
      "needs_background": "light"
     },
     "output_type": "display_data"
    }
   ],
   "source": [
    "plt.figure(figsize=(15,7))\n",
    "plt.imshow(A0, cmap='gray')"
   ]
  },
  {
   "cell_type": "code",
   "execution_count": 78,
   "metadata": {},
   "outputs": [
    {
     "data": {
      "text/plain": [
       "3"
      ]
     },
     "execution_count": 78,
     "metadata": {},
     "output_type": "execute_result"
    }
   ],
   "source": [
    "def etat_suivant_ligne(ligne_A):\n",
    "    unif = np.random.random()\n",
    "    cs = np.cumsum(ligne_A)\n",
    "    state = 0\n",
    "    while (unif >= cs[state]):\n",
    "        state = state+1\n",
    "    return state+1\n",
    "etat_suivant_ligne(A0[2])"
   ]
  },
  {
   "cell_type": "code",
   "execution_count": 49,
   "metadata": {},
   "outputs": [
    {
     "data": {
      "text/plain": [
       "0.86339743"
      ]
     },
     "execution_count": 49,
     "metadata": {},
     "output_type": "execute_result"
    }
   ],
   "source": [
    "state = 2\n",
    "np.cumsum(A0[2])[state]"
   ]
  },
  {
   "cell_type": "code",
   "execution_count": 51,
   "metadata": {},
   "outputs": [
    {
     "data": {
      "image/png": "[encoded data removed]",
      "text/plain": [
       "<Figure size 432x288 with 1 Axes>"
      ]
     },
     "metadata": {
      "needs_background": "light"
     },
     "output_type": "display_data"
    }
   ],
   "source": [
    "plt.plot(np.cumsum(A0[2]))\n",
    "plt.title('fonction de répartition pour la ligne 3 de la matrice A0: A0[2]')\n",
    "plt.axvline(np.random.random()*5, c='red')\n",
    "plt.axvline(3, c='y')\n",
    "plt.show()"
   ]
  },
  {
   "cell_type": "markdown",
   "metadata": {},
   "source": [
    "Lorsque l'on prend une ligne i de la matrice A0, on remarque que la transition de l'état i à i+1 est indiquée à l'index i; Les valeurs avant étant nulles, en cumulant la somme on tombe rapidement sur cet index et on connait donc l'état suivant. Dans notre cas, l'état 3 étant le suivant, c'est le premier état ou l'on arrive à une probabilité de transition égale à 1."
   ]
  },
  {
   "cell_type": "code",
   "execution_count": 79,
   "metadata": {},
   "outputs": [
    {
     "data": {
      "text/plain": [
       "3"
      ]
     },
     "execution_count": 79,
     "metadata": {},
     "output_type": "execute_result"
    }
   ],
   "source": [
    "def etat_suivant_q(state_t, mat):\n",
    "    unif = np.random.random()\n",
    "    cs = np.cumsum(mat[state_t])\n",
    "    x = cs > unif\n",
    "    state_t1 = list(x).index(True)\n",
    "    return state_t1+1\n",
    "etat_suivant_q(2, A0)"
   ]
  },
  {
   "cell_type": "markdown",
   "metadata": {},
   "source": [
    "#### II.2.3 Générer une séquence d’observations suivant le modèle de Markov Caché du chiffre 0."
   ]
  },
  {
   "cell_type": "code",
   "execution_count": 80,
   "metadata": {},
   "outputs": [
    {
     "data": {
      "text/plain": [
       "<matplotlib.image.AxesImage at 0x7f1be6b8cf50>"
      ]
     },
     "execution_count": 80,
     "metadata": {},
     "output_type": "execute_result"
    },
    {
     "data": {
      "image/png": "[encoded data removed]",
      "text/plain": [
       "<Figure size 1008x360 with 1 Axes>"
      ]
     },
     "metadata": {
      "needs_background": "light"
     },
     "output_type": "display_data"
    }
   ],
   "source": [
    "plt.figure(figsize=(14,5))\n",
    "plt.imshow(v)"
   ]
  },
  {
   "cell_type": "code",
   "execution_count": 318,
   "metadata": {},
   "outputs": [
    {
     "data": {
      "text/plain": [
       "[1, 2, 3, 4, 5]"
      ]
     },
     "execution_count": 318,
     "metadata": {},
     "output_type": "execute_result"
    }
   ],
   "source": [
    "def generate_seq():\n",
    "    seq = []\n",
    "    state = 0\n",
    "    while state !=5:\n",
    "        n_state = etat_suivant_q(state,A0)\n",
    "        seq.append(n_state)\n",
    "        state = n_state\n",
    "    return seq\n",
    "generate_seq()"
   ]
  },
  {
   "cell_type": "code",
   "execution_count": 319,
   "metadata": {},
   "outputs": [
    {
     "data": {
      "text/plain": [
       "array([0., 1., 1., 1., 0.])"
      ]
     },
     "execution_count": 319,
     "metadata": {},
     "output_type": "execute_result"
    }
   ],
   "source": [
    "def generate_obs(state,mat):\n",
    "    unif = np.random.random()\n",
    "    cs = np.cumsum(mat[:,state])\n",
    "    x = cs > unif\n",
    "    idx = list(x).index(True)\n",
    "    obs = v[:,idx]\n",
    "    return obs\n",
    "tst0 = generate_obs(2,B1)\n",
    "tst0"
   ]
  },
  {
   "cell_type": "code",
   "execution_count": 87,
   "metadata": {},
   "outputs": [
    {
     "data": {
      "text/plain": [
       "array([0., 1., 0., 0., 0.])"
      ]
     },
     "execution_count": 87,
     "metadata": {},
     "output_type": "execute_result"
    }
   ],
   "source": [
    "tst1 = generate_obs(1,B1)\n",
    "tst1"
   ]
  },
  {
   "cell_type": "code",
   "execution_count": 88,
   "metadata": {},
   "outputs": [],
   "source": [
    "j = np.hstack((tst0,tst1)).reshape(-1,1)"
   ]
  },
  {
   "cell_type": "code",
   "execution_count": 89,
   "metadata": {},
   "outputs": [
    {
     "data": {
      "text/plain": [
       "<matplotlib.image.AxesImage at 0x7f1be6b88290>"
      ]
     },
     "execution_count": 89,
     "metadata": {},
     "output_type": "execute_result"
    },
    {
     "data": {
      "image/png": "[encoded data removed]",
      "text/plain": [
       "<Figure size 432x288 with 1 Axes>"
      ]
     },
     "metadata": {
      "needs_background": "light"
     },
     "output_type": "display_data"
    }
   ],
   "source": [
    "plt.imshow(j)"
   ]
  },
  {
   "cell_type": "code",
   "execution_count": 90,
   "metadata": {},
   "outputs": [
    {
     "data": {
      "image/png": "[encoded data removed]",
      "text/plain": [
       "<Figure size 720x720 with 3 Axes>"
      ]
     },
     "metadata": {
      "needs_background": "light"
     },
     "output_type": "display_data"
    }
   ],
   "source": [
    "data = {'B0': B0,\n",
    "        'B1': B1,\n",
    "        'B7': B7}\n",
    "\n",
    "plt.figure(figsize=(10,10))\n",
    "\n",
    "plt.subplot(131)\n",
    "plt.imshow(v@data['B0'])\n",
    "\n",
    "plt.subplot(132)\n",
    "plt.imshow(v@data['B1'])\n",
    "\n",
    "plt.subplot(133)\n",
    "plt.imshow(v@data['B7'])\n",
    "plt.show()"
   ]
  },
  {
   "cell_type": "code",
   "execution_count": 329,
   "metadata": {},
   "outputs": [],
   "source": [
    "def generate_obs(state):\n",
    "    x = np.cumsum(B0[:,state])>np.random.random()\n",
    "    idx = list(x).index(True)\n",
    "    obs = v[:,idx]\n",
    "    return obs\n",
    "#generate_obs(2)"
   ]
  },
  {
   "cell_type": "code",
   "execution_count": 324,
   "metadata": {},
   "outputs": [
    {
     "data": {
      "text/plain": [
       "[1, 2, 3, 4, 5]"
      ]
     },
     "execution_count": 324,
     "metadata": {},
     "output_type": "execute_result"
    }
   ],
   "source": [
    "def generate_seq():\n",
    "    seq = []\n",
    "    state = 0\n",
    "    while state !=5:\n",
    "        n_state = etat_suivant_q(state,A0)\n",
    "        seq.append(n_state)\n",
    "        state = n_state\n",
    "    return seq\n",
    "generate_seq()"
   ]
  },
  {
   "cell_type": "code",
   "execution_count": 142,
   "metadata": {},
   "outputs": [
    {
     "data": {
      "text/plain": [
       "<matplotlib.image.AxesImage at 0x7f1be6243cd0>"
      ]
     },
     "execution_count": 142,
     "metadata": {},
     "output_type": "execute_result"
    },
    {
     "data": {
      "image/png": "[encoded data removed]",
      "text/plain": [
       "<Figure size 432x288 with 1 Axes>"
      ]
     },
     "metadata": {
      "needs_background": "light"
     },
     "output_type": "display_data"
    }
   ],
   "source": [
    "plt.imshow(np.hstack([generate_obs(s).reshape(-1,1) for s in generate_seq()]), interpolation='none', aspect='auto')"
   ]
  },
  {
   "cell_type": "code",
   "execution_count": 167,
   "metadata": {},
   "outputs": [
    {
     "data": {
      "text/plain": [
       "<matplotlib.image.AxesImage at 0x7f1be5a3b390>"
      ]
     },
     "execution_count": 167,
     "metadata": {},
     "output_type": "execute_result"
    },
    {
     "data": {
      "image/png": "[encoded data removed]",
      "text/plain": [
       "<Figure size 432x288 with 1 Axes>"
      ]
     },
     "metadata": {
      "needs_background": "light"
     },
     "output_type": "display_data"
    }
   ],
   "source": [
    "plt.imshow(np.hstack([generate_obs(s).reshape(-1,1) for s in generate_seq()]), interpolation='none', aspect='auto')"
   ]
  },
  {
   "cell_type": "code",
   "execution_count": 148,
   "metadata": {},
   "outputs": [
    {
     "data": {
      "text/plain": [
       "<matplotlib.image.AxesImage at 0x7f1be60ffb50>"
      ]
     },
     "execution_count": 148,
     "metadata": {},
     "output_type": "execute_result"
    },
    {
     "data": {
      "image/png": "[encoded data removed]",
      "text/plain": [
       "<Figure size 432x288 with 1 Axes>"
      ]
     },
     "metadata": {
      "needs_background": "light"
     },
     "output_type": "display_data"
    }
   ],
   "source": [
    "plt.imshow(np.hstack([generate_obs(s).reshape(-1,1) for s in generate_seq()]), interpolation='none', aspect='auto')"
   ]
  },
  {
   "cell_type": "code",
   "execution_count": 149,
   "metadata": {},
   "outputs": [
    {
     "data": {
      "text/plain": [
       "<matplotlib.image.AxesImage at 0x7f1be60ddc50>"
      ]
     },
     "execution_count": 149,
     "metadata": {},
     "output_type": "execute_result"
    },
    {
     "data": {
      "image/png": "[encoded data removed]",
      "text/plain": [
       "<Figure size 432x288 with 1 Axes>"
      ]
     },
     "metadata": {
      "needs_background": "light"
     },
     "output_type": "display_data"
    }
   ],
   "source": [
    "plt.imshow(np.hstack([generate_obs(s).reshape(-1,1) for s in generate_seq()]), interpolation='none', aspect='auto')"
   ]
  },
  {
   "cell_type": "code",
   "execution_count": 151,
   "metadata": {},
   "outputs": [
    {
     "data": {
      "text/plain": [
       "<matplotlib.image.AxesImage at 0x7f1be6014810>"
      ]
     },
     "execution_count": 151,
     "metadata": {},
     "output_type": "execute_result"
    },
    {
     "data": {
      "image/png": "[encoded data removed]",
      "text/plain": [
       "<Figure size 432x288 with 1 Axes>"
      ]
     },
     "metadata": {
      "needs_background": "light"
     },
     "output_type": "display_data"
    }
   ],
   "source": [
    "plt.imshow(np.hstack([generate_obs(s).reshape(-1,1) for s in generate_seq()]), interpolation='none', aspect='auto')"
   ]
  },
  {
   "cell_type": "code",
   "execution_count": 152,
   "metadata": {},
   "outputs": [
    {
     "data": {
      "text/plain": [
       "<matplotlib.image.AxesImage at 0x7f1be5f77a10>"
      ]
     },
     "execution_count": 152,
     "metadata": {},
     "output_type": "execute_result"
    },
    {
     "data": {
      "image/png": "[encoded data removed]",
      "text/plain": [
       "<Figure size 432x288 with 1 Axes>"
      ]
     },
     "metadata": {
      "needs_background": "light"
     },
     "output_type": "display_data"
    }
   ],
   "source": [
    "plt.imshow(np.hstack([generate_obs(s).reshape(-1,1) for s in generate_seq()]), interpolation='none', aspect='auto')"
   ]
  },
  {
   "cell_type": "code",
   "execution_count": 166,
   "metadata": {},
   "outputs": [
    {
     "data": {
      "text/plain": [
       "<matplotlib.image.AxesImage at 0x7f1be5ade4d0>"
      ]
     },
     "execution_count": 166,
     "metadata": {},
     "output_type": "execute_result"
    },
    {
     "data": {
      "image/png": "[encoded data removed]",
      "text/plain": [
       "<Figure size 432x288 with 1 Axes>"
      ]
     },
     "metadata": {
      "needs_background": "light"
     },
     "output_type": "display_data"
    }
   ],
   "source": [
    "plt.imshow(np.hstack([generate_obs(s).reshape(-1,1) for s in generate_seq()]), interpolation='none', aspect='auto')"
   ]
  },
  {
   "cell_type": "code",
   "execution_count": 335,
   "metadata": {},
   "outputs": [],
   "source": [
    "# im = []\n",
    "# for t in range (0,len(generate_seq())):\n",
    "#     im.append([generate_obs(s).reshape(-1,1) for s in generate_seq()])\n",
    "# #im = np.array(im).T # now make an array\n",
    "# im\n",
    "# #plt.imshow(im*255, interpolation='none', aspect='auto')\n",
    "#zero = generate_obs(generate_seq(),B0)"
   ]
  },
  {
   "cell_type": "code",
   "execution_count": 341,
   "metadata": {},
   "outputs": [
    {
     "data": {
      "image/png": "[encoded data removed]",
      "text/plain": [
       "<Figure size 1080x1080 with 15 Axes>"
      ]
     },
     "metadata": {
      "needs_background": "light"
     },
     "output_type": "display_data"
    }
   ],
   "source": [
    "fig, ax = plt.subplots(3,5,figsize=(15,15))\n",
    "fig.suptitle(\"Visualisation de 0\")\n",
    "\n",
    "n = 15\n",
    "\n",
    "for i in range(n):\n",
    "    i = i+1\n",
    "    ax1 = plt.subplot(5,3,i)\n",
    "    zero = generate_obs(generate_seq(),B0)\n",
    "   \n",
    "    im=[] \n",
    "    # zero contient les index dans le dictionnaire\n",
    "    \n",
    "    for t in range (0,len(zero)):\n",
    "        im_col=v[:, zero[t]-1] \n",
    "        im.append(im_col)\n",
    "\n",
    "    im = np.array(im).T # now make an array\n",
    "    ax1.imshow(im*255, cmap='Greys', interpolation='none', aspect='auto')\n",
    "\n",
    "plt.show()"
   ]
  },
  {
   "cell_type": "markdown",
   "metadata": {},
   "source": [
    "### II.3. Calcul de la vraisemblance de séquences d’observations\n",
    "Les fichiers SeqTest0.txt, SeqTest1.txt, SeqTest7.txt contiennent chacun 10 séquences\n",
    "d’observations de chiffres des 3 classes 0, 1 et 7, disposés en ligne. Le script suivant extrait la\n",
    "5 ème observation de la 3 ème séquence des chiffres 0."
   ]
  },
  {
   "cell_type": "code",
   "execution_count": 222,
   "metadata": {},
   "outputs": [
    {
     "data": {
      "text/plain": [
       "1.0"
      ]
     },
     "execution_count": 222,
     "metadata": {},
     "output_type": "execute_result"
    }
   ],
   "source": [
    "filename='SeqTest0.txt'\n",
    "TestChiffres=np.loadtxt(data_p+filename)\n",
    "ieme_seq = 2 \n",
    "  \n",
    "seq = TestChiffres[ieme_seq, : ]  #3eme seq\n",
    "seq[4] #5ème observation de la 3ème seq"
   ]
  },
  {
   "cell_type": "code",
   "execution_count": 234,
   "metadata": {},
   "outputs": [
    {
     "data": {
      "text/plain": [
       "28"
      ]
     },
     "execution_count": 234,
     "metadata": {},
     "output_type": "execute_result"
    }
   ],
   "source": [
    "TestChiffres.shape\n",
    "q = 2\n",
    "Obs_seq = TestChiffres[q,:]\n",
    "len(Obs_seq)"
   ]
  },
  {
   "cell_type": "markdown",
   "metadata": {},
   "source": [
    "Calculer la vraisemblance de ces séquences suivant chacun des modèles (0, 1 et 7) par l’algorithme de Viterbi (on pourra implémenter la version logarithmique de cet algorithme). Pour cela les matrices A, B et π seront converties en logarithmes (utiliser np.log)."
   ]
  },
  {
   "cell_type": "code",
   "execution_count": 344,
   "metadata": {},
   "outputs": [],
   "source": [
    "def viterbi(V, a, b, pi, Obs_seq):\n",
    "    \n",
    "    V = V-1\n",
    "    T = V.shape[0] # number of states\n",
    "    print(T)\n",
    "    \n",
    "    N = len(Obs_seq) # length of observation sequence\n",
    "    print(N)\n",
    "\n",
    "    M = a.shape[0]\n",
    "    print(M)\n",
    "    \n",
    "    #b = b / np.sum(b, axis=1).reshape((-1, 1))\n",
    "        \n",
    "    T = V.shape[0] \n",
    "    M = a.shape[0]\n",
    " \n",
    "    omega = np.zeros((T, M))\n",
    "    omega[0, :] = np.log(pi * b[:, V[0]])\n",
    " \n",
    "    prev = np.zeros((T - 1, M))\n",
    " \n",
    "    for t in range(1, T):\n",
    "        for j in range(M):\n",
    "            # Same as Forward Probability\n",
    "            probability = omega[t - 1] + np.log(a[:, j]) + np.log(b[j, V[t]])\n",
    " \n",
    "            # This is our most probable state given previous state at time t (1)\n",
    "            prev[t - 1, j] = np.argmax(probability)\n",
    " \n",
    "            # This is the probability of the most probable state (2)\n",
    "            omega[t, j] = np.max(probability)\n",
    " \n",
    "    # Path Array\n",
    "    S = np.zeros(T)\n",
    " \n",
    "    # Find the most probable last hidden state\n",
    "    last_state = np.argmax(omega[T - 1, :])\n",
    " \n",
    "    S[0] = last_state\n",
    "    \n",
    "    log_vraisemblance = omega[-1, last_state]\n",
    " \n",
    "    backtrack_index = 1\n",
    "    for i in range(T - 2, -1, -1):\n",
    "        S[backtrack_index] = prev[i, int(last_state)]\n",
    "        last_state = prev[i, int(last_state)]\n",
    "        backtrack_index += 1\n",
    " \n",
    "    # Flip the path array since we were backtracking\n",
    "    S = np.flip(S, axis=0)\n",
    " \n",
    "    return log_vraisemblance"
   ]
  },
  {
   "cell_type": "code",
   "execution_count": 345,
   "metadata": {},
   "outputs": [
    {
     "name": "stdout",
     "output_type": "stream",
     "text": [
      "28\n",
      "28\n",
      "5\n"
     ]
    },
    {
     "name": "stderr",
     "output_type": "stream",
     "text": [
      "/home/sonia/.local/lib/python3.7/site-packages/ipykernel_launcher.py:19: RuntimeWarning: divide by zero encountered in log\n",
      "/home/sonia/.local/lib/python3.7/site-packages/ipykernel_launcher.py:26: RuntimeWarning: divide by zero encountered in log\n"
     ]
    },
    {
     "data": {
      "text/plain": [
       "-29.208426705363717"
      ]
     },
     "execution_count": 345,
     "metadata": {},
     "output_type": "execute_result"
    }
   ],
   "source": [
    "viterbi(TestChiffres[0,:].astype(int),A0,B0.T,vect_p0, Obs_seq)"
   ]
  },
  {
   "cell_type": "markdown",
   "metadata": {},
   "source": [
    "On a un message d'erreur concernant la division par 0 dans le log. En réalité, on ne divise pas par 0 mais par un nombre très petit. Pour y remédier, on peut dès le départ prendre le max entre a, b et un nombre très petit proche de 0 mais qui ne l'est pas. "
   ]
  },
  {
   "cell_type": "code",
   "execution_count": 354,
   "metadata": {},
   "outputs": [
    {
     "data": {
      "image/png": "[encoded data removed]",
      "text/plain": [
       "<Figure size 1080x1080 with 10 Axes>"
      ]
     },
     "metadata": {
      "needs_background": "light"
     },
     "output_type": "display_data"
    }
   ],
   "source": [
    "fig, ax = plt.subplots(2,5,figsize=(15,15))\n",
    "fig.suptitle(\"Sequences de TestChiffres: 0\")\n",
    "n = 10\n",
    "\n",
    "for i in range(n):\n",
    "    ax1 = plt.subplot(5,2,i+1)\n",
    "   \n",
    "    im=[]\n",
    "    for t in range(28):\n",
    "        im_col=v[:,int(TestChiffres[i,t]-1)] \n",
    "        im.append(im_col)\n",
    "\n",
    "    im = np.array(im).T # now make an array\n",
    "    ax1.imshow(im*255, cmap='Greys', interpolation='none', aspect='auto')\n",
    "\n",
    "plt.show()"
   ]
  },
  {
   "cell_type": "code",
   "execution_count": null,
   "metadata": {},
   "outputs": [],
   "source": []
  }
 ],
 "metadata": {
  "kernelspec": {
   "display_name": "Python 3",
   "language": "python",
   "name": "python3"
  },
  "language_info": {
   "codemirror_mode": {
    "name": "ipython",
    "version": 3
   },
   "file_extension": ".py",
   "mimetype": "text/x-python",
   "name": "python",
   "nbconvert_exporter": "python",
   "pygments_lexer": "ipython3",
   "version": "3.7.5"
  }
 },
 "nbformat": 4,
 "nbformat_minor": 2
}
