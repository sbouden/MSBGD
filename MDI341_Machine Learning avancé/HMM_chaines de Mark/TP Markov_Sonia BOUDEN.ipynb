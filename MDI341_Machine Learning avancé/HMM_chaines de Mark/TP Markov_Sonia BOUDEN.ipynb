{
 "cells": [
  {
   "cell_type": "markdown",
   "metadata": {},
   "source": [
    "Sonia Bouden\n",
    "# TP Chaines de Markov et HMM"
   ]
  },
  {
   "cell_type": "markdown",
   "metadata": {},
   "source": [
    "#### Imports"
   ]
  },
  {
   "cell_type": "code",
   "execution_count": 2,
   "metadata": {},
   "outputs": [],
   "source": [
    "import numpy as np\n",
    "import pandas as pd\n",
    "import matplotlib.pyplot as plt"
   ]
  },
  {
   "cell_type": "markdown",
   "metadata": {},
   "source": [
    "### I.1 Fonctions dont vous pouvez avoir besoin"
   ]
  },
  {
   "cell_type": "code",
   "execution_count": 1,
   "metadata": {},
   "outputs": [],
   "source": [
    "data_p = './data_txt_compact/'\n",
    "data_b = '../'"
   ]
  },
  {
   "cell_type": "code",
   "execution_count": 90,
   "metadata": {},
   "outputs": [
    {
     "data": {
      "text/plain": [
       "{'1': ' ',\n",
       " '2': 'a',\n",
       " '3': 'b',\n",
       " '4': 'c',\n",
       " '5': 'd',\n",
       " '6': 'e',\n",
       " '7': 'f',\n",
       " '8': 'g',\n",
       " '9': 'h',\n",
       " '10': 'i',\n",
       " '11': 'j',\n",
       " '12': 'k',\n",
       " '13': 'l',\n",
       " '14': 'm',\n",
       " '15': 'n',\n",
       " '16': 'o',\n",
       " '17': 'p',\n",
       " '18': 'q',\n",
       " '19': 'r',\n",
       " '20': 's',\n",
       " '21': 't',\n",
       " '22': 'u',\n",
       " '23': 'v',\n",
       " '24': 'w',\n",
       " '25': 'x',\n",
       " '26': 'y',\n",
       " '27': 'z',\n",
       " '28': ' '}"
      ]
     },
     "execution_count": 90,
     "metadata": {},
     "output_type": "execute_result"
    }
   ],
   "source": [
    "dic = {'1' : ' ', '2' : 'a', '3' : 'b', '4': 'c', '5' : 'd', '6' : 'e', '7': 'f', '8' : 'g', '9' : 'h', '10': 'i', '11': 'j',\n",
    "'12' : 'k', '13' : 'l', '14': 'm', '15' : 'n', '16' : 'o', '17': 'p', '18' : 'q', '19' : 'r' , '20': 's', '21' : 't', '22'\n",
    ": 'u', '23': 'v', '24' : 'w', '25' : 'x' , '26': 'y', '27' : 'z', '28' : ' ' }\n",
    "dic_inv = {v: k for k, v in dic.items()}\n",
    "dic"
   ]
  },
  {
   "cell_type": "markdown",
   "metadata": {},
   "source": [
    "### II. Chaîne de Markov\n",
    "#### 2.a Matrice de transitions"
   ]
  },
  {
   "cell_type": "code",
   "execution_count": 91,
   "metadata": {},
   "outputs": [
    {
     "data": {
      "text/plain": [
       "(28, 28)"
      ]
     },
     "execution_count": 91,
     "metadata": {},
     "output_type": "execute_result"
    }
   ],
   "source": [
    "big_eng = 'bigramenglish.txt'\n",
    "eng = np.loadtxt(big_eng)\n",
    "eng.shape"
   ]
  },
  {
   "cell_type": "markdown",
   "metadata": {},
   "source": [
    "Le terme générique (i,j) de la matrice de transition correspond à la probabilité de transiter vers l’état j à partir de l’état i. La première ligne (1,j) de la matrice de transition correspond à la probabilité de transiter de l'état initial 1 aux autres états j.\n",
    "Les termes de la dernière colonne (i,n) correspondent aux probabilités de passer d'un état i à l'état final n.\n",
    "\n",
    "la loi uniforme (rand) \n",
    "la loi discrète des états suivants\n",
    "\n",
    "A partir de ce vecteur, si je cherche la fonction de répartition \n",
    "sur le segment les valeurs des segments on utilise la somme \n",
    "\n",
    "#### Pour chaque lettre de l’alphabet, indiquer la transition la plus fréquente depuis cette lettre."
   ]
  },
  {
   "cell_type": "code",
   "execution_count": 5,
   "metadata": {},
   "outputs": [
    {
     "data": {
      "text/plain": [
       "['t',\n",
       " 'n',\n",
       " 'e',\n",
       " 'o',\n",
       " ' ',\n",
       " ' ',\n",
       " ' ',\n",
       " ' ',\n",
       " 'e',\n",
       " 'n',\n",
       " 'o',\n",
       " ' ',\n",
       " 'e',\n",
       " 'e',\n",
       " ' ',\n",
       " 'n',\n",
       " 'e',\n",
       " 'u',\n",
       " 'e',\n",
       " ' ',\n",
       " 'h',\n",
       " 'r',\n",
       " 'e',\n",
       " 'a',\n",
       " 't',\n",
       " ' ',\n",
       " 'e',\n",
       " ' ']"
      ]
     },
     "execution_count": 5,
     "metadata": {},
     "output_type": "execute_result"
    }
   ],
   "source": [
    "[dic[str(x+1)] for x in eng.argmax(axis=1)]"
   ]
  },
  {
   "cell_type": "markdown",
   "metadata": {},
   "source": [
    "#### I.2.b Générer un mot à partir de l'état initial (espace de début de mot)"
   ]
  },
  {
   "cell_type": "code",
   "execution_count": 183,
   "metadata": {},
   "outputs": [],
   "source": [
    "def etat_suivant(etat_t, mat_transition):\n",
    "    unif = np.random.random()\n",
    "    cs = np.cumsum(mat_transition[int(etat_t)])  # on commence par l'état 1\n",
    "    x = cs > unif\n",
    "    etat_suiv = list(x).index(True)+1\n",
    "    return etat_suiv"
   ]
  },
  {
   "cell_type": "code",
   "execution_count": 184,
   "metadata": {},
   "outputs": [
    {
     "data": {
      "text/plain": [
       "15"
      ]
     },
     "execution_count": 184,
     "metadata": {},
     "output_type": "execute_result"
    }
   ],
   "source": [
    "etat_suivant(1,eng)"
   ]
  },
  {
   "cell_type": "code",
   "execution_count": 28,
   "metadata": {},
   "outputs": [
    {
     "data": {
      "image/png": "[encoded data removed]",
      "text/plain": [
       "<Figure size 432x288 with 1 Axes>"
      ]
     },
     "metadata": {
      "needs_background": "light"
     },
     "output_type": "display_data"
    }
   ],
   "source": [
    "plt.plot(np.cumsum(eng[1]))\n",
    "plt.title('fonction de répartition pour l''état: 2:a')\n",
    "plt.axvline(np.random.random()*28, c='red')\n",
    "plt.show()"
   ]
  },
  {
   "cell_type": "code",
   "execution_count": 29,
   "metadata": {},
   "outputs": [
    {
     "data": {
      "text/plain": [
       "21"
      ]
     },
     "execution_count": 29,
     "metadata": {},
     "output_type": "execute_result"
    }
   ],
   "source": [
    "#### Méthode du corrigé\n",
    "\n",
    "def etat_suivant_c(ligne_A):\n",
    "    unif = np.random.random()\n",
    "    cs = np.cumsum(ligne_A)\n",
    "    state = 0\n",
    "    while (unif >= cs[state]):\n",
    "        state = state+1\n",
    "    return state+1\n",
    "etat_suivant_c(eng[1])"
   ]
  },
  {
   "cell_type": "markdown",
   "metadata": {},
   "source": [
    "#### Utiliser cette fonction pour écrire la fonction genere_state_seq qui génère une séquence d’états jusqu’à aboutir à l’état final (28)."
   ]
  },
  {
   "cell_type": "code",
   "execution_count": 185,
   "metadata": {},
   "outputs": [],
   "source": [
    "def genere_state_seq(mat):\n",
    "    state = 1\n",
    "    seq = [state]\n",
    "    while state != 28:\n",
    "        next_state = etat_suivant(state, mat)\n",
    "        seq.append(next_state)\n",
    "        state = next_state\n",
    "    return seq"
   ]
  },
  {
   "cell_type": "code",
   "execution_count": 94,
   "metadata": {},
   "outputs": [
    {
     "data": {
      "text/plain": [
       "[1, 21, 15, 21, 20, 9, 15, 7, 9, 15, 19, 20, 10, 22, 6, 2, 6, 16, 28]"
      ]
     },
     "execution_count": 94,
     "metadata": {},
     "output_type": "execute_result"
    }
   ],
   "source": [
    "genere_state_seq(eng)"
   ]
  },
  {
   "cell_type": "markdown",
   "metadata": {},
   "source": [
    "#### Ecrire une fonction display_seq qui transforme une séquence d’états en séquence de caractères, à l’aide d’un dictionnaire."
   ]
  },
  {
   "cell_type": "code",
   "execution_count": 58,
   "metadata": {},
   "outputs": [],
   "source": [
    "def display_seq(seq_state):\n",
    "    seq_carac = [dic[str(x)] for x in seq_state]\n",
    "    pl = ''.join(seq_carac)\n",
    "    pl = pl.replace(' ','')\n",
    "    return pl"
   ]
  },
  {
   "cell_type": "code",
   "execution_count": 95,
   "metadata": {},
   "outputs": [
    {
     "data": {
      "text/plain": [
       "'mke'"
      ]
     },
     "execution_count": 95,
     "metadata": {},
     "output_type": "execute_result"
    }
   ],
   "source": [
    "display_seq([1, 14, 12, 6, 28])"
   ]
  },
  {
   "cell_type": "markdown",
   "metadata": {},
   "source": [
    "#### Utiliser ces fonctions pour générer des mots et donner des exemples de mots générés."
   ]
  },
  {
   "cell_type": "code",
   "execution_count": 60,
   "metadata": {},
   "outputs": [
    {
     "data": {
      "text/plain": [
       "'nueo'"
      ]
     },
     "execution_count": 60,
     "metadata": {},
     "output_type": "execute_result"
    }
   ],
   "source": [
    "display_seq(genere_state_seq(eng))"
   ]
  },
  {
   "cell_type": "markdown",
   "metadata": {},
   "source": [
    "### I.2.c Générer une phrase\n",
    "On veut générer une suite de mots (phrase). Créer un état final de phrase (état 29, correspondant au caractère . ) dont la probabilité de transition vers cet état depuis un état final de mot est 0.1. Ecrire une fonction modifie_mat_dic qui modifie la matrice de transition et le dictionnaire en conséquence. Donner des exemples de phrases générées."
   ]
  },
  {
   "cell_type": "code",
   "execution_count": 159,
   "metadata": {},
   "outputs": [],
   "source": [
    "def modifie_mat_dic(mat):\n",
    "    global dic\n",
    "    global dic_inv\n",
    "    global eng\n",
    "    global fr\n",
    "    \n",
    "    dic['29'] = '.'\n",
    "    dic_inv['.'] = '29'\n",
    "    mat = np.c_[mat, np.zeros((28,1))]\n",
    "    mat = np.r_[mat, np.zeros((1,29))]\n",
    "    mat[-2,-1] = 0.1\n",
    "    mat[-2,-2] = 0\n",
    "    mat[-2,0] = 0.9\n",
    "    return mat"
   ]
  },
  {
   "cell_type": "code",
   "execution_count": 269,
   "metadata": {},
   "outputs": [],
   "source": [
    "modif_eng = modifie_mat_dic(eng)\n",
    "#modifie_mat_dic(fr)"
   ]
  },
  {
   "cell_type": "code",
   "execution_count": 36,
   "metadata": {},
   "outputs": [
    {
     "data": {
      "text/plain": [
       "' asst  hild  wrmalllen  e  pren  wemymilteral  th  emere  th  i  hait  ansty  wonfof  me  fte  is  cof  bed  st  onond  thet  bete  w  spr  whesto  abe  anvindit  t  saveer  e .'"
      ]
     },
     "execution_count": 36,
     "metadata": {},
     "output_type": "execute_result"
    }
   ],
   "source": [
    "display_seq(genere_state_seq(eng))"
   ]
  },
  {
   "cell_type": "markdown",
   "metadata": {},
   "source": [
    "### I.3. Reconnaissance de la langue"
   ]
  },
  {
   "cell_type": "code",
   "execution_count": 180,
   "metadata": {},
   "outputs": [
    {
     "data": {
      "text/plain": [
       "(28, 28)"
      ]
     },
     "execution_count": 180,
     "metadata": {},
     "output_type": "execute_result"
    }
   ],
   "source": [
    "big_fr = 'bigramfrancais.txt'\n",
    "fr = np.loadtxt(big_fr)\n",
    "fr.shape"
   ]
  },
  {
   "cell_type": "code",
   "execution_count": 271,
   "metadata": {},
   "outputs": [
    {
     "data": {
      "text/plain": [
       "'ues'"
      ]
     },
     "execution_count": 271,
     "metadata": {},
     "output_type": "execute_result"
    }
   ],
   "source": [
    "modif_fr = modifie_mat_dic(fr)\n",
    "display_seq(genere_state_seq(fr))"
   ]
  },
  {
   "cell_type": "code",
   "execution_count": 338,
   "metadata": {},
   "outputs": [],
   "source": [
    "def calc_vraisemblance(sentence, mat):\n",
    "    sentence = '-'+sentence.replace(' ','+-')+'+.'\n",
    "    p = 1\n",
    "    dic3_inv = {v: k for k, v in dic_3.items()}\n",
    "    seq = [dic3_inv[x] for x in sentence] \n",
    "    \n",
    "    for i,j in zip(seq[:-1], seq[:-1]):\n",
    "        print(p, 'bla')\n",
    "        if ([mat[int(i)-1,int(j)-1]]!=0): \n",
    "            print([mat[int(i)-1,int(j)-1]])\n",
    "            p*=mat[int(i),int(j)]\n",
    "            print(p)\n",
    "    return p"
   ]
  },
  {
   "cell_type": "code",
   "execution_count": 339,
   "metadata": {},
   "outputs": [
    {
     "name": "stdout",
     "output_type": "stream",
     "text": [
      "1 bla\n",
      "[0.0]\n",
      "0.0\n",
      "0.0 bla\n",
      "[0.019482642]\n",
      "0.0\n",
      "0.0 bla\n",
      "[0.027247103]\n",
      "0.0\n",
      "0.0 bla\n",
      "[0.0]\n",
      "0.0\n",
      "0.0 bla\n",
      "[0.0]\n",
      "0.0\n",
      "0.0 bla\n",
      "[0.00078982703]\n",
      "0.0\n",
      "0.0 bla\n",
      "[0.027979855]\n",
      "0.0\n",
      "0.0 bla\n",
      "[0.0]\n",
      "0.0\n",
      "0.0 bla\n",
      "[0.0]\n",
      "0.0\n",
      "0.0 bla\n",
      "[0.027247103]\n",
      "0.0\n",
      "0.0 bla\n",
      "[0.012657242]\n",
      "0.0\n",
      "0.0 bla\n",
      "[0.0]\n",
      "0.0\n",
      "0.0 bla\n",
      "[0.0]\n",
      "0.0\n",
      "0.0 bla\n",
      "[0.0072000131]\n",
      "0.0\n",
      "0.0 bla\n",
      "[0.027247103]\n",
      "0.0\n",
      "0.0 bla\n",
      "[0.019482642]\n",
      "0.0\n",
      "0.0 bla\n",
      "[0.0]\n",
      "0.0\n",
      "0.0 bla\n",
      "[0.0]\n",
      "0.0\n",
      "0.0 bla\n",
      "[0.019482642]\n",
      "0.0\n",
      "0.0 bla\n",
      "[0.027247103]\n",
      "0.0\n",
      "0.0 bla\n",
      "[0.0]\n",
      "0.0\n",
      "0.0 bla\n",
      "[0.0]\n",
      "0.0\n",
      "0.0 bla\n",
      "[0.00078982703]\n",
      "0.0\n",
      "0.0 bla\n",
      "[0.027979855]\n",
      "0.0\n",
      "0.0 bla\n",
      "[0.0]\n",
      "0.0\n"
     ]
    },
    {
     "data": {
      "text/plain": [
       "0.0"
      ]
     },
     "execution_count": 339,
     "metadata": {},
     "output_type": "execute_result"
    }
   ],
   "source": [
    "calc_vraisemblance('to be or not to be', modif_eng)"
   ]
  },
  {
   "cell_type": "code",
   "execution_count": null,
   "metadata": {},
   "outputs": [],
   "source": []
  },
  {
   "cell_type": "code",
   "execution_count": 275,
   "metadata": {},
   "outputs": [],
   "source": [
    "dic_vr ={1 : '+', 2 : 'a', 3 : 'b',4: 'c',5 : 'd',6 : 'e',7: 'f',8 : 'g',9 : 'h',10: 'i',11: 'j',12 : 'k',13 : 'l', 14: 'm', 15 : 'n', 16 : 'o', 17: 'p', 18 : 'q', 19 : 'r' , 20: 's', 21 : 't', 22 : 'u', 23: 'v', 24 : 'w',25 : 'x' , 26: 'y', 27 : 'z', 28 : '-', 29 : '.'}"
   ]
  },
  {
   "cell_type": "code",
   "execution_count": 276,
   "metadata": {},
   "outputs": [],
   "source": [
    "def calc_vraisemblance(dic, en, fr, seq) :\n",
    "    key_0 = 0\n",
    "    trad_eng = 1\n",
    "    trad_fr = 1\n",
    "    \n",
    "    for letter in seq :\n",
    "        key_1 = [key for key, val in dic.items() if val == letter][0] - 1\n",
    "\n",
    "        trans_eng = trans_eng * eng[key_0, key_1]\n",
    "        trans_fra = trans_fra * fr[key_0, key_1]\n",
    "\n",
    "        key_0 = [key for key, val in dic.items() if val == letter][0] - 1\n",
    "    \n",
    "    if trad_eng > trad_fr :\n",
    "        print(\"It's English !\")\n",
    "    else :\n",
    "        print(\"It's French !\") \n",
    "    return trans_eng, trans_fra"
   ]
  },
  {
   "cell_type": "code",
   "execution_count": 281,
   "metadata": {},
   "outputs": [
    {
     "name": "stdout",
     "output_type": "stream",
     "text": [
      "It's French !\n"
     ]
    },
    {
     "data": {
      "text/plain": [
       "(4.462288711775253e-24, 1.145706887234789e-19)"
      ]
     },
     "execution_count": 281,
     "metadata": {},
     "output_type": "execute_result"
    }
   ],
   "source": [
    "calc_vraisemblance(dic_vr, modif_eng, modif_fr, 'etre-+ou-+ne-+pas-+etre-.')"
   ]
  },
  {
   "cell_type": "code",
   "execution_count": 279,
   "metadata": {},
   "outputs": [
    {
     "name": "stdout",
     "output_type": "stream",
     "text": [
      "It's French !\n"
     ]
    },
    {
     "data": {
      "text/plain": [
       "(0.0, 0.0)"
      ]
     },
     "execution_count": 279,
     "metadata": {},
     "output_type": "execute_result"
    }
   ],
   "source": [
    "calc_vraisemblance(dic_3, modif_eng, modif_fr, 'to-+be-+or-+not-+to-+be-.')"
   ]
  },
  {
   "cell_type": "markdown",
   "metadata": {},
   "source": [
    "### HMM\n",
    "L’objectif de cette partie est de générer des séquences d’observations suivant un modèle de Markov Caché donné, puis de calculer la vraisemblance d’une séquence d’observations suivant un modèle de Markov Caché donné.\n",
    "\n",
    "Le modèle de Markov est de type discret. Les classes de caractères (classes 0, 1, 7) sont modélisées chacune par un modèle à Q=5 états de type gauche-droite. Les états 1 et 5 correspondent à des colonnes de pixels de type fond de l’image (niveau 0). Les états 2, 3 et 4 correspondent au début, milieu et fin du caractère respectivement. Les transitions entre états sont indiquées dans la matrice de transitions A de taille QxQ. Les vecteurs π sont tous égaux à π=(1 0 0 0 0). Les séquences d’états commencent donc toujours par l’état q 1 =1.\n",
    "\n",
    "Les séquences d’observations sont discrètes et issues d’images de chiffres de la base MNIST.\n",
    "Les séquences d’observations consistent en séquences d’index (symboles) des éléments du dictionnaire. \n",
    "\n",
    "L’élément numéro i d’une séquence d’observations correspond au\n",
    "symbole i et donc à la colonne i de la matrice v. Un symbole correspond à une configuration\n",
    "de colonne de 5 pixels (binaires : noir/blanc). Il y a 2 5 =32 configurations, et donc symboles\n",
    "possibles.\n",
    "\n",
    "Les probabilités des observations dans chaque état sont indiquées dans la matrice B (32\n",
    "lignes, 5 colonnes)."
   ]
  },
  {
   "cell_type": "code",
   "execution_count": 9,
   "metadata": {},
   "outputs": [
    {
     "data": {
      "text/plain": [
       "array([[0., 1., 0., 0., 0., 0., 1., 1., 1., 1., 0., 0., 0., 0., 0., 0.,\n",
       "        1., 1., 1., 1., 1., 1., 0., 0., 0., 0., 1., 1., 1., 0., 1., 1.],\n",
       "       [0., 0., 1., 0., 0., 0., 1., 0., 0., 0., 1., 1., 1., 0., 0., 0.,\n",
       "        1., 1., 1., 0., 0., 0., 1., 1., 1., 0., 1., 1., 1., 1., 0., 1.],\n",
       "       [0., 0., 0., 1., 0., 0., 0., 1., 0., 0., 1., 0., 0., 1., 1., 0.,\n",
       "        1., 0., 0., 1., 1., 0., 1., 0., 1., 1., 1., 0., 1., 1., 1., 1.],\n",
       "       [0., 0., 0., 0., 1., 0., 0., 0., 1., 0., 0., 1., 0., 1., 0., 1.,\n",
       "        0., 1., 0., 1., 0., 1., 1., 1., 0., 1., 1., 1., 0., 1., 1., 1.],\n",
       "       [0., 0., 0., 0., 0., 1., 0., 0., 0., 1., 0., 0., 1., 0., 1., 1.,\n",
       "        0., 0., 1., 0., 1., 1., 0., 1., 1., 1., 0., 1., 1., 1., 1., 1.]])"
      ]
     },
     "execution_count": 9,
     "metadata": {},
     "output_type": "execute_result"
    }
   ],
   "source": [
    "v = np.loadtxt('./data_txt_compact/matrice_symboles.txt')\n",
    "v"
   ]
  },
  {
   "cell_type": "markdown",
   "metadata": {},
   "source": [
    "### II. 2. Génération de séquences d’observations"
   ]
  },
  {
   "cell_type": "code",
   "execution_count": 73,
   "metadata": {},
   "outputs": [],
   "source": [
    "A0 = np.loadtxt('./data_txt_compact/A0.txt')  #Matrice A\n",
    "B0 = np.loadtxt('./data_txt_compact/B0.txt')  #MatriceB\n",
    "vect_p0 = np.loadtxt('./data_txt_compact/vect_pi0.txt')   #Vecteur pi\n",
    "dic = np.loadtxt('./data_txt_compact/matrice_symboles.txt')   #matrice symboles (dictionnaire)\n",
    "B1 = np.loadtxt('./data_txt_compact/B1.txt')  #MatriceB pour le chiffre 1\n",
    "B7 = np.loadtxt('./data_txt_compact/B7.txt')  #MatriceB pourle chiffre 7"
   ]
  },
  {
   "cell_type": "code",
   "execution_count": 124,
   "metadata": {},
   "outputs": [
    {
     "name": "stdout",
     "output_type": "stream",
     "text": [
      "data_txt_compact/vect_pi7.txt\n"
     ]
    },
    {
     "ename": "TypeError",
     "evalue": "'PosixPath' object is not subscriptable",
     "output_type": "error",
     "traceback": [
      "\u001b[0;31m---------------------------------------------------------------------------\u001b[0m",
      "\u001b[0;31mTypeError\u001b[0m                                 Traceback (most recent call last)",
      "\u001b[0;32m<ipython-input-124-3c56afc93e28>\u001b[0m in \u001b[0;36m<module>\u001b[0;34m\u001b[0m\n\u001b[1;32m      4\u001b[0m \u001b[0;32mfor\u001b[0m \u001b[0mname\u001b[0m \u001b[0;32min\u001b[0m \u001b[0mp\u001b[0m\u001b[0;34m.\u001b[0m\u001b[0mglob\u001b[0m\u001b[0;34m(\u001b[0m\u001b[0;34m'*.txt'\u001b[0m\u001b[0;34m)\u001b[0m\u001b[0;34m:\u001b[0m\u001b[0;34m\u001b[0m\u001b[0;34m\u001b[0m\u001b[0m\n\u001b[1;32m      5\u001b[0m     \u001b[0mprint\u001b[0m\u001b[0;34m(\u001b[0m\u001b[0mname\u001b[0m\u001b[0;34m)\u001b[0m\u001b[0;34m\u001b[0m\u001b[0;34m\u001b[0m\u001b[0m\n\u001b[0;32m----> 6\u001b[0;31m     \u001b[0mn1\u001b[0m \u001b[0;34m=\u001b[0m \u001b[0mname\u001b[0m\u001b[0;34m[\u001b[0m\u001b[0;36m2\u001b[0m\u001b[0;34m:\u001b[0m\u001b[0;34m]\u001b[0m\u001b[0;34m\u001b[0m\u001b[0;34m\u001b[0m\u001b[0m\n\u001b[0m\u001b[1;32m      7\u001b[0m     \u001b[0;31m#print(name.replace(\"data_txt_compact/\", \"\"))\u001b[0m\u001b[0;34m\u001b[0m\u001b[0;34m\u001b[0m\u001b[0;34m\u001b[0m\u001b[0m\n",
      "\u001b[0;31mTypeError\u001b[0m: 'PosixPath' object is not subscriptable"
     ]
    }
   ],
   "source": [
    "from pathlib import Path\n",
    "p = Path('./data_txt_compact/')\n",
    "\n",
    "for name in p.glob('*.txt'):\n",
    "    print(name)\n",
    "    n1 = name[2:]\n",
    "    #print(name.replace(\"data_txt_compact/\", \"\"))"
   ]
  },
  {
   "cell_type": "markdown",
   "metadata": {},
   "source": [
    "La matrice A et B contiennent les transitions entre états... Un état qui est nul signifie que la probabilité de transition d'un état à l'autre est nulle et donc que le pixel est noir."
   ]
  },
  {
   "cell_type": "code",
   "execution_count": 30,
   "metadata": {},
   "outputs": [
    {
     "data": {
      "text/plain": [
       "array([[ 0.84178118,  0.15821882, -0.        , -0.        , -0.        ],\n",
       "       [-0.        ,  0.7886163 ,  0.2113837 , -0.        , -0.        ],\n",
       "       [-0.        , -0.        ,  0.86339743,  0.13660257, -0.        ],\n",
       "       [-0.        , -0.        , -0.        ,  0.79150194,  0.20849806],\n",
       "       [-0.        , -0.        , -0.        , -0.        ,  1.        ]])"
      ]
     },
     "execution_count": 30,
     "metadata": {},
     "output_type": "execute_result"
    }
   ],
   "source": [
    "A0"
   ]
  },
  {
   "cell_type": "code",
   "execution_count": 29,
   "metadata": {},
   "outputs": [
    {
     "data": {
      "text/plain": [
       "<matplotlib.image.AxesImage at 0x7f7fe88ffed0>"
      ]
     },
     "execution_count": 29,
     "metadata": {},
     "output_type": "execute_result"
    },
    {
     "data": {
      "image/png": "[encoded data removed]",
      "text/plain": [
       "<Figure size 1080x504 with 1 Axes>"
      ]
     },
     "metadata": {
      "needs_background": "light"
     },
     "output_type": "display_data"
    }
   ],
   "source": [
    "plt.figure(figsize=(15,7))\n",
    "plt.imshow(A0, cmap='gray')"
   ]
  },
  {
   "cell_type": "code",
   "execution_count": 35,
   "metadata": {},
   "outputs": [
    {
     "data": {
      "text/plain": [
       "3"
      ]
     },
     "execution_count": 35,
     "metadata": {},
     "output_type": "execute_result"
    }
   ],
   "source": [
    "def etat_suivant_ligne(ligne_A):\n",
    "    unif = np.random.random()\n",
    "    cs = np.cumsum(ligne_A)\n",
    "    state = 0\n",
    "    while (unif >= cs[state]):\n",
    "        state = state+1\n",
    "    return state+1\n",
    "etat_suivant_ligne(A0[2])"
   ]
  },
  {
   "cell_type": "code",
   "execution_count": null,
   "metadata": {},
   "outputs": [],
   "source": [
    "def etat_suivant_q(state_t, mat):\n",
    "    unif = np.random.random()\n",
    "    cs = np.cumsum(mat[state_t])\n",
    "    x = cs > unif\n",
    "    state_t1 = list(x).index(True)\n",
    "    return state_t1\n",
    "etat_suivant_q(2, A0)"
   ]
  },
  {
   "cell_type": "code",
   "execution_count": 47,
   "metadata": {},
   "outputs": [],
   "source": [
    "def generate_seq():\n",
    "    seq = []\n",
    "    state = 0\n",
    "    while state !=4:\n",
    "        n_state = etat_suivant_q(state,B0)\n",
    "        seq.append(n_state)\n",
    "        state = n_state\n",
    "    return seq"
   ]
  },
  {
   "cell_type": "code",
   "execution_count": 57,
   "metadata": {},
   "outputs": [
    {
     "data": {
      "text/plain": [
       "array([0., 1., 0., 1., 0.])"
      ]
     },
     "execution_count": 57,
     "metadata": {},
     "output_type": "execute_result"
    }
   ],
   "source": [
    "def generate_obs(state,mat):\n",
    "    unif = np.random.random()\n",
    "    cs = np.cumsum(mat[:,state])\n",
    "    x = cs > unif\n",
    "    idx = list(x).index(True)\n",
    "    obs = v[:,idx]\n",
    "    return obs\n",
    "tst0 = generate_obs(2,B1)\n",
    "tst0"
   ]
  },
  {
   "cell_type": "code",
   "execution_count": 58,
   "metadata": {},
   "outputs": [
    {
     "data": {
      "text/plain": [
       "array([0., 1., 1., 1., 0.])"
      ]
     },
     "execution_count": 58,
     "metadata": {},
     "output_type": "execute_result"
    }
   ],
   "source": [
    "tst1 = generate_obs(1,B1)\n",
    "tst1"
   ]
  },
  {
   "cell_type": "code",
   "execution_count": 70,
   "metadata": {},
   "outputs": [
    {
     "data": {
      "text/plain": [
       "array([[0.],\n",
       "       [1.],\n",
       "       [0.],\n",
       "       [1.],\n",
       "       [0.],\n",
       "       [0.],\n",
       "       [1.],\n",
       "       [1.],\n",
       "       [1.],\n",
       "       [0.]])"
      ]
     },
     "execution_count": 70,
     "metadata": {},
     "output_type": "execute_result"
    }
   ],
   "source": [
    "j = np.hstack((tst0,tst1)).reshape(-1,1)"
   ]
  },
  {
   "cell_type": "code",
   "execution_count": 71,
   "metadata": {},
   "outputs": [
    {
     "data": {
      "text/plain": [
       "<matplotlib.image.AxesImage at 0x7f7fe8817a90>"
      ]
     },
     "execution_count": 71,
     "metadata": {},
     "output_type": "execute_result"
    },
    {
     "data": {
      "image/png": "[encoded data removed]",
      "text/plain": [
       "<Figure size 432x288 with 1 Axes>"
      ]
     },
     "metadata": {
      "needs_background": "light"
     },
     "output_type": "display_data"
    }
   ],
   "source": [
    "plt.imshow(j)"
   ]
  },
  {
   "cell_type": "code",
   "execution_count": null,
   "metadata": {},
   "outputs": [],
   "source": [
    "plt.imshow(np.hstack([generate_obs(s,B1) for s in generate_seq()]).reshape(-1,1))"
   ]
  },
  {
   "cell_type": "code",
   "execution_count": null,
   "metadata": {},
   "outputs": [],
   "source": [
    "im=[]\n",
    "# les x contiennent les index dans le dictionnaire\n",
    "for t in range (0,len(state)):\n",
    "    im_col=v[:, x[t]-1]\n",
    "    im.append(im_col)\n",
    "im = np.array(im).T # now make an array\n",
    "plt.imshow(im*255, cmap=’Greys’, interpolation=’none’, aspect=’auto’)"
   ]
  },
  {
   "cell_type": "code",
   "execution_count": null,
   "metadata": {},
   "outputs": [],
   "source": []
  }
 ],
 "metadata": {
  "kernelspec": {
   "display_name": "Python 3",
   "language": "python",
   "name": "python3"
  },
  "language_info": {
   "codemirror_mode": {
    "name": "ipython",
    "version": 3
   },
   "file_extension": ".py",
   "mimetype": "text/x-python",
   "name": "python",
   "nbconvert_exporter": "python",
   "pygments_lexer": "ipython3",
   "version": "3.7.5"
  }
 },
 "nbformat": 4,
 "nbformat_minor": 2
}
