{
 "cells": [
  {
   "cell_type": "markdown",
   "metadata": {},
   "source": [
    "# TP SGD"
   ]
  },
  {
   "cell_type": "code",
   "execution_count": 1,
   "metadata": {},
   "outputs": [],
   "source": [
    "### Imports\n",
    "import numpy as np\n",
    "import matplotlib.pyplot as plt\n",
    "from sklearn import datasets\n",
    "from sklearn import linear_model"
   ]
  },
  {
   "cell_type": "code",
   "execution_count": 3,
   "metadata": {},
   "outputs": [],
   "source": [
    "def perte_quadratique(a,b):\n",
    "    return (a-b)**2/2\n",
    "\n",
    "def derivee_loss(a,b):\n",
    "    return a-b\n",
    "\n",
    "def grad_desc(X, y, beta, lr=.01, converge_change=.001): \n",
    "    ''' \n",
    "    gradient descent function \n",
    "    '''\n",
    "    cost = cost_func(beta, X, y) \n",
    "    change_cost = 1\n",
    "    num_iter = 1\n",
    "      \n",
    "    while(change_cost > converge_change): \n",
    "        old_cost = cost \n",
    "        beta = beta - (lr * log_gradient(beta, X, y)) \n",
    "        cost = cost_func(beta, X, y) \n",
    "        change_cost = old_cost - cost \n",
    "        num_iter += 1\n",
    "      \n",
    "    return beta, num_iter"
   ]
  },
  {
   "cell_type": "code",
   "execution_count": 35,
   "metadata": {},
   "outputs": [],
   "source": [
    "def stochastic_gradient(X, y, gamma, n_iter, w_ini, loss=\"mse\",\n",
    "                        alpha=0, average=False):\n",
    "    n_samples = X.shape[0]\n",
    "    X = np.concatenate((np.ones((n_samples, 1)), X), axis=1)\n",
    "    all_w = np.zeros((n_iter, w_ini.size))\n",
    "    all_w[0] = w_ini\n",
    "    w = w_ini.copy()\n",
    "    \n",
    "    w_avg = w_ini.copy()\n",
    "    \n",
    "    pobj = np.zeros(n_iter)\n",
    "    pobj_avg = np.zeros(n_iter)\n",
    "\n",
    "    if not callable(gamma):\n",
    "        # Turn gamma to a function for QUESTION ???\n",
    "\n",
    "        def gamma_func(t):\n",
    "            return gamma\n",
    "    else:\n",
    "        gamma_func = gamma\n",
    "\n",
    "    for t in range(n_iter):\n",
    "        idx = np.random.randint(n_samples)\n",
    "        if loss == \"mse\":\n",
    "            pobj[t] = 0.5 * np.mean((y - np.dot(X, w)) ** 2)\n",
    "            gradient = 0.0; # QUESTION 2\n",
    "            \n",
    "            pobj_avg[t] = 0.5 * np.mean((y - np.dot(X, w_avg)) ** 2)\n",
    "            if alpha > 0:\n",
    "                pobj[t] += 0.5 * np.dot(w, w)\n",
    "                pobj_avg[t] += 0.5 * np.dot(w_avg, w_avg)\n",
    "            gradient = X[idx, :] * (np.dot(X[idx], w) - y[idx])\n",
    "            \n",
    "            \n",
    "        elif loss == \"hinge\":\n",
    "            gradient = 0.0; # QUESTION 11\n",
    "            raise NotImplementedError('QUESTION 11')\n",
    "        w -= gamma_func(t) * gradient\n",
    "        \n",
    "        if average is True:\n",
    "            raise NotImplementedError('QUESTION 9')\n",
    "\n",
    "        if alpha > 0:\n",
    "            raise NotImplementedError('QUESTION 6')\n",
    "        \n",
    "        \n",
    "        all_w[t] = w\n",
    "    return w, w_avg, all_w, pobj, pobj_avg"
   ]
  },
  {
   "cell_type": "code",
   "execution_count": 36,
   "metadata": {},
   "outputs": [],
   "source": [
    "def decision_function(X, w):\n",
    "    \"\"\" fonction de prediction a partir d'un vecteur directeur\"\"\"\n",
    "    return np.dot(X, w[1:]) + w[0]\n",
    "\n",
    "\n",
    "def predict(X, w):\n",
    "    \"\"\" fonction de prediction de classe a partir d'un vecteur directeur\"\"\"\n",
    "    return np.sign(decision_function(X, w))"
   ]
  },
  {
   "cell_type": "code",
   "execution_count": 54,
   "metadata": {},
   "outputs": [],
   "source": [
    "n_samples = 1000\n",
    "n_features = 100\n",
    "#n_iter = 1000  # number of iterations\n",
    "#gamma = 0.1  # suggested step size\n",
    "gamma = 0.01  # step size\n",
    "n_iter = 10000  # number of iterations\n",
    "\n",
    "def gamma(t):\n",
    "    return 1. / (100 + t)\n",
    "\n",
    "X_toy = np.random.randn(n_samples, n_features)\n",
    "epsilon_toy = np.random.randn(n_samples)\n",
    "w_target = np.ones(n_features)\n",
    "y_toy = X_toy.dot(w_target) + epsilon_toy\n"
   ]
  },
  {
   "cell_type": "code",
   "execution_count": 55,
   "metadata": {},
   "outputs": [
    {
     "data": {
      "image/png": "[encoded data removed]",
      "text/plain": [
       "<Figure size 432x288 with 1 Axes>"
      ]
     },
     "metadata": {
      "needs_background": "light"
     },
     "output_type": "display_data"
    }
   ],
   "source": [
    "loss = 'mse'\n",
    "\n",
    "# Initialize w with just zeros\n",
    "w_ini = np.zeros(X_toy.shape[1] + 1)\n",
    "\n",
    "w, w_avg, all_w, pobj, pobj_avg = stochastic_gradient(X_toy, y_toy, gamma,n_iter, w_ini, loss=loss, alpha=0)\n",
    "plt.figure()\n",
    "plt.plot(pobj, label=\"normal\")\n",
    "plt.plot(pobj_avg, 'r', label=\"avg\", linewidth=\"4\")\n",
    "plt.xlabel('t')\n",
    "plt.ylabel('cost')\n",
    "plt.title('%s stochastic (toy)' % loss)\n",
    "plt.legend(loc = 'best')\n",
    "plt.show()"
   ]
  },
  {
   "cell_type": "code",
   "execution_count": 56,
   "metadata": {},
   "outputs": [],
   "source": [
    "iris = datasets.load_iris()\n",
    "X_iris = iris.data # we only take the first two features.\n",
    "y_iris = iris.target"
   ]
  },
  {
   "cell_type": "code",
   "execution_count": 57,
   "metadata": {},
   "outputs": [
    {
     "data": {
      "image/png": "[encoded data removed]",
      "text/plain": [
       "<Figure size 432x288 with 1 Axes>"
      ]
     },
     "metadata": {
      "needs_background": "light"
     },
     "output_type": "display_data"
    }
   ],
   "source": [
    "w_ini = np.zeros(X_iris.shape[1] + 1)\n",
    "w, w_avg, all_w, pobj, pobj_avg = stochastic_gradient(X_iris, y_iris, gamma,n_iter, w_ini, loss=loss, alpha=0)\n",
    "plt.figure()\n",
    "plt.plot(pobj, label=\"normal\")\n",
    "plt.plot(pobj_avg, 'r', label=\"avg\", linewidth=\"4\")\n",
    "plt.xlabel('t')\n",
    "plt.ylabel('cost')\n",
    "plt.title('%s stochastic (toy)' % loss)\n",
    "plt.legend(loc = 'best')\n",
    "plt.show()"
   ]
  },
  {
   "cell_type": "code",
   "execution_count": null,
   "metadata": {},
   "outputs": [],
   "source": [
    "# quand on a un pas constant, la fonction ne converge pas, quand gamma est petit -> ca tend vers 0, quand gamma = 0.01 \n",
    "# petite valeur propre, données normales, "
   ]
  }
 ],
 "metadata": {
  "kernelspec": {
   "display_name": "Python 3",
   "language": "python",
   "name": "python3"
  },
  "language_info": {
   "codemirror_mode": {
    "name": "ipython",
    "version": 3
   },
   "file_extension": ".py",
   "mimetype": "text/x-python",
   "name": "python",
   "nbconvert_exporter": "python",
   "pygments_lexer": "ipython3",
   "version": "3.7.5"
  }
 },
 "nbformat": 4,
 "nbformat_minor": 2
}
