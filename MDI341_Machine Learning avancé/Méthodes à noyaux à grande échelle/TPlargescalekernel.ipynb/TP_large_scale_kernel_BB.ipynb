{
 "cells": [
  {
   "cell_type": "markdown",
   "metadata": {},
   "source": [
    "# TP Large Scale Kernel Methods\n",
    "\n",
    "### MDI341<br />\n",
    "Xavier Bracquart - Sonia Bouden 02/03/2020"
   ]
  },
  {
   "cell_type": "code",
   "execution_count": 3,
   "metadata": {},
   "outputs": [],
   "source": [
    "import numpy as np\n",
    "from scipy import linalg\n",
    "import matplotlib.pyplot as plt\n",
    "plt.style.use('ggplot')\n",
    "\n",
    "from sklearn.model_selection import train_test_split\n",
    "from sklearn.preprocessing import StandardScaler\n",
    "from sklearn.datasets import load_svmlight_file\n",
    "\n",
    "from sklearn.svm import SVC, LinearSVC\n",
    "from sklearn.metrics import accuracy_score\n",
    "from time import time\n",
    "\n",
    "from scipy.sparse.linalg import svds\n",
    "from scipy.linalg import svd\n",
    "\n",
    "from sklearn.metrics.pairwise import rbf_kernel, laplacian_kernel\n",
    "import scipy"
   ]
  },
  {
   "cell_type": "markdown",
   "metadata": {},
   "source": [
    "## Chargement et partitionnement des données"
   ]
  },
  {
   "cell_type": "code",
   "execution_count": 5,
   "metadata": {},
   "outputs": [
    {
     "name": "stdout",
     "output_type": "stream",
     "text": [
      "Nombre d'exemples d'apprentissage: 20000\n",
      "Nombre d'exemples de test: 40000\n",
      "Nombre de features: 22\n"
     ]
    }
   ],
   "source": [
    "###############################################################################\n",
    "# Requires file ijcnn1.dat.gz to be present in the directory\n",
    "\n",
    "dataset_path = '../ijcnn1.dat'\n",
    "ijcnn1 = load_svmlight_file(dataset_path)\n",
    "X = ijcnn1[0].todense()\n",
    "y = ijcnn1[1]\n",
    "\n",
    "###############################################################################\n",
    "# Extract features\n",
    "\n",
    "X_train, X_test, y_train, y_test = train_test_split(X[:60000, :], y[:60000],\n",
    "                     train_size=20000, random_state=42)\n",
    "\n",
    "scaler = StandardScaler()\n",
    "X_train = scaler.fit_transform(X_train)\n",
    "X_test = scaler.transform(X_test)\n",
    "\n",
    "n1, p = X_train.shape\n",
    "n2 = X_test.shape[0]\n",
    "\n",
    "print(\"Nombre d'exemples d'apprentissage:\", n1)\n",
    "print(\"Nombre d'exemples de test:\", n2)\n",
    "print(\"Nombre de features:\", p)"
   ]
  },
  {
   "cell_type": "markdown",
   "metadata": {},
   "source": [
    "## Question 1"
   ]
  },
  {
   "cell_type": "markdown",
   "metadata": {},
   "source": [
    "On va fitter nos données d'apprentissage avec un SVM linéaire et un SVM non-linéaire (noyau Gaussien) pour comparer leur score de prédiction ainsi que le temps de calcul nécessaire à l'apprentissage et à la prédiction."
   ]
  },
  {
   "cell_type": "markdown",
   "metadata": {},
   "source": [
    "### SMV non linéaire (noyau Gaussien) - SVC"
   ]
  },
  {
   "cell_type": "code",
   "execution_count": 6,
   "metadata": {},
   "outputs": [
    {
     "name": "stdout",
     "output_type": "stream",
     "text": [
      "Fitting SVC rbf on 20000 samples...\n",
      "done in 3.394s\n",
      "Predicting with SVC rbf on 40000 samples...\n",
      "done in 4.017s\n",
      "classification accuracy: 0.980\n"
     ]
    }
   ],
   "source": [
    "print(\"Fitting SVC rbf on %d samples...\" % X_train.shape[0])\n",
    "t0 = time()\n",
    "\n",
    "clf = SVC(kernel='rbf', random_state=261)\n",
    "clf.fit(X_train, y_train)\n",
    "print(\"done in %0.3fs\" % (time() - t0))\n",
    "\n",
    "print(\"Predicting with SVC rbf on %d samples...\" % X_test.shape[0])\n",
    "t1 = time()\n",
    "\n",
    "y_pred = clf.predict(X_test)\n",
    "accuracy_kernel = accuracy_score(y_test, y_pred)\n",
    "print(\"done in %0.3fs\" % (time() - t1))\n",
    "timing_kernel = time() - t0\n",
    "print(\"classification accuracy: %0.3f\" % accuracy_kernel)"
   ]
  },
  {
   "cell_type": "markdown",
   "metadata": {},
   "source": [
    "### SVC linéaire"
   ]
  },
  {
   "cell_type": "code",
   "execution_count": 7,
   "metadata": {},
   "outputs": [
    {
     "name": "stdout",
     "output_type": "stream",
     "text": [
      "Fitting LinearSVC on 20000 samples...\n",
      "done in 0.095s\n",
      "Predicting with LinearSVC on 40000 samples...\n",
      "done in 0.176s\n",
      "classification accuracy: 0.917\n"
     ]
    }
   ],
   "source": [
    "# TODO same for LinearSVC\n",
    "print(\"Fitting LinearSVC on %d samples...\" % X_train.shape[0])\n",
    "t0 = time()\n",
    "# TODO\n",
    "clf = LinearSVC(dual=False, random_state=261)\n",
    "clf.fit(X_train, y_train)\n",
    "print(\"done in %0.3fs\" % (time() - t0))\n",
    "\n",
    "print(\"Predicting with LinearSVC on %d samples...\" % X_test.shape[0])\n",
    "t1 = time()\n",
    "# TODO\n",
    "y_pred = clf.predict(X_test)\n",
    "accuracy_linear = accuracy_score(y_test, y_pred)\n",
    "print(\"done in %0.3fs\" % (time() - t1))\n",
    "timing_linear = time() - t0\n",
    "print(\"classification accuracy: %0.3f\" % accuracy_linear)"
   ]
  },
  {
   "cell_type": "markdown",
   "metadata": {},
   "source": [
    "Le modèle LinearSVC s'entraîne et prédit beaucoup plus rapidement que le modèle SVC. Par contre, en terme de précision, la classification est meilleure avec le modèle SVC que le modèle SVC linéaire."
   ]
  },
  {
   "cell_type": "markdown",
   "metadata": {},
   "source": [
    "## Question 2"
   ]
  },
  {
   "cell_type": "markdown",
   "metadata": {},
   "source": [
    "On code une fonction qui calcule la meilleure approximation de rang $k$."
   ]
  },
  {
   "cell_type": "code",
   "execution_count": 8,
   "metadata": {},
   "outputs": [],
   "source": [
    "def rank_trunc(gram_mat, k, fast=True):\n",
    "    \"\"\"\n",
    "    k-th order approximation of the Gram Matrix G.\n",
    "\n",
    "    Parameters\n",
    "    ----------\n",
    "    gram_mat : array, shape (n_samples, n_samples)\n",
    "        the Gram matrix\n",
    "    k : int\n",
    "        the order approximation\n",
    "    fast : bool\n",
    "        use svd (if False) or svds (if True).\n",
    "\n",
    "    Return\n",
    "    ------\n",
    "    gram_mat_k : array, shape (n_samples, n_samples)\n",
    "        The rank k Gram matrix.\n",
    "    \"\"\"\n",
    "    if fast:\n",
    "        print(\"calcul de la matrice complète (fast)\")\n",
    "        U, S, V = svds(gram_mat, k)\n",
    "        gram_mat_k = U @ np.diag(S) @ V\n",
    "    else:\n",
    "        print(\"calcul avec la méthode lente\")\n",
    "        U, S, V = svd(gram_mat)\n",
    "        gram_mat_k = U[:,:k] @ np.diag(S[:k]) @ V[:k]\n",
    "\n",
    "    return gram_mat_k"
   ]
  },
  {
   "cell_type": "markdown",
   "metadata": {},
   "source": [
    "## Question 3"
   ]
  },
  {
   "cell_type": "markdown",
   "metadata": {},
   "source": [
    "On applique cette fonction sur la matrice décrite dans le sujet de TP."
   ]
  },
  {
   "cell_type": "code",
   "execution_count": 9,
   "metadata": {
    "scrolled": true
   },
   "outputs": [
    {
     "name": "stdout",
     "output_type": "stream",
     "text": [
      "0 1\n",
      "calcul de la matrice complète (fast)\n",
      "calcul avec la méthode lente\n",
      "1 2\n",
      "calcul de la matrice complète (fast)\n",
      "calcul avec la méthode lente\n",
      "2 3\n",
      "calcul de la matrice complète (fast)\n",
      "calcul avec la méthode lente\n",
      "3 4\n",
      "calcul de la matrice complète (fast)\n",
      "calcul avec la méthode lente\n",
      "4 5\n",
      "calcul de la matrice complète (fast)\n",
      "calcul avec la méthode lente\n",
      "5 6\n",
      "calcul de la matrice complète (fast)\n",
      "calcul avec la méthode lente\n",
      "6 7\n",
      "calcul de la matrice complète (fast)\n",
      "calcul avec la méthode lente\n",
      "7 8\n",
      "calcul de la matrice complète (fast)\n",
      "calcul avec la méthode lente\n",
      "8 9\n",
      "calcul de la matrice complète (fast)\n",
      "calcul avec la méthode lente\n",
      "9 10\n",
      "calcul de la matrice complète (fast)\n",
      "calcul avec la méthode lente\n",
      "10 11\n",
      "calcul de la matrice complète (fast)\n",
      "calcul avec la méthode lente\n",
      "11 12\n",
      "calcul de la matrice complète (fast)\n",
      "calcul avec la méthode lente\n",
      "12 13\n",
      "calcul de la matrice complète (fast)\n",
      "calcul avec la méthode lente\n",
      "13 14\n",
      "calcul de la matrice complète (fast)\n",
      "calcul avec la méthode lente\n",
      "14 15\n",
      "calcul de la matrice complète (fast)\n",
      "calcul avec la méthode lente\n",
      "15 16\n",
      "calcul de la matrice complète (fast)\n",
      "calcul avec la méthode lente\n",
      "16 17\n",
      "calcul de la matrice complète (fast)\n",
      "calcul avec la méthode lente\n",
      "17 18\n",
      "calcul de la matrice complète (fast)\n",
      "calcul avec la méthode lente\n",
      "18 19\n",
      "calcul de la matrice complète (fast)\n",
      "calcul avec la méthode lente\n",
      "19 20\n",
      "calcul de la matrice complète (fast)\n",
      "calcul avec la méthode lente\n",
      "20 21\n",
      "calcul de la matrice complète (fast)\n",
      "calcul avec la méthode lente\n",
      "21 22\n",
      "calcul de la matrice complète (fast)\n",
      "calcul avec la méthode lente\n",
      "22 23\n",
      "calcul de la matrice complète (fast)\n",
      "calcul avec la méthode lente\n",
      "23 24\n",
      "calcul de la matrice complète (fast)\n",
      "calcul avec la méthode lente\n",
      "24 25\n",
      "calcul de la matrice complète (fast)\n",
      "calcul avec la méthode lente\n",
      "25 26\n",
      "calcul de la matrice complète (fast)\n",
      "calcul avec la méthode lente\n",
      "26 27\n",
      "calcul de la matrice complète (fast)\n",
      "calcul avec la méthode lente\n",
      "27 28\n",
      "calcul de la matrice complète (fast)\n",
      "calcul avec la méthode lente\n",
      "28 29\n",
      "calcul de la matrice complète (fast)\n",
      "calcul avec la méthode lente\n",
      "29 30\n",
      "calcul de la matrice complète (fast)\n",
      "calcul avec la méthode lente\n",
      "30 31\n",
      "calcul de la matrice complète (fast)\n",
      "calcul avec la méthode lente\n",
      "31 32\n",
      "calcul de la matrice complète (fast)\n",
      "calcul avec la méthode lente\n",
      "32 33\n",
      "calcul de la matrice complète (fast)\n",
      "calcul avec la méthode lente\n",
      "33 34\n",
      "calcul de la matrice complète (fast)\n",
      "calcul avec la méthode lente\n",
      "34 35\n",
      "calcul de la matrice complète (fast)\n",
      "calcul avec la méthode lente\n",
      "35 36\n",
      "calcul de la matrice complète (fast)\n",
      "calcul avec la méthode lente\n",
      "36 37\n",
      "calcul de la matrice complète (fast)\n",
      "calcul avec la méthode lente\n",
      "37 38\n",
      "calcul de la matrice complète (fast)\n",
      "calcul avec la méthode lente\n",
      "38 39\n",
      "calcul de la matrice complète (fast)\n",
      "calcul avec la méthode lente\n",
      "39 40\n",
      "calcul de la matrice complète (fast)\n",
      "calcul avec la méthode lente\n",
      "40 41\n",
      "calcul de la matrice complète (fast)\n",
      "calcul avec la méthode lente\n",
      "41 42\n",
      "calcul de la matrice complète (fast)\n",
      "calcul avec la méthode lente\n",
      "42 43\n",
      "calcul de la matrice complète (fast)\n",
      "calcul avec la méthode lente\n",
      "43 44\n",
      "calcul de la matrice complète (fast)\n",
      "calcul avec la méthode lente\n",
      "44 45\n",
      "calcul de la matrice complète (fast)\n",
      "calcul avec la méthode lente\n",
      "45 46\n",
      "calcul de la matrice complète (fast)\n",
      "calcul avec la méthode lente\n",
      "46 47\n",
      "calcul de la matrice complète (fast)\n",
      "calcul avec la méthode lente\n",
      "47 48\n",
      "calcul de la matrice complète (fast)\n",
      "calcul avec la méthode lente\n",
      "48 49\n",
      "calcul de la matrice complète (fast)\n",
      "calcul avec la méthode lente\n",
      "49 50\n",
      "calcul de la matrice complète (fast)\n",
      "calcul avec la méthode lente\n",
      "50 51\n",
      "calcul de la matrice complète (fast)\n",
      "calcul avec la méthode lente\n",
      "51 52\n",
      "calcul de la matrice complète (fast)\n",
      "calcul avec la méthode lente\n",
      "52 53\n",
      "calcul de la matrice complète (fast)\n",
      "calcul avec la méthode lente\n",
      "53 54\n",
      "calcul de la matrice complète (fast)\n",
      "calcul avec la méthode lente\n",
      "54 55\n",
      "calcul de la matrice complète (fast)\n",
      "calcul avec la méthode lente\n",
      "55 56\n",
      "calcul de la matrice complète (fast)\n",
      "calcul avec la méthode lente\n",
      "56 57\n",
      "calcul de la matrice complète (fast)\n",
      "calcul avec la méthode lente\n",
      "57 58\n",
      "calcul de la matrice complète (fast)\n",
      "calcul avec la méthode lente\n",
      "58 59\n",
      "calcul de la matrice complète (fast)\n",
      "calcul avec la méthode lente\n",
      "59 60\n",
      "calcul de la matrice complète (fast)\n",
      "calcul avec la méthode lente\n",
      "60 61\n",
      "calcul de la matrice complète (fast)\n",
      "calcul avec la méthode lente\n",
      "61 62\n",
      "calcul de la matrice complète (fast)\n",
      "calcul avec la méthode lente\n",
      "62 63\n",
      "calcul de la matrice complète (fast)\n",
      "calcul avec la méthode lente\n",
      "63 64\n",
      "calcul de la matrice complète (fast)\n",
      "calcul avec la méthode lente\n",
      "64 65\n",
      "calcul de la matrice complète (fast)\n",
      "calcul avec la méthode lente\n",
      "65 66\n",
      "calcul de la matrice complète (fast)\n",
      "calcul avec la méthode lente\n",
      "66 67\n",
      "calcul de la matrice complète (fast)\n",
      "calcul avec la méthode lente\n",
      "67 68\n",
      "calcul de la matrice complète (fast)\n",
      "calcul avec la méthode lente\n",
      "68 69\n",
      "calcul de la matrice complète (fast)\n",
      "calcul avec la méthode lente\n",
      "69 70\n",
      "calcul de la matrice complète (fast)\n",
      "calcul avec la méthode lente\n",
      "70 71\n",
      "calcul de la matrice complète (fast)\n",
      "calcul avec la méthode lente\n",
      "71 72\n",
      "calcul de la matrice complète (fast)\n",
      "calcul avec la méthode lente\n",
      "72 73\n",
      "calcul de la matrice complète (fast)\n",
      "calcul avec la méthode lente\n",
      "73 74\n",
      "calcul de la matrice complète (fast)\n",
      "calcul avec la méthode lente\n",
      "74 75\n",
      "calcul de la matrice complète (fast)\n",
      "calcul avec la méthode lente\n",
      "75 76\n",
      "calcul de la matrice complète (fast)\n",
      "calcul avec la méthode lente\n",
      "76 77\n",
      "calcul de la matrice complète (fast)\n",
      "calcul avec la méthode lente\n",
      "77 78\n",
      "calcul de la matrice complète (fast)\n",
      "calcul avec la méthode lente\n",
      "78 79\n",
      "calcul de la matrice complète (fast)\n",
      "calcul avec la méthode lente\n",
      "79 80\n",
      "calcul de la matrice complète (fast)\n",
      "calcul avec la méthode lente\n",
      "80 81\n",
      "calcul de la matrice complète (fast)\n",
      "calcul avec la méthode lente\n",
      "81 82\n",
      "calcul de la matrice complète (fast)\n",
      "calcul avec la méthode lente\n",
      "82 83\n",
      "calcul de la matrice complète (fast)\n",
      "calcul avec la méthode lente\n",
      "83 84\n",
      "calcul de la matrice complète (fast)\n",
      "calcul avec la méthode lente\n",
      "84 85\n",
      "calcul de la matrice complète (fast)\n",
      "calcul avec la méthode lente\n",
      "85 86\n",
      "calcul de la matrice complète (fast)\n",
      "calcul avec la méthode lente\n",
      "86 87\n",
      "calcul de la matrice complète (fast)\n",
      "calcul avec la méthode lente\n",
      "87 88\n",
      "calcul de la matrice complète (fast)\n",
      "calcul avec la méthode lente\n",
      "88 89\n",
      "calcul de la matrice complète (fast)\n",
      "calcul avec la méthode lente\n",
      "89 90\n",
      "calcul de la matrice complète (fast)\n",
      "calcul avec la méthode lente\n",
      "90 91\n",
      "calcul de la matrice complète (fast)\n",
      "calcul avec la méthode lente\n",
      "91 92\n",
      "calcul de la matrice complète (fast)\n",
      "calcul avec la méthode lente\n",
      "92 93\n",
      "calcul de la matrice complète (fast)\n",
      "calcul avec la méthode lente\n",
      "93 94\n",
      "calcul de la matrice complète (fast)\n",
      "calcul avec la méthode lente\n",
      "94 95\n",
      "calcul de la matrice complète (fast)\n",
      "calcul avec la méthode lente\n",
      "95 96\n",
      "calcul de la matrice complète (fast)\n",
      "calcul avec la méthode lente\n",
      "96 97\n",
      "calcul de la matrice complète (fast)\n",
      "calcul avec la méthode lente\n",
      "97 98\n",
      "calcul de la matrice complète (fast)\n",
      "calcul avec la méthode lente\n",
      "98 99\n",
      "calcul de la matrice complète (fast)\n",
      "calcul avec la méthode lente\n",
      "99 100\n",
      "calcul de la matrice complète (fast)\n",
      "calcul avec la méthode lente\n"
     ]
    }
   ],
   "source": [
    "p = 200\n",
    "r_noise = 100\n",
    "r_signal = 20\n",
    "\n",
    "intensity = 50\n",
    "\n",
    "rng = np.random.RandomState(42)\n",
    "X_noise = rng.randn(r_noise, p)\n",
    "X_signal = rng.randn(r_signal, p)\n",
    "\n",
    "gram_signal = np.dot(X_noise.T, X_noise) + intensity * np.dot(X_signal.T, X_signal)\n",
    "n_ranks = 100\n",
    "ranks = np.arange(1, n_ranks + 1)\n",
    "timing_fast = np.zeros(n_ranks)\n",
    "timing_slow = np.zeros(n_ranks)\n",
    "rel_error = np.zeros(n_ranks)\n",
    "\n",
    "for k, rank in enumerate(ranks):\n",
    "    print(k, rank)\n",
    "    t0 = time()\n",
    "    gram_mat_k = rank_trunc(gram_signal, rank, fast=True)\n",
    "    timing_fast[k] = time() - t0\n",
    "\n",
    "    t0 = time()\n",
    "    gram_mat_k = rank_trunc(gram_signal, rank, fast=False)\n",
    "    timing_slow[k] = time() - t0\n",
    "\n",
    "    # TODO: compute relative error with Frobenius norm\n",
    "    rel_error[k] = np.linalg.norm(gram_mat_k - gram_signal, 'fro') / np.linalg.norm(gram_signal, 'fro')"
   ]
  },
  {
   "cell_type": "code",
   "execution_count": 10,
   "metadata": {},
   "outputs": [
    {
     "data": {
      "image/png": "[encoded data removed]",
      "text/plain": [
       "<Figure size 720x432 with 2 Axes>"
      ]
     },
     "metadata": {},
     "output_type": "display_data"
    }
   ],
   "source": [
    "###############################################################################\n",
    "# Display\n",
    "\n",
    "f, axes = plt.subplots(ncols=1, nrows=2, figsize=(10,6))\n",
    "ax1, ax2 = axes.ravel()\n",
    "\n",
    "ax1.plot(ranks, timing_fast, '-', label='fast')\n",
    "ax1.plot(ranks, timing_slow, '-', label='slow')\n",
    "ax1.legend()\n",
    "\n",
    "ax1.set_xlabel('Rank')\n",
    "ax1.set_ylabel('Time')\n",
    "ax2.plot(ranks, rel_error, '-')\n",
    "ax2.set_xlabel('Rank')\n",
    "ax2.set_ylabel('Relative Error')\n",
    "plt.tight_layout()\n",
    "plt.show()"
   ]
  },
  {
   "cell_type": "markdown",
   "metadata": {},
   "source": [
    "On remarque que l'erreur relative diminue en augmentant le rang.\n",
    "\n",
    "On remarque que la méthode dite lente devient plus efficace à partir du rang 30. Ceci s'explique par le fait que la méthode fast fait la décomposition svd complète, alors que la méthode svds tronque la matrice pour effectuer le même calcul. Plus le rang de la matrice augmente, plus la méthode tronquée (lente) devient plus efficace. Ceci nécessite de bien connaitre la matrice avec laquelle on travaille (par exemple si on sait que celle-ci contient des valeurs nulles... celle-ci peut s'avérer plus optimale).\n",
    "Quand les données sont volumineuses, il est assez coûteux de calculer la matrice de Gram complète.\n",
    "Quand la matrice est sparse, la svds est plus performante."
   ]
  },
  {
   "cell_type": "markdown",
   "metadata": {},
   "source": [
    "## Question 4"
   ]
  },
  {
   "cell_type": "markdown",
   "metadata": {},
   "source": [
    "On va implémenter l'algorithme de Random Kernel Features pour le noyau Gaussien.\n",
    "\n",
    "La technique dite des Random Kernel Features est d’approcher φ(xi) par c features aléatoires (c < +∞)\n",
    "afin de pouvoir appliquer une méthode linéaire efficace tout en bénéficiant de l’amélioration possible du\n",
    "score de prédiction grâce à la non-linéarité du noyau.\n",
    "\n",
    "On prend un noyau gaussien (RBF). "
   ]
  },
  {
   "cell_type": "code",
   "execution_count": 11,
   "metadata": {},
   "outputs": [],
   "source": [
    "# Création des nouvelles matrices X_new_train et X_new_test \n",
    "\n",
    "def random_features(X_train, X_test, gamma, c=300, seed=44):\n",
    "    \"\"\"Compute random kernel features\n",
    "\n",
    "    Parameters\n",
    "    ----------\n",
    "    X_train : array, shape (n_samples1, n_features)\n",
    "        The train samples.\n",
    "    X_test : array, shape (n_samples2, n_features)\n",
    "        The test samples.\n",
    "    gamma : float\n",
    "        The Gaussian kernel parameter\n",
    "    c : int\n",
    "        The number of components\n",
    "    seed : int\n",
    "        The seed for random number generation\n",
    "\n",
    "    Return\n",
    "    ------\n",
    "    X_new_train : array, shape (n_samples1, c)\n",
    "        The new train samples.\n",
    "    X_new_test : array, shape (n_samples2, c)\n",
    "        The new test samples.\n",
    "    \"\"\"\n",
    "    rng = np.random.RandomState(seed)\n",
    "    \n",
    "    # n_features = p\n",
    "    # n_samples1 = n1 ou n2\n",
    "    \n",
    "    n_samples, n_features = X_train.shape\n",
    "    \n",
    "    \n",
    "#     n_samples1, n_features = X_train.shape\n",
    "#     n_samples2, n_features = X_test.shape\n",
    "   \n",
    "#     W = np.random.normal(0, np.sqrt(2*gamma), size = (n_features,c))\n",
    "#     b = np.random.uniform(0, np.sqrt(2*np.pi), size = (1,c))\n",
    "    \n",
    "#     X_new_train = np.vstack([np.sqrt(2/c)*np.cos(X_train[i]@W+b) for i in range(n_samples1)])\n",
    "#     X_new_test = np.vstack([np.sqrt(2/c)*np.cos(X_test[i]@W+b) for i in range(n_samples2)])\n",
    "    \n",
    "    W = rng.normal(0, np.sqrt(2*gamma), (X_train.shape[1],c))\n",
    "    b = rng.uniform(0, np.sqrt(2*np.pi), (1,c))\n",
    "    \n",
    "    X_new_train = np.zeros((X_train.shape[0], c))\n",
    "    for i in range(0, X_train.shape[0]):\n",
    "        X_new_train[i] = np.sqrt(2/c) * np.cos(X_train[i] @ W + b)\n",
    "        \n",
    "    X_new_test = np.zeros((X_test.shape[0], c))\n",
    "    for i in range(0, X_test.shape[0]):\n",
    "        X_new_test[i] = np.sqrt(2/c)*np.cos(X_test[i] @ W + b)\n",
    "    \n",
    "    return X_new_train, X_new_test"
   ]
  },
  {
   "cell_type": "markdown",
   "metadata": {},
   "source": [
    "## Question 5"
   ]
  },
  {
   "cell_type": "markdown",
   "metadata": {},
   "source": [
    "On va maintenant appliquer cette méthode avec $c=300$."
   ]
  },
  {
   "cell_type": "code",
   "execution_count": 12,
   "metadata": {},
   "outputs": [
    {
     "name": "stdout",
     "output_type": "stream",
     "text": [
      "Fitting SVC linear on 20000 samples...\n",
      "done in 1.453s\n",
      "Predicting with SVC linear on 40000 samples...\n",
      "done in 0.025s\n",
      "classification accuracy: 0.962\n"
     ]
    }
   ],
   "source": [
    "n_samples, n_features = X_train.shape\n",
    "n_samples_test, _ = X_test.shape\n",
    "gamma = 1. / n_features\n",
    "\n",
    "Z_train, Z_test = random_features(X_train, X_test, gamma, c=300, seed=44)\n",
    "\n",
    "print(\"Fitting SVC linear on %d samples...\" % n_samples)\n",
    "t0 = time()\n",
    "clf = LinearSVC(dual=False)\n",
    "clf.fit(Z_train, y_train)\n",
    "print(\"done in %0.3fs\" % (time() - t0))\n",
    "\n",
    "print(\"Predicting with SVC linear on %d samples...\" % n_samples_test)\n",
    "t0 = time()\n",
    "accuracy = clf.score(Z_test, y_test)\n",
    "print(\"done in %0.3fs\" % (time() - t0))\n",
    "print(\"classification accuracy: %0.3f\" % accuracy)"
   ]
  },
  {
   "cell_type": "markdown",
   "metadata": {},
   "source": [
    "L'entraînement du modèle est plus long qu'avec le SVM linéaire de départ (0.109s), mais plus rapide que le SVM non-linéaire (4.118s). Le temps de calcul pour la prédiction est pratiquement le même qu'avec le SVM linéaire.<br />\n",
    "L'accuracy a bien augmenté par rapport au SVM linéaire de départ (0.917) et se rapproche de celle du SVM non-linéaire (0.98)."
   ]
  },
  {
   "cell_type": "markdown",
   "metadata": {},
   "source": [
    "## Question 6"
   ]
  },
  {
   "cell_type": "markdown",
   "metadata": {},
   "source": [
    "On implémente la méthode de Nystrom. L’approximation de Nyström est une alternative à la méthode précédente qui permet de calculer une approximation de la matrice de Gram en utilisant un sous-ensemble aléatoire de ses colonnes. Comme les Random Kernel Features, cette méthode permet aussi de calculer des features explicites et d’être ainsi combinée à une méthode linéaire."
   ]
  },
  {
   "cell_type": "code",
   "execution_count": 13,
   "metadata": {},
   "outputs": [],
   "source": [
    "def nystrom(X_train, X_test, gamma, c=500, k=200, seed=44, kernel=rbf_kernel):\n",
    "    \"\"\"Compute nystrom kernel approximation\n",
    "\n",
    "    Parameters\n",
    "    ----------\n",
    "    X_train : array, shape (n_samples1, n_features)\n",
    "        The train samples.\n",
    "    X_test : array, shape (n_samples2, n_features)\n",
    "        The test samples.\n",
    "    gamma : float\n",
    "        The Gaussian kernel parameter\n",
    "    c : int\n",
    "        The number of points to sample for the approximation\n",
    "    k : int\n",
    "        The number of components\n",
    "    seed : int\n",
    "        The seed for random number generation\n",
    "\n",
    "    Return\n",
    "    ------\n",
    "    X_new_train : array, shape (n_samples1, c)\n",
    "        The new train samples.\n",
    "    X_new_test : array, shape (n_samples2, c)\n",
    "        The new test samples.\n",
    "    \"\"\"\n",
    "    rng = np.random.RandomState(seed)\n",
    "    n_samples = X_train.shape[0]\n",
    "    idx = rng.choice(n_samples, c)\n",
    "\n",
    "    X_train_idx = X_train[idx, :]\n",
    "    W = rbf_kernel(X_train_idx, X_train_idx, gamma=gamma)\n",
    "    \n",
    "    # TODO\n",
    "    U, S, V = svd(W)\n",
    "    Wk = U[:,:k] @ np.diag(S[:k]) @ V[:k,:]\n",
    "    Mk = U[:,:k] @ scipy.linalg.fractional_matrix_power(np.diag(S[:k]), -0.5)\n",
    "    \n",
    "    C_train = kernel(X_train, X_train_idx, gamma=gamma)\n",
    "    C_test = kernel(X_test, X_train_idx, gamma=gamma)\n",
    "    \n",
    "    X_new_train = C_train @ Mk\n",
    "    X_new_test = C_test @ Mk\n",
    "    \n",
    "    return X_new_train, X_new_test"
   ]
  },
  {
   "cell_type": "markdown",
   "metadata": {},
   "source": [
    "## Question 7"
   ]
  },
  {
   "cell_type": "markdown",
   "metadata": {},
   "source": [
    "On va maintenant appliquer cette méthode également avec $c=500$ et $k=300$"
   ]
  },
  {
   "cell_type": "code",
   "execution_count": 14,
   "metadata": {},
   "outputs": [
    {
     "name": "stdout",
     "output_type": "stream",
     "text": [
      "Fitting SVC linear on 20000 samples...\n",
      "done in 1.145s\n",
      "Predicting with SVC linear on 40000 samples...\n",
      "done in 0.026s\n",
      "classification accuracy: 0.976\n"
     ]
    }
   ],
   "source": [
    "Z_train, Z_test = nystrom(X_train, X_test, gamma, c=500, k=300, seed=44, kernel=rbf_kernel)\n",
    "\n",
    "print(\"Fitting SVC linear on %d samples...\" % n_samples)\n",
    "t0 = time()\n",
    "clf = LinearSVC(dual=False)\n",
    "clf.fit(Z_train, y_train)\n",
    "print(\"done in %0.3fs\" % (time() - t0))\n",
    "\n",
    "print(\"Predicting with SVC linear on %d samples...\" % n_samples_test)\n",
    "t0 = time()\n",
    "accuracy = clf.score(Z_test, y_test)\n",
    "print(\"done in %0.3fs\" % (time() - t0))\n",
    "print(\"classification accuracy: %0.3f\" % accuracy)"
   ]
  },
  {
   "cell_type": "markdown",
   "metadata": {},
   "source": [
    "On constate que la méthode de Nystrom est plus efficace en temps de calcul ainsi qu'en score de précision."
   ]
  },
  {
   "cell_type": "markdown",
   "metadata": {},
   "source": [
    "## Question 8"
   ]
  },
  {
   "cell_type": "markdown",
   "metadata": {},
   "source": [
    "On va maintenant réaliser une synthèse des performances des RKF et de Nystrom pour un ensemble de paramètres."
   ]
  },
  {
   "cell_type": "code",
   "execution_count": 15,
   "metadata": {},
   "outputs": [
    {
     "data": {
      "text/plain": [
       "array([ 20,  70, 120, 170, 220, 270, 320, 370, 420, 470, 520, 570])"
      ]
     },
     "execution_count": 15,
     "metadata": {},
     "output_type": "execute_result"
    }
   ],
   "source": [
    "np.arange(20, 600, 50)"
   ]
  },
  {
   "cell_type": "code",
   "execution_count": 33,
   "metadata": {},
   "outputs": [
    {
     "name": "stdout",
     "output_type": "stream",
     "text": [
      "Training SVMs for various values of c...\n",
      "done\n"
     ]
    }
   ],
   "source": [
    "ranks = np.arange(20, 600, 50)\n",
    "n_ranks = len(ranks)\n",
    "timing_rkf = np.zeros(n_ranks)\n",
    "timing_nystrom = np.zeros(n_ranks)\n",
    "\n",
    "accuracy_nystrom = np.zeros(n_ranks)\n",
    "accuracy_rkf = np.zeros(n_ranks)\n",
    "\n",
    "print(\"Training SVMs for various values of c...\")\n",
    "\n",
    "for i, c in enumerate(ranks):\n",
    "    # Nystrom\n",
    "    Z_train_nystrom, Z_test_nystrom = nystrom(X_train, X_test, gamma, c=c, k=c-10, seed=44)\n",
    "    t0 = time()\n",
    "    clf = LinearSVC(dual=False)\n",
    "    clf.fit(Z_train_nystrom, y_train)\n",
    "    timing_nystrom[i] = time() - t0\n",
    "    accuracy_nystrom[i] = clf.score(Z_test_nystrom, y_test)\n",
    "    \n",
    "    #RKF\n",
    "    Z_train, Z_test = random_features(X_train, X_test, gamma, c=c, seed=44)\n",
    "    t0 = time()\n",
    "    clf = LinearSVC(dual=False)\n",
    "    clf.fit(Z_train, y_train)\n",
    "    timing_rkf[i] = time() - t0\n",
    "    accuracy_rkf[i] = clf.score(Z_test, y_test)\n",
    "\n",
    "print(\"done\")"
   ]
  },
  {
   "cell_type": "code",
   "execution_count": 17,
   "metadata": {},
   "outputs": [
    {
     "data": {
      "image/png": "[encoded data removed]",
      "text/plain": [
       "<Figure size 720x432 with 2 Axes>"
      ]
     },
     "metadata": {},
     "output_type": "display_data"
    }
   ],
   "source": [
    "###############################################################################\n",
    "# Display bis\n",
    "\n",
    "f, axes = plt.subplots(ncols=1, nrows=2, figsize=(10,6))\n",
    "ax1, ax2 = axes.ravel()\n",
    "\n",
    "ax1.plot(ranks-10, timing_nystrom, '-', label='Nystrom')\n",
    "ax1.plot(ranks, timing_rkf, '-', label='RKF')\n",
    "ax1.plot(ranks, timing_linear * np.ones(n_ranks), '-', label='LinearSVC')\n",
    "ax1.plot(ranks, timing_kernel * np.ones(n_ranks), '-', label='RBF')\n",
    "\n",
    "ax1.set_xlabel('Number of features')\n",
    "ax1.set_ylabel('Time')\n",
    "ax1.legend(loc='lower right')\n",
    "\n",
    "ax2.plot(ranks-10, accuracy_nystrom, '-', label='Nystrom')\n",
    "ax2.plot(ranks, accuracy_rkf, '-', label='RKF')\n",
    "ax2.plot(ranks, accuracy_linear * np.ones(n_ranks), '-', label='LinearSVC')\n",
    "ax2.plot(ranks, accuracy_kernel * np.ones(n_ranks), '-', label='RBF')\n",
    "ax2.set_xlabel('Number of features')\n",
    "ax2.set_ylabel('Accuracy')\n",
    "ax2.legend(loc='lower right')\n",
    "plt.tight_layout()\n",
    "plt.show()"
   ]
  },
  {
   "cell_type": "markdown",
   "metadata": {
    "collapsed": true
   },
   "source": [
    "En augmentant le nombre de features, on remarque une convergence en terme de score de précision pour les méthodes Nystrom et RBF. RKF a une précision moindre.\n",
    "Le temps de calcul est quasiment identique pour Nystrom et RKF jusqu'à un certain nombre de features."
   ]
  },
  {
   "cell_type": "markdown",
   "metadata": {},
   "source": [
    "## Pour aller plus loin\n",
    "\n",
    "### Kernel Laplacien"
   ]
  },
  {
   "cell_type": "markdown",
   "metadata": {},
   "source": [
    "On adapte la méthodologie sur le noyau de Laplace, en utilisant la fonction *sklearn.metrics.pairwise.laplacian_kernel* pour calculer les valeurs de noyau:"
   ]
  },
  {
   "cell_type": "code",
   "execution_count": 38,
   "metadata": {},
   "outputs": [],
   "source": [
    "def laplacian(X_train, X_test, gamma, c=500, k=200, seed=44, kernel=laplacian_kernel):\n",
    "    rng = np.random.RandomState(seed)\n",
    "    n_samples = X_train.shape[0]\n",
    "    idx = rng.choice(n_samples, c)\n",
    "\n",
    "    X_train_idx = X_train[idx, :]\n",
    "    W = rbf_kernel(X_train_idx, X_train_idx, gamma=gamma)\n",
    "    \n",
    "    # TODO\n",
    "    U, S, V = svd(W)\n",
    "    Wk = U[:,:k] @ np.diag(S[:k]) @ V[:k,:]\n",
    "    Mk = U[:,:k] @ scipy.linalg.fractional_matrix_power(np.diag(S[:k]), -0.5)\n",
    "    \n",
    "    C_train = kernel(X_train, X_train_idx, gamma=gamma)\n",
    "    C_test = kernel(X_test, X_train_idx, gamma=gamma)\n",
    "    \n",
    "    X_new_train = C_train @ Mk\n",
    "    X_new_test = C_test @ Mk\n",
    "    \n",
    "    return X_new_train, X_new_test"
   ]
  },
  {
   "cell_type": "code",
   "execution_count": 39,
   "metadata": {},
   "outputs": [],
   "source": [
    "Z_train_laplacian, Z_test_laplacian = laplacian(X_train, X_test, gamma, c=500, k=300, seed=44, kernel=laplacian_kernel)\n",
    "\n",
    "# print(\"Fitting SVC linear on %d samples...\" % n_samples)\n",
    "# t0 = time()\n",
    "# clf = LinearSVC(dual=False)\n",
    "# clf.fit(Z_train, y_train)\n",
    "# print(\"done in %0.3fs\" % (time() - t0))\n",
    "\n",
    "# print(\"Predicting with SVC linear on %d samples...\" % n_samples_test)\n",
    "# t0 = time()\n",
    "# accuracy = clf.score(Z_test, y_test)\n",
    "# print(\"done in %0.3fs\" % (time() - t0))\n",
    "# print(\"classification accuracy: %0.3f\" % accuracy)\n",
    "\n",
    "timing_laplacian = np.zeros(n_ranks)\n",
    "accuracy_laplacian = np.zeros(n_ranks)\n",
    "\n",
    "for i, c in enumerate(ranks):\n",
    "    # laplacian_kernel\n",
    "    t0 = time()\n",
    "    clf = LinearSVC(dual=False)\n",
    "    clf.fit(Z_train_laplacian, y_train)\n",
    "    timing_laplacian[i] = time() - t0\n",
    "    accuracy_laplacian[i] = clf.score(Z_test_laplacian, y_test)\n",
    "# print(timing_laplacian)\n",
    "# print(accuracy_laplacian)"
   ]
  },
  {
   "cell_type": "markdown",
   "metadata": {},
   "source": [
    "Le résultat est légèrement inférieur à celui obtenu avec le noyau Gaussien (0.976), mais toujours meilleur que le SVM linéaire."
   ]
  },
  {
   "cell_type": "code",
   "execution_count": 40,
   "metadata": {},
   "outputs": [
    {
     "data": {
      "image/png": "[encoded data removed]",
      "text/plain": [
       "<Figure size 720x432 with 2 Axes>"
      ]
     },
     "metadata": {},
     "output_type": "display_data"
    }
   ],
   "source": [
    "###############################################################################\n",
    "# Display kernel laplacian\n",
    "\n",
    "f, axes = plt.subplots(ncols=1, nrows=2, figsize=(10,6))\n",
    "ax1, ax2 = axes.ravel()\n",
    "\n",
    "ax1.plot(ranks-10, timing_nystrom, '-', label='Nystrom')\n",
    "ax1.plot(ranks, timing_rkf, '-', label='RKF')\n",
    "ax1.plot(ranks, timing_linear * np.ones(n_ranks), '-', label='LinearSVC')\n",
    "ax1.plot(ranks, timing_kernel * np.ones(n_ranks), '-', label='RBF')\n",
    "ax1.plot(ranks, timing_laplacian * np.ones(n_ranks), '-', label='laplacian_kernel')\n",
    "\n",
    "ax1.set_xlabel('Number of features')\n",
    "ax1.set_ylabel('Time')\n",
    "ax1.legend(loc='lower right')\n",
    "\n",
    "ax2.plot(ranks-10, accuracy_nystrom, '-', label='Nystrom')\n",
    "ax2.plot(ranks, accuracy_rkf, '-', label='RKF')\n",
    "ax2.plot(ranks, accuracy_linear * np.ones(n_ranks), '-', label='LinearSVC')\n",
    "ax2.plot(ranks, accuracy_kernel * np.ones(n_ranks), '-', label='RBF')\n",
    "ax2.plot(ranks, accuracy_laplacian * np.ones(n_ranks), '-', label='laplacian_kernel')\n",
    "\n",
    "ax2.set_xlabel('Number of features')\n",
    "ax2.set_ylabel('Accuracy')\n",
    "ax2.legend(loc='lower right')\n",
    "plt.tight_layout()\n",
    "plt.show()"
   ]
  },
  {
   "cell_type": "markdown",
   "metadata": {},
   "source": [
    "# je ne comprends pas pourquoi le laplacien est horizontal ! si vous trouvez je suis preneuse !! l'autre poiint sur le plot : pour le nystrom on ne multiplie pas par * np.ones(n_ranks) alors que les autres timing oui  et on fait ranks -10 et pas pour les autres O.o"
   ]
  },
  {
   "cell_type": "markdown",
   "metadata": {},
   "source": [
    "### Combiner les features obtenus avec différents noyaux"
   ]
  },
  {
   "cell_type": "code",
   "execution_count": 45,
   "metadata": {},
   "outputs": [],
   "source": [
    "train_concat = np.concatenate((Z_train_laplacian[:,:150],Z_train_nystrom[:,:150]), axis=1)\n",
    "test_concat = np.concatenate((Z_test_laplacian[:,:150],Z_test_nystrom[:,:150]), axis=1)"
   ]
  },
  {
   "cell_type": "code",
   "execution_count": null,
   "metadata": {},
   "outputs": [],
   "source": []
  },
  {
   "cell_type": "markdown",
   "metadata": {},
   "source": [
    "http://www.cs.columbia.edu/~dplewis/research/thesis/slides.pdf    slide 8/59"
   ]
  },
  {
   "cell_type": "code",
   "execution_count": 46,
   "metadata": {},
   "outputs": [],
   "source": [
    "Z_train_laplacian_concat, Z_test_laplacian_concat = laplacian(X_train, X_test, gamma, c=500, k=300, seed=44, kernel=laplacian_kernel)\n",
    "\n",
    "\n",
    "timing_laplacian_concat = np.zeros(n_ranks)\n",
    "accuracy_laplacian_concat = np.zeros(n_ranks)\n",
    "\n",
    "for i, c in enumerate(ranks//2):\n",
    "    # laplacian_kernel\n",
    "    t0 = time()\n",
    "    clf = LinearSVC(dual=False)\n",
    "    clf.fit(Z_train_laplacian_concat, y_train)\n",
    "    timing_laplacian_concat[i] = time() - t0\n",
    "    accuracy_laplacian_concat[i] = clf.score(Z_test_laplacian_concat, y_test)\n",
    "    \n",
    "    # Nystrom laplace\n",
    "    Z_train_nystrom, Z_test_nystrom = nystrom(X_train, X_test, gamma, c=c, k=c-10, seed=44)\n",
    "    t0 = time()\n",
    "    clf = LinearSVC(dual=False)\n",
    "    clf.fit(Z_train_nystrom, y_train)\n",
    "    timing_nystrom[i] = time() - t0\n",
    "    accuracy_nystrom[i] = clf.score(Z_test_nystrom, y_test)\n"
   ]
  },
  {
   "cell_type": "code",
   "execution_count": null,
   "metadata": {},
   "outputs": [],
   "source": []
  }
 ],
 "metadata": {
  "kernelspec": {
   "display_name": "Python 3",
   "language": "python",
   "name": "python3"
  },
  "language_info": {
   "codemirror_mode": {
    "name": "ipython",
    "version": 3
   },
   "file_extension": ".py",
   "mimetype": "text/x-python",
   "name": "python",
   "nbconvert_exporter": "python",
   "pygments_lexer": "ipython3",
   "version": "3.7.5"
  }
 },
 "nbformat": 4,
 "nbformat_minor": 2
}
