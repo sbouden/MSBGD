{
 "cells": [
  {
   "cell_type": "markdown",
   "metadata": {},
   "source": [
    "# TP2 - DB Normalization and Querying\n",
    "\n",
    "The objectives of this TP are:\n",
    "1. Apply normalization 1NF -> 2NF -> 3NF\n",
    "2. Perform SQL queries on the normalized database\n",
    "\n",
    "In this TP, we will use a database **`wine.db`** (available in the course's website) containing wine information related to 'production' and 'sales'. \n",
    "\n",
    "> Production <---> Wine <---> Sales\n",
    "\n",
    "\n",
    "---\n",
    "\n",
    "### Working with db files in Jupyter\n",
    "- Python provides an interface for SQLite through the *sqlite3* module\n",
    "- The **`%%sql`** magic builds upon it (and other tools) to enable the usage of SQL commands within a Jupyter Notebook as in common SQL clients.\n",
    "- Before proceeding, make sure that **`wine.db`** is in the same path as this notebook.\n",
    "  - If **`wine.db`** is not in the same path, an empty **`wine.db`** file will be created, resulting in errors in later steps of the TP.\n",
    "- The SQLite module in Python commits transactions automatically, this means that any change in the DB is immediately written to the file, e.g. creating/deleting tables.\n",
    "  -  For this reason, it is recommended to have a backup of **`wine.db`** as it is provided in the course's website.\n",
    "\n",
    "---"
   ]
  },
  {
   "cell_type": "markdown",
   "metadata": {},
   "source": [
    "**`wine.db`** contains the following unnormalized tables:\n",
    "\n",
    "<center>**Master1**</center>\n",
    "\n",
    "|*Attribute*|         *Description*          |\n",
    "| -------   |--------------------------------|\n",
    "| NV        | Wine number                    |\n",
    "| CRU       | Vineyard or group of vineyards |\n",
    "| DEGRE     | Alcohol content                |\n",
    "| MILL      | Vintage year                   |\n",
    "| QTE       | Number of bottles harvested    |\n",
    "| NP        | Producer number                |\n",
    "| NOM       | Producer's last name           |\n",
    "| PRENOM    | Producer's first name          |\n",
    "| REGION    | Production region              |\n",
    "\n",
    "From wikipedia:\n",
    "\n",
    "__Cru__: Often used to indicate a specifically named and legally defined vineyard or ensemble of vineyards and the vines \"which grow on [such] a reputed terroir; by extension of good quality.\" The term is also used to refer to the wine produced from such vines.\n",
    "\n",
    "\n",
    "<center>**Master2**</center>\n",
    "\n",
    "|*Attribute*|                         *Description*                  |\n",
    "| -------   |--------------------------------------------------------|\n",
    "| NV        | Wine number                                            |\n",
    "| CRU       | Vineyard or group of vineyards                         |\n",
    "| DEGRE     | Alcohol content                                        |\n",
    "| MILL      | Vintage year                                           |\n",
    "| DATES     | Buying date                                            |\n",
    "| LIEU      | Place where the wine was sold                          |\n",
    "| QTE       | Number of bottles bought                               |\n",
    "| NB        | Client (buveur) number                                 |\n",
    "| NOM       | Client's last name                                     |\n",
    "| PRENOM    | Client's first name                                    |\n",
    "| TYPE      | Type of client by volume of purchases                  |\n",
    "| REGION    | Administrative Region (different to production region) |\n"
   ]
  },
  {
   "cell_type": "code",
   "execution_count": null,
   "metadata": {},
   "outputs": [],
   "source": [
    "import sqlite3    # Python interface for SQLite databases"
   ]
  },
  {
   "cell_type": "code",
   "execution_count": null,
   "metadata": {},
   "outputs": [],
   "source": [
    "def printSchema(connection):\n",
    "    # Function to print the DB schema\n",
    "    # Source: http://stackoverflow.com/a/35092773/4765776\n",
    "    for (tableName,) in connection.execute(\n",
    "        \"\"\"\n",
    "        select NAME from SQLITE_MASTER where TYPE='table' order by NAME;\n",
    "        \"\"\"\n",
    "    ):\n",
    "        print(\"{}:\".format(tableName))\n",
    "        for (\n",
    "            columnID, columnName, columnType,\n",
    "            columnNotNull, columnDefault, columnPK,\n",
    "        ) in connection.execute(\"pragma table_info('{}');\".format(tableName)):\n",
    "            print(\"  {id}: {name}({type}){null}{default}{pk}\".format(\n",
    "                id=columnID,\n",
    "                name=columnName,\n",
    "                type=columnType,\n",
    "                null=\" not null\" if columnNotNull else \"\",\n",
    "                default=\" [{}]\".format(columnDefault) if columnDefault else \"\",\n",
    "                pk=\" *{}\".format(columnPK) if columnPK else \"\",\n",
    "            ))"
   ]
  },
  {
   "cell_type": "code",
   "execution_count": null,
   "metadata": {},
   "outputs": [],
   "source": [
    "conn = sqlite3.connect('wine.db')\n",
    "c = conn.cursor()\n",
    "print(\"Database schema:\")\n",
    "printSchema(conn)           # An usefull way to viualize the content of the database"
   ]
  },
  {
   "cell_type": "markdown",
   "metadata": {},
   "source": [
    "From this point we will use __%%sql__ magic"
   ]
  },
  {
   "cell_type": "code",
   "execution_count": null,
   "metadata": {},
   "outputs": [],
   "source": [
    "%load_ext sql\n",
    "%sql sqlite:///wine.db"
   ]
  },
  {
   "cell_type": "markdown",
   "metadata": {},
   "source": [
    "# PART I: Database normalization"
   ]
  },
  {
   "cell_type": "markdown",
   "metadata": {},
   "source": [
    "The first task on this TP is the normalization of the wine data. In its current state both tables **Master1** and **Master2** are in the First Normal Form (1NF).\n",
    "\n",
    "By inspecting the content of these tables we can see that multiple tuples have NULL values."
   ]
  },
  {
   "cell_type": "code",
   "execution_count": null,
   "metadata": {},
   "outputs": [],
   "source": [
    "%%sql SELECT *\n",
    "FROM Master1\n",
    "LIMIT 10;"
   ]
  },
  {
   "cell_type": "markdown",
   "metadata": {},
   "source": [
    "* Notice that Jupyter *displays* 'None' instead of 'NULL'. \n",
    "  - This is only to comply with python notation.\n",
    "* To account for NULL values, your SQL queries must test explicitly for 'NULL'.\n",
    "\n",
    "Another problem in **Master1** and **Master2** is data redundancy, for example:"
   ]
  },
  {
   "cell_type": "code",
   "execution_count": null,
   "metadata": {},
   "outputs": [],
   "source": [
    "%%sql SELECT *\n",
    "FROM Master1\n",
    "WHERE NV = 45;"
   ]
  },
  {
   "cell_type": "markdown",
   "metadata": {},
   "source": [
    "---\n",
    "\n",
    "Additional resource for Normalization:\n",
    "\n",
    "https://www.youtube.com/watch?v=UrYLYV7WSHM\n",
    "\n",
    "---"
   ]
  },
  {
   "cell_type": "markdown",
   "metadata": {},
   "source": [
    "#### Exercise 1.1\n",
    "\n",
    "Convert table **Master1** to the Second Normal Form (2NF) or Third Normal Form (3NF) as applicable.\n",
    "* Explain your answer\n",
    "* List main functional dependencies (not all of them)\n",
    "* Describe the schema of new tables and how they relate\n",
    "  * You can write Tables as above or you can insert images in the notebook.\n",
    "  \n",
    "Remember that **`wine.db`** contains information related to wine 'production' and 'sells'.\n",
    "\n",
    "> Production <---> Wine <---> Sales\n",
    "\n",
    "A good start point is to look for the 'Wine' attributes.\n",
    "\n",
    "**Hint:** Look for redundant information between the master tables."
   ]
  },
  {
   "cell_type": "raw",
   "metadata": {},
   "source": [
    "In order to convert a a 1NF to a 3NF, we have to ensure that: \n",
    "1) All attributes depend on the key.\n",
    "2) All attributes can be determined only by the key in the table and not from another column.\n",
    "\n",
    "------Functional dependencies:----------\n",
    "A wine can be produced by many producers. \n",
    "A producer can produce different wines.\n",
    "\n",
    "(1): {NV, NP} -> {CRU, DEGRE, MILL, QTE, NOM, PRENOM, REGION}\n",
    "(2): {NV} -> {CRU, DEGRE, MILL}\n",
    "(3): {NP} -> {NOM, PRENOM, REGION}"
   ]
  },
  {
   "cell_type": "raw",
   "metadata": {},
   "source": [
    "NP is a primary key in producer\n",
    "NP is a foreign key in production\n",
    "NV is a primary key in production\n",
    "NV is a foreign key in wine"
   ]
  },
  {
   "cell_type": "markdown",
   "metadata": {},
   "source": [
    "![alt text](master1.png \"Normalisation\")"
   ]
  },
  {
   "cell_type": "markdown",
   "metadata": {},
   "source": [
    "#### Exercise 1.2\n",
    "\n",
    "Convert table **Master2** to the Second Normal Form (2NF) or Third Normal Form (3NF) as applicable.\n",
    "* Explain your answer\n",
    "* List main functional dependencies (not all of them)\n",
    "* Describe the schema of new tables and how they relate\n",
    "  * You can write Tables as above or you can insert images in the notebook.\n",
    "\n",
    "**Note:** For this part, consider that a wine can be bought in multiple locations and multiple times per day."
   ]
  },
  {
   "cell_type": "raw",
   "metadata": {},
   "source": [
    "One wine can be purchased by many customers. One customer can buy many bottles. One wine can be purchased in several locations. One customer can buy different wines.\n",
    "\n",
    "Examples of FD:\n",
    "(1): {NV} -> {CRU, DEGRE, MILL}\n",
    "(2): {NB} -> {NOM, PRENOM, TYPE, REGION}\n",
    "(3): {LIEU} -> {REGION}\n",
    "(4): {NV, NB, DATES, LIEU} -> {NV, NB, CRU, DEGRE, MILL, DATES, LIEU, QTE, NOM, PRENOM, TYPE, REGION}"
   ]
  },
  {
   "cell_type": "raw",
   "metadata": {},
   "source": [
    "Primary keys in wine and purchase are: NV\n",
    "NB is a foreign key in purchase and a primary key in client\n",
    "LIEU is a foreign key in purchase and a primary key in location"
   ]
  },
  {
   "cell_type": "markdown",
   "metadata": {},
   "source": [
    "![alt text](master2.1.png \"Normalisation\")"
   ]
  },
  {
   "cell_type": "markdown",
   "metadata": {},
   "source": [
    "Once you have defined the 2NF or 3NF (as applicable) we need to split the data into new tables.\n",
    "\n",
    "A table can be created from the result of a query.\n",
    "\n",
    "In the following example we will create a new table \"dummy\" to store the different values of alcohol content."
   ]
  },
  {
   "cell_type": "code",
   "execution_count": null,
   "metadata": {},
   "outputs": [],
   "source": [
    "%%sql DROP TABLE IF EXISTS dummy;\n",
    "\n",
    "-- Create dummy table\n",
    "CREATE TABLE dummy AS\n",
    "SELECT DISTINCT DEGRE\n",
    "FROM MASTER1;"
   ]
  },
  {
   "cell_type": "code",
   "execution_count": null,
   "metadata": {},
   "outputs": [],
   "source": [
    "print(\"\\nContent of the database\")\n",
    "printSchema(conn)"
   ]
  },
  {
   "cell_type": "code",
   "execution_count": null,
   "metadata": {},
   "outputs": [],
   "source": [
    "%%sql\n",
    "SELECT *\n",
    "FROM dummy;"
   ]
  },
  {
   "cell_type": "markdown",
   "metadata": {},
   "source": [
    "Looking into \"dummy\", we notice that our query includes NULL. This is not allowed if we were to use DEGRE as key for a table.\n",
    "\n",
    "To correct this, we need to change the query to explicitly test for NULL as follows:"
   ]
  },
  {
   "cell_type": "code",
   "execution_count": null,
   "metadata": {},
   "outputs": [],
   "source": [
    "%%sql DROP TABLE IF EXISTS dummy;\n",
    "\n",
    "-- Create dummy table\n",
    "CREATE TABLE dummy AS\n",
    "SELECT DISTINCT DEGRE\n",
    "FROM MASTER1\n",
    "WHERE DEGRE IS NOT NULL;\n",
    "\n",
    "SELECT *\n",
    "FROM dummy;"
   ]
  },
  {
   "cell_type": "markdown",
   "metadata": {},
   "source": [
    "Notice that we use `NULL` given that `None` is only used for display."
   ]
  },
  {
   "cell_type": "code",
   "execution_count": null,
   "metadata": {},
   "outputs": [],
   "source": [
    "# Remove \"dummy\" table\n",
    "%sql DROP TABLE IF EXISTS dummy;"
   ]
  },
  {
   "cell_type": "markdown",
   "metadata": {},
   "source": [
    "#### Exercise 1.3\n",
    "\n",
    "Create the new tables from Master1:"
   ]
  },
  {
   "cell_type": "code",
   "execution_count": null,
   "metadata": {},
   "outputs": [],
   "source": [
    "%%sql DROP TABLE IF EXISTS wine;\n",
    "\n",
    "-- Create wine table\n",
    "CREATE TABLE wine AS\n",
    "SELECT DISTINCT NV, CRU, DEGRE, MILL\n",
    "FROM MASTER1;\n",
    "SELECT * FROM wine limit 4;"
   ]
  },
  {
   "cell_type": "code",
   "execution_count": null,
   "metadata": {},
   "outputs": [],
   "source": [
    "%%sql DROP TABLE IF EXISTS producer;\n",
    "\n",
    "-- Create producer table\n",
    "CREATE TABLE producer AS\n",
    "SELECT DISTINCT NP, NOM, PRENOM, REGION\n",
    "FROM MASTER1;\n",
    "SELECT * FROM producer limit 4;"
   ]
  },
  {
   "cell_type": "code",
   "execution_count": null,
   "metadata": {},
   "outputs": [],
   "source": [
    "%%sql DROP TABLE IF EXISTS production;\n",
    "\n",
    "-- Create production table\n",
    "CREATE TABLE production AS\n",
    "SELECT DISTINCT NV, QTE, NP\n",
    "FROM MASTER1\n",
    "WHERE QTE is not NULL;\n",
    "SELECT * FROM production limit 4;"
   ]
  },
  {
   "cell_type": "markdown",
   "metadata": {},
   "source": [
    "#### Exercise 1.4\n",
    "\n",
    "Create the new tables from Master2:"
   ]
  },
  {
   "cell_type": "code",
   "execution_count": null,
   "metadata": {
    "scrolled": true
   },
   "outputs": [],
   "source": [
    "%%sql DROP TABLE IF EXISTS wine;\n",
    "\n",
    "-- Create wine table\n",
    "CREATE TABLE wine AS\n",
    "SELECT DISTINCT NV, CRU, DEGRE, MILL\n",
    "FROM MASTER2;\n",
    "SELECT * FROM wine limit 4;"
   ]
  },
  {
   "cell_type": "code",
   "execution_count": null,
   "metadata": {},
   "outputs": [],
   "source": [
    "%%sql DROP TABLE IF EXISTS purchase;\n",
    "\n",
    "-- Create purchase table\n",
    "CREATE TABLE purchase AS\n",
    "SELECT DISTINCT NV, DATES, LIEU, QTE, NB\n",
    "FROM MASTER2;\n",
    "SELECT * FROM purchase limit 4;"
   ]
  },
  {
   "cell_type": "code",
   "execution_count": null,
   "metadata": {},
   "outputs": [],
   "source": [
    "%%sql DROP TABLE IF EXISTS client;\n",
    "\n",
    "-- Create client table\n",
    "CREATE TABLE client AS\n",
    "SELECT DISTINCT NB, NOM, PRENOM, TYPE\n",
    "FROM MASTER2;\n",
    "SELECT * FROM client limit 4;"
   ]
  },
  {
   "cell_type": "code",
   "execution_count": null,
   "metadata": {},
   "outputs": [],
   "source": [
    "%%sql DROP TABLE IF EXISTS location;\n",
    "\n",
    "-- Create location table\n",
    "CREATE TABLE location AS\n",
    "SELECT DISTINCT LIEU, REGION\n",
    "FROM MASTER2;\n",
    "SELECT * FROM location limit 4;"
   ]
  },
  {
   "cell_type": "markdown",
   "metadata": {},
   "source": [
    "# PART II: SQL QUERIES\n",
    "\n",
    "In the second part of this TP you will create SQL queries to retrieve information from the database.\n",
    "\n",
    "**Important:**\n",
    "\n",
    "- You MUST use the normalized tables created in previous steps.\n",
    "  - The normalized tables will also be used in TP3.\n",
    "- Do NOT use **Master1** and **Master2** in your queries."
   ]
  },
  {
   "cell_type": "markdown",
   "metadata": {},
   "source": [
    "#### Exercise 2.1\n",
    "\n",
    "What are the different types of clients (buveurs) by volume of purchases?"
   ]
  },
  {
   "cell_type": "code",
   "execution_count": null,
   "metadata": {},
   "outputs": [],
   "source": [
    "%%sql\n",
    "SELECT DISTINCT TYPE as type_of_buveurs\n",
    "FROM client\n",
    "WHERE TYPE is not null;"
   ]
  },
  {
   "cell_type": "markdown",
   "metadata": {},
   "source": [
    "#### Exercise 2.2\n",
    "\n",
    "What regions produce Pommard or Brouilly?"
   ]
  },
  {
   "cell_type": "code",
   "execution_count": null,
   "metadata": {},
   "outputs": [],
   "source": [
    "%%sql\n",
    "SELECT wine.CRU, producer.REGION\n",
    "FROM wine, producer, production\n",
    "WHERE wine.NV=production.NV and production.NP=producer.NP\n",
    "and (CRU=\"Pommard\" or CRU=\"Brouilly\");"
   ]
  },
  {
   "cell_type": "markdown",
   "metadata": {},
   "source": [
    "#### Exercise 2.3\n",
    "\n",
    "What regions produce Pommard and Brouilly?"
   ]
  },
  {
   "cell_type": "code",
   "execution_count": null,
   "metadata": {},
   "outputs": [],
   "source": [
    "%%sql\n",
    "SELECT DISTINCT REGION\n",
    "FROM (SELECT wine.CRU, producer.REGION\n",
    "      FROM wine, producer, production\n",
    "      WHERE wine.NV=production.NV and production.NP=producer.NP\n",
    "      and (CRU=\"Pommard\" or CRU=\"Brouilly\")\n",
    "      GROUP BY CRU);"
   ]
  },
  {
   "cell_type": "code",
   "execution_count": null,
   "metadata": {},
   "outputs": [],
   "source": [
    "%%sql\n",
    "SELECT DISTINCT REGION\n",
    "FROM Wine, Producer, Production\n",
    "WHERE Production.NV = Wine.NV AND Production.NP = Producer.NP\n",
    "AND (CRU = \"Pommard\" or CRU = \"Brouilly\")\n",
    "GROUP BY REGION\n",
    "HAVING COUNT(REGION) = 2;"
   ]
  },
  {
   "cell_type": "markdown",
   "metadata": {},
   "source": [
    "#### Exercise 2.4\n",
    "\n",
    "Get the number of wines bought by CRU and Millésime"
   ]
  },
  {
   "cell_type": "code",
   "execution_count": null,
   "metadata": {},
   "outputs": [],
   "source": [
    "%%sql\n",
    "SELECT wine.CRU, wine.MILL, sum(purchase.QTE) as Number_of_wines_bought \n",
    "FROM wine, purchase\n",
    "WHERE CRU is not null and MILL is not null and wine.NV=purchase.NV and QTE is not null\n",
    "GROUP BY CRU, MILL\n",
    "ORDER BY CRU, MILL DESC;"
   ]
  },
  {
   "cell_type": "markdown",
   "metadata": {},
   "source": [
    "#### Exercise 2.5\n",
    "\n",
    "Retrieve the wine number (NV) of wines produced by more than three producers"
   ]
  },
  {
   "cell_type": "code",
   "execution_count": null,
   "metadata": {},
   "outputs": [],
   "source": [
    "%%sql\n",
    "SELECT NV, Number_of_producers\n",
    "FROM (SELECT NV, count(NP) as Number_of_producers\n",
    "      FROM production\n",
    "      WHERE NV is not null\n",
    "     GROUP BY NV)\n",
    "WHERE Number_of_producers >3;"
   ]
  },
  {
   "cell_type": "markdown",
   "metadata": {},
   "source": [
    "#### Exercise 2.6\n",
    "\n",
    "Which producers have not produced any wine?"
   ]
  },
  {
   "cell_type": "code",
   "execution_count": null,
   "metadata": {
    "scrolled": false
   },
   "outputs": [],
   "source": [
    "%%sql\n",
    "SELECT NP, NOM, PRENOM\n",
    "FROM producer\n",
    "WHERE NP is not NULL\n",
    "EXCEPT \n",
    "SELECT production.NP, NOM, PRENOM\n",
    "FROM producer, production\n",
    "WHERE production.NP=producer.NP;"
   ]
  },
  {
   "cell_type": "markdown",
   "metadata": {},
   "source": [
    "#### Exercise 2.7\n",
    "\n",
    "What clients (buveurs) have bought at least one wine from 1980?"
   ]
  },
  {
   "cell_type": "code",
   "execution_count": null,
   "metadata": {},
   "outputs": [],
   "source": [
    "%%sql \n",
    "SELECT client.NB, NOM, PRENOM\n",
    "FROM purchase, client, wine\n",
    "WHERE MILL=1980 and client.NB=purchase.NB and wine.NV=purchase.NV\n",
    "GROUP BY purchase.NB;"
   ]
  },
  {
   "cell_type": "markdown",
   "metadata": {},
   "source": [
    "#### Exercise 2.8\n",
    "\n",
    "What clients (buveurs) have NOT bought any wine from 1980?"
   ]
  },
  {
   "cell_type": "code",
   "execution_count": null,
   "metadata": {
    "scrolled": true
   },
   "outputs": [],
   "source": [
    "%%sql \n",
    "SELECT client.NB, NOM, PRENOM\n",
    "FROM purchase, client, wine\n",
    "WHERE client.NB is not null\n",
    "EXCEPT \n",
    "SELECT client.NB, NOM, PRENOM\n",
    "FROM purchase, client, wine\n",
    "WHERE MILL=1980 and client.NB=purchase.NB and wine.NV=purchase.NV\n",
    "GROUP BY purchase.NB;"
   ]
  },
  {
   "cell_type": "markdown",
   "metadata": {},
   "source": [
    "#### Exercise 2.9\n",
    "\n",
    "What clients (buveurs) have bought ONLY wines from 1980?"
   ]
  },
  {
   "cell_type": "code",
   "execution_count": null,
   "metadata": {},
   "outputs": [],
   "source": [
    "%%sql\n",
    "SELECT distinct purchase.NB, NOM, PRENOM\n",
    "FROM wine, purchase, client\n",
    "WHERE wine.NV=purchase.NV and client.NB = purchase.NB and MILL=1980\n",
    "EXCEPT\n",
    "SELECT distinct purchase.NB, NOM, PRENOM\n",
    "FROM wine, purchase, client\n",
    "WHERE wine.NV=purchase.NV and client.NB = purchase.NB and MILL!=1980;"
   ]
  },
  {
   "cell_type": "markdown",
   "metadata": {},
   "source": [
    "#### Exercise 2.10\n",
    "\n",
    "List all wines from 1980"
   ]
  },
  {
   "cell_type": "code",
   "execution_count": null,
   "metadata": {},
   "outputs": [],
   "source": [
    "%%sql\n",
    "SELECT NV, CRU, MILL, DEGRE\n",
    "FROM wine\n",
    "WHERE MILL=1980;"
   ]
  },
  {
   "cell_type": "markdown",
   "metadata": {},
   "source": [
    "#### Exercise 2.11\n",
    "\n",
    "What are the wines from 1980 bought by NB=2?"
   ]
  },
  {
   "cell_type": "code",
   "execution_count": null,
   "metadata": {},
   "outputs": [],
   "source": [
    "%%sql\n",
    "SELECT wine.NV, CRU, MILL, DEGRE\n",
    "FROM wine, purchase\n",
    "WHERE wine.NV=purchase.NV and MILL=1980 and NB=2;"
   ]
  },
  {
   "cell_type": "markdown",
   "metadata": {},
   "source": [
    "#### Exercise 2.12\n",
    "\n",
    "What clients (buveurs) have bought ALL the wines from 1980?"
   ]
  },
  {
   "cell_type": "code",
   "execution_count": null,
   "metadata": {},
   "outputs": [],
   "source": [
    "%%sql\n",
    "SELECT distinct purchase.NB, NOM, PRENOM\n",
    "FROM wine, purchase, client\n",
    "WHERE wine.NV=purchase.NV and client.NB = purchase.NB and MILL=1980 \n",
    "GROUP BY purchase.NB, NOM, PRENOM\n",
    "HAVING count(purchase.NV)= (SELECT count(NV)\n",
    "FROM wine\n",
    "WHERE MILL=1980\n",
    "GROUP BY MILL);"
   ]
  },
  {
   "cell_type": "code",
   "execution_count": null,
   "metadata": {},
   "outputs": [],
   "source": []
  }
 ],
 "metadata": {
  "anaconda-cloud": {},
  "kernelspec": {
   "display_name": "Python 3",
   "language": "python",
   "name": "python3"
  },
  "language_info": {
   "codemirror_mode": {
    "name": "ipython",
    "version": 3
   },
   "file_extension": ".py",
   "mimetype": "text/x-python",
   "name": "python",
   "nbconvert_exporter": "python",
   "pygments_lexer": "ipython3",
   "version": "3.7.3"
  }
 },
 "nbformat": 4,
 "nbformat_minor": 2
}
