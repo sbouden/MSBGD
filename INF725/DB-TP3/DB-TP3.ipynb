{
 "cells": [
  {
   "cell_type": "markdown",
   "metadata": {},
   "source": [
    "# TP3 - Views, Updates and Design\n",
    "\n",
    "The objectives for this TP are:\n",
    "\n",
    "1. Create and use SQL Views\n",
    "2. Update database content\n",
    "3. Design the database schema for a Social Network\n",
    "\n",
    "___\n",
    "\n",
    "For the first 2 parts we will use the **`wine.db`** database and the Tables created in TP2.\n",
    "\n",
    "A reminder of the wine database schema:\n",
    "\n",
    "<center>**Master1**</center>\n",
    "\n",
    "|*Attribute*|         *Description*          |\n",
    "| -------   |--------------------------------|\n",
    "| NV        | Wine number                    |\n",
    "| CRU       | Vineyard or group of vineyards |\n",
    "| DEGRE     | Alcohol content                |\n",
    "| MILL      | Vintage year                   |\n",
    "| QTE       | Number of bottles harvested    |\n",
    "| NP        | Producer number                |\n",
    "| NOM       | Producer's last name           |\n",
    "| PRENOM    | Producer's first name          |\n",
    "| REGION    | Production region              |\n",
    "\n",
    "<center>**Master2**</center>\n",
    "\n",
    "|*Attribute*|                         *Description*                  |\n",
    "| -------   |--------------------------------------------------------|\n",
    "| NV        | Wine number                                            |\n",
    "| CRU       | Vineyard or group of vineyards                         |\n",
    "| DEGRE     | Alcohol content                                        |\n",
    "| MILL      | Vintage year                                           |\n",
    "| DATES     | Buying date                                            |\n",
    "| LIEU      | Place where the wine was sold                          |\n",
    "| QTE       | Number of bottles bought                               |\n",
    "| NB        | Client (buveur) number                                 |\n",
    "| NOM       | Client's last name                                     |\n",
    "| PRENOM    | Client's first name                                    |\n",
    "| TYPE      | Type of client by volume of purchases                  |\n",
    "| REGION    | Administrative Region (different to production region) |\n"
   ]
  },
  {
   "cell_type": "code",
   "execution_count": null,
   "metadata": {},
   "outputs": [],
   "source": [
    "import sqlite3"
   ]
  },
  {
   "cell_type": "code",
   "execution_count": null,
   "metadata": {},
   "outputs": [],
   "source": [
    "def printSchema(connection):\n",
    "    ### Source: http://stackoverflow.com/a/35092773/4765776\n",
    "    for (tableName,) in connection.execute(\n",
    "        \"\"\"\n",
    "        select NAME from SQLITE_MASTER where TYPE='table' order by NAME;\n",
    "        \"\"\"\n",
    "    ):\n",
    "        print(\"{}:\".format(tableName))\n",
    "        for (\n",
    "            columnID, columnName, columnType,\n",
    "            columnNotNull, columnDefault, columnPK,\n",
    "        ) in connection.execute(\"pragma table_info('{}');\".format(tableName)):\n",
    "            print(\"  {id}: {name}({type}){null}{default}{pk}\".format(\n",
    "                id=columnID,\n",
    "                name=columnName,\n",
    "                type=columnType,\n",
    "                null=\" not null\" if columnNotNull else \"\",\n",
    "                default=\" [{}]\".format(columnDefault) if columnDefault else \"\",\n",
    "                pk=\" *{}\".format(columnPK) if columnPK else \"\",\n",
    "            ))"
   ]
  },
  {
   "cell_type": "code",
   "execution_count": null,
   "metadata": {},
   "outputs": [],
   "source": [
    "conn = sqlite3.connect('wine.db')\n",
    "c = conn.cursor()\n",
    "print(\"Database schema:\")\n",
    "printSchema(conn)"
   ]
  },
  {
   "cell_type": "markdown",
   "metadata": {},
   "source": [
    "Again, we will use **`%%sql`** magic for our queries"
   ]
  },
  {
   "cell_type": "code",
   "execution_count": null,
   "metadata": {},
   "outputs": [],
   "source": [
    "%load_ext sql\n",
    "%sql sqlite:///wine.db"
   ]
  },
  {
   "cell_type": "markdown",
   "metadata": {},
   "source": [
    "Recreate the Normalized Tables from **Master1** and **Master2** as you did in the TP2"
   ]
  },
  {
   "cell_type": "code",
   "execution_count": null,
   "metadata": {},
   "outputs": [],
   "source": [
    "%%sql DROP TABLE IF EXISTS wine;\n",
    "\n",
    "-- Create wine table\n",
    "CREATE TABLE wine AS\n",
    "SELECT DISTINCT NV, CRU, DEGRE, MILL\n",
    "FROM MASTER1;\n",
    "SELECT * FROM wine limit 4;"
   ]
  },
  {
   "cell_type": "code",
   "execution_count": null,
   "metadata": {},
   "outputs": [],
   "source": [
    "%%sql DROP TABLE IF EXISTS producer;\n",
    "\n",
    "-- Create producer table\n",
    "CREATE TABLE producer AS\n",
    "SELECT DISTINCT NP, NOM, PRENOM, REGION\n",
    "FROM MASTER1;\n",
    "SELECT * FROM producer limit 4;"
   ]
  },
  {
   "cell_type": "code",
   "execution_count": null,
   "metadata": {},
   "outputs": [],
   "source": [
    "%%sql DROP TABLE IF EXISTS production;\n",
    "\n",
    "-- Create production table\n",
    "CREATE TABLE production AS\n",
    "SELECT DISTINCT NV, QTE, NP\n",
    "FROM MASTER1\n",
    "WHERE QTE is not NULL;\n",
    "SELECT * FROM production limit 4;"
   ]
  },
  {
   "cell_type": "code",
   "execution_count": null,
   "metadata": {},
   "outputs": [],
   "source": [
    "%%sql DROP TABLE IF EXISTS wine;\n",
    "\n",
    "-- Create wine table\n",
    "CREATE TABLE wine AS\n",
    "SELECT DISTINCT NV, CRU, DEGRE, MILL\n",
    "FROM MASTER2;\n",
    "SELECT * FROM wine limit 4;"
   ]
  },
  {
   "cell_type": "code",
   "execution_count": null,
   "metadata": {},
   "outputs": [],
   "source": [
    "%%sql DROP TABLE IF EXISTS purchase;\n",
    "\n",
    "-- Create purchase table\n",
    "CREATE TABLE purchase AS\n",
    "SELECT DISTINCT NV, DATES, LIEU, QTE, NB\n",
    "FROM MASTER2\n",
    "WHERE NV is not null and NB is not null;\n",
    "SELECT * FROM purchase limit 4;"
   ]
  },
  {
   "cell_type": "code",
   "execution_count": null,
   "metadata": {},
   "outputs": [],
   "source": [
    "%%sql DROP TABLE IF EXISTS client;\n",
    "\n",
    "-- Create client table\n",
    "CREATE TABLE client AS\n",
    "SELECT DISTINCT NB, NOM, PRENOM, TYPE\n",
    "FROM MASTER2;\n",
    "SELECT * FROM client limit 4;"
   ]
  },
  {
   "cell_type": "code",
   "execution_count": null,
   "metadata": {},
   "outputs": [],
   "source": [
    "%%sql DROP TABLE IF EXISTS location;\n",
    "\n",
    "-- Create location table\n",
    "CREATE TABLE location AS\n",
    "SELECT DISTINCT LIEU, REGION\n",
    "FROM MASTER2;\n",
    "SELECT * FROM location limit 4;"
   ]
  },
  {
   "cell_type": "code",
   "execution_count": null,
   "metadata": {},
   "outputs": [],
   "source": []
  },
  {
   "cell_type": "markdown",
   "metadata": {},
   "source": [
    "___\n",
    "# PART I: CREATE AND USE VIEWS\n",
    "\n",
    "A view is a virtual table based on the result-set of an SQL statement. Views are stored in the database with an associated name.\n",
    "\n",
    "Views are created following the syntax:\n",
    "\n",
    "```mysql\n",
    "CREATE VIEW view_name AS\n",
    "SELECT column1, column2.....\n",
    "FROM table_name\n",
    "WHERE [condition];\n",
    "```\n",
    "\n",
    "An useful command:\n",
    "\n",
    "```mysql\n",
    "DROP VIEW IF EXISTS view_name;\n",
    "```\n",
    "\n",
    "\n",
    "__Warning:__ Use `DROP` with caution (only drop something if you are sure)\n",
    "\n",
    "__Note:__ You will find some cells marked as \"Test\" that will help you check your work. Do NOT modify them. "
   ]
  },
  {
   "cell_type": "markdown",
   "metadata": {},
   "source": [
    "#### Exercise 1.1\n",
    "\n",
    "Create a view \"**bons_buveurs**\" with the clients (buveurs) of type 'gros' or 'moyen'."
   ]
  },
  {
   "cell_type": "code",
   "execution_count": null,
   "metadata": {},
   "outputs": [],
   "source": [
    "%%sql\n",
    "DROP VIEW IF EXISTS bons_buveurs;\n",
    "CREATE VIEW bons_buveurs AS\n",
    "SELECT DISTINCT nb, NOM, PRENOM, TYPE as type_of_buveurs\n",
    "FROM client\n",
    "WHERE TYPE like 'gros' or TYPE like 'moyen';"
   ]
  },
  {
   "cell_type": "code",
   "execution_count": null,
   "metadata": {
    "scrolled": true
   },
   "outputs": [],
   "source": [
    "# Test\n",
    "%sql SELECT * FROM bons_buveurs ORDER BY nb;"
   ]
  },
  {
   "cell_type": "markdown",
   "metadata": {},
   "source": [
    "#### Exercise 1.2\n",
    "\n",
    "Create the view \"**buveurs_asec**\" with clients (buveurs) who have not bought any wine."
   ]
  },
  {
   "cell_type": "code",
   "execution_count": null,
   "metadata": {},
   "outputs": [],
   "source": [
    "%%sql\n",
    "DROP VIEW IF EXISTS buveurs_asec;\n",
    "CREATE VIEW buveurs_asec AS\n",
    "SELECT *\n",
    "FROM client \n",
    "WHERE client.NB NOT IN \n",
    "(SELECT purchase.NB\n",
    "FROM purchase);"
   ]
  },
  {
   "cell_type": "code",
   "execution_count": null,
   "metadata": {
    "scrolled": true
   },
   "outputs": [],
   "source": [
    "# Test\n",
    "%sql SELECT * FROM buveurs_asec ORDER BY nb;"
   ]
  },
  {
   "cell_type": "markdown",
   "metadata": {},
   "source": [
    "#### Exercise 1.3\n",
    "\n",
    "Create the view \"**buveurs_achats**\" complementary to the previous one."
   ]
  },
  {
   "cell_type": "code",
   "execution_count": null,
   "metadata": {},
   "outputs": [],
   "source": [
    "%%sql\n",
    "DROP VIEW IF EXISTS buveurs_achats;\n",
    "CREATE VIEW buveurs_achats AS\n",
    "SELECT client.NB, client.NOM, client.PRENOM, client.TYPE\n",
    "FROM purchase, client, wine\n",
    "WHERE client.NB=purchase.NB and wine.NV=purchase.NV\n",
    "GROUP BY purchase.NB;"
   ]
  },
  {
   "cell_type": "code",
   "execution_count": null,
   "metadata": {
    "scrolled": true
   },
   "outputs": [],
   "source": [
    "# Test\n",
    "%sql SELECT * FROM buveurs_achats ORDER BY nb;"
   ]
  },
  {
   "cell_type": "markdown",
   "metadata": {},
   "source": [
    "#### Exercise 1.4\n",
    "\n",
    "Create the view \"**q83pl**\" (LIEU, CRU, QTE_BUE) that provides by LIEU and CRU the total quantities bought in 1983 by all the clients (buveurs)."
   ]
  },
  {
   "cell_type": "code",
   "execution_count": null,
   "metadata": {},
   "outputs": [],
   "source": [
    "%%sql\n",
    "DROP VIEW IF EXISTS q83pl;\n",
    "CREATE VIEW q83pl AS\n",
    "SELECT LIEU, CRU, sum(purchase.QTE) as QTE_BUE\n",
    "FROM wine, purchase\n",
    "WHERE wine.NV=purchase.NV and DATES LIKE \"1983%\"\n",
    "GROUP BY purchase.LIEU, wine.CRU;"
   ]
  },
  {
   "cell_type": "code",
   "execution_count": null,
   "metadata": {
    "scrolled": false
   },
   "outputs": [],
   "source": [
    "# Test\n",
    "%sql SELECT * FROM q83pl;"
   ]
  },
  {
   "cell_type": "markdown",
   "metadata": {},
   "source": [
    "#### Exercise 1.5\n",
    "\n",
    "Can we define the same view with ascending order over the attribute \"QTE\"? Provide an explanation for your answer."
   ]
  },
  {
   "cell_type": "raw",
   "metadata": {},
   "source": [
    "Answer: Yes we can add an ORDER BY QTE ASC; or an ORDER BY QTE_BUE ASC; We have the result. But QTE_BUE is the SUM of QTE. We need to use QTE_BUE in our case."
   ]
  },
  {
   "cell_type": "code",
   "execution_count": null,
   "metadata": {},
   "outputs": [],
   "source": [
    "%%sql\n",
    "DROP VIEW IF EXISTS q83pl1;\n",
    "CREATE VIEW q83pl1 AS\n",
    "SELECT LIEU, CRU, sum(purchase.QTE) as QTE_BUE\n",
    "FROM wine, purchase\n",
    "WHERE wine.NV=purchase.NV and DATES LIKE \"1983%\"\n",
    "GROUP BY purchase.LIEU, wine.CRU\n",
    "ORDER BY QTE ASC;\n",
    "SELECT * FROM q83pl1;"
   ]
  },
  {
   "cell_type": "markdown",
   "metadata": {},
   "source": [
    "___\n",
    "# PART II: UPDATE DATABASE CONTENT\n",
    "\n",
    "The syntax for the `UPDATE` operation is:\n",
    "\n",
    "```sql\n",
    "UPDATE table_name\n",
    "SET column1 = value1, column2 = value2...., columnN = valueN\n",
    "WHERE [condition];\n",
    "```\n",
    "\n",
    "The syntax for the `INSERT` operation is:\n",
    "\n",
    "```sql\n",
    "INSERT INTO table_name [(column1, column2, column3,...columnN)]  \n",
    "VALUES (value1, value2, value3,...valueN);\n",
    "```\n",
    "\n",
    "Database updates are commited automatically in Jupyter/Python. _Transactions_ are an option to control and reverse changes. Additionally we can just reload a backup of the database (NOT an option in deployed systems)\n",
    "\n",
    "__Note:__ Different to other Database Management Systems, SQLite views are read-only and so you can not execute a `DELETE`, `INSERT` or `UPDATE` statement on a view."
   ]
  },
  {
   "cell_type": "markdown",
   "metadata": {},
   "source": [
    "#### Exercise 2.1\n",
    "\n",
    "Create a table \"**RBB**\" with the same schema as \"**bons_buveurs**\" which contains the tuples selected from \"**bons_buveurs**\""
   ]
  },
  {
   "cell_type": "code",
   "execution_count": null,
   "metadata": {},
   "outputs": [],
   "source": [
    "%%sql DROP TABLE IF EXISTS RBB;\n",
    "\n",
    "-- Create RBB table\n",
    "CREATE TABLE RBB AS\n",
    "SELECT * FROM bons_buveurs\n",
    "ORDER BY NB;"
   ]
  },
  {
   "cell_type": "code",
   "execution_count": null,
   "metadata": {
    "scrolled": true
   },
   "outputs": [],
   "source": [
    "# Test\n",
    "%sql SELECT * FROM RBB;"
   ]
  },
  {
   "cell_type": "markdown",
   "metadata": {},
   "source": [
    "#### Exercise 2.2\n",
    "\n",
    "Update the table you used to create \"**bons_buveurs**\": Change the \"type\" to 'gros' if the total of quantities bought is over 100."
   ]
  },
  {
   "cell_type": "markdown",
   "metadata": {},
   "source": [
    "Find the instances to update (schema may differ from the one in your table)"
   ]
  },
  {
   "cell_type": "code",
   "execution_count": null,
   "metadata": {},
   "outputs": [],
   "source": [
    "%%sql\n",
    "SELECT client.NB, client.NOM, client.PRENOM, client.TYPE, SUM(purchase.QTE) AS total\n",
    "FROM client, purchase\n",
    "WHERE client.NB=purchase.NB\n",
    "GROUP BY client.NB, NOM, PRENOM\n",
    "HAVING total>100;"
   ]
  },
  {
   "cell_type": "markdown",
   "metadata": {},
   "source": [
    "Update instances"
   ]
  },
  {
   "cell_type": "code",
   "execution_count": null,
   "metadata": {},
   "outputs": [],
   "source": [
    "%%sql\n",
    "UPDATE client\n",
    "SET TYPE = 'gros'\n",
    "WHERE client.NB IN (SELECT client.NB\n",
    "FROM client, purchase\n",
    "WHERE client.NB=purchase.NB\n",
    "GROUP BY client.NB, NOM, PRENOM\n",
    "HAVING SUM(purchase.QTE)>100);"
   ]
  },
  {
   "cell_type": "markdown",
   "metadata": {},
   "source": [
    "#### Exercise 2.3\n",
    "\n",
    "Compare the content of _table_ \"**RBB**\" and the _view_ \"**bons_buveurs**\" after the update. What differences do you see? Explain"
   ]
  },
  {
   "cell_type": "raw",
   "metadata": {},
   "source": [
    "Answer: We notice the difference between both tables for the type of buveurs who were already 'gros' buveurs before updating the table.\n",
    "As it's a table, the data is only a copy of the data independently, whereas a view created afterwards takes into account the change of the table."
   ]
  },
  {
   "cell_type": "code",
   "execution_count": null,
   "metadata": {
    "scrolled": true
   },
   "outputs": [],
   "source": [
    "%%sql\n",
    "SELECT * FROM RBB ORDER BY NB;"
   ]
  },
  {
   "cell_type": "code",
   "execution_count": null,
   "metadata": {},
   "outputs": [],
   "source": [
    "%%sql\n",
    "SELECT * FROM bons_buveurs ORDER BY NB;"
   ]
  },
  {
   "cell_type": "markdown",
   "metadata": {},
   "source": [
    "#### Exercise 2.4\n",
    "\n",
    "Create a table \"**RBA**\" with the same schema as \"**buveurs_asec**\" which contains the tuples selected from \"**buveurs_asec**\""
   ]
  },
  {
   "cell_type": "code",
   "execution_count": null,
   "metadata": {},
   "outputs": [],
   "source": [
    "%%sql\n",
    "DROP TABLE IF EXISTS RBA;\n",
    "\n",
    "CREATE TABLE RBA AS\n",
    "SELECT *\n",
    "FROM buveurs_asec\n",
    "ORDER BY NB;"
   ]
  },
  {
   "cell_type": "code",
   "execution_count": null,
   "metadata": {
    "scrolled": true
   },
   "outputs": [],
   "source": [
    "# Test\n",
    "%sql SELECT * FROM RBA"
   ]
  },
  {
   "cell_type": "markdown",
   "metadata": {},
   "source": [
    "#### Exercise 2.5\n",
    "\n",
    "Insert a tuple (101, 'your last name', 'your first name', 'your type of purchases(petit, moyen, or gros)') to \"**RBA**\"."
   ]
  },
  {
   "cell_type": "code",
   "execution_count": null,
   "metadata": {},
   "outputs": [],
   "source": [
    "%%sql\n",
    "INSERT INTO RBA (NB, NOM, PRENOM, TYPE) VALUES (101,'Bouden','Sonia','petit');"
   ]
  },
  {
   "cell_type": "code",
   "execution_count": null,
   "metadata": {
    "scrolled": true
   },
   "outputs": [],
   "source": [
    "# Test\n",
    "%sql SELECT * FROM RBA"
   ]
  },
  {
   "cell_type": "markdown",
   "metadata": {},
   "source": [
    "#### Exercise 2.6\n",
    "\n",
    "Compare the content of _table_ \"**RBA**\" and the _view_ \"**buveurs_asec**\". What differences do you see? Explain"
   ]
  },
  {
   "cell_type": "raw",
   "metadata": {},
   "source": [
    "Answer: The change has been added to the table we modified but wasn't applied to the view. The RBA Table is a copy of data from buveurs_asec. A change in RBA won't impact buveurs_asec view."
   ]
  },
  {
   "cell_type": "code",
   "execution_count": null,
   "metadata": {},
   "outputs": [],
   "source": [
    "# Test\n",
    "%sql SELECT * FROM buveurs_asec;"
   ]
  },
  {
   "cell_type": "markdown",
   "metadata": {},
   "source": [
    "___\n",
    "# PART III: Design the database schema for posts in a Social Network\n",
    "\n",
    "In this section your task is to design the database schema for a social network app of a new startup:\n",
    "\n",
    "The new social network will contain users, where each user will have a name, a nickname, an email, date of birth, and an address (Street, City, State, Country, Postal Code). Users can be friends of other users, and can publish posts. Each post can contain a text, date and attachment. Posts can be either original posts or replies so the app needs to handle both scenarios. When users log in, the app needs to display the posts of their friends.\n",
    "\n",
    "**Note:** You can create diagrams of your proposal and insert them as images into this notebook."
   ]
  },
  {
   "cell_type": "markdown",
   "metadata": {},
   "source": [
    "#### Exercise 3.1\n",
    "\n",
    "Write and explain the design of the relations of your database"
   ]
  },
  {
   "cell_type": "raw",
   "metadata": {},
   "source": [
    "Answer:\n",
    "Below the tables and relations to be created. Each user can be friend of many users. (Relation *-*). As it is a social network, we suppose that every user has at least one friend otherwise the network is useless.\n",
    "\n",
    "Each user can publish many posts and each post is written by only one user. Relation (1-*)\n",
    "\n",
    "Each post can be be an original or a reply. So we can add a boolean which is original but we it is not compulsory.\n",
    "A post can reply to another post. One reply is considered one post itself, and replies to one or many posts. (1-*)\n",
    "\n",
    "Many posts are displayed for many users  (*-*)"
   ]
  },
  {
   "cell_type": "code",
   "execution_count": null,
   "metadata": {},
   "outputs": [],
   "source": [
    "from IPython.display import Image\n",
    "Image(filename='tp3.jpg')"
   ]
  },
  {
   "cell_type": "markdown",
   "metadata": {},
   "source": [
    "#### Exercise 3.2\n",
    "\n",
    "Write a view to retrieve the posts to display when a user logs in. Consider that some users may have a lot of friends and you need to limit the number of post to display. How would you select relevant posts to display first? What kind of information would you use/add in the database for this purpose? Explain your answer.\n",
    "\n",
    "__Note:__ Limiting the number of posts just by count is too simplistic, the user could be missing something interesting to him/her."
   ]
  },
  {
   "cell_type": "raw",
   "metadata": {},
   "source": [
    "Answer:\n",
    "\n",
    "#Creating tables\n",
    "\n",
    "DROP TABLE IF EXISTS  user;\n",
    "CREATE TABLE user (nickname INTEGER PRIMARY KEY, name TEXT, email TEXT, birth_of_date DATE, street TEXT, zipcode TEXT, state TEXT, country TEXT);\n",
    "\n",
    "DROP TABLE IF EXISTS post ;\n",
    "CREATE TABLE post (id INTEGER PRIMARY KEY, date DATE, text TEXT, attachement TEXT, user_id INTEGER, parent_id INTEGER);\n",
    "\n",
    "DROP TABLE IF EXISTS isFriendWith ;\n",
    "CREATE TABLE FriendWith(user_from SECONDARY KEY, user_to SECONDARY KEY, since DATE, nb_common INTEGER);\n",
    "\n",
    "\n",
    "#Create viewRecent\n",
    "\n",
    "We can imagine that the most important post is the last one tp be published because it is recent. Usually, even if we are the person who published the post, it is also displayed for us too on top.\n",
    "\n",
    "DROP VIEW viewRecent;\n",
    "CREATE VIEW viewRecent AS SELECT post.date from post limit(5);\n",
    "\n",
    "#Create mostLiked\n",
    "\n",
    "If the post is liked by many people or there are many replies then it might be an interesting one to read.\n",
    "\n",
    "DROP VIEW mostLiked;\n",
    "CREATE VIEW mostLiked AS SELECT Post.id, COUNT(p2.id) as mostLiked FROM post \n",
    "        JOIN post as p2 ON post.id = p2.parent_post_id \n",
    "        WHERE post.id IN (SELECT user_2 FROM isFriendWith WHERE user_1= **) ORDER BY COUNT(p2.id) DESC LIMIT(10);\n",
    "        \n",
    " #Create view mostFriend\n",
    "We can share the posts of friends with whom we have most friends in common.\n",
    "We can then add nb_common in the table isFriendWith and select the posts shared by the user 2 with whom user 1 has many friends.\n",
    "\n",
    "DROP VIEW mostFriend;\n",
    "CREATE VIEW mostFriend AS SELECT Post.id\n",
    "FROM post, isFriendWith\n",
    "        JOIN post as p2 ON post.id = p2.parent_post_id \n",
    "        WHERE user_1 IN (SELECT user_1 FROM isFriendWith WHERE user_2= **) ORDER BY COUNT(isFriendWith.nb_common) DESC LIMIT(5);"
   ]
  }
 ],
 "metadata": {
  "anaconda-cloud": {},
  "kernelspec": {
   "display_name": "Python 3",
   "language": "python",
   "name": "python3"
  },
  "language_info": {
   "codemirror_mode": {
    "name": "ipython",
    "version": 3
   },
   "file_extension": ".py",
   "mimetype": "text/x-python",
   "name": "python",
   "nbconvert_exporter": "python",
   "pygments_lexer": "ipython3",
   "version": "3.7.3"
  }
 },
 "nbformat": 4,
 "nbformat_minor": 2
}
