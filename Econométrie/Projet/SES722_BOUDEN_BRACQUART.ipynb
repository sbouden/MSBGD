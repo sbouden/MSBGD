{
 "cells": [
  {
   "cell_type": "markdown",
   "metadata": {},
   "source": [
    "# Econométrie - projet\n",
    "\n",
    "SES722<br />\n",
    "11/04/2020<br />\n",
    "Sonia BOUDEN & Xavier BRACQUART<br />"
   ]
  },
  {
   "cell_type": "markdown",
   "metadata": {},
   "source": [
    "### Imports"
   ]
  },
  {
   "cell_type": "code",
   "execution_count": 3,
   "metadata": {},
   "outputs": [],
   "source": [
    "import numpy as np\n",
    "import pandas as pd\n",
    "import matplotlib.pyplot as plt\n",
    "import seaborn as sns\n",
    "import math as m\n",
    "from matplotlib import cm\n",
    "from pandas.plotting import scatter_matrix, autocorrelation_plot\n",
    "from mpl_toolkits.mplot3d import axes3d, Axes3D\n",
    "\n",
    "import scipy.stats as stat\n",
    "from scipy.stats import pearsonr\n",
    "from scipy.stats import norm as norm\n",
    "from scipy import stats\n",
    "from scipy.stats import t\n",
    "from scipy.stats import f\n",
    "\n",
    "import statsmodels.api as sm\n",
    "from statsmodels.formula.api import ols\n",
    "import statsmodels.tsa.api as smt\n",
    "from statsmodels.tsa.stattools import acf, pacf\n",
    "from statsmodels.graphics.tsaplots import plot_acf, plot_pacf\n",
    "from statsmodels.tsa.stattools import adfuller, grangercausalitytests\n",
    "from sklearn.linear_model import LinearRegression"
   ]
  },
  {
   "cell_type": "markdown",
   "metadata": {},
   "source": [
    "# Partie 1. Régression"
   ]
  },
  {
   "cell_type": "markdown",
   "metadata": {},
   "source": [
    "## Question 1\n",
    "\n",
    ">Lire le fichier mroz.txt. Ne sélectionner que les observations pour lesquelles la variable wage est strictement positive."
   ]
  },
  {
   "cell_type": "code",
   "execution_count": 4,
   "metadata": {},
   "outputs": [
    {
     "data": {
      "text/html": [
       "<div>\n",
       "<style scoped>\n",
       "    .dataframe tbody tr th:only-of-type {\n",
       "        vertical-align: middle;\n",
       "    }\n",
       "\n",
       "    .dataframe tbody tr th {\n",
       "        vertical-align: top;\n",
       "    }\n",
       "\n",
       "    .dataframe thead th {\n",
       "        text-align: right;\n",
       "    }\n",
       "</style>\n",
       "<table border=\"1\" class=\"dataframe\">\n",
       "  <thead>\n",
       "    <tr style=\"text-align: right;\">\n",
       "      <th></th>\n",
       "      <th>inlf</th>\n",
       "      <th>hours</th>\n",
       "      <th>kidslt6</th>\n",
       "      <th>kidsge6</th>\n",
       "      <th>age</th>\n",
       "      <th>educ</th>\n",
       "      <th>wage</th>\n",
       "      <th>repwage</th>\n",
       "      <th>hushrs</th>\n",
       "      <th>husage</th>\n",
       "      <th>...</th>\n",
       "      <th>faminc</th>\n",
       "      <th>mtr</th>\n",
       "      <th>motheduc</th>\n",
       "      <th>fatheduc</th>\n",
       "      <th>unem</th>\n",
       "      <th>city</th>\n",
       "      <th>exper</th>\n",
       "      <th>nwifeinc</th>\n",
       "      <th>lwage</th>\n",
       "      <th>expersq</th>\n",
       "    </tr>\n",
       "  </thead>\n",
       "  <tbody>\n",
       "    <tr>\n",
       "      <th>0</th>\n",
       "      <td>1</td>\n",
       "      <td>1656</td>\n",
       "      <td>0</td>\n",
       "      <td>2</td>\n",
       "      <td>30</td>\n",
       "      <td>12</td>\n",
       "      <td>1.3889</td>\n",
       "      <td>2.65</td>\n",
       "      <td>2310</td>\n",
       "      <td>30</td>\n",
       "      <td>...</td>\n",
       "      <td>21800</td>\n",
       "      <td>0.6615</td>\n",
       "      <td>7</td>\n",
       "      <td>7</td>\n",
       "      <td>11.0</td>\n",
       "      <td>1</td>\n",
       "      <td>5</td>\n",
       "      <td>19.49998</td>\n",
       "      <td>0.328512</td>\n",
       "      <td>25</td>\n",
       "    </tr>\n",
       "    <tr>\n",
       "      <th>1</th>\n",
       "      <td>1</td>\n",
       "      <td>1980</td>\n",
       "      <td>1</td>\n",
       "      <td>3</td>\n",
       "      <td>35</td>\n",
       "      <td>12</td>\n",
       "      <td>4.5455</td>\n",
       "      <td>4.04</td>\n",
       "      <td>3072</td>\n",
       "      <td>40</td>\n",
       "      <td>...</td>\n",
       "      <td>21040</td>\n",
       "      <td>0.6915</td>\n",
       "      <td>12</td>\n",
       "      <td>7</td>\n",
       "      <td>5.0</td>\n",
       "      <td>0</td>\n",
       "      <td>15</td>\n",
       "      <td>12.03991</td>\n",
       "      <td>1.514138</td>\n",
       "      <td>225</td>\n",
       "    </tr>\n",
       "  </tbody>\n",
       "</table>\n",
       "<p>2 rows × 22 columns</p>\n",
       "</div>"
      ],
      "text/plain": [
       "   inlf  hours  kidslt6  kidsge6  age  educ    wage  repwage  hushrs  husage  \\\n",
       "0     1   1656        0        2   30    12  1.3889     2.65    2310      30   \n",
       "1     1   1980        1        3   35    12  4.5455     4.04    3072      40   \n",
       "\n",
       "   ...  faminc     mtr  motheduc  fatheduc  unem  city  exper  nwifeinc  \\\n",
       "0  ...   21800  0.6615         7         7  11.0     1      5  19.49998   \n",
       "1  ...   21040  0.6915        12         7   5.0     0     15  12.03991   \n",
       "\n",
       "      lwage  expersq  \n",
       "0  0.328512       25  \n",
       "1  1.514138      225  \n",
       "\n",
       "[2 rows x 22 columns]"
      ]
     },
     "execution_count": 4,
     "metadata": {},
     "output_type": "execute_result"
    }
   ],
   "source": [
    "data = pd.read_csv('MROZ.raw', delim_whitespace=True, header=None, skiprows=1, na_values=\".\")\n",
    "\n",
    "columns =  [\"inlf\",\"hours\",\"kidslt6\",\"kidsge6\",\"age\",\"educ\",\"wage\",\"repwage\",\"hushrs\",\"husage\",\"huseduc\",\"huswage\",\"faminc\",\"mtr\",\"motheduc\",\n",
    "\"fatheduc\",\"unem\",\"city\",\"exper\",\"nwifeinc\",\"lwage\",\"expersq\"]  \n",
    "\n",
    "df = data.rename(columns={i : columns[i] for i in range(len(columns))})\n",
    "df.head(2)"
   ]
  },
  {
   "cell_type": "raw",
   "metadata": {},
   "source": [
    "  1. inlf                     =1 if in labor force, 1975\n",
    "  2. hours                    hours worked, 1975\n",
    "  3. kidslt6                  # kids < 6 years\n",
    "  4. kidsge6                  # kids 6-18\n",
    "  5. age                      woman's age in yrs\n",
    "  6. educ                     years of schooling\n",
    "  7. wage                     estimated wage from earns., hours\n",
    "  8. repwage                  reported wage at interview in 1976\n",
    "  9. hushrs                   hours worked by husband, 1975\n",
    " 10. husage                   husband's age\n",
    " 11. huseduc                  husband's years of schooling\n",
    " 12. huswage                  husband's hourly wage, 1975\n",
    " 13. faminc                   family income, 1975\n",
    " 14. mtr                      fed. marginal tax rate facing woman\n",
    " 15. motheduc                 mother's years of schooling\n",
    " 16. fatheduc                 father's years of schooling\n",
    " 17. unem                     unem. rate in county of resid.\n",
    " 18. city                     =1 if live in SMSA\n",
    " 19. exper                    actual labor mkt exper\n",
    " 20. nwifeinc                 (faminc - wage*hours)/1000\n",
    " 21. lwage                    log(wage)\n",
    " 22. expersq                  exper^2"
   ]
  },
  {
   "cell_type": "code",
   "execution_count": 5,
   "metadata": {},
   "outputs": [],
   "source": [
    "#df['wage'] = pd.to_numeric(df['wage'], errors='coerce')"
   ]
  },
  {
   "cell_type": "code",
   "execution_count": 6,
   "metadata": {},
   "outputs": [
    {
     "data": {
      "text/html": [
       "<div>\n",
       "<style scoped>\n",
       "    .dataframe tbody tr th:only-of-type {\n",
       "        vertical-align: middle;\n",
       "    }\n",
       "\n",
       "    .dataframe tbody tr th {\n",
       "        vertical-align: top;\n",
       "    }\n",
       "\n",
       "    .dataframe thead th {\n",
       "        text-align: right;\n",
       "    }\n",
       "</style>\n",
       "<table border=\"1\" class=\"dataframe\">\n",
       "  <thead>\n",
       "    <tr style=\"text-align: right;\">\n",
       "      <th></th>\n",
       "      <th>inlf</th>\n",
       "      <th>hours</th>\n",
       "      <th>kidslt6</th>\n",
       "      <th>kidsge6</th>\n",
       "      <th>age</th>\n",
       "      <th>educ</th>\n",
       "      <th>wage</th>\n",
       "      <th>repwage</th>\n",
       "      <th>hushrs</th>\n",
       "      <th>husage</th>\n",
       "      <th>...</th>\n",
       "      <th>faminc</th>\n",
       "      <th>mtr</th>\n",
       "      <th>motheduc</th>\n",
       "      <th>fatheduc</th>\n",
       "      <th>unem</th>\n",
       "      <th>city</th>\n",
       "      <th>exper</th>\n",
       "      <th>nwifeinc</th>\n",
       "      <th>lwage</th>\n",
       "      <th>expersq</th>\n",
       "    </tr>\n",
       "  </thead>\n",
       "  <tbody>\n",
       "    <tr>\n",
       "      <th>0</th>\n",
       "      <td>1</td>\n",
       "      <td>1656</td>\n",
       "      <td>0</td>\n",
       "      <td>2</td>\n",
       "      <td>30</td>\n",
       "      <td>12</td>\n",
       "      <td>1.3889</td>\n",
       "      <td>2.65</td>\n",
       "      <td>2310</td>\n",
       "      <td>30</td>\n",
       "      <td>...</td>\n",
       "      <td>21800</td>\n",
       "      <td>0.6615</td>\n",
       "      <td>7</td>\n",
       "      <td>7</td>\n",
       "      <td>11.0</td>\n",
       "      <td>1</td>\n",
       "      <td>5</td>\n",
       "      <td>19.49998</td>\n",
       "      <td>0.328512</td>\n",
       "      <td>25</td>\n",
       "    </tr>\n",
       "    <tr>\n",
       "      <th>1</th>\n",
       "      <td>1</td>\n",
       "      <td>1980</td>\n",
       "      <td>1</td>\n",
       "      <td>3</td>\n",
       "      <td>35</td>\n",
       "      <td>12</td>\n",
       "      <td>4.5455</td>\n",
       "      <td>4.04</td>\n",
       "      <td>3072</td>\n",
       "      <td>40</td>\n",
       "      <td>...</td>\n",
       "      <td>21040</td>\n",
       "      <td>0.6915</td>\n",
       "      <td>12</td>\n",
       "      <td>7</td>\n",
       "      <td>5.0</td>\n",
       "      <td>0</td>\n",
       "      <td>15</td>\n",
       "      <td>12.03991</td>\n",
       "      <td>1.514138</td>\n",
       "      <td>225</td>\n",
       "    </tr>\n",
       "  </tbody>\n",
       "</table>\n",
       "<p>2 rows × 22 columns</p>\n",
       "</div>"
      ],
      "text/plain": [
       "   inlf  hours  kidslt6  kidsge6  age  educ    wage  repwage  hushrs  husage  \\\n",
       "0     1   1656        0        2   30    12  1.3889     2.65    2310      30   \n",
       "1     1   1980        1        3   35    12  4.5455     4.04    3072      40   \n",
       "\n",
       "   ...  faminc     mtr  motheduc  fatheduc  unem  city  exper  nwifeinc  \\\n",
       "0  ...   21800  0.6615         7         7  11.0     1      5  19.49998   \n",
       "1  ...   21040  0.6915        12         7   5.0     0     15  12.03991   \n",
       "\n",
       "      lwage  expersq  \n",
       "0  0.328512       25  \n",
       "1  1.514138      225  \n",
       "\n",
       "[2 rows x 22 columns]"
      ]
     },
     "execution_count": 6,
     "metadata": {},
     "output_type": "execute_result"
    }
   ],
   "source": [
    "df = df[df.wage>0]\n",
    "df.head(2)"
   ]
  },
  {
   "cell_type": "markdown",
   "metadata": {},
   "source": [
    "## Question 2\n",
    "\n",
    ">Faire les statistiques descriptives du salaire, de l’âge et de l’éducation pour l’ensemble des femmes puis, pour les femmes dont le salaire du mari est supérieur au 65ème percentile de l’échantillon, puis pour les femmes dont le salaire du mari est inférieur au 65ème percentile de l’échantillon. Commenter.\n",
    "\n",
    "#### Statistiques pour l'ensemble des femmes"
   ]
  },
  {
   "cell_type": "code",
   "execution_count": 7,
   "metadata": {},
   "outputs": [
    {
     "data": {
      "text/html": [
       "<div>\n",
       "<style scoped>\n",
       "    .dataframe tbody tr th:only-of-type {\n",
       "        vertical-align: middle;\n",
       "    }\n",
       "\n",
       "    .dataframe tbody tr th {\n",
       "        vertical-align: top;\n",
       "    }\n",
       "\n",
       "    .dataframe thead th {\n",
       "        text-align: right;\n",
       "    }\n",
       "</style>\n",
       "<table border=\"1\" class=\"dataframe\">\n",
       "  <thead>\n",
       "    <tr style=\"text-align: right;\">\n",
       "      <th></th>\n",
       "      <th>wage</th>\n",
       "      <th>age</th>\n",
       "      <th>educ</th>\n",
       "    </tr>\n",
       "  </thead>\n",
       "  <tbody>\n",
       "    <tr>\n",
       "      <th>count</th>\n",
       "      <td>427.000000</td>\n",
       "      <td>427.000000</td>\n",
       "      <td>427.000000</td>\n",
       "    </tr>\n",
       "    <tr>\n",
       "      <th>mean</th>\n",
       "      <td>4.179611</td>\n",
       "      <td>41.995316</td>\n",
       "      <td>12.660422</td>\n",
       "    </tr>\n",
       "    <tr>\n",
       "      <th>std</th>\n",
       "      <td>3.313925</td>\n",
       "      <td>7.714992</td>\n",
       "      <td>2.287833</td>\n",
       "    </tr>\n",
       "    <tr>\n",
       "      <th>min</th>\n",
       "      <td>0.128200</td>\n",
       "      <td>30.000000</td>\n",
       "      <td>5.000000</td>\n",
       "    </tr>\n",
       "    <tr>\n",
       "      <th>25%</th>\n",
       "      <td>2.258400</td>\n",
       "      <td>35.000000</td>\n",
       "      <td>12.000000</td>\n",
       "    </tr>\n",
       "    <tr>\n",
       "      <th>50%</th>\n",
       "      <td>3.491600</td>\n",
       "      <td>42.000000</td>\n",
       "      <td>12.000000</td>\n",
       "    </tr>\n",
       "    <tr>\n",
       "      <th>75%</th>\n",
       "      <td>4.972600</td>\n",
       "      <td>47.500000</td>\n",
       "      <td>14.000000</td>\n",
       "    </tr>\n",
       "    <tr>\n",
       "      <th>max</th>\n",
       "      <td>25.000000</td>\n",
       "      <td>60.000000</td>\n",
       "      <td>17.000000</td>\n",
       "    </tr>\n",
       "  </tbody>\n",
       "</table>\n",
       "</div>"
      ],
      "text/plain": [
       "             wage         age        educ\n",
       "count  427.000000  427.000000  427.000000\n",
       "mean     4.179611   41.995316   12.660422\n",
       "std      3.313925    7.714992    2.287833\n",
       "min      0.128200   30.000000    5.000000\n",
       "25%      2.258400   35.000000   12.000000\n",
       "50%      3.491600   42.000000   12.000000\n",
       "75%      4.972600   47.500000   14.000000\n",
       "max     25.000000   60.000000   17.000000"
      ]
     },
     "execution_count": 7,
     "metadata": {},
     "output_type": "execute_result"
    }
   ],
   "source": [
    "df[['wage','age','educ']].describe()"
   ]
  },
  {
   "cell_type": "markdown",
   "metadata": {},
   "source": [
    "Le salaire moyen des femmes dans la base de données est de 4.179. L'âge moyen est 42 ans. Le nombre d'années d'éducation moyen est de 12.7 années."
   ]
  },
  {
   "cell_type": "markdown",
   "metadata": {},
   "source": [
    "#### Statistiques pour les femmes dont le salaire du mari est supérieur au 65ème percentile de l'échantillon"
   ]
  },
  {
   "cell_type": "code",
   "execution_count": 8,
   "metadata": {},
   "outputs": [],
   "source": [
    "msq = df.huswage.quantile(0.65)"
   ]
  },
  {
   "cell_type": "code",
   "execution_count": 9,
   "metadata": {},
   "outputs": [
    {
     "data": {
      "text/html": [
       "<div>\n",
       "<style scoped>\n",
       "    .dataframe tbody tr th:only-of-type {\n",
       "        vertical-align: middle;\n",
       "    }\n",
       "\n",
       "    .dataframe tbody tr th {\n",
       "        vertical-align: top;\n",
       "    }\n",
       "\n",
       "    .dataframe thead th {\n",
       "        text-align: right;\n",
       "    }\n",
       "</style>\n",
       "<table border=\"1\" class=\"dataframe\">\n",
       "  <thead>\n",
       "    <tr style=\"text-align: right;\">\n",
       "      <th></th>\n",
       "      <th>inlf</th>\n",
       "      <th>hours</th>\n",
       "      <th>kidslt6</th>\n",
       "      <th>kidsge6</th>\n",
       "      <th>age</th>\n",
       "      <th>educ</th>\n",
       "      <th>wage</th>\n",
       "      <th>repwage</th>\n",
       "      <th>hushrs</th>\n",
       "      <th>husage</th>\n",
       "      <th>...</th>\n",
       "      <th>faminc</th>\n",
       "      <th>mtr</th>\n",
       "      <th>motheduc</th>\n",
       "      <th>fatheduc</th>\n",
       "      <th>unem</th>\n",
       "      <th>city</th>\n",
       "      <th>exper</th>\n",
       "      <th>nwifeinc</th>\n",
       "      <th>lwage</th>\n",
       "      <th>expersq</th>\n",
       "    </tr>\n",
       "  </thead>\n",
       "  <tbody>\n",
       "    <tr>\n",
       "      <th>0</th>\n",
       "      <td>1</td>\n",
       "      <td>1656</td>\n",
       "      <td>0</td>\n",
       "      <td>2</td>\n",
       "      <td>30</td>\n",
       "      <td>12</td>\n",
       "      <td>1.3889</td>\n",
       "      <td>2.65</td>\n",
       "      <td>2310</td>\n",
       "      <td>30</td>\n",
       "      <td>...</td>\n",
       "      <td>21800</td>\n",
       "      <td>0.6615</td>\n",
       "      <td>7</td>\n",
       "      <td>7</td>\n",
       "      <td>11.0</td>\n",
       "      <td>1</td>\n",
       "      <td>5</td>\n",
       "      <td>19.49998</td>\n",
       "      <td>0.328512</td>\n",
       "      <td>25</td>\n",
       "    </tr>\n",
       "    <tr>\n",
       "      <th>3</th>\n",
       "      <td>1</td>\n",
       "      <td>1568</td>\n",
       "      <td>1</td>\n",
       "      <td>2</td>\n",
       "      <td>31</td>\n",
       "      <td>14</td>\n",
       "      <td>4.5918</td>\n",
       "      <td>3.60</td>\n",
       "      <td>2000</td>\n",
       "      <td>32</td>\n",
       "      <td>...</td>\n",
       "      <td>27300</td>\n",
       "      <td>0.6215</td>\n",
       "      <td>12</td>\n",
       "      <td>14</td>\n",
       "      <td>9.5</td>\n",
       "      <td>1</td>\n",
       "      <td>7</td>\n",
       "      <td>20.10006</td>\n",
       "      <td>1.524272</td>\n",
       "      <td>49</td>\n",
       "    </tr>\n",
       "    <tr>\n",
       "      <th>9</th>\n",
       "      <td>1</td>\n",
       "      <td>1969</td>\n",
       "      <td>0</td>\n",
       "      <td>1</td>\n",
       "      <td>33</td>\n",
       "      <td>12</td>\n",
       "      <td>4.0630</td>\n",
       "      <td>4.30</td>\n",
       "      <td>2450</td>\n",
       "      <td>34</td>\n",
       "      <td>...</td>\n",
       "      <td>32300</td>\n",
       "      <td>0.5815</td>\n",
       "      <td>12</td>\n",
       "      <td>3</td>\n",
       "      <td>5.0</td>\n",
       "      <td>0</td>\n",
       "      <td>15</td>\n",
       "      <td>24.29995</td>\n",
       "      <td>1.401922</td>\n",
       "      <td>225</td>\n",
       "    </tr>\n",
       "    <tr>\n",
       "      <th>10</th>\n",
       "      <td>1</td>\n",
       "      <td>1960</td>\n",
       "      <td>0</td>\n",
       "      <td>1</td>\n",
       "      <td>42</td>\n",
       "      <td>11</td>\n",
       "      <td>4.5918</td>\n",
       "      <td>4.58</td>\n",
       "      <td>2375</td>\n",
       "      <td>47</td>\n",
       "      <td>...</td>\n",
       "      <td>28700</td>\n",
       "      <td>0.6215</td>\n",
       "      <td>14</td>\n",
       "      <td>7</td>\n",
       "      <td>5.0</td>\n",
       "      <td>0</td>\n",
       "      <td>14</td>\n",
       "      <td>19.70007</td>\n",
       "      <td>1.524272</td>\n",
       "      <td>196</td>\n",
       "    </tr>\n",
       "    <tr>\n",
       "      <th>13</th>\n",
       "      <td>1</td>\n",
       "      <td>1848</td>\n",
       "      <td>0</td>\n",
       "      <td>1</td>\n",
       "      <td>43</td>\n",
       "      <td>10</td>\n",
       "      <td>3.6797</td>\n",
       "      <td>3.38</td>\n",
       "      <td>2024</td>\n",
       "      <td>45</td>\n",
       "      <td>...</td>\n",
       "      <td>31431</td>\n",
       "      <td>0.5815</td>\n",
       "      <td>7</td>\n",
       "      <td>7</td>\n",
       "      <td>7.5</td>\n",
       "      <td>1</td>\n",
       "      <td>6</td>\n",
       "      <td>24.63091</td>\n",
       "      <td>1.302831</td>\n",
       "      <td>36</td>\n",
       "    </tr>\n",
       "  </tbody>\n",
       "</table>\n",
       "<p>5 rows × 22 columns</p>\n",
       "</div>"
      ],
      "text/plain": [
       "    inlf  hours  kidslt6  kidsge6  age  educ    wage  repwage  hushrs  husage  \\\n",
       "0      1   1656        0        2   30    12  1.3889     2.65    2310      30   \n",
       "3      1   1568        1        2   31    14  4.5918     3.60    2000      32   \n",
       "9      1   1969        0        1   33    12  4.0630     4.30    2450      34   \n",
       "10     1   1960        0        1   42    11  4.5918     4.58    2375      47   \n",
       "13     1   1848        0        1   43    10  3.6797     3.38    2024      45   \n",
       "\n",
       "    ...  faminc     mtr  motheduc  fatheduc  unem  city  exper  nwifeinc  \\\n",
       "0   ...   21800  0.6615         7         7  11.0     1      5  19.49998   \n",
       "3   ...   27300  0.6215        12        14   9.5     1      7  20.10006   \n",
       "9   ...   32300  0.5815        12         3   5.0     0     15  24.29995   \n",
       "10  ...   28700  0.6215        14         7   5.0     0     14  19.70007   \n",
       "13  ...   31431  0.5815         7         7   7.5     1      6  24.63091   \n",
       "\n",
       "       lwage  expersq  \n",
       "0   0.328512       25  \n",
       "3   1.524272       49  \n",
       "9   1.401922      225  \n",
       "10  1.524272      196  \n",
       "13  1.302831       36  \n",
       "\n",
       "[5 rows x 22 columns]"
      ]
     },
     "execution_count": 9,
     "metadata": {},
     "output_type": "execute_result"
    }
   ],
   "source": [
    "df1 = df[df['huswage']>msq]\n",
    "df1.head()"
   ]
  },
  {
   "cell_type": "code",
   "execution_count": 10,
   "metadata": {},
   "outputs": [
    {
     "data": {
      "text/html": [
       "<div>\n",
       "<style scoped>\n",
       "    .dataframe tbody tr th:only-of-type {\n",
       "        vertical-align: middle;\n",
       "    }\n",
       "\n",
       "    .dataframe tbody tr th {\n",
       "        vertical-align: top;\n",
       "    }\n",
       "\n",
       "    .dataframe thead th {\n",
       "        text-align: right;\n",
       "    }\n",
       "</style>\n",
       "<table border=\"1\" class=\"dataframe\">\n",
       "  <thead>\n",
       "    <tr style=\"text-align: right;\">\n",
       "      <th></th>\n",
       "      <th>wage</th>\n",
       "      <th>age</th>\n",
       "      <th>educ</th>\n",
       "    </tr>\n",
       "  </thead>\n",
       "  <tbody>\n",
       "    <tr>\n",
       "      <th>count</th>\n",
       "      <td>148.000000</td>\n",
       "      <td>148.00000</td>\n",
       "      <td>148.000000</td>\n",
       "    </tr>\n",
       "    <tr>\n",
       "      <th>mean</th>\n",
       "      <td>5.139315</td>\n",
       "      <td>42.52027</td>\n",
       "      <td>13.520270</td>\n",
       "    </tr>\n",
       "    <tr>\n",
       "      <th>std</th>\n",
       "      <td>4.351728</td>\n",
       "      <td>7.35168</td>\n",
       "      <td>2.345845</td>\n",
       "    </tr>\n",
       "    <tr>\n",
       "      <th>min</th>\n",
       "      <td>0.213700</td>\n",
       "      <td>30.00000</td>\n",
       "      <td>5.000000</td>\n",
       "    </tr>\n",
       "    <tr>\n",
       "      <th>25%</th>\n",
       "      <td>2.561925</td>\n",
       "      <td>36.00000</td>\n",
       "      <td>12.000000</td>\n",
       "    </tr>\n",
       "    <tr>\n",
       "      <th>50%</th>\n",
       "      <td>4.008050</td>\n",
       "      <td>43.00000</td>\n",
       "      <td>13.000000</td>\n",
       "    </tr>\n",
       "    <tr>\n",
       "      <th>75%</th>\n",
       "      <td>6.516300</td>\n",
       "      <td>48.00000</td>\n",
       "      <td>16.000000</td>\n",
       "    </tr>\n",
       "    <tr>\n",
       "      <th>max</th>\n",
       "      <td>25.000000</td>\n",
       "      <td>59.00000</td>\n",
       "      <td>17.000000</td>\n",
       "    </tr>\n",
       "  </tbody>\n",
       "</table>\n",
       "</div>"
      ],
      "text/plain": [
       "             wage        age        educ\n",
       "count  148.000000  148.00000  148.000000\n",
       "mean     5.139315   42.52027   13.520270\n",
       "std      4.351728    7.35168    2.345845\n",
       "min      0.213700   30.00000    5.000000\n",
       "25%      2.561925   36.00000   12.000000\n",
       "50%      4.008050   43.00000   13.000000\n",
       "75%      6.516300   48.00000   16.000000\n",
       "max     25.000000   59.00000   17.000000"
      ]
     },
     "execution_count": 10,
     "metadata": {},
     "output_type": "execute_result"
    }
   ],
   "source": [
    "msq65 = df['huswage'] > msq\n",
    "df[msq65][['wage', 'age', 'educ']].describe()"
   ]
  },
  {
   "cell_type": "markdown",
   "metadata": {},
   "source": [
    "Le salaire moyen des femmes dont le salaire du mari est supérieur au 65ème percentile de l'échantillon est de 5.139. L'âge moyen est de 42.5 ans, et le nombre d'années d'éducation moyen est de 13.5 années.\n",
    "\n",
    "(Quand un résultat est affiché en percentile 65, cela ne veut pas dire que ce résultat correspond exactement à la valeur unique du percentile 65, mais à la classe de résultats situés en dessous de la valeur du percentile 65 et au-dessus de la valeur du percentile 50 qui dans notre cas représenterait la médiane)"
   ]
  },
  {
   "cell_type": "markdown",
   "metadata": {},
   "source": [
    "#### Statistiques pour les femmes dont le salaire du mari est inférieur au 65ème percentile de l’échantillon"
   ]
  },
  {
   "cell_type": "code",
   "execution_count": 11,
   "metadata": {},
   "outputs": [
    {
     "data": {
      "text/html": [
       "<div>\n",
       "<style scoped>\n",
       "    .dataframe tbody tr th:only-of-type {\n",
       "        vertical-align: middle;\n",
       "    }\n",
       "\n",
       "    .dataframe tbody tr th {\n",
       "        vertical-align: top;\n",
       "    }\n",
       "\n",
       "    .dataframe thead th {\n",
       "        text-align: right;\n",
       "    }\n",
       "</style>\n",
       "<table border=\"1\" class=\"dataframe\">\n",
       "  <thead>\n",
       "    <tr style=\"text-align: right;\">\n",
       "      <th></th>\n",
       "      <th>wage</th>\n",
       "      <th>age</th>\n",
       "      <th>educ</th>\n",
       "    </tr>\n",
       "  </thead>\n",
       "  <tbody>\n",
       "    <tr>\n",
       "      <th>count</th>\n",
       "      <td>275.000000</td>\n",
       "      <td>275.000000</td>\n",
       "      <td>275.000000</td>\n",
       "    </tr>\n",
       "    <tr>\n",
       "      <th>mean</th>\n",
       "      <td>3.655086</td>\n",
       "      <td>41.618182</td>\n",
       "      <td>12.221818</td>\n",
       "    </tr>\n",
       "    <tr>\n",
       "      <th>std</th>\n",
       "      <td>2.475750</td>\n",
       "      <td>7.903826</td>\n",
       "      <td>2.130307</td>\n",
       "    </tr>\n",
       "    <tr>\n",
       "      <th>min</th>\n",
       "      <td>0.128200</td>\n",
       "      <td>30.000000</td>\n",
       "      <td>6.000000</td>\n",
       "    </tr>\n",
       "    <tr>\n",
       "      <th>25%</th>\n",
       "      <td>2.135300</td>\n",
       "      <td>35.000000</td>\n",
       "      <td>12.000000</td>\n",
       "    </tr>\n",
       "    <tr>\n",
       "      <th>50%</th>\n",
       "      <td>3.166600</td>\n",
       "      <td>41.000000</td>\n",
       "      <td>12.000000</td>\n",
       "    </tr>\n",
       "    <tr>\n",
       "      <th>75%</th>\n",
       "      <td>4.517550</td>\n",
       "      <td>47.000000</td>\n",
       "      <td>12.500000</td>\n",
       "    </tr>\n",
       "    <tr>\n",
       "      <th>max</th>\n",
       "      <td>22.500000</td>\n",
       "      <td>60.000000</td>\n",
       "      <td>17.000000</td>\n",
       "    </tr>\n",
       "  </tbody>\n",
       "</table>\n",
       "</div>"
      ],
      "text/plain": [
       "             wage         age        educ\n",
       "count  275.000000  275.000000  275.000000\n",
       "mean     3.655086   41.618182   12.221818\n",
       "std      2.475750    7.903826    2.130307\n",
       "min      0.128200   30.000000    6.000000\n",
       "25%      2.135300   35.000000   12.000000\n",
       "50%      3.166600   41.000000   12.000000\n",
       "75%      4.517550   47.000000   12.500000\n",
       "max     22.500000   60.000000   17.000000"
      ]
     },
     "execution_count": 11,
     "metadata": {},
     "output_type": "execute_result"
    }
   ],
   "source": [
    "msq65 = df['huswage'] < msq\n",
    "df[msq65][['wage', 'age', 'educ']].describe()"
   ]
  },
  {
   "cell_type": "markdown",
   "metadata": {},
   "source": [
    "Le salaire moyen des femmes dont salaire du mari est inférieur au 65ème percentile de l’échantillon est de 3.655086.\n",
    "\n",
    "On observe que les femmes agées en moyenne de 42.5 ans dont le salaire du mari est supérieur au 65ème percentile, et ayant effectué plus de 13.5 ans d'études, gagnent plus que l'ensemble des femmes en moyenne ayant à peu près le même age moyen (42 ans) et quasiment le même nombre d'années d'études (12.66 années) et plus que les femmes dont le mari gagne moins que le 65ème percentile de l'échantillon. \n",
    "L'écart-type est plus élevé aussi pour les femmes dont le mari gagne plus que la médiane (testée et trouvée pour le percentile 0.50).\n",
    "\n",
    "On peut chercher à savoir s'il y a une relation entre le salaire des femmes, leur âge et leur nombre d'années d'études."
   ]
  },
  {
   "cell_type": "markdown",
   "metadata": {},
   "source": [
    "## Question 3\n",
    "\n",
    "> Faire l'histogramme de la variable wage. Supprimer les observations qui sont à plus de 3 écart-types de la moyenne et refaire l’histogramme.\n",
    "\n",
    "##### Histogramme normé"
   ]
  },
  {
   "cell_type": "code",
   "execution_count": 12,
   "metadata": {},
   "outputs": [
    {
     "name": "stderr",
     "output_type": "stream",
     "text": [
      "/home/xavier/.local/lib/python3.6/site-packages/pandas/plotting/_matplotlib/hist.py:309: MatplotlibDeprecationWarning: \n",
      "The 'normed' kwarg was deprecated in Matplotlib 2.1 and will be removed in 3.1. Use 'density' instead.\n",
      "  ax.hist(values, bins=bins, **kwds)\n"
     ]
    },
    {
     "data": {
      "text/plain": [
       "Text(0.5, 1.0, 'Histogramme de la variable wage')"
      ]
     },
     "execution_count": 12,
     "metadata": {},
     "output_type": "execute_result"
    },
    {
     "data": {
      "image/png": "[encoded data removed]",
      "text/plain": [
       "<Figure size 1008x504 with 1 Axes>"
      ]
     },
     "metadata": {
      "needs_background": "light"
     },
     "output_type": "display_data"
    }
   ],
   "source": [
    "plt.figure(figsize=(14, 7))\n",
    "df.wage.hist(normed=True)\n",
    "plt.axvline(df.wage.mean(), color='r', linestyle='dashed', linewidth=3)\n",
    "plt.axvline(df.wage.mean()*3, color='g', linestyle='dashed', linewidth=3)\n",
    "\n",
    "min_ylim, max_ylim = plt.ylim()\n",
    "plt.text(df.wage.mean()*1.1, max_ylim*0.9, 'mean: {:.6f}'.format(df.wage.mean()))\n",
    "plt.text(3*df.wage.mean()*1.04, max_ylim*0.9, '3*mean: {:.6f}'.format(df.wage.mean()*3))\n",
    "\n",
    "plt.title(\"Histogramme de la variable wage\")"
   ]
  },
  {
   "cell_type": "markdown",
   "metadata": {},
   "source": [
    "##### Histogramme non normé"
   ]
  },
  {
   "cell_type": "code",
   "execution_count": 13,
   "metadata": {},
   "outputs": [
    {
     "data": {
      "text/plain": [
       "Text(0.5, 1.0, 'Histogramme de la variable wage')"
      ]
     },
     "execution_count": 13,
     "metadata": {},
     "output_type": "execute_result"
    },
    {
     "data": {
      "image/png": "[encoded data removed]",
      "text/plain": [
       "<Figure size 1008x504 with 1 Axes>"
      ]
     },
     "metadata": {
      "needs_background": "light"
     },
     "output_type": "display_data"
    }
   ],
   "source": [
    "plt.figure(figsize=(14, 7))\n",
    "df.wage.hist()\n",
    "plt.axvline(df.wage.mean(), color='r', linestyle='dashed', linewidth=3)\n",
    "plt.axvline(df.wage.mean()*3, color='g', linestyle='dashed', linewidth=3)\n",
    "\n",
    "min_ylim, max_ylim = plt.ylim()\n",
    "plt.text(df.wage.mean()*1.1, max_ylim*0.9, 'mean: {:.6f}'.format(df.wage.mean()))\n",
    "plt.text(3*df.wage.mean()*1.04, max_ylim*0.9, '3*mean: {:.6f}'.format(df.wage.mean()*3))\n",
    "\n",
    "plt.title(\"Histogramme de la variable wage\")"
   ]
  },
  {
   "cell_type": "code",
   "execution_count": 14,
   "metadata": {},
   "outputs": [],
   "source": [
    "# Supprimer les observations qui sont à plus de 3 écart-types de la moyenne et refaire l’histogramme\n",
    "# sig2=u.T@u/(n-k)\n",
    "# Var=sig2*np.linalg.inv(X.T @ X)\n",
    "# std=np.sqrt(np.diag(Var))\n",
    "# s=(np.abs(df.wage)<3*np.sqrt(sig2))\n",
    "# u1=df[s]\n",
    "# plt.hist(u1,’auto’)"
   ]
  },
  {
   "cell_type": "markdown",
   "metadata": {},
   "source": [
    "On supprime les observations qui sont à plus de 3 écart-types de la moyenne."
   ]
  },
  {
   "cell_type": "code",
   "execution_count": 15,
   "metadata": {},
   "outputs": [
    {
     "data": {
      "image/png": "[encoded data removed]",
      "text/plain": [
       "<Figure size 1008x504 with 1 Axes>"
      ]
     },
     "metadata": {
      "needs_background": "light"
     },
     "output_type": "display_data"
    }
   ],
   "source": [
    "plt.figure(figsize=(14, 7))\n",
    "filtre = df.wage> 3*df.wage.std() + df.wage.mean()\n",
    "df[~filtre].wage.hist()\n",
    "\n",
    "min_ylim, max_ylim = plt.ylim()\n",
    "plt.axvline(df.wage.mean(), color='r', linestyle='dashed', linewidth=3)\n",
    "plt.axvline(3*df.wage.std() + df.wage.mean(), color='g', linestyle='dashed', linewidth=3)\n",
    "plt.text(df.wage.mean()*1.1, max_ylim*0.9, 'mean: {:.6f}'.format(df.wage.mean()))\n",
    "plt.text(3*df.wage.std() + df.wage.mean()*1.04, max_ylim*0.9, '3*std+mean: {:.6f}'.format(3*df.wage.std() + df.wage.mean()))\n",
    "\n",
    "plt.title(\"Histogramme de la variable wage sans les observations à plus de 3 écart-types de la moyenne\")\n",
    "plt.show()"
   ]
  },
  {
   "cell_type": "markdown",
   "metadata": {},
   "source": [
    "## Question 4\n",
    "\n",
    "> Calculer les corrélations motheduc et fatheduc. Expliquer le problème de multi-collinéarité.Commenter."
   ]
  },
  {
   "cell_type": "code",
   "execution_count": 16,
   "metadata": {},
   "outputs": [
    {
     "data": {
      "text/html": [
       "<div>\n",
       "<style scoped>\n",
       "    .dataframe tbody tr th:only-of-type {\n",
       "        vertical-align: middle;\n",
       "    }\n",
       "\n",
       "    .dataframe tbody tr th {\n",
       "        vertical-align: top;\n",
       "    }\n",
       "\n",
       "    .dataframe thead th {\n",
       "        text-align: right;\n",
       "    }\n",
       "</style>\n",
       "<table border=\"1\" class=\"dataframe\">\n",
       "  <thead>\n",
       "    <tr style=\"text-align: right;\">\n",
       "      <th></th>\n",
       "      <th>motheduc</th>\n",
       "      <th>fatheduc</th>\n",
       "    </tr>\n",
       "  </thead>\n",
       "  <tbody>\n",
       "    <tr>\n",
       "      <th>motheduc</th>\n",
       "      <td>1.000000</td>\n",
       "      <td>0.555633</td>\n",
       "    </tr>\n",
       "    <tr>\n",
       "      <th>fatheduc</th>\n",
       "      <td>0.555633</td>\n",
       "      <td>1.000000</td>\n",
       "    </tr>\n",
       "  </tbody>\n",
       "</table>\n",
       "</div>"
      ],
      "text/plain": [
       "          motheduc  fatheduc\n",
       "motheduc  1.000000  0.555633\n",
       "fatheduc  0.555633  1.000000"
      ]
     },
     "execution_count": 16,
     "metadata": {},
     "output_type": "execute_result"
    }
   ],
   "source": [
    "corr_motheduc_fatheduc = df[['motheduc', 'fatheduc']].corr()\n",
    "corr_motheduc_fatheduc"
   ]
  },
  {
   "cell_type": "code",
   "execution_count": 17,
   "metadata": {},
   "outputs": [
    {
     "name": "stdout",
     "output_type": "stream",
     "text": [
      "Corrélation motheduc et fatheduc:  0.555633\n"
     ]
    }
   ],
   "source": [
    "print('Corrélation motheduc et fatheduc: ', np.round(pearsonr(df.motheduc,df.fatheduc)[0], 6))"
   ]
  },
  {
   "cell_type": "code",
   "execution_count": 18,
   "metadata": {},
   "outputs": [
    {
     "name": "stdout",
     "output_type": "stream",
     "text": [
      "corrélation :  [[1.         0.55563305]\n",
      " [0.55563305 1.        ]]\n"
     ]
    }
   ],
   "source": [
    "print('corrélation : ', np.corrcoef(df['motheduc'],df['fatheduc']))"
   ]
  },
  {
   "cell_type": "markdown",
   "metadata": {},
   "source": [
    "La corrélation est de 55.6% entre l'éducation de la mère et celle du père. Ceci peut être dû au fait que 2 conjoints sont souvent issus de la même classe sociale et ont suivi des parcours semblables (en terme du nombre d'années d'études ou de carrière).\n",
    "\n",
    "On ne doit pas confondre ici multicollinéarité et corrélation. Si des variables colinéaires sont de facto fortement corrélées entre elles, deux variables corrélées ne sont pas forcément colinéaires. On dit que les variables sont colinéaires lorsque celles ci mesurent la même chose.\n",
    "\n",
    "Avec la valeur de corrélation obtenue, on ne peut pas conclure sur la multi-collinéarité des variables.\n",
    "\n",
    "Le problème de multicolinéarité:\n",
    "Il y a des colonnes de X quasi linéairement dépendantes. Le det(X'X) est donc quasi nul. On ne peut donc pas calculer son inverse pour pouvoir calculer les écarts types.\n",
    "\n",
    "On trouve une corrélation non nulle entre ces deux variables. Cependant la corrélation est loin de 1, ce qui montre que ces variables ne sont pas colinéaires. On n'aura donc pas de problème de multicolinéarité en utilisant ces deux variables comme variables explicatives.\n",
    "\n",
    "On rejette l'hypothèse nulle (pas de correlation) au seuil de 5%. La corrélation entre les deux variables peut introduire un biais de multicollinéarité."
   ]
  },
  {
   "cell_type": "markdown",
   "metadata": {},
   "source": [
    "## Question 5\n",
    "\n",
    "> Faites un graphique en nuage de points entre wage et educ. S'agit-il d'un effet \"toute chose étant égale par ailleurs ?\""
   ]
  },
  {
   "cell_type": "code",
   "execution_count": 19,
   "metadata": {},
   "outputs": [
    {
     "data": {
      "image/png": "[encoded data removed]",
      "text/plain": [
       "<Figure size 1008x504 with 1 Axes>"
      ]
     },
     "metadata": {
      "needs_background": "light"
     },
     "output_type": "display_data"
    }
   ],
   "source": [
    "plt.figure(figsize=(14, 7))\n",
    "plt.title(\"Relation entre les années d'éducation et le salaire\")\n",
    "sns.regplot(df.educ, df.wage, fit_reg=True)\n",
    "plt.show()"
   ]
  },
  {
   "cell_type": "markdown",
   "metadata": {},
   "source": [
    "Le salaire moyen des femmes met en jeu plusieurs variables (facteurs) en cause. Le niveau d'éducation en est un facteur sans doute important mais ce n'est pas la seule variable à prendre en considération.\n",
    "Il faudrait que toutes les autres variables soient constantes pour déterminer si le niveau d'études est vraiment le seul facteur influant sur le salaire des femmes.\n",
    "A ce niveau, on peut juste constater qu'il y a une variance importante pour le nombre d'années d'études: 12, 16,17 années, par exemple comparé à d'autres nombres d'années où on a une tendance linéaire (5,6,7 ans d'années d'études)"
   ]
  },
  {
   "cell_type": "markdown",
   "metadata": {},
   "source": [
    "## Question 6\n",
    "\n",
    "> Quelle est l'hypothèse fondamentale qui garantit des estimateurs non biaisés ? Expliquer le biais de variable omise."
   ]
  },
  {
   "cell_type": "markdown",
   "metadata": {},
   "source": [
    "Nous traitons un modèle où les erreurs ont une espérance nulle et sont non corrélées et dont les variances sont égales.\n",
    "\n",
    "Le théorème de Gauss–Markov se base sur des hypothèses sur l'espérance et la matrice de variance-covariance des aléas $ \\epsilon $ :\n",
    "\n",
    "- $ \\mathbb{E}(\\epsilon)=0 $ (absence de corrélation entre la perturbation et les variables explicatives) \n",
    "- $ Var(\\epsilon_i)= \\sigma² $ ou matriciellement: $ Var(\\epsilon_i)= \\sigma²I_n $\n",
    "c'est-à-dire que toutes les erreurs ont la même variance : on parle d'homoscédasticité et \n",
    "- $ Cov(\\epsilon_i,\\epsilon_j)= 0 $\n",
    "\n",
    "\n",
    "Le théorème de Gauss-Markov sur le modèle linéaire, garantit que l’estimateur par moindre carré est BLUE (best linear unbiased estimator).\n",
    "\n",
    "Le biais d'une variable omise se produit lorsqu'une des variables explicatives corrélée à la fois avec la variable expliquée et avec le terme d'erreur n'est pas prise en compte. Ce biais résulte du modèle attribuant l'effet des variables manquantes aux effets estimés des variables incluses."
   ]
  },
  {
   "cell_type": "markdown",
   "metadata": {},
   "source": [
    "## Question 7\n",
    "\n",
    "> Faire la régression du log de wage en utilisant comme variables explicatives une constante, city, educ, exper, nwifeinc, kidslt6, kidsgt6. Commentez l'histogramme des résidus."
   ]
  },
  {
   "cell_type": "code",
   "execution_count": 20,
   "metadata": {},
   "outputs": [
    {
     "data": {
      "text/plain": [
       "0.1556569770017887"
      ]
     },
     "execution_count": 20,
     "metadata": {},
     "output_type": "execute_result"
    }
   ],
   "source": [
    "X = df[[\"city\",\"educ\",\"exper\",\"nwifeinc\",\"kidslt6\",\"kidsge6\"]].values\n",
    "y = df[\"lwage\"]\n",
    "reg = LinearRegression()\n",
    "reg.fit(X,y)\n",
    "reg.score(X,y)"
   ]
  },
  {
   "cell_type": "code",
   "execution_count": 21,
   "metadata": {},
   "outputs": [
    {
     "name": "stdout",
     "output_type": "stream",
     "text": [
      "n, k : 427, 6\n"
     ]
    }
   ],
   "source": [
    "n, k = X.shape\n",
    "print(\"n, k : {}, {}\".format(n, k))"
   ]
  },
  {
   "cell_type": "code",
   "execution_count": 22,
   "metadata": {},
   "outputs": [],
   "source": [
    "residus = y - reg.predict(X)\n",
    "gauss_residus = norm.rvs(np.mean(residus), np.std(residus), size=5000)"
   ]
  },
  {
   "cell_type": "code",
   "execution_count": 23,
   "metadata": {},
   "outputs": [
    {
     "data": {
      "image/png": "[encoded data removed]",
      "text/plain": [
       "<Figure size 432x288 with 1 Axes>"
      ]
     },
     "metadata": {
      "needs_background": "light"
     },
     "output_type": "display_data"
    }
   ],
   "source": [
    "plt.title(\"Histogramme des résidus (régression du log du wage: 'lwage')\")\n",
    "sns.distplot(residus, bins=30, label='Residuals histogram')\n",
    "\n",
    "#residus.hist(bins = 30)\n",
    "plt.axvline(np.mean(residus), color='b', linestyle='dashed', linewidth=3)\n",
    "#plt.text(np.mean(residus), max_ylim, 'mean: {:.3f}'.format(np.mean(residus)))\n",
    "\n",
    "plt.show()"
   ]
  },
  {
   "cell_type": "code",
   "execution_count": 24,
   "metadata": {},
   "outputs": [
    {
     "data": {
      "text/plain": [
       "<matplotlib.axes._subplots.AxesSubplot at 0x7f41df104278>"
      ]
     },
     "execution_count": 24,
     "metadata": {},
     "output_type": "execute_result"
    },
    {
     "data": {
      "image/png": "[encoded data removed]",
      "text/plain": [
       "<Figure size 432x288 with 1 Axes>"
      ]
     },
     "metadata": {
      "needs_background": "light"
     },
     "output_type": "display_data"
    }
   ],
   "source": [
    "model = sm.OLS(y, sm.add_constant(X)).fit()  # y: dependent variable, add_constant(X): intercept, OLS linear model (Ordinary Least Squares).\n",
    "lresiduals = model.resid\n",
    "plt.title(\"Histogramme des résidus: régression lwage\")\n",
    "plt.axvline(np.mean(residus), color='b', linestyle='dashed', linewidth=3)\n",
    "sns.distplot(lresiduals, bins=30, label='Residuals histogram')"
   ]
  },
  {
   "cell_type": "code",
   "execution_count": 25,
   "metadata": {},
   "outputs": [
    {
     "name": "stdout",
     "output_type": "stream",
     "text": [
      "                            OLS Regression Results                            \n",
      "==============================================================================\n",
      "Dep. Variable:                  lwage   R-squared:                       0.156\n",
      "Model:                            OLS   Adj. R-squared:                  0.144\n",
      "Method:                 Least Squares   F-statistic:                     12.90\n",
      "Date:                Sat, 11 Apr 2020   Prob (F-statistic):           2.11e-13\n",
      "Time:                        15:19:45   Log-Likelihood:                -431.38\n",
      "No. Observations:                 427   AIC:                             876.8\n",
      "Df Residuals:                     420   BIC:                             905.2\n",
      "Df Model:                           6                                         \n",
      "Covariance Type:            nonrobust                                         \n",
      "==============================================================================\n",
      "                 coef    std err          t      P>|t|      [0.025      0.975]\n",
      "------------------------------------------------------------------------------\n",
      "const         -0.4013      0.208     -1.934      0.054      -0.809       0.007\n",
      "x1             0.0363      0.070      0.516      0.606      -0.102       0.175\n",
      "x2             0.1023      0.015      6.766      0.000       0.073       0.132\n",
      "x3             0.0155      0.004      3.448      0.001       0.007       0.024\n",
      "x4             0.0049      0.003      1.466      0.143      -0.002       0.011\n",
      "x5            -0.0476      0.086     -0.554      0.580      -0.217       0.121\n",
      "x6            -0.0113      0.027     -0.418      0.676      -0.064       0.042\n",
      "==============================================================================\n",
      "Omnibus:                       79.025   Durbin-Watson:                   1.975\n",
      "Prob(Omnibus):                  0.000   Jarque-Bera (JB):              284.161\n",
      "Skew:                          -0.792   Prob(JB):                     1.97e-62\n",
      "Kurtosis:                       6.669   Cond. No.                         178.\n",
      "==============================================================================\n",
      "\n",
      "Warnings:\n",
      "[1] Standard Errors assume that the covariance matrix of the errors is correctly specified.\n"
     ]
    }
   ],
   "source": [
    "print(model.summary())"
   ]
  },
  {
   "cell_type": "markdown",
   "metadata": {},
   "source": [
    "L'histogramme des résidus est centré et symétrique par rapport à 0."
   ]
  },
  {
   "cell_type": "markdown",
   "metadata": {},
   "source": [
    "## Question 8\n",
    "\n",
    "> Tester l'hypothèse de non significativité de nwifeinc avec un seuil de significativité de 1%, 5% et 10% (test alternatif des deux côtés). Commentez les p-values.\n",
    "\n",
    "nwifeinc : (faminc - wage*hours)/1000 (faminc: family income)\n",
    "\n",
    "Nous pouvons voir depuis le summary que la p-value concernant le test de significativité du coefficient de nwifeinc pour x4 vaut 0.143.  \n",
    "H0: $\\beta_{nwifeinc}$ = 0\n",
    "- Au seuil de 1%: 0.01 < 0.143: On ne rejette pas l'hypothèse H0 \n",
    "- Au seuil de 5%: 0.05 < 0.143: On ne rejette pas l'hypothèse H0  \n",
    "- Au seuil de 10%: 0.1 < 0.143: On ne rejette pas l'hypothèse H0  \n",
    "\n",
    "Pour les 3 seuils proposés, nous ne pouvons rejeter l'hypothèse de non significativité de $\\beta_{nwifeinc}$.  \n",
    "\n",
    "L'histogramme montre une loi normale qui suppose qu'on est dans le cas d'un test paramétrique. On utilisera le test de Student (qui est un exemple de test paramétrique).\n",
    "\n",
    "Le principe général des tests d'hypothèse repose sur la formulation d'une \n",
    "\n",
    "- hypothèse nulle  H_0 : $ \\beta_{nwifeinc} = 0 $ : que l'on cherche à rejeter au profit de :\n",
    "- l'hypothèse alternative $ H_1 : \\beta_{nwifeinc} ≠ 0 $\n",
    "\n",
    "\n",
    "On calcule la stat de test suivante : \n",
    "\n",
    "$ t_{nwifeinc} = \\frac { \\hat{\\beta}_{nwifeinc}} {\\hat{\\sigma}_{nwifeinc}} $"
   ]
  },
  {
   "cell_type": "code",
   "execution_count": 26,
   "metadata": {},
   "outputs": [
    {
     "name": "stdout",
     "output_type": "stream",
     "text": [
      "le coefficient de regression associé à nwifeinc est 0.004889128168954648\n",
      "la valeur t_nwifeinc:  1.466\n",
      "la p-valeur est:  0.14339476993691103\n"
     ]
    }
   ],
   "source": [
    "t_nwifeinc = 1.466  #depuis le summary\n",
    "Beta = reg.coef_[3]\n",
    "print(\"le coefficient de regression associé à nwifeinc est {}\".format(Beta))\n",
    "print(\"la valeur t_nwifeinc: \", t_nwifeinc)\n",
    "print('la p-valeur est: ',t.sf(t_nwifeinc,n-k)*2)"
   ]
  },
  {
   "cell_type": "markdown",
   "metadata": {},
   "source": [
    "On vérifie bien que la p-valeur est celle retrouvée sur le summary.\n",
    "Vérifions que nous retrouvons bien les mes valeurs par le calcul de la t student, le même coeff et std.\n",
    "\n",
    "x4:            coef= 0.0049,     std= 0.003,      t= 1.466,     p-val= 0.143     "
   ]
  },
  {
   "cell_type": "code",
   "execution_count": 27,
   "metadata": {},
   "outputs": [
    {
     "name": "stdout",
     "output_type": "stream",
     "text": [
      "sig2: 0.44789700585066605\n",
      "std:  [0.07008285 0.00847451 0.00413382 0.00332472 0.08583124 0.02494099]\n",
      "beta:  [ 0.02524795  0.07811527  0.01211034  0.00450532 -0.04444561 -0.03130184]\n",
      "t_nwifeinc :  1.466\n",
      "p_val :  0.14339476993691092\n"
     ]
    }
   ],
   "source": [
    "X = df[[\"city\",\"educ\",\"exper\",\"nwifeinc\",\"kidslt6\",\"kidsge6\"]].values\n",
    "y = df[\"lwage\"]\n",
    "\n",
    "n,k = X.shape\n",
    "results = sm.OLS(y, sm.add_constant(X)).fit()\n",
    "residus = results.resid\n",
    "\n",
    "sig2 = residus.T.dot(residus) / (n-k)\n",
    "print(\"sig2:\", sig2)\n",
    "\n",
    "inv_gram = np.linalg.inv(X.T.dot(X))\n",
    "std = np.sqrt(np.diag(sig2 * inv_gram))\n",
    "beta = inv_gram.dot(X.T).dot(df['lwage'])\n",
    "\n",
    "print(\"std: \",std)\n",
    "print(\"beta: \",beta)\n",
    "t_nwfeinc = beta[3] / std[3]\n",
    "\n",
    "print(\"t_nwifeinc : \", t_nwifeinc)\n",
    "\n",
    "p_val = 2 * (1- t.cdf(t_nwifeinc,n-k)) # *2 car il s'agit d'un test alternatif des 2 côtés\n",
    "print(\"p_val : \", p_val)"
   ]
  },
  {
   "cell_type": "markdown",
   "metadata": {},
   "source": [
    "L’erreur/risque de première espèce (α) est également appelée seuil de signification du test statistique. \n",
    "Elle consiste à conclure à tort que la variable nwifeinc est la plus importante quant au calcul du salaire moyen des femmes alors que le hasard est responsable des différences observées.\n",
    "\n",
    "L'erreur bêta ($\\beta$) (ou risque de deuxième espèce) mesure cette probabilité de ne pas rejeter l’hypothèse nulle H0 alors qu’elle est fausse."
   ]
  },
  {
   "cell_type": "code",
   "execution_count": 28,
   "metadata": {},
   "outputs": [
    {
     "name": "stdout",
     "output_type": "stream",
     "text": [
      "Seuil: 1%\n",
      "p_value de t_nwifeinc :  0.14339476993691092\n",
      "0.14 > 0.01: On ne rejette pas l'hypothèse de non-significativité \n",
      "\n",
      "Seuil: 5%\n",
      "p_value de t_nwifeinc :  0.14339476993691092\n",
      "0.14 > 0.05: On ne rejette pas l'hypothèse de non-significativité \n",
      "\n",
      "Seuil: 10%\n",
      "p_value de t_nwifeinc :  0.14339476993691092\n",
      "0.14 > 0.10: On ne rejette pas l'hypothèse de non-significativité \n",
      "\n"
     ]
    }
   ],
   "source": [
    "for threshold in [1, 5, 10]:\n",
    "    print('Seuil: {}%'.format(threshold))\n",
    "    print('p_value de t_nwifeinc : ', p_val)\n",
    "    if (p_val < threshold/100):\n",
    "        print('{:.2f} < {:.2f}: On rejette l\\'hypothèse de non-significativité'\n",
    "              .format(p_val, threshold/100), '\\n')\n",
    "    else:\n",
    "        print('{:.2f} > {:.2f}: On ne rejette pas l\\'hypothèse de non-significativité'\n",
    "              .format(p_val, threshold/100), '\\n')"
   ]
  },
  {
   "cell_type": "markdown",
   "metadata": {},
   "source": [
    "## Question 9\n",
    "\n",
    "> Tester l’hypothèse que le coefficient associé à nwifeinc est égal à 0.01 avec un seuil de significativité de 5% (test à alternatif des deux côtés)\n",
    "\n",
    "On teste désormais : $ t_{nwifeinc} = \\frac { \\hat{\\beta}_{nwifeinc}- 0.01} {\\hat{\\sigma}_{nwifeinc}} $"
   ]
  },
  {
   "cell_type": "code",
   "execution_count": 29,
   "metadata": {},
   "outputs": [
    {
     "name": "stdout",
     "output_type": "stream",
     "text": [
      "T-stat :  -1.537235226620244\n",
      "Seuil: 5%\n",
      "p-value : 0.12498691508296927\n",
      "0.12 > 0.05: On ne rejette pas l'hypothèse de non-significativité \n",
      "\n"
     ]
    }
   ],
   "source": [
    "t_nwifeinc = (Beta - 0.01) / std[3]\n",
    "\n",
    "threshold = 5  # seuil significativité 5%\n",
    "t_stat = 2 * t.isf(threshold/100, n-k)\n",
    "p_val = 2 * (t.cdf(t_nwifeinc, n-k))  # notre t stat est négatif\n",
    "\n",
    "print('T-stat : ', t_nwifeinc)\n",
    "print('Seuil: {}%'.format(threshold))\n",
    "print('p-value : {}'.format(p_val))\n",
    "\n",
    "if (p_val < threshold/100):\n",
    "    print('{:.2f} < {:.2f}: On rejette l\\'hypothèse de non-significativité'\n",
    "        .format(p_val, threshold/100), '\\n')\n",
    "else:\n",
    "    print('{:.2f} > {:.2f}: On ne rejette pas l\\'hypothèse de non-significativité'\n",
    "        .format(p_val, threshold/100), '\\n')"
   ]
  },
  {
   "cell_type": "markdown",
   "metadata": {},
   "source": [
    "On ne rejette pas l'hypothèse de non significativité que $\\beta_{nwifeinc}$ = 0.01 "
   ]
  },
  {
   "cell_type": "markdown",
   "metadata": {},
   "source": [
    "## Question 10\n",
    "\n",
    "> Tester l’hypothèse jointe que le coefficient de nwifeinc est égal à 0.01 et que celui de city est égal à 0.05."
   ]
  },
  {
   "cell_type": "code",
   "execution_count": 30,
   "metadata": {},
   "outputs": [
    {
     "name": "stdout",
     "output_type": "stream",
     "text": [
      "le coefficient de regression associé à nwifeinc est 0.004889128168954648\n",
      "le coefficient de regression associé à city est 0.036332885165569616\n"
     ]
    }
   ],
   "source": [
    "Beta_nwifeinc = reg.coef_[3]\n",
    "print(\"le coefficient de regression associé à nwifeinc est {}\".format(Beta_nwifeinc))\n",
    "Beta_city = reg.coef_[0]\n",
    "print(\"le coefficient de regression associé à city est {}\".format(Beta_city))"
   ]
  },
  {
   "cell_type": "markdown",
   "metadata": {},
   "source": [
    "Pour réaliser un test d'hypothèses jointes de nwifeinc égal à 0.01 et celui de city égal à 0.05 , on estime une statistique de test de Fisher entre le modèle contraint et le modèle non-contrait selon les hypothèses :\n",
    "\n",
    "$ H_0 : \\beta_{nwifeinc} = 0.01, \\beta_{city} = 0.05 $\n",
    "\n",
    "On calcule la somme des carrés des erreurs du modèle contraint. Le modèle contraint impose les contraintes de H0. On calculera la statistique de Fisher:\n",
    "$ F_{nwifeinc + city} = \\frac { (SSR_{contr} - SSR_{nncontr}) /2 } {SSR_{nncontr}/(n-k) } $  \n",
    "\n",
    "On compare ensuite cette statistique de test à la valeur critique."
   ]
  },
  {
   "cell_type": "markdown",
   "metadata": {},
   "source": [
    "On définit la SSR comme la Somme des résidus au carré. On estime donc deux modèles, un modèle non-contraint, et un modèle contraint.\n",
    "\n",
    "$ F_{nwifeinc + city} = \\frac { SSR_{contr} - SSR_{nncontr} } {ddl_{contr} - ddl_{nncontr} } \\times \\frac {ddl_{nncontr}} {SSR_{nncontr}} $  "
   ]
  },
  {
   "cell_type": "code",
   "execution_count": 31,
   "metadata": {},
   "outputs": [
    {
     "name": "stdout",
     "output_type": "stream",
     "text": [
      "La F-statistic: 1.3211156768069399\n",
      "La p_value est de : 0.2679439569022454\n"
     ]
    }
   ],
   "source": [
    "# Modèle non contraint\n",
    "ols = sm.OLS(y, sm.add_constant(X)).fit()\n",
    "SSR_n = np.sum(ols.resid ** 2)\n",
    "ddl_n = df.shape[0] - X.shape[1] - 1\n",
    "\n",
    "# Modèle contraint: le coefficient de nwifeinc est égal à 0.01 et que celui de city est égal à 0.05.\n",
    "Yc = y - 0.01 * df.nwifeinc - 0.05 * df.city\n",
    "Xc = df[[\"educ\",\"exper\",\"kidslt6\",\"kidsge6\"]]\n",
    "\n",
    "ols = sm.OLS(Yc, sm.add_constant(Xc)).fit()\n",
    "SSR_c = np.sum(ols.resid ** 2)\n",
    "ddl_c = df.shape[0] - Xc.shape[1] - 1\n",
    "\n",
    "# Stat de test\n",
    "F = ((SSR_c - SSR_n)/ (ddl_c - ddl_n)) / (SSR_n / ddl_n)\n",
    "p_val = 1- f.cdf(F, ddl_c - ddl_n, ddl_n)\n",
    "\n",
    "print(\"La F-statistic: {}\".format(F))\n",
    "print(\"La p_value est de : {}\".format(p_val))"
   ]
  },
  {
   "cell_type": "markdown",
   "metadata": {},
   "source": [
    "Au seuil de 5%: 0.05 < 0.26: On ne rejette pas l'hypothèse H0"
   ]
  },
  {
   "cell_type": "markdown",
   "metadata": {},
   "source": [
    "##  Question 11\n",
    "\n",
    "> Tester l’hypothèse jointe que $\\beta_{nwifeinc}+\\beta_{city}=0.1$ et $\\beta_{educ}+\\beta_{exper}=0.1 $"
   ]
  },
  {
   "cell_type": "markdown",
   "metadata": {},
   "source": [
    "H0: $\\beta_{nwifeinc} + \\beta_{city} = 0.1 Alors \\beta_{nwifeinc} = 0.1 - \\beta_{city}$  \n",
    "et $\\beta_{educ} + \\beta_{exper} = 0.1 Alors \\beta_{educ} = 0.1 - \\beta_{exper}$"
   ]
  },
  {
   "cell_type": "code",
   "execution_count": 32,
   "metadata": {},
   "outputs": [
    {
     "name": "stdout",
     "output_type": "stream",
     "text": [
      "f_stat : 0.9138430034859418\n",
      "p_value :  0.40177606481489325\n"
     ]
    }
   ],
   "source": [
    "# Modèle non contraint\n",
    "X = df[['city','educ','exper','nwifeinc', 'kidslt6', 'kidsge6']]\n",
    "y = df['lwage']\n",
    "\n",
    "ols = sm.OLS(y, sm.add_constant(X)).fit()\n",
    "SSR_n = np.sum(ols.resid ** 2)\n",
    "n,k=np.shape(sm.add_constant(X))\n",
    "\n",
    "# Modèle contraint\n",
    "y = df['lwage'] - 0.1*df['nwifeinc'] - 0.1*df['educ']\n",
    "df['nwicity'] = df['nwifeinc'] - df['city']\n",
    "df['eduexper'] = df['educ'] - df['exper']\n",
    "\n",
    "X = df[['nwicity','eduexper','kidslt6', 'kidsge6']]\n",
    "\n",
    "ols = sm.OLS(y, sm.add_constant(X)).fit()\n",
    "SSR_c = np.sum(ols.resid ** 2)\n",
    "\n",
    "# Stat de test\n",
    "F = ((SSR_c - SSR_n)/ 2) / (SSR_n / (n-k))\n",
    "p_val = 1- stats.f.cdf(F, 2, n-k)\n",
    "\n",
    "print(\"f_stat :\", F)\n",
    "print(\"p_value : \",p_val)"
   ]
  },
  {
   "cell_type": "markdown",
   "metadata": {},
   "source": [
    "## Question 12\n",
    "\n",
    "> Faites une représentation graphique de la manière dont le salaire augmente avec l’éducation et l’expérience professionnelle. Commentez"
   ]
  },
  {
   "cell_type": "code",
   "execution_count": 33,
   "metadata": {},
   "outputs": [
    {
     "data": {
      "image/png": "[encoded data removed]",
      "text/plain": [
       "<Figure size 432x288 with 1 Axes>"
      ]
     },
     "metadata": {
      "needs_background": "light"
     },
     "output_type": "display_data"
    }
   ],
   "source": [
    "x=df.educ.values\n",
    "y=df.wage.values\n",
    "plt.fill_between( x, y, color=\"skyblue\", alpha=0.4)\n",
    "plt.plot(x, y, color=\"Slateblue\", alpha=0.4)\n",
    "plt.title('salaire en f(educ)', fontsize=12, color='grey', style='italic')\n",
    "sns.regplot(x, y, color= 'Slateblue', fit_reg=True)\n",
    "plt.show()"
   ]
  },
  {
   "cell_type": "markdown",
   "metadata": {},
   "source": [
    "En traçant la droite de régression, on remarque bien que le salaire augmente en fonction du nombre d'années d'éducation."
   ]
  },
  {
   "cell_type": "code",
   "execution_count": 34,
   "metadata": {},
   "outputs": [
    {
     "data": {
      "image/png": "[encoded data removed]",
      "text/plain": [
       "<Figure size 432x288 with 1 Axes>"
      ]
     },
     "metadata": {
      "needs_background": "light"
     },
     "output_type": "display_data"
    }
   ],
   "source": [
    "x=df.exper.values\n",
    "y=df.wage.values\n",
    "\n",
    "plt.stackplot(x,y, labels=['wage'])\n",
    "plt.legend(loc='upper right')\n",
    "plt.title('salaire en f(exper)', fontsize=12, color='grey', style='italic')\n",
    "sns.regplot(x, y, color= 'y', fit_reg=True)\n",
    "\n",
    "plt.show()"
   ]
  },
  {
   "cell_type": "markdown",
   "metadata": {},
   "source": [
    "Le salaire augmente très légèrement en fonction de l'expérience."
   ]
  },
  {
   "cell_type": "code",
   "execution_count": 35,
   "metadata": {},
   "outputs": [
    {
     "data": {
      "image/png": "[encoded data removed]",
      "text/plain": [
       "<Figure size 432x288 with 2 Axes>"
      ]
     },
     "metadata": {
      "needs_background": "light"
     },
     "output_type": "display_data"
    }
   ],
   "source": [
    "plt.title(\"Variation du salaire en f(educ,exper)\")\n",
    "plt.subplot(121)\n",
    "plt.plot( df.exper.values, df.wage.values, marker='o',color='mediumvioletred' , alpha=0.4)\n",
    "\n",
    "plt.title('salaire en f(exper)', fontsize=12, color='grey', style='italic')\n",
    "\n",
    " \n",
    "plt.subplot(122)\n",
    "plt.plot( df.educ.values, df.wage.values, marker='D', color=\"orange\", alpha=0.3)\n",
    "plt.title('salaire en f(educ)', fontsize=12, color='grey', style='italic')\n",
    "plt.show()"
   ]
  },
  {
   "cell_type": "code",
   "execution_count": 36,
   "metadata": {},
   "outputs": [
    {
     "data": {
      "text/plain": [
       "<seaborn.axisgrid.JointGrid at 0x7f41df447ac8>"
      ]
     },
     "execution_count": 36,
     "metadata": {},
     "output_type": "execute_result"
    },
    {
     "data": {
      "image/png": "[encoded data removed]",
      "text/plain": [
       "<Figure size 432x432 with 3 Axes>"
      ]
     },
     "metadata": {
      "needs_background": "light"
     },
     "output_type": "display_data"
    },
    {
     "data": {
      "image/png": "[encoded data removed]",
      "text/plain": [
       "<Figure size 432x432 with 3 Axes>"
      ]
     },
     "metadata": {
      "needs_background": "light"
     },
     "output_type": "display_data"
    }
   ],
   "source": [
    "sns.jointplot(x=df.exper, y=df.wage, kind='scatter')\n",
    "sns.jointplot(x=df.educ, y=df.wage, kind='hex')"
   ]
  },
  {
   "cell_type": "markdown",
   "metadata": {},
   "source": [
    "On remarque que le salaire augmente en fonction du nombre d'années d'étude (un pic pour 12 ans d'études. Sur le dernier graphe on observe bien une gaussienne pour 12."
   ]
  },
  {
   "cell_type": "code",
   "execution_count": 37,
   "metadata": {},
   "outputs": [
    {
     "data": {
      "text/plain": [
       "Text(0.5, 0, 'wage')"
      ]
     },
     "execution_count": 37,
     "metadata": {},
     "output_type": "execute_result"
    },
    {
     "data": {
      "image/png": "[encoded data removed]",
      "text/plain": [
       "<Figure size 432x288 with 1 Axes>"
      ]
     },
     "metadata": {
      "needs_background": "light"
     },
     "output_type": "display_data"
    }
   ],
   "source": [
    "fig = plt.figure()\n",
    "ax = fig.gca(projection='3d')\n",
    "surf = ax.plot_trisurf(df.educ, df.exper, df.wage)\n",
    "ax.set_xlabel('educ')\n",
    "ax.set_ylabel('exper')\n",
    "ax.set_zlabel('wage')"
   ]
  },
  {
   "cell_type": "markdown",
   "metadata": {},
   "source": [
    "## Question 13\n",
    "\n",
    "> Tester l’égalité des coefficients associés aux variables kidsge6 et kidslt6. Interprétez."
   ]
  },
  {
   "cell_type": "code",
   "execution_count": 38,
   "metadata": {},
   "outputs": [
    {
     "name": "stdout",
     "output_type": "stream",
     "text": [
      "0.6908219743962195\n"
     ]
    }
   ],
   "source": [
    "X1 = df[[\"city\",\"educ\",\"exper\",\"nwifeinc\",\"kidslt6\",\"kidsge6\"]].values \n",
    "Y1 = df['lwage']\n",
    "\n",
    "ols = sm.OLS(Y1, sm.add_constant(X1)).fit()\n",
    "SSR_n = np.sum(ols.resid ** 2)\n",
    "ddl_n = df.shape[0] - X1.shape[1] - 1\n",
    "\n",
    "# Modèle contraint\n",
    "df['kids'] = df['kidslt6'] + df['kidsge6']\n",
    "Y2 = df['lwage']\n",
    "X2 = df[['city','educ','exper','nwifeinc', 'kids']]\n",
    "\n",
    "ols = sm.OLS(Y2, sm.add_constant(X2)).fit()\n",
    "SSR_c = np.sum(ols.resid ** 2)\n",
    "ddl_c = df.shape[0] - X2.shape[1] - 1\n",
    "\n",
    "# Stat de test\n",
    "F = ((SSR_c - SSR_n)/ (ddl_c - ddl_n)) / (SSR_n / ddl_n)\n",
    "p_val = 1- f.cdf(F, ddl_c - ddl_n, ddl_n)\n",
    "\n",
    "print(p_val)"
   ]
  },
  {
   "cell_type": "markdown",
   "metadata": {},
   "source": [
    "On ne rejette pas l'hypothèse d'égalité des coefficients car la p-value est de 0.7 et est supérieure à 5%."
   ]
  },
  {
   "cell_type": "markdown",
   "metadata": {},
   "source": [
    "## Question 14\n",
    "\n",
    "> Faire le test d'hétéroscédasticité de forme linéaire en donnant la p-valeur. Déterminer la ou les sources d’hétéroscédasticité et corriger avec les méthodes vues en cours. Comparer les écarts-types des coefficients estimés avec ceux obtenus à la question 7.\n",
    "\n",
    "\n",
    "On commence par calculer avec wage et ensuite on passe au log pour vérifier si on améliore notre modèle."
   ]
  },
  {
   "cell_type": "code",
   "execution_count": 39,
   "metadata": {},
   "outputs": [],
   "source": [
    "X = df[[\"city\",\"educ\",\"exper\",\"nwifeinc\",\"kidslt6\",\"kidsge6\"]].values \n",
    "Y = df['wage']\n",
    "\n",
    "results = sm.OLS(Y, sm.add_constant(X)).fit()\n",
    "u2 = results.resid ** 2"
   ]
  },
  {
   "cell_type": "code",
   "execution_count": 40,
   "metadata": {},
   "outputs": [
    {
     "name": "stdout",
     "output_type": "stream",
     "text": [
      "                            OLS Regression Results                            \n",
      "==============================================================================\n",
      "Dep. Variable:                      y   R-squared:                       0.022\n",
      "Model:                            OLS   Adj. R-squared:                  0.008\n",
      "Method:                 Least Squares   F-statistic:                     1.589\n",
      "Date:                Sat, 11 Apr 2020   Prob (F-statistic):              0.149\n",
      "Time:                        15:19:49   Log-Likelihood:                -2202.6\n",
      "No. Observations:                 427   AIC:                             4419.\n",
      "Df Residuals:                     420   BIC:                             4448.\n",
      "Df Model:                           6                                         \n",
      "Covariance Type:            nonrobust                                         \n",
      "==============================================================================\n",
      "                 coef    std err          t      P>|t|      [0.025      0.975]\n",
      "------------------------------------------------------------------------------\n",
      "const          1.6203     13.139      0.123      0.902     -24.207      27.448\n",
      "x1             5.9033      4.458      1.324      0.186      -2.859      14.665\n",
      "x2             0.8034      0.957      0.839      0.402      -1.079       2.685\n",
      "x3            -0.5340      0.284     -1.878      0.061      -1.093       0.025\n",
      "x4             0.0431      0.211      0.204      0.838      -0.372       0.458\n",
      "x5             5.0914      5.442      0.936      0.350      -5.606      15.788\n",
      "x6            -0.4251      1.711     -0.248      0.804      -3.789       2.939\n",
      "==============================================================================\n",
      "Omnibus:                      636.990   Durbin-Watson:                   2.030\n",
      "Prob(Omnibus):                  0.000   Jarque-Bera (JB):            95475.124\n",
      "Skew:                           8.117   Prob(JB):                         0.00\n",
      "Kurtosis:                      74.433   Cond. No.                         178.\n",
      "==============================================================================\n",
      "\n",
      "Warnings:\n",
      "[1] Standard Errors assume that the covariance matrix of the errors is correctly specified.\n",
      "F-statistic:  1.9066339040551092\n",
      "p-value:  0.09205924774998142\n"
     ]
    }
   ],
   "source": [
    "# Modèle non contraint\n",
    "ols = sm.OLS(u2, sm.add_constant(X)).fit()\n",
    "SSR_n = np.sum(ols.resid ** 2)\n",
    "ddl_n = X.shape[0] - X.shape[1] - 1\n",
    "\n",
    "# Modèle contraint\n",
    "X = np.ones((df.shape[0], 1))\n",
    "\n",
    "ols_2 = sm.OLS(u2, X).fit()\n",
    "SSR_c = np.sum(ols_2.resid ** 2)\n",
    "ddl_c = X.shape[0] - X.shape[1] - 1\n",
    "\n",
    "# Stat de test\n",
    "F = ((SSR_c - SSR_n)/ (ddl_c - ddl_n)) / (SSR_n / ddl_n)\n",
    "p_val = 1 - f.cdf(F, ddl_c - ddl_n, ddl_n)\n",
    "\n",
    "print(ols.summary())\n",
    "print(\"F-statistic: \",F)\n",
    "print(\"p-value: \",p_val)"
   ]
  },
  {
   "cell_type": "markdown",
   "metadata": {},
   "source": [
    "On obtient une p-value de 9%, qui implique un rejet de l'hypothèse à 10%. \n",
    "Nous ne rejetons pas l'homocédasticité à 5%.\n",
    "\n",
    "##### Passage au log wage"
   ]
  },
  {
   "cell_type": "code",
   "execution_count": 41,
   "metadata": {},
   "outputs": [
    {
     "name": "stdout",
     "output_type": "stream",
     "text": [
      "                            OLS Regression Results                            \n",
      "==============================================================================\n",
      "Dep. Variable:                      y   R-squared:                       0.028\n",
      "Model:                            OLS   Adj. R-squared:                  0.014\n",
      "Method:                 Least Squares   F-statistic:                     2.008\n",
      "Date:                Sat, 11 Apr 2020   Prob (F-statistic):             0.0635\n",
      "Time:                        15:19:49   Log-Likelihood:                -621.27\n",
      "No. Observations:                 427   AIC:                             1257.\n",
      "Df Residuals:                     420   BIC:                             1285.\n",
      "Df Model:                           6                                         \n",
      "Covariance Type:            nonrobust                                         \n",
      "==============================================================================\n",
      "                 coef    std err          t      P>|t|      [0.025      0.975]\n",
      "------------------------------------------------------------------------------\n",
      "const          0.4579      0.324      1.414      0.158      -0.178       1.094\n",
      "x1             0.0937      0.110      0.853      0.394      -0.122       0.310\n",
      "x2             0.0124      0.024      0.528      0.598      -0.034       0.059\n",
      "x3            -0.0170      0.007     -2.421      0.016      -0.031      -0.003\n",
      "x4            -0.0036      0.005     -0.685      0.494      -0.014       0.007\n",
      "x5             0.1341      0.134      1.000      0.318      -0.129       0.398\n",
      "x6             0.0267      0.042      0.634      0.527      -0.056       0.110\n",
      "==============================================================================\n",
      "Omnibus:                      453.050   Durbin-Watson:                   1.642\n",
      "Prob(Omnibus):                  0.000   Jarque-Bera (JB):            16659.017\n",
      "Skew:                           4.868   Prob(JB):                         0.00\n",
      "Kurtosis:                      32.010   Cond. No.                         178.\n",
      "==============================================================================\n",
      "\n",
      "Warnings:\n",
      "[1] Standard Errors assume that the covariance matrix of the errors is correctly specified.\n",
      "F-statistic:  2.4094715816759376\n",
      "p-value:  0.03589956901287028\n"
     ]
    }
   ],
   "source": [
    "X = df[[\"city\",\"educ\",\"exper\",\"nwifeinc\",\"kidslt6\",\"kidsge6\"]].values \n",
    "Y = df['lwage']\n",
    "\n",
    "results = sm.OLS(Y, sm.add_constant(X)).fit()\n",
    "u2 = results.resid ** 2\n",
    "\n",
    "results2 = sm.OLS(u2,X).fit()\n",
    "\n",
    "# Modèle non contraint\n",
    "ols = sm.OLS(u2, sm.add_constant(X)).fit()\n",
    "SSR_n = np.sum(ols.resid ** 2)\n",
    "ddl_n = X.shape[0] - X.shape[1] - 1\n",
    "\n",
    "# Modèle contraint\n",
    "X = np.ones((df.shape[0], 1))\n",
    "\n",
    "ols_2 = sm.OLS(u2, X).fit()\n",
    "SSR_c = np.sum(ols_2.resid ** 2)\n",
    "ddl_c = X.shape[0] - X.shape[1] - 1\n",
    "\n",
    "# Stat de test\n",
    "F = ((SSR_c - SSR_n)/ (ddl_c - ddl_n)) / (SSR_n / ddl_n)\n",
    "p_val = 1 - f.cdf(F, ddl_c - ddl_n, ddl_n)\n",
    "\n",
    "print(ols.summary())\n",
    "print(\"F-statistic: \",F)\n",
    "print(\"p-value: \",p_val)"
   ]
  },
  {
   "cell_type": "markdown",
   "metadata": {},
   "source": [
    "On remarque que le passage au log augmente légèrement le F-statistic et diminue la p-valeur.\n",
    "Une des méthodes que l'on peut tenter pour essayer de corriger l'héteroscédacité consiste à essayer de faire un GLS ou un WLS.\n",
    "\n",
    "On essayera donc de comparer les coefficients et écart-types avec les différentes méthodes.\n",
    "###### GLS / WLS"
   ]
  },
  {
   "cell_type": "code",
   "execution_count": 42,
   "metadata": {},
   "outputs": [
    {
     "data": {
      "text/html": [
       "<table class=\"simpletable\">\n",
       "<caption>OLS Regression Results</caption>\n",
       "<tr>\n",
       "  <th>Dep. Variable:</th>            <td>y</td>        <th>  R-squared:         </th> <td>   0.028</td>\n",
       "</tr>\n",
       "<tr>\n",
       "  <th>Model:</th>                   <td>OLS</td>       <th>  Adj. R-squared:    </th> <td>   0.015</td>\n",
       "</tr>\n",
       "<tr>\n",
       "  <th>Method:</th>             <td>Least Squares</td>  <th>  F-statistic:       </th> <td>   2.045</td>\n",
       "</tr>\n",
       "<tr>\n",
       "  <th>Date:</th>             <td>Sat, 11 Apr 2020</td> <th>  Prob (F-statistic):</th>  <td>0.0586</td> \n",
       "</tr>\n",
       "<tr>\n",
       "  <th>Time:</th>                 <td>15:19:49</td>     <th>  Log-Likelihood:    </th> <td> -936.22</td>\n",
       "</tr>\n",
       "<tr>\n",
       "  <th>No. Observations:</th>      <td>   427</td>      <th>  AIC:               </th> <td>   1886.</td>\n",
       "</tr>\n",
       "<tr>\n",
       "  <th>Df Residuals:</th>          <td>   420</td>      <th>  BIC:               </th> <td>   1915.</td>\n",
       "</tr>\n",
       "<tr>\n",
       "  <th>Df Model:</th>              <td>     6</td>      <th>                     </th>     <td> </td>   \n",
       "</tr>\n",
       "<tr>\n",
       "  <th>Covariance Type:</th>      <td>nonrobust</td>    <th>                     </th>     <td> </td>   \n",
       "</tr>\n",
       "</table>\n",
       "<table class=\"simpletable\">\n",
       "<tr>\n",
       "      <td></td>        <th>coef</th>     <th>std err</th>      <th>t</th>      <th>P>|t|</th>  <th>[0.025</th>    <th>0.975]</th>  \n",
       "</tr>\n",
       "<tr>\n",
       "  <th>0</th>        <td>   -3.1100</td> <td>    0.677</td> <td>   -4.595</td> <td> 0.000</td> <td>   -4.441</td> <td>   -1.780</td>\n",
       "</tr>\n",
       "<tr>\n",
       "  <th>city</th>     <td>    0.2141</td> <td>    0.230</td> <td>    0.932</td> <td> 0.352</td> <td>   -0.237</td> <td>    0.665</td>\n",
       "</tr>\n",
       "<tr>\n",
       "  <th>educ</th>     <td>    0.0501</td> <td>    0.049</td> <td>    1.015</td> <td> 0.311</td> <td>   -0.047</td> <td>    0.147</td>\n",
       "</tr>\n",
       "<tr>\n",
       "  <th>exper</th>    <td>   -0.0223</td> <td>    0.015</td> <td>   -1.522</td> <td> 0.129</td> <td>   -0.051</td> <td>    0.006</td>\n",
       "</tr>\n",
       "<tr>\n",
       "  <th>nwifeinc</th> <td>   -0.0042</td> <td>    0.011</td> <td>   -0.389</td> <td> 0.698</td> <td>   -0.026</td> <td>    0.017</td>\n",
       "</tr>\n",
       "<tr>\n",
       "  <th>kidslt6</th>  <td>    0.1680</td> <td>    0.280</td> <td>    0.599</td> <td> 0.549</td> <td>   -0.383</td> <td>    0.719</td>\n",
       "</tr>\n",
       "<tr>\n",
       "  <th>kidsge6</th>  <td>    0.1676</td> <td>    0.088</td> <td>    1.901</td> <td> 0.058</td> <td>   -0.006</td> <td>    0.341</td>\n",
       "</tr>\n",
       "</table>\n",
       "<table class=\"simpletable\">\n",
       "<tr>\n",
       "  <th>Omnibus:</th>       <td>45.718</td> <th>  Durbin-Watson:     </th> <td>   2.032</td>\n",
       "</tr>\n",
       "<tr>\n",
       "  <th>Prob(Omnibus):</th> <td> 0.000</td> <th>  Jarque-Bera (JB):  </th> <td>  59.596</td>\n",
       "</tr>\n",
       "<tr>\n",
       "  <th>Skew:</th>          <td>-0.800</td> <th>  Prob(JB):          </th> <td>1.15e-13</td>\n",
       "</tr>\n",
       "<tr>\n",
       "  <th>Kurtosis:</th>      <td> 3.890</td> <th>  Cond. No.          </th> <td>    178.</td>\n",
       "</tr>\n",
       "</table><br/><br/>Warnings:<br/>[1] Standard Errors assume that the covariance matrix of the errors is correctly specified."
      ],
      "text/plain": [
       "<class 'statsmodels.iolib.summary.Summary'>\n",
       "\"\"\"\n",
       "                            OLS Regression Results                            \n",
       "==============================================================================\n",
       "Dep. Variable:                      y   R-squared:                       0.028\n",
       "Model:                            OLS   Adj. R-squared:                  0.015\n",
       "Method:                 Least Squares   F-statistic:                     2.045\n",
       "Date:                Sat, 11 Apr 2020   Prob (F-statistic):             0.0586\n",
       "Time:                        15:19:49   Log-Likelihood:                -936.22\n",
       "No. Observations:                 427   AIC:                             1886.\n",
       "Df Residuals:                     420   BIC:                             1915.\n",
       "Df Model:                           6                                         \n",
       "Covariance Type:            nonrobust                                         \n",
       "==============================================================================\n",
       "                 coef    std err          t      P>|t|      [0.025      0.975]\n",
       "------------------------------------------------------------------------------\n",
       "0             -3.1100      0.677     -4.595      0.000      -4.441      -1.780\n",
       "city           0.2141      0.230      0.932      0.352      -0.237       0.665\n",
       "educ           0.0501      0.049      1.015      0.311      -0.047       0.147\n",
       "exper         -0.0223      0.015     -1.522      0.129      -0.051       0.006\n",
       "nwifeinc      -0.0042      0.011     -0.389      0.698      -0.026       0.017\n",
       "kidslt6        0.1680      0.280      0.599      0.549      -0.383       0.719\n",
       "kidsge6        0.1676      0.088      1.901      0.058      -0.006       0.341\n",
       "==============================================================================\n",
       "Omnibus:                       45.718   Durbin-Watson:                   2.032\n",
       "Prob(Omnibus):                  0.000   Jarque-Bera (JB):               59.596\n",
       "Skew:                          -0.800   Prob(JB):                     1.15e-13\n",
       "Kurtosis:                       3.890   Cond. No.                         178.\n",
       "==============================================================================\n",
       "\n",
       "Warnings:\n",
       "[1] Standard Errors assume that the covariance matrix of the errors is correctly specified.\n",
       "\"\"\""
      ]
     },
     "execution_count": 42,
     "metadata": {},
     "output_type": "execute_result"
    }
   ],
   "source": [
    "X = df[['city','educ','exper','nwifeinc', 'kidslt6', 'kidsge6']]\n",
    "y = df['lwage']\n",
    "\n",
    "n,k = X.shape\n",
    "const=pd.DataFrame(np.ones(n))\n",
    "X = pd.concat([const,X], axis=1)\n",
    "\n",
    "model=sm.OLS(y,X)\n",
    "results = model.fit()\n",
    "\n",
    "u = results.resid\n",
    "u_gls = np.log(u**2)\n",
    "model_gls = sm.OLS(u_gls,X)\n",
    "results_gls = sm.OLS(u_gls,X).fit()\n",
    "results_gls.summary()"
   ]
  },
  {
   "cell_type": "code",
   "execution_count": 43,
   "metadata": {},
   "outputs": [
    {
     "data": {
      "text/html": [
       "<table class=\"simpletable\">\n",
       "<caption>OLS Regression Results</caption>\n",
       "<tr>\n",
       "  <th>Dep. Variable:</th>            <td>y</td>        <th>  R-squared:         </th> <td>   0.028</td>\n",
       "</tr>\n",
       "<tr>\n",
       "  <th>Model:</th>                   <td>OLS</td>       <th>  Adj. R-squared:    </th> <td>   0.014</td>\n",
       "</tr>\n",
       "<tr>\n",
       "  <th>Method:</th>             <td>Least Squares</td>  <th>  F-statistic:       </th> <td>   2.008</td>\n",
       "</tr>\n",
       "<tr>\n",
       "  <th>Date:</th>             <td>Sat, 11 Apr 2020</td> <th>  Prob (F-statistic):</th>  <td>0.0635</td> \n",
       "</tr>\n",
       "<tr>\n",
       "  <th>Time:</th>                 <td>15:19:49</td>     <th>  Log-Likelihood:    </th> <td> -621.27</td>\n",
       "</tr>\n",
       "<tr>\n",
       "  <th>No. Observations:</th>      <td>   427</td>      <th>  AIC:               </th> <td>   1257.</td>\n",
       "</tr>\n",
       "<tr>\n",
       "  <th>Df Residuals:</th>          <td>   420</td>      <th>  BIC:               </th> <td>   1285.</td>\n",
       "</tr>\n",
       "<tr>\n",
       "  <th>Df Model:</th>              <td>     6</td>      <th>                     </th>     <td> </td>   \n",
       "</tr>\n",
       "<tr>\n",
       "  <th>Covariance Type:</th>      <td>nonrobust</td>    <th>                     </th>     <td> </td>   \n",
       "</tr>\n",
       "</table>\n",
       "<table class=\"simpletable\">\n",
       "<tr>\n",
       "      <td></td>        <th>coef</th>     <th>std err</th>      <th>t</th>      <th>P>|t|</th>  <th>[0.025</th>    <th>0.975]</th>  \n",
       "</tr>\n",
       "<tr>\n",
       "  <th>0</th>        <td>    0.4579</td> <td>    0.324</td> <td>    1.414</td> <td> 0.158</td> <td>   -0.178</td> <td>    1.094</td>\n",
       "</tr>\n",
       "<tr>\n",
       "  <th>city</th>     <td>    0.0937</td> <td>    0.110</td> <td>    0.853</td> <td> 0.394</td> <td>   -0.122</td> <td>    0.310</td>\n",
       "</tr>\n",
       "<tr>\n",
       "  <th>educ</th>     <td>    0.0124</td> <td>    0.024</td> <td>    0.528</td> <td> 0.598</td> <td>   -0.034</td> <td>    0.059</td>\n",
       "</tr>\n",
       "<tr>\n",
       "  <th>exper</th>    <td>   -0.0170</td> <td>    0.007</td> <td>   -2.421</td> <td> 0.016</td> <td>   -0.031</td> <td>   -0.003</td>\n",
       "</tr>\n",
       "<tr>\n",
       "  <th>nwifeinc</th> <td>   -0.0036</td> <td>    0.005</td> <td>   -0.685</td> <td> 0.494</td> <td>   -0.014</td> <td>    0.007</td>\n",
       "</tr>\n",
       "<tr>\n",
       "  <th>kidslt6</th>  <td>    0.1341</td> <td>    0.134</td> <td>    1.000</td> <td> 0.318</td> <td>   -0.129</td> <td>    0.398</td>\n",
       "</tr>\n",
       "<tr>\n",
       "  <th>kidsge6</th>  <td>    0.0267</td> <td>    0.042</td> <td>    0.634</td> <td> 0.527</td> <td>   -0.056</td> <td>    0.110</td>\n",
       "</tr>\n",
       "</table>\n",
       "<table class=\"simpletable\">\n",
       "<tr>\n",
       "  <th>Omnibus:</th>       <td>453.050</td> <th>  Durbin-Watson:     </th> <td>   1.642</td> \n",
       "</tr>\n",
       "<tr>\n",
       "  <th>Prob(Omnibus):</th> <td> 0.000</td>  <th>  Jarque-Bera (JB):  </th> <td>16659.017</td>\n",
       "</tr>\n",
       "<tr>\n",
       "  <th>Skew:</th>          <td> 4.868</td>  <th>  Prob(JB):          </th> <td>    0.00</td> \n",
       "</tr>\n",
       "<tr>\n",
       "  <th>Kurtosis:</th>      <td>32.010</td>  <th>  Cond. No.          </th> <td>    178.</td> \n",
       "</tr>\n",
       "</table><br/><br/>Warnings:<br/>[1] Standard Errors assume that the covariance matrix of the errors is correctly specified."
      ],
      "text/plain": [
       "<class 'statsmodels.iolib.summary.Summary'>\n",
       "\"\"\"\n",
       "                            OLS Regression Results                            \n",
       "==============================================================================\n",
       "Dep. Variable:                      y   R-squared:                       0.028\n",
       "Model:                            OLS   Adj. R-squared:                  0.014\n",
       "Method:                 Least Squares   F-statistic:                     2.008\n",
       "Date:                Sat, 11 Apr 2020   Prob (F-statistic):             0.0635\n",
       "Time:                        15:19:49   Log-Likelihood:                -621.27\n",
       "No. Observations:                 427   AIC:                             1257.\n",
       "Df Residuals:                     420   BIC:                             1285.\n",
       "Df Model:                           6                                         \n",
       "Covariance Type:            nonrobust                                         \n",
       "==============================================================================\n",
       "                 coef    std err          t      P>|t|      [0.025      0.975]\n",
       "------------------------------------------------------------------------------\n",
       "0              0.4579      0.324      1.414      0.158      -0.178       1.094\n",
       "city           0.0937      0.110      0.853      0.394      -0.122       0.310\n",
       "educ           0.0124      0.024      0.528      0.598      -0.034       0.059\n",
       "exper         -0.0170      0.007     -2.421      0.016      -0.031      -0.003\n",
       "nwifeinc      -0.0036      0.005     -0.685      0.494      -0.014       0.007\n",
       "kidslt6        0.1341      0.134      1.000      0.318      -0.129       0.398\n",
       "kidsge6        0.0267      0.042      0.634      0.527      -0.056       0.110\n",
       "==============================================================================\n",
       "Omnibus:                      453.050   Durbin-Watson:                   1.642\n",
       "Prob(Omnibus):                  0.000   Jarque-Bera (JB):            16659.017\n",
       "Skew:                           4.868   Prob(JB):                         0.00\n",
       "Kurtosis:                      32.010   Cond. No.                         178.\n",
       "==============================================================================\n",
       "\n",
       "Warnings:\n",
       "[1] Standard Errors assume that the covariance matrix of the errors is correctly specified.\n",
       "\"\"\""
      ]
     },
     "execution_count": 43,
     "metadata": {},
     "output_type": "execute_result"
    }
   ],
   "source": [
    "weight = np.exp(results_gls.predict(X))\n",
    "model=sm.WLS(y,X, weight= 1/weight)\n",
    "results = model.fit()\n",
    "u = results.resid\n",
    "model_ht=sm.OLS(u**2,X,hasconst=True)\n",
    "model_ht.fit().summary()"
   ]
  },
  {
   "cell_type": "markdown",
   "metadata": {},
   "source": [
    "UNe autre méthode consiste à diviser une variable en 2 et faire un OLS sur les 2 groupes obtenus.\n",
    "La variable la plus significative est celle de l'éducation.\n",
    "\n",
    "OLS sur deux groupes: OLS sur deux groupes de la variable 'educ'\n",
    "###### OLS avec 2 groupes de la variable educ"
   ]
  },
  {
   "cell_type": "code",
   "execution_count": 44,
   "metadata": {},
   "outputs": [
    {
     "name": "stdout",
     "output_type": "stream",
     "text": [
      "                            OLS Regression Results                            \n",
      "==============================================================================\n",
      "Dep. Variable:                      y   R-squared:                       0.028\n",
      "Model:                            OLS   Adj. R-squared:                  0.007\n",
      "Method:                 Least Squares   F-statistic:                     1.335\n",
      "Date:                Sat, 11 Apr 2020   Prob (F-statistic):              0.241\n",
      "Time:                        15:19:49   Log-Likelihood:                -390.98\n",
      "No. Observations:                 283   AIC:                             796.0\n",
      "Df Residuals:                     276   BIC:                             821.5\n",
      "Df Model:                           6                                         \n",
      "Covariance Type:            nonrobust                                         \n",
      "==============================================================================\n",
      "                 coef    std err          t      P>|t|      [0.025      0.975]\n",
      "------------------------------------------------------------------------------\n",
      "const          0.3846      0.534      0.721      0.472      -0.666       1.435\n",
      "city          -0.0756      0.123     -0.617      0.538      -0.317       0.166\n",
      "educ           0.0156      0.044      0.350      0.727      -0.072       0.103\n",
      "exper         -0.0145      0.008     -1.769      0.078      -0.031       0.002\n",
      "nwifeinc       0.0018      0.007      0.246      0.806      -0.012       0.016\n",
      "kidslt6        0.1984      0.178      1.114      0.266      -0.152       0.549\n",
      "kidsge6        0.0164      0.046      0.354      0.723      -0.075       0.108\n",
      "==============================================================================\n",
      "Omnibus:                      314.025   Durbin-Watson:                   1.961\n",
      "Prob(Omnibus):                  0.000   Jarque-Bera (JB):            11255.982\n",
      "Skew:                           4.859   Prob(JB):                         0.00\n",
      "Kurtosis:                      32.328   Cond. No.                         233.\n",
      "==============================================================================\n",
      "\n",
      "Warnings:\n",
      "[1] Standard Errors assume that the covariance matrix of the errors is correctly specified.\n"
     ]
    }
   ],
   "source": [
    "# Groupe 1: On choisit le nombre d'expérience en dessous ou égal à 12 ans\n",
    "g1 = df['educ'] <= 12\n",
    "X = df[g1][['city','educ','exper','nwifeinc', 'kidslt6', 'kidsge6']]\n",
    "y = df[g1]['lwage']\n",
    "\n",
    "model = sm.OLS(y, sm.add_constant(X),hasconst=True)\n",
    "results = model.fit()\n",
    "\n",
    "u = results.resid\n",
    "model = sm.OLS(u**2, sm.add_constant(X),hasconst=True)\n",
    "results = model.fit()\n",
    "print(results.summary())"
   ]
  },
  {
   "cell_type": "markdown",
   "metadata": {},
   "source": [
    "La p-valeur pour le 1er groupe est de : 0.727, le coeff est à 0.0156 et le std: 0.044"
   ]
  },
  {
   "cell_type": "code",
   "execution_count": 45,
   "metadata": {},
   "outputs": [
    {
     "name": "stdout",
     "output_type": "stream",
     "text": [
      "                            OLS Regression Results                            \n",
      "==============================================================================\n",
      "Dep. Variable:                      y   R-squared:                       0.047\n",
      "Model:                            OLS   Adj. R-squared:                  0.006\n",
      "Method:                 Least Squares   F-statistic:                     1.139\n",
      "Date:                Sat, 11 Apr 2020   Prob (F-statistic):              0.343\n",
      "Time:                        15:19:49   Log-Likelihood:                -206.78\n",
      "No. Observations:                 144   AIC:                             427.6\n",
      "Df Residuals:                     137   BIC:                             448.4\n",
      "Df Model:                           6                                         \n",
      "Covariance Type:            nonrobust                                         \n",
      "==============================================================================\n",
      "                 coef    std err          t      P>|t|      [0.025      0.975]\n",
      "------------------------------------------------------------------------------\n",
      "const          1.0649      0.984      1.083      0.281      -0.880       3.010\n",
      "city           0.3662      0.210      1.741      0.084      -0.050       0.782\n",
      "educ          -0.0298      0.060     -0.497      0.620      -0.149       0.089\n",
      "exper         -0.0189      0.012     -1.614      0.109      -0.042       0.004\n",
      "nwifeinc      -0.0070      0.007     -0.982      0.328      -0.021       0.007\n",
      "kidslt6       -0.0236      0.190     -0.125      0.901      -0.399       0.352\n",
      "kidsge6        0.0039      0.083      0.047      0.963      -0.160       0.168\n",
      "==============================================================================\n",
      "Omnibus:                      158.008   Durbin-Watson:                   1.629\n",
      "Prob(Omnibus):                  0.000   Jarque-Bera (JB):             3058.775\n",
      "Skew:                           4.167   Prob(JB):                         0.00\n",
      "Kurtosis:                      23.984   Cond. No.                         365.\n",
      "==============================================================================\n",
      "\n",
      "Warnings:\n",
      "[1] Standard Errors assume that the covariance matrix of the errors is correctly specified.\n"
     ]
    }
   ],
   "source": [
    "# Groupe 2 : Nombre d'expérience au dessus de 12 ans\n",
    "X = df[~g1][['city','educ','exper','nwifeinc', 'kidslt6', 'kidsge6']]\n",
    "y = df[~g1]['lwage']\n",
    "\n",
    "model=sm.OLS(y,sm.add_constant(X))\n",
    "results = model.fit()\n",
    "\n",
    "u = results.resid\n",
    "model = sm.OLS(u**2, sm.add_constant(X))\n",
    "results = model.fit()\n",
    "print(results.summary())"
   ]
  },
  {
   "cell_type": "markdown",
   "metadata": {},
   "source": [
    "La p-valeur pour le 1er groupe est de : 0.620, et le std: 0.060"
   ]
  },
  {
   "cell_type": "markdown",
   "metadata": {},
   "source": [
    "## Question 15\n",
    "\n",
    "> Tester le changement de structure de la question 8 entre les femmes qui ont plus de 43 ans et les autres : test sur l'ensemble des coefficients. Donnez les p-valeurs\n",
    "\n",
    "$ F_{chow} = \\frac { SSR - (SSR_{gr1} + SSR_{gr2}) } {ddl - (ddl_{gr1} + ddl_{gr2}) } \\times \\frac {ddl_{gr1} + ddl_{gr2}} {(SSR_{gr1} + SSR_{gr2})}$"
   ]
  },
  {
   "cell_type": "code",
   "execution_count": 46,
   "metadata": {},
   "outputs": [
    {
     "name": "stdout",
     "output_type": "stream",
     "text": [
      "const       0.242448\n",
      "city        0.864526\n",
      "educ        0.000038\n",
      "exper       0.002665\n",
      "nwifeinc    0.051898\n",
      "kidslt6     0.978104\n",
      "kidsge6     0.627090\n",
      "dtype: float64\n"
     ]
    }
   ],
   "source": [
    "df43 = df[df.age > 43]\n",
    "X = sm.add_constant(df43[['city', 'educ', 'exper', 'nwifeinc', 'kidslt6', 'kidsge6']])\n",
    "model = sm.OLS(df43.lwage.apply(float), X)\n",
    "resultats_structure = model.fit()\n",
    "print(resultats_structure.pvalues)"
   ]
  },
  {
   "cell_type": "code",
   "execution_count": 47,
   "metadata": {},
   "outputs": [
    {
     "name": "stdout",
     "output_type": "stream",
     "text": [
      "f_value : 0.8219560117488038\n",
      "p-valeur:  0.569407239491655\n"
     ]
    }
   ],
   "source": [
    "# Modèle non-contraint\n",
    "X = df[['city','educ','exper','nwifeinc', 'kidslt6', 'kidsge6']]\n",
    "Y = df['lwage']\n",
    "\n",
    "ols = sm.OLS(Y, sm.add_constant(X)).fit()\n",
    "\n",
    "SSR_n = np.sum(ols.resid ** 2)\n",
    "ddl_n = X.shape[0] - X.shape[1] - 1\n",
    "\n",
    "# Modèle contraint >43 \n",
    "X = df43[['city','educ','exper','nwifeinc', 'kidslt6', 'kidsge6']]\n",
    "Y = df43['lwage']\n",
    "\n",
    "ols = sm.OLS(Y, sm.add_constant(X)).fit()\n",
    "\n",
    "SSR_c1 = np.sum(ols.resid ** 2)\n",
    "ddl_c1 = X.shape[0] - X.shape[1] - 1\n",
    "\n",
    "# Modèle contraint <43\n",
    "X = df[(df['age'] <= 43)][['city','educ','exper','nwifeinc', 'kidslt6', 'kidsge6']]\n",
    "Y = df[(df['age'] <= 43)]['lwage']\n",
    "\n",
    "ols = sm.OLS(Y, sm.add_constant(X)).fit()\n",
    "\n",
    "SSR_c2 = np.sum(ols.resid ** 2)\n",
    "ddl_c2 = X.shape[0] - X.shape[1] - 1\n",
    "\n",
    "# Stat de test\n",
    "\n",
    "F = ((SSR_n - (SSR_c1 + SSR_c2))/ (ddl_n - (ddl_c1 + ddl_c2))) / ((SSR_c1 + SSR_c2) / (ddl_c1 + ddl_c2))\n",
    "p_val = 1 - stats.f.cdf(F, ddl_n - (ddl_c1 + ddl_c2), (ddl_c1 + ddl_c2))\n",
    "\n",
    "print(\"f_value :\", F)\n",
    "print(\"p-valeur: \", p_val)"
   ]
  },
  {
   "cell_type": "markdown",
   "metadata": {},
   "source": [
    "La p_value est supérieure au seuil alpha de 5%. Ainsi, on ne peut pas rejeter l'hypothèse H0 qu'il n'y a aucun changement de structure. On peut donc garder l'hypothèse de changement de structure.\n",
    "Toutefois on rejette H0 à 6%."
   ]
  },
  {
   "cell_type": "markdown",
   "metadata": {},
   "source": [
    "## Question 16\n",
    "\n",
    "> Ajouter au modèle de la question 7 la variable huseduc. Faire ensuite la même régression en décomposant la variable huseduc en 4 variables binaires construites selon votre choix. Faire le test de non significativité de l’ensemble des variables binaires. Donnez les p-valeurs et commentez."
   ]
  },
  {
   "cell_type": "code",
   "execution_count": 48,
   "metadata": {},
   "outputs": [
    {
     "name": "stdout",
     "output_type": "stream",
     "text": [
      "12.0\n",
      "12.613583138173302\n",
      "[ 9 12 10 11  8  4 14 16 17 13 15  7  6  5]\n"
     ]
    }
   ],
   "source": [
    "# husband's years of schooling\n",
    "X = df[[\"city\",\"educ\",\"exper\",\"nwifeinc\",\"kidslt6\",\"kidsge6\",\"huseduc\"]].values\n",
    "y = df[\"lwage\"]\n",
    "print(df.huseduc.median())\n",
    "print(df.huseduc.mean())\n",
    "print(df.huseduc.unique())"
   ]
  },
  {
   "cell_type": "code",
   "execution_count": 49,
   "metadata": {},
   "outputs": [
    {
     "name": "stdout",
     "output_type": "stream",
     "text": [
      "                                 OLS Regression Results                                \n",
      "=======================================================================================\n",
      "Dep. Variable:                  lwage   R-squared (uncentered):                   0.773\n",
      "Model:                            OLS   Adj. R-squared (uncentered):              0.767\n",
      "Method:                 Least Squares   F-statistic:                              129.1\n",
      "Date:                Sat, 11 Apr 2020   Prob (F-statistic):                   1.28e-126\n",
      "Time:                        15:19:49   Log-Likelihood:                         -430.29\n",
      "No. Observations:                 427   AIC:                                      882.6\n",
      "Df Residuals:                     416   BIC:                                      927.2\n",
      "Df Model:                          11                                                  \n",
      "Covariance Type:            nonrobust                                                  \n",
      "==============================================================================\n",
      "                 coef    std err          t      P>|t|      [0.025      0.975]\n",
      "------------------------------------------------------------------------------\n",
      "x1             0.0538      0.072      0.750      0.453      -0.087       0.195\n",
      "x2             0.1115      0.018      6.325      0.000       0.077       0.146\n",
      "x3             0.0142      0.004      3.204      0.001       0.005       0.023\n",
      "x4             0.0060      0.003      1.714      0.087      -0.001       0.013\n",
      "x5            -0.0360      0.087     -0.416      0.677      -0.206       0.134\n",
      "x6            -0.0138      0.027     -0.503      0.615      -0.068       0.040\n",
      "x7            -0.0582      0.025     -2.332      0.020      -0.107      -0.009\n",
      "x8            -0.1391      0.237     -0.586      0.558      -0.606       0.327\n",
      "x9             0.0312      0.090      0.346      0.729      -0.146       0.208\n",
      "x10            0.2000      0.129      1.553      0.121      -0.053       0.453\n",
      "x11            0.3337      0.224      1.492      0.137      -0.106       0.774\n",
      "==============================================================================\n",
      "Omnibus:                       82.104   Durbin-Watson:                   1.976\n",
      "Prob(Omnibus):                  0.000   Jarque-Bera (JB):              294.021\n",
      "Skew:                          -0.827   Prob(JB):                     1.43e-64\n",
      "Kurtosis:                       6.714   Cond. No.                         243.\n",
      "==============================================================================\n",
      "\n",
      "Warnings:\n",
      "[1] Standard Errors assume that the covariance matrix of the errors is correctly specified.\n"
     ]
    }
   ],
   "source": [
    "df['inf6'] = df.huseduc <= 6\n",
    "df['inf12'] = np.logical_and(df.huseduc > 6, df.huseduc <=12)\n",
    "df['inf14'] = np.logical_and(df.huseduc > 10, df.huseduc <=14)\n",
    "df['inf17'] = np.logical_and(df.huseduc > 14, df.huseduc <=17)\n",
    "XS = np.column_stack((X, df['inf6'], df['inf12'], df['inf14'], df['inf17']))\n",
    "\n",
    "n,k=np.shape(XS)\n",
    "model=sm.OLS(y,XS)\n",
    "results = model.fit()\n",
    "print(results.summary())"
   ]
  },
  {
   "cell_type": "code",
   "execution_count": 50,
   "metadata": {},
   "outputs": [
    {
     "name": "stdout",
     "output_type": "stream",
     "text": [
      "f_value : 2.6388431924312146\n",
      "p_value :  0.0726396568215415\n"
     ]
    }
   ],
   "source": [
    "# Modèle non contraint\n",
    "X = df[['city','educ','exper','nwifeinc','kidslt6','kidsge6','inf6','inf12','inf14','inf17']].values\n",
    "y = df['lwage']\n",
    "\n",
    "ols_nc = sm.OLS(y, sm.add_constant(X.astype(float))).fit()\n",
    "\n",
    "SSR_n = np.sum(ols_nc.resid ** 2)\n",
    "n,k = np.shape(sm.add_constant(X))\n",
    " \n",
    "# Modèle contraint\n",
    "X = df[['city','educ','exper','nwifeinc','kidslt6','kidsge6']]\n",
    "y = df['lwage']\n",
    "\n",
    "ols = sm.OLS(y, sm.add_constant(X)).fit()\n",
    "SSR_c = np.sum(ols.resid ** 2)\n",
    "ddl_c = df.shape[0] - X.shape[1] - 1\n",
    "\n",
    "# Stat de test\n",
    "F = ((SSR_c - SSR_n)/ 2) / (SSR_n / (n-k))\n",
    "p_val = 1- f.cdf(F, 2, n-k)\n",
    "\n",
    "print(\"f_value :\", F)\n",
    "print(\"p_value : \",p_val)"
   ]
  },
  {
   "cell_type": "code",
   "execution_count": 51,
   "metadata": {},
   "outputs": [
    {
     "name": "stdout",
     "output_type": "stream",
     "text": [
      "                            OLS Regression Results                            \n",
      "==============================================================================\n",
      "Dep. Variable:                  lwage   R-squared:                       0.156\n",
      "Model:                            OLS   Adj. R-squared:                  0.144\n",
      "Method:                 Least Squares   F-statistic:                     12.90\n",
      "Date:                Sat, 11 Apr 2020   Prob (F-statistic):           2.11e-13\n",
      "Time:                        15:19:49   Log-Likelihood:                -431.38\n",
      "No. Observations:                 427   AIC:                             876.8\n",
      "Df Residuals:                     420   BIC:                             905.2\n",
      "Df Model:                           6                                         \n",
      "Covariance Type:            nonrobust                                         \n",
      "==============================================================================\n",
      "                 coef    std err          t      P>|t|      [0.025      0.975]\n",
      "------------------------------------------------------------------------------\n",
      "const         -0.4013      0.208     -1.934      0.054      -0.809       0.007\n",
      "city           0.0363      0.070      0.516      0.606      -0.102       0.175\n",
      "educ           0.1023      0.015      6.766      0.000       0.073       0.132\n",
      "exper          0.0155      0.004      3.448      0.001       0.007       0.024\n",
      "nwifeinc       0.0049      0.003      1.466      0.143      -0.002       0.011\n",
      "kidslt6       -0.0476      0.086     -0.554      0.580      -0.217       0.121\n",
      "kidsge6       -0.0113      0.027     -0.418      0.676      -0.064       0.042\n",
      "==============================================================================\n",
      "Omnibus:                       79.025   Durbin-Watson:                   1.975\n",
      "Prob(Omnibus):                  0.000   Jarque-Bera (JB):              284.161\n",
      "Skew:                          -0.792   Prob(JB):                     1.97e-62\n",
      "Kurtosis:                       6.669   Cond. No.                         178.\n",
      "==============================================================================\n",
      "\n",
      "Warnings:\n",
      "[1] Standard Errors assume that the covariance matrix of the errors is correctly specified.\n"
     ]
    }
   ],
   "source": [
    "print(ols.summary())"
   ]
  },
  {
   "cell_type": "code",
   "execution_count": 52,
   "metadata": {},
   "outputs": [
    {
     "name": "stdout",
     "output_type": "stream",
     "text": [
      "                            OLS Regression Results                            \n",
      "==============================================================================\n",
      "Dep. Variable:                  lwage   R-squared:                       0.166\n",
      "Model:                            OLS   Adj. R-squared:                  0.146\n",
      "Method:                 Least Squares   F-statistic:                     8.294\n",
      "Date:                Sat, 11 Apr 2020   Prob (F-statistic):           2.60e-12\n",
      "Time:                        15:19:49   Log-Likelihood:                -428.69\n",
      "No. Observations:                 427   AIC:                             879.4\n",
      "Df Residuals:                     416   BIC:                             924.0\n",
      "Df Model:                          10                                         \n",
      "Covariance Type:            nonrobust                                         \n",
      "==============================================================================\n",
      "                 coef    std err          t      P>|t|      [0.025      0.975]\n",
      "------------------------------------------------------------------------------\n",
      "const         -0.8310      0.283     -2.932      0.004      -1.388      -0.274\n",
      "x1             0.0538      0.071      0.758      0.449      -0.086       0.193\n",
      "x2             0.1208      0.018      6.744      0.000       0.086       0.156\n",
      "x3             0.0159      0.005      3.525      0.000       0.007       0.025\n",
      "x4             0.0067      0.003      1.926      0.055      -0.000       0.014\n",
      "x5            -0.0300      0.086     -0.348      0.728      -0.200       0.140\n",
      "x6            -0.0091      0.027     -0.334      0.739      -0.063       0.044\n",
      "x7             0.2652      0.255      1.040      0.299      -0.236       0.766\n",
      "x8             0.1878      0.109      1.717      0.087      -0.027       0.403\n",
      "x9             0.0412      0.091      0.453      0.651      -0.138       0.220\n",
      "x10            0.0282      0.148      0.191      0.849      -0.262       0.318\n",
      "==============================================================================\n",
      "Omnibus:                       81.511   Durbin-Watson:                   1.960\n",
      "Prob(Omnibus):                  0.000   Jarque-Bera (JB):              292.485\n",
      "Skew:                          -0.820   Prob(JB):                     3.07e-64\n",
      "Kurtosis:                       6.708   Cond. No.                         287.\n",
      "==============================================================================\n",
      "\n",
      "Warnings:\n",
      "[1] Standard Errors assume that the covariance matrix of the errors is correctly specified.\n"
     ]
    }
   ],
   "source": [
    "print(ols_nc.summary())"
   ]
  },
  {
   "cell_type": "code",
   "execution_count": 53,
   "metadata": {},
   "outputs": [
    {
     "name": "stdout",
     "output_type": "stream",
     "text": [
      "f_value : 2.6388431924312146\n",
      "p_value :  0.0726396568215415\n"
     ]
    }
   ],
   "source": [
    "print(\"f_value :\", F)\n",
    "print(\"p_value : \",p_val)"
   ]
  },
  {
   "cell_type": "markdown",
   "metadata": {},
   "source": [
    "On obtient des p-valeurs très élevées. Les 4 variables binaires n'ont donc pas d'effet sur lwage."
   ]
  },
  {
   "cell_type": "markdown",
   "metadata": {},
   "source": [
    "---\n",
    "# Partie 2. Séries temporelles"
   ]
  },
  {
   "cell_type": "markdown",
   "metadata": {},
   "source": [
    "## Question 1 \n",
    "\n",
    "> Importer les données du fichier quarterly.xls (corriger le problème éventuel d’observations manquantes)"
   ]
  },
  {
   "cell_type": "code",
   "execution_count": 54,
   "metadata": {},
   "outputs": [
    {
     "data": {
      "text/html": [
       "<div>\n",
       "<style scoped>\n",
       "    .dataframe tbody tr th:only-of-type {\n",
       "        vertical-align: middle;\n",
       "    }\n",
       "\n",
       "    .dataframe tbody tr th {\n",
       "        vertical-align: top;\n",
       "    }\n",
       "\n",
       "    .dataframe thead th {\n",
       "        text-align: right;\n",
       "    }\n",
       "</style>\n",
       "<table border=\"1\" class=\"dataframe\">\n",
       "  <thead>\n",
       "    <tr style=\"text-align: right;\">\n",
       "      <th></th>\n",
       "      <th>DATE</th>\n",
       "      <th>FFR</th>\n",
       "      <th>Tbill</th>\n",
       "      <th>Tb1yr</th>\n",
       "      <th>r5</th>\n",
       "      <th>r10</th>\n",
       "      <th>PPINSA</th>\n",
       "      <th>Finished</th>\n",
       "      <th>CPI</th>\n",
       "      <th>CPICORE</th>\n",
       "      <th>M1NSA</th>\n",
       "      <th>M2SA</th>\n",
       "      <th>M2NSA</th>\n",
       "      <th>Unemp</th>\n",
       "      <th>IndProd</th>\n",
       "      <th>RGDP</th>\n",
       "      <th>Potent</th>\n",
       "      <th>Deflator</th>\n",
       "      <th>Curr</th>\n",
       "    </tr>\n",
       "  </thead>\n",
       "  <tbody>\n",
       "    <tr>\n",
       "      <th>0</th>\n",
       "      <td>1960Q1</td>\n",
       "      <td>3.93</td>\n",
       "      <td>3.87</td>\n",
       "      <td>4.57</td>\n",
       "      <td>4.64</td>\n",
       "      <td>4.49</td>\n",
       "      <td>31.67</td>\n",
       "      <td>33.20</td>\n",
       "      <td>29.40</td>\n",
       "      <td>18.92</td>\n",
       "      <td>140.53</td>\n",
       "      <td>896.1</td>\n",
       "      <td>299.40</td>\n",
       "      <td>5.13</td>\n",
       "      <td>23.93</td>\n",
       "      <td>2845.3</td>\n",
       "      <td>2824.2</td>\n",
       "      <td>18.521</td>\n",
       "      <td>31.830</td>\n",
       "    </tr>\n",
       "    <tr>\n",
       "      <th>1</th>\n",
       "      <td>1960Q2</td>\n",
       "      <td>3.70</td>\n",
       "      <td>2.99</td>\n",
       "      <td>3.87</td>\n",
       "      <td>4.30</td>\n",
       "      <td>4.26</td>\n",
       "      <td>31.73</td>\n",
       "      <td>33.40</td>\n",
       "      <td>29.57</td>\n",
       "      <td>19.00</td>\n",
       "      <td>138.40</td>\n",
       "      <td>903.3</td>\n",
       "      <td>300.03</td>\n",
       "      <td>5.23</td>\n",
       "      <td>23.41</td>\n",
       "      <td>2832.0</td>\n",
       "      <td>2851.2</td>\n",
       "      <td>18.579</td>\n",
       "      <td>31.862</td>\n",
       "    </tr>\n",
       "    <tr>\n",
       "      <th>2</th>\n",
       "      <td>1960Q3</td>\n",
       "      <td>2.94</td>\n",
       "      <td>2.36</td>\n",
       "      <td>3.07</td>\n",
       "      <td>3.67</td>\n",
       "      <td>3.83</td>\n",
       "      <td>31.63</td>\n",
       "      <td>33.43</td>\n",
       "      <td>29.59</td>\n",
       "      <td>19.07</td>\n",
       "      <td>139.60</td>\n",
       "      <td>919.4</td>\n",
       "      <td>305.50</td>\n",
       "      <td>5.53</td>\n",
       "      <td>23.02</td>\n",
       "      <td>2836.6</td>\n",
       "      <td>2878.7</td>\n",
       "      <td>18.648</td>\n",
       "      <td>32.217</td>\n",
       "    </tr>\n",
       "    <tr>\n",
       "      <th>3</th>\n",
       "      <td>1960Q4</td>\n",
       "      <td>2.30</td>\n",
       "      <td>2.31</td>\n",
       "      <td>2.99</td>\n",
       "      <td>3.75</td>\n",
       "      <td>3.89</td>\n",
       "      <td>31.70</td>\n",
       "      <td>33.67</td>\n",
       "      <td>29.78</td>\n",
       "      <td>19.14</td>\n",
       "      <td>142.67</td>\n",
       "      <td>932.8</td>\n",
       "      <td>312.30</td>\n",
       "      <td>6.27</td>\n",
       "      <td>22.47</td>\n",
       "      <td>2800.2</td>\n",
       "      <td>2906.7</td>\n",
       "      <td>18.700</td>\n",
       "      <td>32.624</td>\n",
       "    </tr>\n",
       "    <tr>\n",
       "      <th>4</th>\n",
       "      <td>1961Q1</td>\n",
       "      <td>2.00</td>\n",
       "      <td>2.35</td>\n",
       "      <td>2.87</td>\n",
       "      <td>3.64</td>\n",
       "      <td>3.79</td>\n",
       "      <td>31.80</td>\n",
       "      <td>33.63</td>\n",
       "      <td>29.84</td>\n",
       "      <td>19.17</td>\n",
       "      <td>142.23</td>\n",
       "      <td>948.9</td>\n",
       "      <td>317.10</td>\n",
       "      <td>6.80</td>\n",
       "      <td>22.13</td>\n",
       "      <td>2816.9</td>\n",
       "      <td>2934.8</td>\n",
       "      <td>18.743</td>\n",
       "      <td>32.073</td>\n",
       "    </tr>\n",
       "  </tbody>\n",
       "</table>\n",
       "</div>"
      ],
      "text/plain": [
       "     DATE   FFR  Tbill  Tb1yr    r5   r10  PPINSA  Finished    CPI  CPICORE  \\\n",
       "0  1960Q1  3.93   3.87   4.57  4.64  4.49   31.67     33.20  29.40    18.92   \n",
       "1  1960Q2  3.70   2.99   3.87  4.30  4.26   31.73     33.40  29.57    19.00   \n",
       "2  1960Q3  2.94   2.36   3.07  3.67  3.83   31.63     33.43  29.59    19.07   \n",
       "3  1960Q4  2.30   2.31   2.99  3.75  3.89   31.70     33.67  29.78    19.14   \n",
       "4  1961Q1  2.00   2.35   2.87  3.64  3.79   31.80     33.63  29.84    19.17   \n",
       "\n",
       "    M1NSA   M2SA   M2NSA  Unemp  IndProd    RGDP  Potent  Deflator    Curr  \n",
       "0  140.53  896.1  299.40   5.13    23.93  2845.3  2824.2    18.521  31.830  \n",
       "1  138.40  903.3  300.03   5.23    23.41  2832.0  2851.2    18.579  31.862  \n",
       "2  139.60  919.4  305.50   5.53    23.02  2836.6  2878.7    18.648  32.217  \n",
       "3  142.67  932.8  312.30   6.27    22.47  2800.2  2906.7    18.700  32.624  \n",
       "4  142.23  948.9  317.10   6.80    22.13  2816.9  2934.8    18.743  32.073  "
      ]
     },
     "execution_count": 54,
     "metadata": {},
     "output_type": "execute_result"
    }
   ],
   "source": [
    "df = pd.read_excel(\"quarterly.xls\")\n",
    "df.head()"
   ]
  },
  {
   "cell_type": "code",
   "execution_count": 55,
   "metadata": {},
   "outputs": [
    {
     "data": {
      "text/plain": [
       "DATE        0\n",
       "FFR         0\n",
       "Tbill       0\n",
       "Tb1yr       0\n",
       "r5          0\n",
       "r10         0\n",
       "PPINSA      0\n",
       "Finished    0\n",
       "CPI         0\n",
       "CPICORE     0\n",
       "M1NSA       0\n",
       "M2SA        0\n",
       "M2NSA       0\n",
       "Unemp       0\n",
       "IndProd     0\n",
       "RGDP        0\n",
       "Potent      0\n",
       "Deflator    0\n",
       "Curr        0\n",
       "dtype: int64"
      ]
     },
     "execution_count": 55,
     "metadata": {},
     "output_type": "execute_result"
    }
   ],
   "source": [
    "df.isna().sum()"
   ]
  },
  {
   "cell_type": "markdown",
   "metadata": {},
   "source": [
    "Le fichier ne présente pas d'observations manquantes."
   ]
  },
  {
   "cell_type": "markdown",
   "metadata": {},
   "source": [
    "On transforme le format de la date, et on indique que la date est l'index des données:"
   ]
  },
  {
   "cell_type": "code",
   "execution_count": 56,
   "metadata": {},
   "outputs": [
    {
     "data": {
      "text/html": [
       "<div>\n",
       "<style scoped>\n",
       "    .dataframe tbody tr th:only-of-type {\n",
       "        vertical-align: middle;\n",
       "    }\n",
       "\n",
       "    .dataframe tbody tr th {\n",
       "        vertical-align: top;\n",
       "    }\n",
       "\n",
       "    .dataframe thead th {\n",
       "        text-align: right;\n",
       "    }\n",
       "</style>\n",
       "<table border=\"1\" class=\"dataframe\">\n",
       "  <thead>\n",
       "    <tr style=\"text-align: right;\">\n",
       "      <th></th>\n",
       "      <th>FFR</th>\n",
       "      <th>Tbill</th>\n",
       "      <th>Tb1yr</th>\n",
       "      <th>r5</th>\n",
       "      <th>r10</th>\n",
       "      <th>PPINSA</th>\n",
       "      <th>Finished</th>\n",
       "      <th>CPI</th>\n",
       "      <th>CPICORE</th>\n",
       "      <th>M1NSA</th>\n",
       "      <th>M2SA</th>\n",
       "      <th>M2NSA</th>\n",
       "      <th>Unemp</th>\n",
       "      <th>IndProd</th>\n",
       "      <th>RGDP</th>\n",
       "      <th>Potent</th>\n",
       "      <th>Deflator</th>\n",
       "      <th>Curr</th>\n",
       "    </tr>\n",
       "    <tr>\n",
       "      <th>DATE</th>\n",
       "      <th></th>\n",
       "      <th></th>\n",
       "      <th></th>\n",
       "      <th></th>\n",
       "      <th></th>\n",
       "      <th></th>\n",
       "      <th></th>\n",
       "      <th></th>\n",
       "      <th></th>\n",
       "      <th></th>\n",
       "      <th></th>\n",
       "      <th></th>\n",
       "      <th></th>\n",
       "      <th></th>\n",
       "      <th></th>\n",
       "      <th></th>\n",
       "      <th></th>\n",
       "      <th></th>\n",
       "    </tr>\n",
       "  </thead>\n",
       "  <tbody>\n",
       "    <tr>\n",
       "      <th>1960-01-01</th>\n",
       "      <td>3.93</td>\n",
       "      <td>3.87</td>\n",
       "      <td>4.57</td>\n",
       "      <td>4.64</td>\n",
       "      <td>4.49</td>\n",
       "      <td>31.67</td>\n",
       "      <td>33.20</td>\n",
       "      <td>29.40</td>\n",
       "      <td>18.92</td>\n",
       "      <td>140.53</td>\n",
       "      <td>896.1</td>\n",
       "      <td>299.40</td>\n",
       "      <td>5.13</td>\n",
       "      <td>23.93</td>\n",
       "      <td>2845.3</td>\n",
       "      <td>2824.2</td>\n",
       "      <td>18.521</td>\n",
       "      <td>31.830</td>\n",
       "    </tr>\n",
       "    <tr>\n",
       "      <th>1960-04-01</th>\n",
       "      <td>3.70</td>\n",
       "      <td>2.99</td>\n",
       "      <td>3.87</td>\n",
       "      <td>4.30</td>\n",
       "      <td>4.26</td>\n",
       "      <td>31.73</td>\n",
       "      <td>33.40</td>\n",
       "      <td>29.57</td>\n",
       "      <td>19.00</td>\n",
       "      <td>138.40</td>\n",
       "      <td>903.3</td>\n",
       "      <td>300.03</td>\n",
       "      <td>5.23</td>\n",
       "      <td>23.41</td>\n",
       "      <td>2832.0</td>\n",
       "      <td>2851.2</td>\n",
       "      <td>18.579</td>\n",
       "      <td>31.862</td>\n",
       "    </tr>\n",
       "    <tr>\n",
       "      <th>1960-07-01</th>\n",
       "      <td>2.94</td>\n",
       "      <td>2.36</td>\n",
       "      <td>3.07</td>\n",
       "      <td>3.67</td>\n",
       "      <td>3.83</td>\n",
       "      <td>31.63</td>\n",
       "      <td>33.43</td>\n",
       "      <td>29.59</td>\n",
       "      <td>19.07</td>\n",
       "      <td>139.60</td>\n",
       "      <td>919.4</td>\n",
       "      <td>305.50</td>\n",
       "      <td>5.53</td>\n",
       "      <td>23.02</td>\n",
       "      <td>2836.6</td>\n",
       "      <td>2878.7</td>\n",
       "      <td>18.648</td>\n",
       "      <td>32.217</td>\n",
       "    </tr>\n",
       "    <tr>\n",
       "      <th>1960-10-01</th>\n",
       "      <td>2.30</td>\n",
       "      <td>2.31</td>\n",
       "      <td>2.99</td>\n",
       "      <td>3.75</td>\n",
       "      <td>3.89</td>\n",
       "      <td>31.70</td>\n",
       "      <td>33.67</td>\n",
       "      <td>29.78</td>\n",
       "      <td>19.14</td>\n",
       "      <td>142.67</td>\n",
       "      <td>932.8</td>\n",
       "      <td>312.30</td>\n",
       "      <td>6.27</td>\n",
       "      <td>22.47</td>\n",
       "      <td>2800.2</td>\n",
       "      <td>2906.7</td>\n",
       "      <td>18.700</td>\n",
       "      <td>32.624</td>\n",
       "    </tr>\n",
       "    <tr>\n",
       "      <th>1961-01-01</th>\n",
       "      <td>2.00</td>\n",
       "      <td>2.35</td>\n",
       "      <td>2.87</td>\n",
       "      <td>3.64</td>\n",
       "      <td>3.79</td>\n",
       "      <td>31.80</td>\n",
       "      <td>33.63</td>\n",
       "      <td>29.84</td>\n",
       "      <td>19.17</td>\n",
       "      <td>142.23</td>\n",
       "      <td>948.9</td>\n",
       "      <td>317.10</td>\n",
       "      <td>6.80</td>\n",
       "      <td>22.13</td>\n",
       "      <td>2816.9</td>\n",
       "      <td>2934.8</td>\n",
       "      <td>18.743</td>\n",
       "      <td>32.073</td>\n",
       "    </tr>\n",
       "  </tbody>\n",
       "</table>\n",
       "</div>"
      ],
      "text/plain": [
       "             FFR  Tbill  Tb1yr    r5   r10  PPINSA  Finished    CPI  CPICORE  \\\n",
       "DATE                                                                           \n",
       "1960-01-01  3.93   3.87   4.57  4.64  4.49   31.67     33.20  29.40    18.92   \n",
       "1960-04-01  3.70   2.99   3.87  4.30  4.26   31.73     33.40  29.57    19.00   \n",
       "1960-07-01  2.94   2.36   3.07  3.67  3.83   31.63     33.43  29.59    19.07   \n",
       "1960-10-01  2.30   2.31   2.99  3.75  3.89   31.70     33.67  29.78    19.14   \n",
       "1961-01-01  2.00   2.35   2.87  3.64  3.79   31.80     33.63  29.84    19.17   \n",
       "\n",
       "             M1NSA   M2SA   M2NSA  Unemp  IndProd    RGDP  Potent  Deflator  \\\n",
       "DATE                                                                          \n",
       "1960-01-01  140.53  896.1  299.40   5.13    23.93  2845.3  2824.2    18.521   \n",
       "1960-04-01  138.40  903.3  300.03   5.23    23.41  2832.0  2851.2    18.579   \n",
       "1960-07-01  139.60  919.4  305.50   5.53    23.02  2836.6  2878.7    18.648   \n",
       "1960-10-01  142.67  932.8  312.30   6.27    22.47  2800.2  2906.7    18.700   \n",
       "1961-01-01  142.23  948.9  317.10   6.80    22.13  2816.9  2934.8    18.743   \n",
       "\n",
       "              Curr  \n",
       "DATE                \n",
       "1960-01-01  31.830  \n",
       "1960-04-01  31.862  \n",
       "1960-07-01  32.217  \n",
       "1960-10-01  32.624  \n",
       "1961-01-01  32.073  "
      ]
     },
     "execution_count": 56,
     "metadata": {},
     "output_type": "execute_result"
    }
   ],
   "source": [
    "df[\"DATE\"] = pd.to_datetime(df[\"DATE\"])\n",
    "df.set_index(\"DATE\", inplace=True)\n",
    "df.head()"
   ]
  },
  {
   "cell_type": "code",
   "execution_count": 57,
   "metadata": {},
   "outputs": [
    {
     "data": {
      "text/html": [
       "<div>\n",
       "<style scoped>\n",
       "    .dataframe tbody tr th:only-of-type {\n",
       "        vertical-align: middle;\n",
       "    }\n",
       "\n",
       "    .dataframe tbody tr th {\n",
       "        vertical-align: top;\n",
       "    }\n",
       "\n",
       "    .dataframe thead th {\n",
       "        text-align: right;\n",
       "    }\n",
       "</style>\n",
       "<table border=\"1\" class=\"dataframe\">\n",
       "  <thead>\n",
       "    <tr style=\"text-align: right;\">\n",
       "      <th></th>\n",
       "      <th>CPI</th>\n",
       "      <th>Unemp</th>\n",
       "    </tr>\n",
       "    <tr>\n",
       "      <th>DATE</th>\n",
       "      <th></th>\n",
       "      <th></th>\n",
       "    </tr>\n",
       "  </thead>\n",
       "  <tbody>\n",
       "    <tr>\n",
       "      <th>1960-01-01</th>\n",
       "      <td>29.40</td>\n",
       "      <td>5.13</td>\n",
       "    </tr>\n",
       "    <tr>\n",
       "      <th>1960-04-01</th>\n",
       "      <td>29.57</td>\n",
       "      <td>5.23</td>\n",
       "    </tr>\n",
       "    <tr>\n",
       "      <th>1960-07-01</th>\n",
       "      <td>29.59</td>\n",
       "      <td>5.53</td>\n",
       "    </tr>\n",
       "    <tr>\n",
       "      <th>1960-10-01</th>\n",
       "      <td>29.78</td>\n",
       "      <td>6.27</td>\n",
       "    </tr>\n",
       "    <tr>\n",
       "      <th>1961-01-01</th>\n",
       "      <td>29.84</td>\n",
       "      <td>6.80</td>\n",
       "    </tr>\n",
       "  </tbody>\n",
       "</table>\n",
       "</div>"
      ],
      "text/plain": [
       "              CPI  Unemp\n",
       "DATE                    \n",
       "1960-01-01  29.40   5.13\n",
       "1960-04-01  29.57   5.23\n",
       "1960-07-01  29.59   5.53\n",
       "1960-10-01  29.78   6.27\n",
       "1961-01-01  29.84   6.80"
      ]
     },
     "execution_count": 57,
     "metadata": {},
     "output_type": "execute_result"
    }
   ],
   "source": [
    "df = df[[\"CPI\", \"Unemp\"]]\n",
    "df.head()"
   ]
  },
  {
   "cell_type": "markdown",
   "metadata": {},
   "source": [
    "## Question 2\n",
    "\n",
    "> Stationnariser la série de CPI en utilisant la méthode de régression qui inclue un terme de tendance dont la forme fonctionnelle est à choisir (linéaire, quadratique, log, exponentielle,...)"
   ]
  },
  {
   "cell_type": "markdown",
   "metadata": {},
   "source": [
    "Le CPI (pour Consumer Price Index) est l'indice des prix à la consommation.\n",
    "\n",
    "On isole la série de CPI, pour faciliter les traitements ultérieurs. "
   ]
  },
  {
   "cell_type": "code",
   "execution_count": 58,
   "metadata": {},
   "outputs": [],
   "source": [
    "cpi = df[\"CPI\"]"
   ]
  },
  {
   "cell_type": "markdown",
   "metadata": {},
   "source": [
    "On représente la série de CPI actuelle:"
   ]
  },
  {
   "cell_type": "code",
   "execution_count": 59,
   "metadata": {},
   "outputs": [
    {
     "data": {
      "image/png": "[encoded data removed]",
      "text/plain": [
       "<Figure size 432x288 with 1 Axes>"
      ]
     },
     "metadata": {
      "needs_background": "light"
     },
     "output_type": "display_data"
    }
   ],
   "source": [
    "plt.plot(df[\"CPI\"])\n",
    "plt.show()"
   ]
  },
  {
   "cell_type": "markdown",
   "metadata": {},
   "source": [
    "Cette série a une tendance dont la forme est proche d'une fonction linéaire.\n",
    "\n",
    "On entraîne un modèle de régression linéaire OLS. En prenant les résidus du modèle, on obtient la série CPI stationnarisée:"
   ]
  },
  {
   "cell_type": "code",
   "execution_count": 60,
   "metadata": {},
   "outputs": [
    {
     "data": {
      "image/png": "[encoded data removed]",
      "text/plain": [
       "<Figure size 432x288 with 1 Axes>"
      ]
     },
     "metadata": {
      "needs_background": "light"
     },
     "output_type": "display_data"
    }
   ],
   "source": [
    "n = len(df[\"CPI\"])\n",
    "const = np.ones(n)\n",
    "t = np.arange(1,n+1)\n",
    "X = np.column_stack((const, t))\n",
    "y = df[\"CPI\"]\n",
    "model = sm.OLS(y, X)\n",
    "model = model.fit()\n",
    "cpi_statio_1 = model.resid\n",
    "plt.plot(cpi_statio_1)\n",
    "plt.show()"
   ]
  },
  {
   "cell_type": "markdown",
   "metadata": {},
   "source": [
    "La courbe évolue bien désormais autour de l'axe des abscisses (avec tout de même toujours un écart entre les années 60 et 70); elle a perdu sa tendance temporelle."
   ]
  },
  {
   "cell_type": "markdown",
   "metadata": {},
   "source": [
    "## Question 3\n",
    "\n",
    "> Stationnariser la série de CPI en utilisant un moyenne mobile centrée 5x5."
   ]
  },
  {
   "cell_type": "markdown",
   "metadata": {},
   "source": [
    "On calcule la moyenne mobile centrée d'ordre 5, que l'on soustrait à la série CPI, pour la stationnariser:"
   ]
  },
  {
   "cell_type": "code",
   "execution_count": 61,
   "metadata": {},
   "outputs": [
    {
     "data": {
      "image/png": "[encoded data removed]",
      "text/plain": [
       "<Figure size 432x288 with 1 Axes>"
      ]
     },
     "metadata": {
      "needs_background": "light"
     },
     "output_type": "display_data"
    }
   ],
   "source": [
    "cpi_moving_average_2 = df[\"CPI\"].rolling(window=5, center=True).mean()\n",
    "cpi_statio_2 = df[\"CPI\"] - cpi_moving_average_2\n",
    "plt.plot(cpi_statio_2)\n",
    "plt.show()"
   ]
  },
  {
   "cell_type": "markdown",
   "metadata": {},
   "source": [
    "La courbe a une évolution plus stable qu'avec la méthode de stationnarisation précédente, et une amplitude plus faible. Cette méthode de stationnarisation est meilleure."
   ]
  },
  {
   "cell_type": "markdown",
   "metadata": {},
   "source": [
    "## Question 4\n",
    "\n",
    "> Calculer inf, le taux d’inflation à partir de la variable CPI. Faire un graphique dans le temps de inf. Commentez."
   ]
  },
  {
   "cell_type": "markdown",
   "metadata": {},
   "source": [
    "Le taux d'inflation est calculé de la façon suivante à partir de l'IPC:\n",
    "    \n",
    "$$\n",
    "f_{inflation}(t) = \\frac{f_{ICP}(t) - f_{ICP}(t-1)}{f_{ICP}(t-1)}\n",
    "$$"
   ]
  },
  {
   "cell_type": "code",
   "execution_count": 62,
   "metadata": {},
   "outputs": [],
   "source": [
    "df[\"inf\"] = (df[\"CPI\"] - df[\"CPI\"].shift(1))/df[\"CPI\"].shift(1)\n",
    "df = df.iloc[1:]\n",
    "#df.index = df.index.to_period('D') # On précise la fréquence explicitement (pour certaines fonctions de statsmodels)"
   ]
  },
  {
   "cell_type": "code",
   "execution_count": 63,
   "metadata": {},
   "outputs": [
    {
     "data": {
      "image/png": "[encoded data removed]",
      "text/plain": [
       "<Figure size 720x432 with 1 Axes>"
      ]
     },
     "metadata": {
      "needs_background": "light"
     },
     "output_type": "display_data"
    }
   ],
   "source": [
    "plt.figure(figsize=(10,6))\n",
    "plt.plot(df[\"inf\"]*100)\n",
    "plt.title(\"Variation du taux d'inflation\")\n",
    "plt.ylabel(\"Taux d'inflation (%)\")\n",
    "plt.show()"
   ]
  },
  {
   "cell_type": "markdown",
   "metadata": {},
   "source": [
    "Le taux d'inflation a beaucoup varié avec le temps. On constate une forte variation entre les années 70 et 80 et aux alentours de 2008. Ceci s'explique par la crise pétrolière des années 70 et la crise de 2007."
   ]
  },
  {
   "cell_type": "markdown",
   "metadata": {},
   "source": [
    "## Question 5\n",
    "\n",
    "> Interpréter l'autocorrélogramme et l'autocorrélogramme partiel de inf. Quelle est la différence entre ces deux graphiques"
   ]
  },
  {
   "cell_type": "markdown",
   "metadata": {},
   "source": [
    "On trace l'autocorrélogramme et l'autocorrélogramme partiel de inf."
   ]
  },
  {
   "cell_type": "code",
   "execution_count": 64,
   "metadata": {},
   "outputs": [
    {
     "data": {
      "image/png": "[encoded data removed]",
      "text/plain": [
       "<Figure size 1440x504 with 2 Axes>"
      ]
     },
     "metadata": {
      "needs_background": "light"
     },
     "output_type": "display_data"
    }
   ],
   "source": [
    "fig, axes = plt.subplots(1, 2, figsize=(20,7))\n",
    "\n",
    "fig = plot_acf(df[\"inf\"], ax=axes[0]) \n",
    "fig = plot_pacf(df[\"inf\"], ax=axes[1])"
   ]
  },
  {
   "cell_type": "markdown",
   "metadata": {},
   "source": [
    "L'**autocorrélation** d'un signal stationnaire (ici le taux d'inflation). Il résulte de la corrélation du signal par lui-même. Il montre la corrélation des observations entre elles, pour un décalage donné en abscisse.\n",
    "On voit ici que l'autocorrélation est forte entre des observations proches et diminue lorsque les observations sont éloignées.\n",
    "\n",
    "L'**autocorrélation partielle** est la corrélation entre des observations deux à deux d'un signal stationnaire, avec les observations intermédiaires retirées, pour ne pas influencer le comportement de ces deux observations entre elles."
   ]
  },
  {
   "cell_type": "markdown",
   "metadata": {},
   "source": [
    "## Question 6\n",
    "\n",
    "> Quelle est la différence entre la stationnarité et l'ergodicité ? Pourquoi a-t-on besoin de ces deux conditions. Expliquez le terme \"spurious regression\"."
   ]
  },
  {
   "cell_type": "markdown",
   "metadata": {},
   "source": [
    "La **stationnarité** désigne le fait qu'une série temporelle garde la même structure à travers le temps.\n",
    "\n",
    "\n",
    "L'**ergodicité** désigne le fait que les moyennes temporelles sont identiques aux moyennes statistiques, ce qui permet de connaître entièrement la statistique à partir d'une seule réalisation.\n",
    "\n",
    "Nous avons besoin de ces deux conditions pour s'assurer que l'analyse de dépendance entre la série temporelle et une variable explicative ne soit pas bruitée par une composante temporelle.\n",
    "\n",
    "Le terme **spurious regression** désigne le fait que des variables soient corrélées, mais sans qu'il existe de lien de cause à effet entre les deux."
   ]
  },
  {
   "cell_type": "markdown",
   "metadata": {},
   "source": [
    "## Question 7\n",
    "\n",
    "> Faire le test Augmented Dickey Fuller pour inf en utilisant le critère AIC pour déterminer le nombre de lags à inclure. Commenter"
   ]
  },
  {
   "cell_type": "markdown",
   "metadata": {},
   "source": [
    "Le test de Dickey-Fuller augmenté peut être utilisé pour tester une racine unitaire dans un processus univarié en présence d'une corrélation en série.\n",
    "\n",
    "On utilise la fonction `adfuller` de `statsmodels` pour réaliser ce test, avec autolag=\"AIC\" pour laisser l'algorithme déterminer le nombre de lags à inclure."
   ]
  },
  {
   "cell_type": "code",
   "execution_count": 65,
   "metadata": {},
   "outputs": [
    {
     "name": "stdout",
     "output_type": "stream",
     "text": [
      "(-2.9190558143371637, 0.04317651687155481, 2, 208, {'1%': -3.4621857592784546, '5%': -2.875537986778846, '10%': -2.574231080806213}, -1519.2580655612676)\n"
     ]
    }
   ],
   "source": [
    "adf_inf_aic = adfuller(df[\"inf\"], autolag=\"AIC\")\n",
    "print(adf_inf_aic)"
   ]
  },
  {
   "cell_type": "markdown",
   "metadata": {},
   "source": [
    "Nous obtenons le résultat suivant:\n",
    "    - Nombre de lags utilisés: 2\n",
    "    - Statistique de test, adf = -2.92\n",
    "    - p-value = 0.043\n",
    "    - Nombre d'observations utilisées = 2018\n",
    "    - Valeurs critiques pour le test statistique, à hauteur de:\n",
    "        - 1% : -3.46\n",
    "        - 5% : -2.88\n",
    "        - 10% : - 2.57"
   ]
  },
  {
   "cell_type": "markdown",
   "metadata": {},
   "source": [
    "## Question 8\n",
    "\n",
    "> Proposer une modélisation AR(p) de inf, en utilisant tous les outils vus au cours."
   ]
  },
  {
   "cell_type": "markdown",
   "metadata": {},
   "source": [
    "On définit un modèle autorégressif AR, avec un lag allant de 1 à 20, pour sélectionner le meilleur. On teste le modèle selon le critère AIC et BIC, pour disposer de deux référenciels:"
   ]
  },
  {
   "cell_type": "code",
   "execution_count": 66,
   "metadata": {},
   "outputs": [
    {
     "name": "stderr",
     "output_type": "stream",
     "text": [
      "/home/xavier/.local/lib/python3.6/site-packages/statsmodels/tsa/ar_model.py:691: FutureWarning: \n",
      "statsmodels.tsa.AR has been deprecated in favor of statsmodels.tsa.AutoReg and\n",
      "statsmodels.tsa.SARIMAX.\n",
      "\n",
      "AutoReg adds the ability to specify exogenous variables, include time trends,\n",
      "and add seasonal dummies. The AutoReg API differs from AR since the model is\n",
      "treated as immutable, and so the entire specification including the lag\n",
      "length must be specified when creating the model. This change is too\n",
      "substantial to incorporate into the existing AR api. The function\n",
      "ar_select_order performs lag length selection for AutoReg models.\n",
      "\n",
      "AutoReg only estimates parameters using conditional MLE (OLS). Use SARIMAX to\n",
      "estimate ARX and related models using full MLE via the Kalman Filter.\n",
      "\n",
      "To silence this warning and continue using AR until it is removed, use:\n",
      "\n",
      "import warnings\n",
      "warnings.filterwarnings('ignore', 'statsmodels.tsa.ar_model.AR', FutureWarning)\n",
      "\n",
      "  warnings.warn(AR_DEPRECATION_WARN, FutureWarning)\n"
     ]
    },
    {
     "data": {
      "image/png": "[encoded data removed]",
      "text/plain": [
       "<Figure size 864x504 with 1 Axes>"
      ]
     },
     "metadata": {
      "needs_background": "light"
     },
     "output_type": "display_data"
    },
    {
     "name": "stdout",
     "output_type": "stream",
     "text": [
      "Lag optimal selon le critère BIC: 3\n",
      "Lag optimal selon le critère AIC: 3\n"
     ]
    }
   ],
   "source": [
    "AIC = []\n",
    "BIC = []\n",
    "\n",
    "for lag in range(1, 20):\n",
    "    ar_model = smt.AR(df[\"inf\"], freq=df.index.inferred_freq).fit(maxlag=lag)\n",
    "    \n",
    "    AIC.append(ar_model.aic)\n",
    "    BIC.append(ar_model.bic)\n",
    "\n",
    "plt.figure(figsize=(12, 7))\n",
    "plt.plot(range(1, 20), AIC, label=\"AIC\")\n",
    "plt.plot(range(1, 20), BIC, label='BIC')\n",
    "plt.legend()\n",
    "plt.show()\n",
    "\n",
    "print(\"Lag optimal selon le critère BIC: {:d}\".format(np.argmin(BIC) + 1))\n",
    "print(\"Lag optimal selon le critère AIC: {:d}\".format(np.argmin(AIC) + 1))"
   ]
  },
  {
   "cell_type": "markdown",
   "metadata": {},
   "source": [
    "Le critère AIC est minimisé pour une valeur de **p valant 3**."
   ]
  },
  {
   "cell_type": "markdown",
   "metadata": {},
   "source": [
    "## Question 9\n",
    "\n",
    "> Estimer le modèle de la courbe de Philips qui explique le taux de chômage (Unemp) en fonction du taux d’inflation courant et une constante."
   ]
  },
  {
   "cell_type": "markdown",
   "metadata": {},
   "source": [
    "On estime la courbe avec une régression linéaire, qui semble être le modèle le plus proche de la répartition des données."
   ]
  },
  {
   "cell_type": "code",
   "execution_count": 67,
   "metadata": {},
   "outputs": [
    {
     "data": {
      "image/png": "[encoded data removed]",
      "text/plain": [
       "<Figure size 720x432 with 1 Axes>"
      ]
     },
     "metadata": {
      "needs_background": "light"
     },
     "output_type": "display_data"
    }
   ],
   "source": [
    "X = df[\"inf\"]\n",
    "y = df[\"Unemp\"]\n",
    "\n",
    "model = sm.OLS(y, sm.add_constant(X)) # On ajoute une constante à l'inflation, avec add_constant()\n",
    "model = model.fit()\n",
    "y_plot = model.predict(sm.add_constant(X))\n",
    "\n",
    "plt.figure(figsize=(10,6))\n",
    "plt.plot(X, y_plot, color=\"orange\", label=\"Modélisation\")\n",
    "plt.scatter(X, y, label=\"Données\")\n",
    "plt.xlabel(\"Taux d'inflation (%)\")\n",
    "plt.ylabel(\"Taux de chômage (%)\")\n",
    "plt.title(\"Evolution du taux de chômage en fonction du taux d'inflation\")\n",
    "plt.legend()\n",
    "plt.show()"
   ]
  },
  {
   "cell_type": "markdown",
   "metadata": {},
   "source": [
    "## Question 10\n",
    "\n",
    "> Tester l’autocorrélation des erreurs."
   ]
  },
  {
   "cell_type": "markdown",
   "metadata": {},
   "source": [
    "On affiche la répartition des erreurs:"
   ]
  },
  {
   "cell_type": "code",
   "execution_count": 68,
   "metadata": {},
   "outputs": [
    {
     "data": {
      "image/png": "[encoded data removed]",
      "text/plain": [
       "<Figure size 720x432 with 1 Axes>"
      ]
     },
     "metadata": {
      "needs_background": "light"
     },
     "output_type": "display_data"
    }
   ],
   "source": [
    "errors = model.resid\n",
    "plt.figure(figsize=(10,6))\n",
    "plt.plot(errors)\n",
    "plt.title(\"Erreurs dans la modélisation du taux de chômage en fonction de l'inflation\")\n",
    "plt.show()"
   ]
  },
  {
   "cell_type": "markdown",
   "metadata": {},
   "source": [
    "On affiche l'autocorrélogramme et l'autocorrélogramme partiel:"
   ]
  },
  {
   "cell_type": "code",
   "execution_count": 69,
   "metadata": {},
   "outputs": [
    {
     "data": {
      "image/png": "[encoded data removed]",
      "text/plain": [
       "<Figure size 1440x504 with 2 Axes>"
      ]
     },
     "metadata": {
      "needs_background": "light"
     },
     "output_type": "display_data"
    }
   ],
   "source": [
    "fig, axes = plt.subplots(1, 2, figsize=(20,7))\n",
    "\n",
    "fig = plot_acf(errors, ax=axes[0]) \n",
    "fig = plot_pacf(errors, ax=axes[1])"
   ]
  },
  {
   "cell_type": "markdown",
   "metadata": {},
   "source": [
    "La courbe de l'autocorrélation est positive et élevée lorsque les valeurs sont proches. Les erreurs sont donc autocorrélées."
   ]
  },
  {
   "cell_type": "markdown",
   "metadata": {},
   "source": [
    "## Question 11\n",
    "\n",
    "> Corriger l’autocorrélation des erreurs par la méthode vue en cours."
   ]
  },
  {
   "cell_type": "code",
   "execution_count": 70,
   "metadata": {},
   "outputs": [
    {
     "name": "stdout",
     "output_type": "stream",
     "text": [
      "0.9799237799707919\n"
     ]
    }
   ],
   "source": [
    "# On calcule à l'aide d'un modèle, le coefficient linéaire de corrélation entre erreurs\n",
    "y = errors.values[1:]\n",
    "X = errors.shift(1)[1:].values\n",
    "\n",
    "model = sm.OLS(y, X).fit()\n",
    "coef = model.params[0]\n",
    "print(coef)"
   ]
  },
  {
   "cell_type": "code",
   "execution_count": 71,
   "metadata": {},
   "outputs": [],
   "source": [
    "# On modifie le taux de chômage et l'inflation à partir de ce coefficient\n",
    "df[\"inf_corr\"] = np.zeros(df.shape[0]) \n",
    "df[\"Unemp_corr\"] = np.zeros(df.shape[0]) \n",
    "\n",
    "df[\"inf_corr\"].iloc[0] = np.sqrt(1 - coef**2) * df[\"inf\"].iloc[0]\n",
    "df[\"Unemp_corr\"].iloc[0] = np.sqrt(1 - coef**2) * df[\"Unemp\"].iloc[0]\n",
    "for i in range(1, len(df[\"Unemp\"])):\n",
    "    df[\"Unemp_corr\"].iloc[i] = df[\"Unemp\"].iloc[i] - coef * df[\"Unemp\"].iloc[i-1]\n",
    "    df[\"inf_corr\"].iloc[i] = df[\"inf\"].iloc[i] - coef * df[\"inf\"].iloc[i-1]\n",
    "\n",
    "    \n",
    "# On recalcule le taux de chômage en fonction du taux d'inflation, puis on extrait les résidus du modèle\n",
    "model_correction = sm.OLS(df[\"Unemp_corr\"], sm.add_constant(df[\"inf_corr\"])).fit()\n",
    "errors_correction = model_correction.resid"
   ]
  },
  {
   "cell_type": "code",
   "execution_count": 72,
   "metadata": {},
   "outputs": [
    {
     "data": {
      "image/png": "[encoded data removed]",
      "text/plain": [
       "<Figure size 720x432 with 1 Axes>"
      ]
     },
     "metadata": {
      "needs_background": "light"
     },
     "output_type": "display_data"
    }
   ],
   "source": [
    "plt.figure(figsize=(10,6))\n",
    "plt.plot(list(errors_correction))\n",
    "plt.title(\"Erreurs dans la modélisation du taux de chômage en fonction de l'inflation\")\n",
    "plt.show()"
   ]
  },
  {
   "cell_type": "markdown",
   "metadata": {},
   "source": [
    "Les erreurs sont plus faibles et davantage réparties."
   ]
  },
  {
   "cell_type": "code",
   "execution_count": 73,
   "metadata": {},
   "outputs": [
    {
     "data": {
      "image/png": "[encoded data removed]",
      "text/plain": [
       "<Figure size 1440x504 with 2 Axes>"
      ]
     },
     "metadata": {
      "needs_background": "light"
     },
     "output_type": "display_data"
    }
   ],
   "source": [
    "fig, axes = plt.subplots(1, 2, figsize=(20,7))\n",
    "\n",
    "fig = plot_acf(errors_correction, ax=axes[0]) \n",
    "fig = plot_pacf(errors_correction, ax=axes[1])"
   ]
  },
  {
   "cell_type": "markdown",
   "metadata": {},
   "source": [
    "L'autocorrélation des erreurs a été en grande partie diminuée. On gardera ces variables pour la suite."
   ]
  },
  {
   "cell_type": "markdown",
   "metadata": {},
   "source": [
    "## Question 12\n",
    "\n",
    "> Tester la stabilité de la relation chômage-inflation sur deux sous-périodes de taille identique."
   ]
  },
  {
   "cell_type": "markdown",
   "metadata": {},
   "source": [
    "On prend deux sous-périodes de taille 100:"
   ]
  },
  {
   "cell_type": "code",
   "execution_count": 74,
   "metadata": {},
   "outputs": [],
   "source": [
    "X = list(df[\"inf_corr\"])[:200]\n",
    "X_all = sm.add_constant(X)\n",
    "y_all = df[\"Unemp_corr\"][:200]\n",
    "\n",
    "X = list(df[\"inf_corr\"])[:100]\n",
    "X1 = sm.add_constant(X)\n",
    "y1 = df[\"Unemp_corr\"][:100]\n",
    "\n",
    "X = list(df[\"inf_corr\"])[100:200]\n",
    "X2 = sm.add_constant(X)\n",
    "y2 = df[\"Unemp_corr\"][100:200]"
   ]
  },
  {
   "cell_type": "markdown",
   "metadata": {},
   "source": [
    "On affiche les statistiques descriptives de la relation chômage-inflation sur ces deux sous-périodes:"
   ]
  },
  {
   "cell_type": "code",
   "execution_count": 75,
   "metadata": {},
   "outputs": [
    {
     "name": "stdout",
     "output_type": "stream",
     "text": [
      "                            OLS Regression Results                            \n",
      "==============================================================================\n",
      "Dep. Variable:             Unemp_corr   R-squared:                       0.094\n",
      "Model:                            OLS   Adj. R-squared:                  0.084\n",
      "Method:                 Least Squares   F-statistic:                     10.11\n",
      "Date:                Sat, 11 Apr 2020   Prob (F-statistic):            0.00197\n",
      "Time:                        15:19:53   Log-Likelihood:                -44.813\n",
      "No. Observations:                 100   AIC:                             93.63\n",
      "Df Residuals:                      98   BIC:                             98.84\n",
      "Df Model:                           1                                         \n",
      "Covariance Type:            nonrobust                                         \n",
      "==============================================================================\n",
      "                 coef    std err          t      P>|t|      [0.025      0.975]\n",
      "------------------------------------------------------------------------------\n",
      "const          0.1593      0.038      4.154      0.000       0.083       0.235\n",
      "x1           -26.8355      8.438     -3.180      0.002     -43.580     -10.091\n",
      "==============================================================================\n",
      "Omnibus:                       19.970   Durbin-Watson:                   0.825\n",
      "Prob(Omnibus):                  0.000   Jarque-Bera (JB):               27.270\n",
      "Skew:                           0.963   Prob(JB):                     1.20e-06\n",
      "Kurtosis:                       4.683   Cond. No.                         221.\n",
      "==============================================================================\n",
      "\n",
      "Warnings:\n",
      "[1] Standard Errors assume that the covariance matrix of the errors is correctly specified.\n"
     ]
    }
   ],
   "source": [
    "model = sm.OLS(y1, X1).fit()\n",
    "print(model.summary())"
   ]
  },
  {
   "cell_type": "code",
   "execution_count": 76,
   "metadata": {},
   "outputs": [
    {
     "name": "stdout",
     "output_type": "stream",
     "text": [
      "                            OLS Regression Results                            \n",
      "==============================================================================\n",
      "Dep. Variable:             Unemp_corr   R-squared:                       0.000\n",
      "Model:                            OLS   Adj. R-squared:                 -0.010\n",
      "Method:                 Least Squares   F-statistic:                  0.006524\n",
      "Date:                Sat, 11 Apr 2020   Prob (F-statistic):              0.936\n",
      "Time:                        15:19:53   Log-Likelihood:                -17.174\n",
      "No. Observations:                 100   AIC:                             38.35\n",
      "Df Residuals:                      98   BIC:                             43.56\n",
      "Df Model:                           1                                         \n",
      "Covariance Type:            nonrobust                                         \n",
      "==============================================================================\n",
      "                 coef    std err          t      P>|t|      [0.025      0.975]\n",
      "------------------------------------------------------------------------------\n",
      "const          0.1418      0.029      4.885      0.000       0.084       0.199\n",
      "x1            -0.3854      4.771     -0.081      0.936      -9.853       9.083\n",
      "==============================================================================\n",
      "Omnibus:                       60.330   Durbin-Watson:                   0.515\n",
      "Prob(Omnibus):                  0.000   Jarque-Bera (JB):              230.703\n",
      "Skew:                           2.091   Prob(JB):                     8.01e-51\n",
      "Kurtosis:                       9.154   Cond. No.                         164.\n",
      "==============================================================================\n",
      "\n",
      "Warnings:\n",
      "[1] Standard Errors assume that the covariance matrix of the errors is correctly specified.\n"
     ]
    }
   ],
   "source": [
    "model = sm.OLS(y2, X2).fit()\n",
    "print(model.summary())"
   ]
  },
  {
   "cell_type": "markdown",
   "metadata": {},
   "source": [
    "Les statistiques varient entre les deux modèles, notamment le coefficient, la variance et t.\n",
    "\n",
    "On va maintenant réaliser un test de Chow pour tester la stabilité de la relation. Pour cela on commence par calculer la sommes des carrés des erreurs de plusieurs modèles:"
   ]
  },
  {
   "cell_type": "code",
   "execution_count": 77,
   "metadata": {},
   "outputs": [],
   "source": [
    "# Modèle non contraint\n",
    "model = sm.OLS(y_all, X_all).fit()\n",
    "u = model.resid\n",
    "SSR_all = u.T @ u\n",
    "size_all = len(X_all) - 2\n",
    "\n",
    "# Modèle contraint (première sous-période)\n",
    "model = sm.OLS(y1, X1).fit()\n",
    "u = model.resid\n",
    "SSR1 = u.T @ u\n",
    "size1 = len(X1) - 2\n",
    "\n",
    "# Modèle contraint (deuxième sous-période)\n",
    "model = sm.OLS(y2, X2).fit()\n",
    "u = model.resid\n",
    "SSR2 = u.T @ u\n",
    "size2 = len(X2) - 2"
   ]
  },
  {
   "cell_type": "markdown",
   "metadata": {},
   "source": [
    "On calcule la p-valeur avec la statistique de Fischer:"
   ]
  },
  {
   "cell_type": "code",
   "execution_count": 78,
   "metadata": {},
   "outputs": [
    {
     "name": "stdout",
     "output_type": "stream",
     "text": [
      "Statistique de test : 4.03891\n",
      "p-valeur            : 0.01910\n"
     ]
    }
   ],
   "source": [
    "F = ((SSR_all - (SSR1 + SSR2)) / (size_all - (size1 + size2))) / ((SSR1 + SSR2) / (size1 + size2))\n",
    "p_val = f.sf(F, size_all - (size1 + size2), (size1 + size2))\n",
    "\n",
    "print(\"Statistique de test : {:0.5f}\".format(F))\n",
    "print(\"p-valeur            : {:0.5f}\".format(p_val))"
   ]
  },
  {
   "cell_type": "markdown",
   "metadata": {},
   "source": [
    "La p-valeur est de 1,9%, ce qui est inférieur à 5%.<br />\n",
    "On rejette donc l'hypothèse de stabilité entre les 2 sous-périodes, à hauteur de 5%."
   ]
  },
  {
   "cell_type": "markdown",
   "metadata": {},
   "source": [
    "## Question 13\n",
    "\n",
    "> Faites les tests changement de structure de Chow et détecter le point de rupture."
   ]
  },
  {
   "cell_type": "markdown",
   "metadata": {},
   "source": [
    "Pour détecter le point de rupture, nous allons calculer la statistique de test et la p-valeur en chaque point. On commence par créer une fonction contenant le calcul du test de Chow, comme au dessus:"
   ]
  },
  {
   "cell_type": "code",
   "execution_count": 79,
   "metadata": {},
   "outputs": [],
   "source": [
    "from scipy import stats\n",
    "\n",
    "def chow_calculation(current_date):\n",
    "    # Modèle non contraint\n",
    "    X = list(df[\"inf_corr\"])\n",
    "    X_all = sm.add_constant(X)\n",
    "    y_all = df[\"Unemp_corr\"]\n",
    "    model = sm.OLS(y_all, X_all).fit()\n",
    "    u = model.resid\n",
    "    SSR_all = np.sum(model.resid ** 2) #u.T @ u\n",
    "    size_all = len(X_all) - 2\n",
    "\n",
    "    # Modèle contraint (première sous-période)\n",
    "    X = list(df[\"inf_corr\"])[:current_date]\n",
    "    y = df[\"Unemp_corr\"][:current_date]\n",
    "    model = sm.OLS(y, sm.add_constant(X)).fit()\n",
    "    u = model.resid\n",
    "    SSR1 = np.sum(model.resid ** 2) #u.T @ u\n",
    "    size1 = len(X) - 2\n",
    "\n",
    "    # Modèle contraint (deuxième sous-période)\n",
    "    X = list(df[\"inf_corr\"])[current_date:]\n",
    "    y = df[\"Unemp_corr\"][current_date:]\n",
    "    model = sm.OLS(y, sm.add_constant(X)).fit()\n",
    "    u = model.resid\n",
    "    SSR2 = np.sum(model.resid ** 2) #u.T @ u\n",
    "    size2 = len(X) - 2\n",
    "\n",
    "    F = ((SSR_all - (SSR1 + SSR2)) / (size_all - (size1 + size2))) / ((SSR1 + SSR2) / (size1 + size2))\n",
    "    p_val = f.sf(F, size_all - (size1 + size2), (size1 + size2))\n",
    "    return F, p_val"
   ]
  },
  {
   "cell_type": "code",
   "execution_count": 80,
   "metadata": {},
   "outputs": [],
   "source": [
    "Fs = []\n",
    "p_values = []\n",
    "\n",
    "# On parcourt nos valeurs avec un taux de trim de 10% aux extrémités\n",
    "for i in range(int(0.1*df.shape[0]), int(0.9*df.shape[0])):\n",
    "    f_value, p_val = chow_calculation(i) \n",
    "    Fs.append(f_value)\n",
    "    p_values.append(p_val)"
   ]
  },
  {
   "cell_type": "code",
   "execution_count": 81,
   "metadata": {},
   "outputs": [
    {
     "data": {
      "image/png": "[encoded data removed]",
      "text/plain": [
       "<Figure size 720x432 with 1 Axes>"
      ]
     },
     "metadata": {
      "needs_background": "light"
     },
     "output_type": "display_data"
    }
   ],
   "source": [
    "plt.figure(figsize=(10,6))\n",
    "plt.plot(df.index[int(0.1*df.shape[0]): int(0.9*df.shape[0])], p_values)\n",
    "plt.axhline(min(p_values), color=\"orange\")\n",
    "plt.title(\"Evolution de la p-value avec le test de changement de structure de Chow\")\n",
    "plt.show()"
   ]
  },
  {
   "cell_type": "markdown",
   "metadata": {},
   "source": [
    "Il y a un point de rupture en 1982. Avant cette date, la relation chômage - inflation variait beaucoup. Cette période était marquée par plusieurs chocs pétroliers. La relation est ensuite devenue beaucoup plus stable.<br />\n",
    "La courbe orange montre la valeur minimale prise par la p-value."
   ]
  },
  {
   "cell_type": "markdown",
   "metadata": {},
   "source": [
    "## Question 14\n",
    "\n",
    "> Estimer la courbe de Philips en supprimant l'inflation courante des variables explicatives mais en ajoutant les délais d’ordre 1, 2, 3 et 4 de l’inflation et du chômage. Faire le test de Granger de non causalité de l’inflation sur le chômage. Donnez la p-valeur."
   ]
  },
  {
   "cell_type": "markdown",
   "metadata": {},
   "source": [
    "On crée un tableau contenant les variables explicatives, avec les délais d'ordre 1, 2, 3 et 4 de l’inflation et du chômage:"
   ]
  },
  {
   "cell_type": "code",
   "execution_count": 82,
   "metadata": {},
   "outputs": [],
   "source": [
    "inf_delays = []\n",
    "\n",
    "for i in range(5, df.shape[0]) :\n",
    "    inf_delays.append([df[\"inf\"].iloc[i-1], df[\"inf\"].iloc[i-2], df[\"inf\"].iloc[i-3], df[\"inf\"].iloc[i-4],\n",
    "                      df[\"Unemp\"].iloc[i-1], df[\"Unemp\"].iloc[i-2], df[\"Unemp\"].iloc[i-3], df[\"Unemp\"].iloc[i-4]])"
   ]
  },
  {
   "cell_type": "markdown",
   "metadata": {},
   "source": [
    "On calcule un modèle pour estimer la courbe de Granger, puis on affiche ses caractéristiques:"
   ]
  },
  {
   "cell_type": "code",
   "execution_count": 83,
   "metadata": {},
   "outputs": [
    {
     "name": "stdout",
     "output_type": "stream",
     "text": [
      "                            OLS Regression Results                            \n",
      "==============================================================================\n",
      "Dep. Variable:                  Unemp   R-squared:                       0.979\n",
      "Model:                            OLS   Adj. R-squared:                  0.978\n",
      "Method:                 Least Squares   F-statistic:                     1137.\n",
      "Date:                Sat, 11 Apr 2020   Prob (F-statistic):          2.20e-160\n",
      "Time:                        15:19:54   Log-Likelihood:                 4.1298\n",
      "No. Observations:                 206   AIC:                             9.740\n",
      "Df Residuals:                     197   BIC:                             39.69\n",
      "Df Model:                           8                                         \n",
      "Covariance Type:            nonrobust                                         \n",
      "==============================================================================\n",
      "                 coef    std err          t      P>|t|      [0.025      0.975]\n",
      "------------------------------------------------------------------------------\n",
      "const          0.1459      0.073      2.010      0.046       0.003       0.289\n",
      "x1             3.1072      3.769      0.824      0.411      -4.326      10.541\n",
      "x2            -2.3466      4.106     -0.572      0.568     -10.443       5.750\n",
      "x3             6.8729      4.023      1.708      0.089      -1.061      14.807\n",
      "x4             1.6352      3.765      0.434      0.665      -5.790       9.060\n",
      "x5             1.5938      0.071     22.321      0.000       1.453       1.735\n",
      "x6            -0.6467      0.135     -4.807      0.000      -0.912      -0.381\n",
      "x7             0.0216      0.136      0.158      0.875      -0.248       0.291\n",
      "x8            -0.0078      0.070     -0.111      0.912      -0.147       0.131\n",
      "==============================================================================\n",
      "Omnibus:                       28.718   Durbin-Watson:                   1.992\n",
      "Prob(Omnibus):                  0.000   Jarque-Bera (JB):               67.209\n",
      "Skew:                           0.622   Prob(JB):                     2.55e-15\n",
      "Kurtosis:                       5.506   Cond. No.                     4.06e+03\n",
      "==============================================================================\n",
      "\n",
      "Warnings:\n",
      "[1] Standard Errors assume that the covariance matrix of the errors is correctly specified.\n",
      "[2] The condition number is large, 4.06e+03. This might indicate that there are\n",
      "strong multicollinearity or other numerical problems.\n"
     ]
    }
   ],
   "source": [
    "X = sm.add_constant(inf_delays)\n",
    "model = sm.OLS(df[\"Unemp\"].iloc[5:], X).fit()\n",
    "\n",
    "print(model.summary())"
   ]
  },
  {
   "cell_type": "markdown",
   "metadata": {},
   "source": [
    "Les variables les plus influentes sont l'**inflation** et partiulièrement au temps t-4 (variable x4), t-3 (x3) et t-1 (x2) et le taux de **chômage** au temps t-1."
   ]
  },
  {
   "cell_type": "markdown",
   "metadata": {},
   "source": [
    "On réalise le test de Granger de non causalité de l’inflation sur le chômage. On choisit un délai maximum d'ordre 4.<br />\n",
    "On pose l'hypothèse nulle suivante: l'inflation n'influe pas sur le chômage."
   ]
  },
  {
   "cell_type": "code",
   "execution_count": 84,
   "metadata": {},
   "outputs": [
    {
     "name": "stdout",
     "output_type": "stream",
     "text": [
      "\n",
      "Granger Causality\n",
      "number of lags (no zero) 1\n",
      "ssr based F test:         F=8.9875  , p=0.0031  , df_denom=207, df_num=1\n",
      "ssr based chi2 test:   chi2=9.1177  , p=0.0025  , df=1\n",
      "likelihood ratio test: chi2=8.9254  , p=0.0028  , df=1\n",
      "parameter F test:         F=8.9875  , p=0.0031  , df_denom=207, df_num=1\n",
      "\n",
      "Granger Causality\n",
      "number of lags (no zero) 2\n",
      "ssr based F test:         F=4.3146  , p=0.0146  , df_denom=204, df_num=2\n",
      "ssr based chi2 test:   chi2=8.8406  , p=0.0120  , df=2\n",
      "likelihood ratio test: chi2=8.6587  , p=0.0132  , df=2\n",
      "parameter F test:         F=4.3146  , p=0.0146  , df_denom=204, df_num=2\n",
      "\n",
      "Granger Causality\n",
      "number of lags (no zero) 3\n",
      "ssr based F test:         F=5.0265  , p=0.0022  , df_denom=201, df_num=3\n",
      "ssr based chi2 test:   chi2=15.6045 , p=0.0014  , df=3\n",
      "likelihood ratio test: chi2=15.0469 , p=0.0018  , df=3\n",
      "parameter F test:         F=5.0265  , p=0.0022  , df_denom=201, df_num=3\n",
      "\n",
      "Granger Causality\n",
      "number of lags (no zero) 4\n",
      "ssr based F test:         F=3.7967  , p=0.0054  , df_denom=198, df_num=4\n",
      "ssr based chi2 test:   chi2=15.8771 , p=0.0032  , df=4\n",
      "likelihood ratio test: chi2=15.2977 , p=0.0041  , df=4\n",
      "parameter F test:         F=3.7967  , p=0.0054  , df_denom=198, df_num=4\n"
     ]
    },
    {
     "data": {
      "text/plain": [
       "{1: ({'ssr_ftest': (8.987485356629929, 0.003051032077893228, 207.0, 1),\n",
       "   'ssr_chi2test': (9.11773876759558, 0.002531426762760379, 1),\n",
       "   'lrtest': (8.925351661078764, 0.0028123920255045997, 1),\n",
       "   'params_ftest': (8.987485356629769, 0.003051032077893474, 207.0, 1.0)},\n",
       "  [<statsmodels.regression.linear_model.RegressionResultsWrapper at 0x7f41dcefa898>,\n",
       "   <statsmodels.regression.linear_model.RegressionResultsWrapper at 0x7f41dceefe80>,\n",
       "   array([[0., 1., 0.]])]),\n",
       " 2: ({'ssr_ftest': (4.3145560925458835, 0.014613661475363427, 204.0, 2),\n",
       "   'ssr_chi2test': (8.840610032765586, 0.012030562206468053, 2),\n",
       "   'lrtest': (8.658743924413557, 0.013175819804938838, 2),\n",
       "   'params_ftest': (4.3145560925458, 0.014613661475364553, 204.0, 2.0)},\n",
       "  [<statsmodels.regression.linear_model.RegressionResultsWrapper at 0x7f41dce8e860>,\n",
       "   <statsmodels.regression.linear_model.RegressionResultsWrapper at 0x7f41dce33080>,\n",
       "   array([[0., 0., 1., 0., 0.],\n",
       "          [0., 0., 0., 1., 0.]])]),\n",
       " 3: ({'ssr_ftest': (5.026452610565885, 0.0022168908875367663, 201.0, 3),\n",
       "   'ssr_chi2test': (15.604509596980659, 0.0013665815172325647, 3),\n",
       "   'lrtest': (15.046892540195813, 0.0017770113729011327, 3),\n",
       "   'params_ftest': (5.026452610565934, 0.0022168908875366475, 201.0, 3.0)},\n",
       "  [<statsmodels.regression.linear_model.RegressionResultsWrapper at 0x7f41dce33320>,\n",
       "   <statsmodels.regression.linear_model.RegressionResultsWrapper at 0x7f41dce33438>,\n",
       "   array([[0., 0., 0., 1., 0., 0., 0.],\n",
       "          [0., 0., 0., 0., 1., 0., 0.],\n",
       "          [0., 0., 0., 0., 0., 1., 0.]])]),\n",
       " 4: ({'ssr_ftest': (3.796699198205307, 0.005351957807937242, 198.0, 4),\n",
       "   'ssr_chi2test': (15.877105737949464, 0.003188581396549442, 4),\n",
       "   'lrtest': (15.297658304658398, 0.004122047806633439, 4),\n",
       "   'params_ftest': (3.7966991982052583, 0.005351957807937688, 198.0, 4.0)},\n",
       "  [<statsmodels.regression.linear_model.RegressionResultsWrapper at 0x7f41dce33748>,\n",
       "   <statsmodels.regression.linear_model.RegressionResultsWrapper at 0x7f41dce33860>,\n",
       "   array([[0., 0., 0., 0., 1., 0., 0., 0., 0.],\n",
       "          [0., 0., 0., 0., 0., 1., 0., 0., 0.],\n",
       "          [0., 0., 0., 0., 0., 0., 1., 0., 0.],\n",
       "          [0., 0., 0., 0., 0., 0., 0., 1., 0.]])])}"
      ]
     },
     "execution_count": 84,
     "metadata": {},
     "output_type": "execute_result"
    }
   ],
   "source": [
    "grangercausalitytests(df[[\"Unemp\", \"inf\"]], 4)"
   ]
  },
  {
   "cell_type": "markdown",
   "metadata": {},
   "source": [
    "Le test de Granger permet de déterminer si une variable (la deuxième passée en paramètre) a un effet statistique sur une autre (la première passée en paramètre). Ceci est indiqué par les p-values. \n",
    "\n",
    "Les p-values sont données pour les 4 lags et pour plusieurs statistiques de tests. La p-valeur est 0.0054 pour un nombre de lags de 4 avec la statistique F test. La p-valeur pour les différents lags est entre 0.1 et 0.6 pour les différentes statistiques de tests.<br />\n",
    "La p-valeur étant **en dessous de 5%**, on rejette l'hypothèse que l'inflation n'a pas d'effet statistique sur le chômage. "
   ]
  },
  {
   "cell_type": "markdown",
   "metadata": {},
   "source": [
    "## Question 15\n",
    "\n",
    "> Représentez graphiquement les délais distribués et commentez. Calculer l’impact à long de terme de l’inflation sur le chômage."
   ]
  },
  {
   "cell_type": "markdown",
   "metadata": {},
   "source": [
    "On considère un modèle équivalent, de la forme:\n",
    "\n",
    "$ y_t = \\alpha_0 + \\delta_0z_t + \\delta_1z_{t-1} + \\delta_2z_{t-2} + \\delta_3z_{t-3} + ... $\n",
    "\n",
    "On recalcule ce modèle en prenant l'inflation du temps t au temps t-4:"
   ]
  },
  {
   "cell_type": "code",
   "execution_count": 85,
   "metadata": {},
   "outputs": [],
   "source": [
    "inf_delays = []\n",
    "\n",
    "for i in range(5, df.shape[0]) :\n",
    "    inf_delays.append([100*df[\"inf\"].iloc[i], 100*df[\"inf\"].iloc[i-1], 100*df[\"inf\"].iloc[i-2], 100*df[\"inf\"].iloc[i-3], 100*df[\"inf\"].iloc[i-4]])"
   ]
  },
  {
   "cell_type": "code",
   "execution_count": 86,
   "metadata": {},
   "outputs": [
    {
     "name": "stdout",
     "output_type": "stream",
     "text": [
      "                            OLS Regression Results                            \n",
      "==============================================================================\n",
      "Dep. Variable:                  Unemp   R-squared:                       0.104\n",
      "Model:                            OLS   Adj. R-squared:                  0.081\n",
      "Method:                 Least Squares   F-statistic:                     4.624\n",
      "Date:                Sat, 11 Apr 2020   Prob (F-statistic):           0.000514\n",
      "Time:                        15:19:54   Log-Likelihood:                -381.54\n",
      "No. Observations:                 206   AIC:                             775.1\n",
      "Df Residuals:                     200   BIC:                             795.1\n",
      "Df Model:                           5                                         \n",
      "Covariance Type:            nonrobust                                         \n",
      "==============================================================================\n",
      "                 coef    std err          t      P>|t|      [0.025      0.975]\n",
      "------------------------------------------------------------------------------\n",
      "const          5.7311      0.196     29.259      0.000       5.345       6.117\n",
      "x1            -0.3884      0.232     -1.677      0.095      -0.845       0.068\n",
      "x2            -0.2353      0.270     -0.872      0.384      -0.767       0.297\n",
      "x3             0.0141      0.258      0.055      0.956      -0.495       0.523\n",
      "x4             0.2324      0.269      0.864      0.389      -0.298       0.763\n",
      "x5             0.7334      0.231      3.181      0.002       0.279       1.188\n",
      "==============================================================================\n",
      "Omnibus:                       35.598   Durbin-Watson:                   0.105\n",
      "Prob(Omnibus):                  0.000   Jarque-Bera (JB):               52.450\n",
      "Skew:                           0.993   Prob(JB):                     4.08e-12\n",
      "Kurtosis:                       4.471   Cond. No.                         9.77\n",
      "==============================================================================\n",
      "\n",
      "Warnings:\n",
      "[1] Standard Errors assume that the covariance matrix of the errors is correctly specified.\n"
     ]
    }
   ],
   "source": [
    "X = sm.add_constant(inf_delays)\n",
    "model = sm.OLS(df[\"Unemp\"].iloc[5:], X).fit()\n",
    "\n",
    "print(model.summary())"
   ]
  },
  {
   "cell_type": "code",
   "execution_count": 87,
   "metadata": {},
   "outputs": [
    {
     "data": {
      "image/png": "[encoded data removed]",
      "text/plain": [
       "<Figure size 1080x432 with 1 Axes>"
      ]
     },
     "metadata": {
      "needs_background": "light"
     },
     "output_type": "display_data"
    }
   ],
   "source": [
    "plt.figure(figsize=(15,6))\n",
    "plt.plot(model.params[1:].values)\n",
    "plt.title(\"Délais distribués de l'inflation\")\n",
    "plt.grid()\n",
    "plt.show()"
   ]
  },
  {
   "cell_type": "markdown",
   "metadata": {},
   "source": [
    "Les délais distribués montrent que l'inflation a un impact à long terme sur le chômage plutôt qu'à court terme (coefficient supérieur à 0 à partir d'un lag de 2)."
   ]
  },
  {
   "cell_type": "markdown",
   "metadata": {},
   "source": [
    "L'impact à long terme est la somme des coefficients des variables explicatives (privé de la variable constante):\n",
    "\n",
    "$ LRP = \\delta_0 + \\delta_1 + \\delta_2 + \\delta_3 + ... $"
   ]
  },
  {
   "cell_type": "code",
   "execution_count": 88,
   "metadata": {},
   "outputs": [
    {
     "name": "stdout",
     "output_type": "stream",
     "text": [
      "0.35627341721514383\n"
     ]
    }
   ],
   "source": [
    "# 0,35\n",
    "print(model.params[1:].sum())"
   ]
  }
 ],
 "metadata": {
  "kernelspec": {
   "display_name": "Python 3",
   "language": "python",
   "name": "python3"
  },
  "language_info": {
   "codemirror_mode": {
    "name": "ipython",
    "version": 3
   },
   "file_extension": ".py",
   "mimetype": "text/x-python",
   "name": "python",
   "nbconvert_exporter": "python",
   "pygments_lexer": "ipython3",
   "version": "3.7.5"
  }
 },
 "nbformat": 4,
 "nbformat_minor": 2
}
